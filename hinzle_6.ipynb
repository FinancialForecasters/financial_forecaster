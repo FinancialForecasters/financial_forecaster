{
 "cells": [
  {
   "cell_type": "markdown",
   "metadata": {},
   "source": [
    "---\n",
    "# Imports"
   ]
  },
  {
   "cell_type": "code",
   "execution_count": 1,
   "metadata": {},
   "outputs": [
    {
     "name": "stderr",
     "output_type": "stream",
     "text": [
      "Intel(R) Extension for Scikit-learn* enabled (https://github.com/intel/scikit-learn-intelex)\n"
     ]
    }
   ],
   "source": [
    "# imports.py\n",
    "from imports import *\n",
    "from sklearn.datasets import make_blobs\n",
    "\n",
    "# plotting magic\n",
    "%matplotlib inline\n",
    "\n",
    "# custom mods\n",
    "import tidy\n",
    "import model_h\n",
    "import wrangle"
   ]
  },
  {
   "cell_type": "markdown",
   "metadata": {},
   "source": [
    "---\n",
    "# Wrangle"
   ]
  },
  {
   "cell_type": "code",
   "execution_count": 2,
   "metadata": {},
   "outputs": [
    {
     "name": "stdout",
     "output_type": "stream",
     "text": [
      "cached csv\n"
     ]
    }
   ],
   "source": [
    "df=wrangle.wrangle_df()\n",
    "\n",
    "# df.info()\n",
    "# # model_h.print_btcusd(df)\n",
    "# df.head()"
   ]
  },
  {
   "cell_type": "code",
   "execution_count": 3,
   "metadata": {},
   "outputs": [],
   "source": [
    "df['atr'] = talib.ATR(df.high, df.low, df.close, 14)"
   ]
  },
  {
   "cell_type": "code",
   "execution_count": 4,
   "metadata": {},
   "outputs": [],
   "source": [
    "df=df.loc['2021':]"
   ]
  },
  {
   "cell_type": "markdown",
   "metadata": {},
   "source": [
    "---\n",
    "# Train / Validate Split*"
   ]
  },
  {
   "cell_type": "code",
   "execution_count": 5,
   "metadata": {},
   "outputs": [],
   "source": [
    "train, val=tidy.split_ii(df)"
   ]
  },
  {
   "cell_type": "code",
   "execution_count": 6,
   "metadata": {},
   "outputs": [
    {
     "name": "stdout",
     "output_type": "stream",
     "text": [
      "<class 'pandas.core.frame.DataFrame'>\n",
      "DatetimeIndex: 479 entries, 2021-01-01 to 2022-04-24\n",
      "Data columns (total 34 columns):\n",
      " #   Column                        Non-Null Count  Dtype  \n",
      "---  ------                        --------------  -----  \n",
      " 0   open                          479 non-null    float64\n",
      " 1   high                          479 non-null    float64\n",
      " 2   low                           479 non-null    float64\n",
      " 3   close                         479 non-null    float64\n",
      " 4   volume                        479 non-null    float64\n",
      " 5   fwd_log_ret                   479 non-null    float64\n",
      " 6   fwd_ret                       479 non-null    float64\n",
      " 7   fwd_pct_chg                   479 non-null    float64\n",
      " 8   fwd_close_positive            479 non-null    float64\n",
      " 9   macd                          479 non-null    float64\n",
      " 10  signal                        479 non-null    float64\n",
      " 11  histo                         479 non-null    float64\n",
      " 12  cross                         479 non-null    float64\n",
      " 13  histy                         479 non-null    float64\n",
      " 14  month_9                       479 non-null    float64\n",
      " 15  month_10                      479 non-null    float64\n",
      " 16  day_20                        479 non-null    float64\n",
      " 17  day_1                         479 non-null    float64\n",
      " 18  day_9                         479 non-null    float64\n",
      " 19  atr_above_threshold_0.01      479 non-null    object \n",
      " 20  atr_above_threshold_0.05      479 non-null    object \n",
      " 21  atr_above_threshold_0.1       479 non-null    object \n",
      " 22  atr_above_threshold_0.2       479 non-null    object \n",
      " 23  atr_above_threshold_0.3       479 non-null    object \n",
      " 24  avg-fees-per-transaction      479 non-null    float64\n",
      " 25  cost-per-transaction-percent  479 non-null    float64\n",
      " 26  cost-per-transaction          479 non-null    float64\n",
      " 27  difficulty                    479 non-null    float64\n",
      " 28  hash-rate                     479 non-null    float64\n",
      " 29  miners-revenue                479 non-null    float64\n",
      " 30  transaction-fees-to-miners    479 non-null    float64\n",
      " 31  sentiment                     479 non-null    float64\n",
      " 32  obv_close_product             479 non-null    float64\n",
      " 33  atr                           479 non-null    float64\n",
      "dtypes: float64(29), object(5)\n",
      "memory usage: 131.0+ KB\n"
     ]
    }
   ],
   "source": [
    "train.info()"
   ]
  },
  {
   "cell_type": "markdown",
   "metadata": {},
   "source": [
    "---\n",
    "# Baseline\n"
   ]
  },
  {
   "cell_type": "code",
   "execution_count": 7,
   "metadata": {},
   "outputs": [
    {
     "data": {
      "text/plain": [
       "21.075450156576206"
      ]
     },
     "execution_count": 7,
     "metadata": {},
     "output_type": "execute_result"
    }
   ],
   "source": [
    "(train.close[-1]-train.close[0])/len(train)\n",
    "\n",
    "# UPDATE: DAILY simple return\n",
    "# this is simple return if you bought 1 btc in 2014-09-17 and sold in 2022-03-23\n"
   ]
  },
  {
   "cell_type": "code",
   "execution_count": 8,
   "metadata": {},
   "outputs": [
    {
     "data": {
      "text/plain": [
       "12.573505158666405"
      ]
     },
     "execution_count": 8,
     "metadata": {},
     "output_type": "execute_result"
    }
   ],
   "source": [
    "(train.close.sum()-train.open.sum())/len(train)\n",
    "\n",
    "# UPDATE: DAILY simple return\n",
    "# this is simple return if you bought every morning and sold every night"
   ]
  },
  {
   "cell_type": "markdown",
   "metadata": {},
   "source": [
    "---\n",
    "# Model Results"
   ]
  },
  {
   "cell_type": "code",
   "execution_count": 9,
   "metadata": {},
   "outputs": [],
   "source": [
    "df1=pd.read_csv('classi_train_ii.csv').drop('Unnamed: 0',axis=1).set_index(train.index)\n",
    "df2=pd.read_csv('classi_val_ii.csv').drop('Unnamed: 0',axis=1).set_index(val.index)\n",
    "df3=pd.read_csv('reg_val_ii.csv').drop('Unnamed: 0',axis=1).set_index(val.index)\n",
    "df4=pd.read_csv('reg_train_ii.csv').drop('Unnamed: 0',axis=1).set_index(train.index)"
   ]
  },
  {
   "cell_type": "code",
   "execution_count": 10,
   "metadata": {},
   "outputs": [
    {
     "data": {
      "text/html": [
       "<div>\n",
       "<style scoped>\n",
       "    .dataframe tbody tr th:only-of-type {\n",
       "        vertical-align: middle;\n",
       "    }\n",
       "\n",
       "    .dataframe tbody tr th {\n",
       "        vertical-align: top;\n",
       "    }\n",
       "\n",
       "    .dataframe thead th {\n",
       "        text-align: right;\n",
       "    }\n",
       "</style>\n",
       "<table border=\"1\" class=\"dataframe\">\n",
       "  <thead>\n",
       "    <tr style=\"text-align: right;\">\n",
       "      <th></th>\n",
       "      <th>fwd_ret</th>\n",
       "      <th>reg</th>\n",
       "    </tr>\n",
       "  </thead>\n",
       "  <tbody>\n",
       "    <tr>\n",
       "      <th>count</th>\n",
       "      <td>479.000000</td>\n",
       "      <td>479.000000</td>\n",
       "    </tr>\n",
       "    <tr>\n",
       "      <th>mean</th>\n",
       "      <td>-0.007442</td>\n",
       "      <td>-0.007442</td>\n",
       "    </tr>\n",
       "    <tr>\n",
       "      <th>std</th>\n",
       "      <td>0.917448</td>\n",
       "      <td>0.153948</td>\n",
       "    </tr>\n",
       "    <tr>\n",
       "      <th>min</th>\n",
       "      <td>-3.892066</td>\n",
       "      <td>-0.406286</td>\n",
       "    </tr>\n",
       "    <tr>\n",
       "      <th>25%</th>\n",
       "      <td>-0.508793</td>\n",
       "      <td>-0.112469</td>\n",
       "    </tr>\n",
       "    <tr>\n",
       "      <th>50%</th>\n",
       "      <td>0.000000</td>\n",
       "      <td>-0.010056</td>\n",
       "    </tr>\n",
       "    <tr>\n",
       "      <th>75%</th>\n",
       "      <td>0.491207</td>\n",
       "      <td>0.096158</td>\n",
       "    </tr>\n",
       "    <tr>\n",
       "      <th>max</th>\n",
       "      <td>3.719639</td>\n",
       "      <td>0.492854</td>\n",
       "    </tr>\n",
       "  </tbody>\n",
       "</table>\n",
       "</div>"
      ],
      "text/plain": [
       "          fwd_ret         reg\n",
       "count  479.000000  479.000000\n",
       "mean    -0.007442   -0.007442\n",
       "std      0.917448    0.153948\n",
       "min     -3.892066   -0.406286\n",
       "25%     -0.508793   -0.112469\n",
       "50%      0.000000   -0.010056\n",
       "75%      0.491207    0.096158\n",
       "max      3.719639    0.492854"
      ]
     },
     "execution_count": 10,
     "metadata": {},
     "output_type": "execute_result"
    }
   ],
   "source": [
    "df4.describe()"
   ]
  },
  {
   "cell_type": "code",
   "execution_count": 11,
   "metadata": {},
   "outputs": [],
   "source": [
    "train=pd.concat([train,df1,df4.reg],axis=1)\n",
    "val=pd.concat([val,df2,df3],axis=1)"
   ]
  },
  {
   "cell_type": "code",
   "execution_count": 12,
   "metadata": {},
   "outputs": [],
   "source": [
    "profit=[]\n",
    "\n",
    "for row in train.index:\n",
    "\tif (train.reg.loc[row]>=-10.007)&(train['class'].loc[row]==1):\n",
    "\t\tprofit.append(train.close.loc[row]-train.open.loc[row])\n",
    "\t\t# print(train.close-train.open)\n",
    "\tif (train.reg.loc[row]<-10.007)&(train['class'].loc[row]==0):\n",
    "\t\tprofit.append(train.open.loc[row]-train.close.loc[row])\n",
    "\t\t# train.loc[row,'profit']=(df.open-df.close)\n",
    "\telse:\n",
    "\t\tprofit.append(0)\n",
    "\t\t# train.loc[row,'profit']=(0)\n",
    "\n"
   ]
  },
  {
   "cell_type": "code",
   "execution_count": 18,
   "metadata": {},
   "outputs": [
    {
     "data": {
      "text/plain": [
       "87.741037617954"
      ]
     },
     "execution_count": 18,
     "metadata": {},
     "output_type": "execute_result"
    }
   ],
   "source": [
    "sum(profit)/len(train)"
   ]
  },
  {
   "cell_type": "markdown",
   "metadata": {},
   "source": [
    "---\n",
    "# Test"
   ]
  },
  {
   "cell_type": "markdown",
   "metadata": {},
   "source": [
    "## *Baseline*"
   ]
  },
  {
   "cell_type": "code",
   "execution_count": 14,
   "metadata": {},
   "outputs": [
    {
     "data": {
      "text/plain": [
       "-360.09075520000005"
      ]
     },
     "execution_count": 14,
     "metadata": {},
     "output_type": "execute_result"
    }
   ],
   "source": [
    "(val.close[-1]-val.close[0])/len(val)\n",
    "\n",
    "# UPDATE: DAILY simple return\n",
    "# this is simple return if you bought 1 btc in 2014-09-17 and sold in 2022-03-23\n"
   ]
  },
  {
   "cell_type": "code",
   "execution_count": 15,
   "metadata": {},
   "outputs": [
    {
     "data": {
      "text/plain": [
       "-324.4180989666648"
      ]
     },
     "execution_count": 15,
     "metadata": {},
     "output_type": "execute_result"
    }
   ],
   "source": [
    "(val.close.sum()-val.open.sum())/len(val)\n",
    "\n",
    "# UPDATE: DAILY simple return\n",
    "# this is simple return if you bought every morning and sold every night"
   ]
  },
  {
   "cell_type": "markdown",
   "metadata": {},
   "source": [
    "## *Test Profit*"
   ]
  },
  {
   "cell_type": "code",
   "execution_count": 16,
   "metadata": {},
   "outputs": [],
   "source": [
    "\n",
    "profit_val=[]\n",
    "\n",
    "for row in val.index:\n",
    "\tif (val.reg.loc[row]>=-10.007)&(val['class'].loc[row]==1):\n",
    "\t\tprofit_val.append(val.close.loc[row]-val.open.loc[row])\n",
    "\t\t# print(val.close-val.open)\n",
    "\tif (val.reg.loc[row]<-10.007)&(val['class'].loc[row]==0):\n",
    "\t\tprofit_val.append(val.open.loc[row]-val.close.loc[row])\n",
    "\t\t# val.loc[row,'profit_val']=(df.open-df.close)\n",
    "\telse:\n",
    "\t\tprofit_val.append(0)\n",
    "\t\t# val.loc[row,'profit_val']=(0)"
   ]
  },
  {
   "cell_type": "code",
   "execution_count": 17,
   "metadata": {},
   "outputs": [
    {
     "data": {
      "text/plain": [
       "67.44166666666666"
      ]
     },
     "execution_count": 17,
     "metadata": {},
     "output_type": "execute_result"
    }
   ],
   "source": [
    "sum(profit_val)/len(val)"
   ]
  },
  {
   "cell_type": "code",
   "execution_count": 23,
   "metadata": {},
   "outputs": [
    {
     "data": {
      "text/plain": [
       "-4.810351152353858"
      ]
     },
     "execution_count": 23,
     "metadata": {},
     "output_type": "execute_result"
    }
   ],
   "source": [
    "-324.4180989666648/67.44166666666666\n",
    "\n",
    "# this model did 4.8 times better at predicting trade t"
   ]
  },
  {
   "cell_type": "code",
   "execution_count": null,
   "metadata": {},
   "outputs": [],
   "source": [
    "base"
   ]
  }
 ],
 "metadata": {
  "interpreter": {
   "hash": "3067ead486e059ec00ffe7555bdb889e6e264a24dc711bf108106cc7baee8d5d"
  },
  "kernelspec": {
   "display_name": "Python 3.9.12 ('base')",
   "language": "python",
   "name": "python3"
  },
  "language_info": {
   "codemirror_mode": {
    "name": "ipython",
    "version": 3
   },
   "file_extension": ".py",
   "mimetype": "text/x-python",
   "name": "python",
   "nbconvert_exporter": "python",
   "pygments_lexer": "ipython3",
   "version": "3.9.12"
  },
  "orig_nbformat": 4
 },
 "nbformat": 4,
 "nbformat_minor": 2
}
