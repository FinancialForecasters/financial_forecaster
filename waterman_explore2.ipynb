{
 "cells": [
  {
   "cell_type": "code",
   "execution_count": 1,
   "id": "ff0e725e",
   "metadata": {},
   "outputs": [],
   "source": [
    "# imports.py\n",
    "from imports import *\n",
    "\n",
    "# plotting magic\n",
    "%matplotlib inline\n",
    "\n",
    "\n",
    "# !!! Warning !!! \n",
    "# *** no more warnings ***\n",
    "# import warnings\n",
    "# warnings.filterwarnings(\"ignore\")\n",
    "\n",
    "# custom mods\n",
    "import tidy"
   ]
  },
  {
   "cell_type": "code",
   "execution_count": 2,
   "id": "5fdcbefd",
   "metadata": {},
   "outputs": [
    {
     "name": "stdout",
     "output_type": "stream",
     "text": [
      "cached csv\n"
     ]
    }
   ],
   "source": [
    "df = tidy.csv_btcusd()"
   ]
  },
  {
   "cell_type": "code",
   "execution_count": 3,
   "id": "48967b63",
   "metadata": {},
   "outputs": [],
   "source": [
    "df = tidy.pre_cleaning(df)\n",
    "df = tidy.add_targets(df)"
   ]
  },
  {
   "cell_type": "code",
   "execution_count": 4,
   "id": "c534e8e7",
   "metadata": {},
   "outputs": [
    {
     "data": {
      "text/plain": [
       "open                  0\n",
       "high                  0\n",
       "low                   0\n",
       "close                 0\n",
       "volume                0\n",
       "fwd_log_ret           0\n",
       "fwd_ret               0\n",
       "fwd_pct_chg           0\n",
       "fwd_close_positive    0\n",
       "dtype: int64"
      ]
     },
     "execution_count": 4,
     "metadata": {},
     "output_type": "execute_result"
    }
   ],
   "source": [
    "df.isnull().sum()"
   ]
  },
  {
   "cell_type": "code",
   "execution_count": 5,
   "id": "e9491317",
   "metadata": {},
   "outputs": [],
   "source": [
    "import waterman_python"
   ]
  },
  {
   "cell_type": "code",
   "execution_count": 6,
   "id": "ac5da460",
   "metadata": {},
   "outputs": [],
   "source": [
    "df = waterman_python.time_features(df)"
   ]
  },
  {
   "cell_type": "code",
   "execution_count": 7,
   "id": "376f5050",
   "metadata": {},
   "outputs": [
    {
     "data": {
      "text/html": [
       "<div>\n",
       "<style scoped>\n",
       "    .dataframe tbody tr th:only-of-type {\n",
       "        vertical-align: middle;\n",
       "    }\n",
       "\n",
       "    .dataframe tbody tr th {\n",
       "        vertical-align: top;\n",
       "    }\n",
       "\n",
       "    .dataframe thead th {\n",
       "        text-align: right;\n",
       "    }\n",
       "</style>\n",
       "<table border=\"1\" class=\"dataframe\">\n",
       "  <thead>\n",
       "    <tr style=\"text-align: right;\">\n",
       "      <th></th>\n",
       "      <th>open</th>\n",
       "      <th>high</th>\n",
       "      <th>low</th>\n",
       "      <th>close</th>\n",
       "      <th>volume</th>\n",
       "      <th>fwd_log_ret</th>\n",
       "      <th>fwd_ret</th>\n",
       "      <th>fwd_pct_chg</th>\n",
       "      <th>fwd_close_positive</th>\n",
       "      <th>month_9</th>\n",
       "      <th>month_10</th>\n",
       "      <th>day_20</th>\n",
       "      <th>day_1</th>\n",
       "      <th>day_9</th>\n",
       "    </tr>\n",
       "    <tr>\n",
       "      <th>date</th>\n",
       "      <th></th>\n",
       "      <th></th>\n",
       "      <th></th>\n",
       "      <th></th>\n",
       "      <th></th>\n",
       "      <th></th>\n",
       "      <th></th>\n",
       "      <th></th>\n",
       "      <th></th>\n",
       "      <th></th>\n",
       "      <th></th>\n",
       "      <th></th>\n",
       "      <th></th>\n",
       "      <th></th>\n",
       "    </tr>\n",
       "  </thead>\n",
       "  <tbody>\n",
       "    <tr>\n",
       "      <th>2014-09-17 00:00:00+00:00</th>\n",
       "      <td>465.864014</td>\n",
       "      <td>468.174011</td>\n",
       "      <td>452.421997</td>\n",
       "      <td>457.334015</td>\n",
       "      <td>21056800</td>\n",
       "      <td>-0.074643</td>\n",
       "      <td>-32.894013</td>\n",
       "      <td>-0.071926</td>\n",
       "      <td>0</td>\n",
       "      <td>1</td>\n",
       "      <td>0</td>\n",
       "      <td>0</td>\n",
       "      <td>0</td>\n",
       "      <td>0</td>\n",
       "    </tr>\n",
       "    <tr>\n",
       "      <th>2014-09-18 00:00:00+00:00</th>\n",
       "      <td>456.859985</td>\n",
       "      <td>456.859985</td>\n",
       "      <td>413.104004</td>\n",
       "      <td>424.440002</td>\n",
       "      <td>34483200</td>\n",
       "      <td>-0.072402</td>\n",
       "      <td>-29.644012</td>\n",
       "      <td>-0.069843</td>\n",
       "      <td>0</td>\n",
       "      <td>1</td>\n",
       "      <td>0</td>\n",
       "      <td>0</td>\n",
       "      <td>0</td>\n",
       "      <td>0</td>\n",
       "    </tr>\n",
       "    <tr>\n",
       "      <th>2014-09-19 00:00:00+00:00</th>\n",
       "      <td>424.102997</td>\n",
       "      <td>427.834991</td>\n",
       "      <td>384.532013</td>\n",
       "      <td>394.795990</td>\n",
       "      <td>37919700</td>\n",
       "      <td>0.035111</td>\n",
       "      <td>14.108002</td>\n",
       "      <td>0.035735</td>\n",
       "      <td>1</td>\n",
       "      <td>1</td>\n",
       "      <td>0</td>\n",
       "      <td>0</td>\n",
       "      <td>0</td>\n",
       "      <td>0</td>\n",
       "    </tr>\n",
       "    <tr>\n",
       "      <th>2014-09-20 00:00:00+00:00</th>\n",
       "      <td>394.673004</td>\n",
       "      <td>423.295990</td>\n",
       "      <td>389.882996</td>\n",
       "      <td>408.903992</td>\n",
       "      <td>36863600</td>\n",
       "      <td>-0.024968</td>\n",
       "      <td>-10.082978</td>\n",
       "      <td>-0.024659</td>\n",
       "      <td>0</td>\n",
       "      <td>1</td>\n",
       "      <td>0</td>\n",
       "      <td>1</td>\n",
       "      <td>0</td>\n",
       "      <td>0</td>\n",
       "    </tr>\n",
       "    <tr>\n",
       "      <th>2014-09-21 00:00:00+00:00</th>\n",
       "      <td>408.084991</td>\n",
       "      <td>412.425995</td>\n",
       "      <td>393.181000</td>\n",
       "      <td>398.821014</td>\n",
       "      <td>26580100</td>\n",
       "      <td>0.008317</td>\n",
       "      <td>3.330994</td>\n",
       "      <td>0.008352</td>\n",
       "      <td>1</td>\n",
       "      <td>1</td>\n",
       "      <td>0</td>\n",
       "      <td>0</td>\n",
       "      <td>0</td>\n",
       "      <td>0</td>\n",
       "    </tr>\n",
       "  </tbody>\n",
       "</table>\n",
       "</div>"
      ],
      "text/plain": [
       "                                 open        high         low       close  \\\n",
       "date                                                                        \n",
       "2014-09-17 00:00:00+00:00  465.864014  468.174011  452.421997  457.334015   \n",
       "2014-09-18 00:00:00+00:00  456.859985  456.859985  413.104004  424.440002   \n",
       "2014-09-19 00:00:00+00:00  424.102997  427.834991  384.532013  394.795990   \n",
       "2014-09-20 00:00:00+00:00  394.673004  423.295990  389.882996  408.903992   \n",
       "2014-09-21 00:00:00+00:00  408.084991  412.425995  393.181000  398.821014   \n",
       "\n",
       "                             volume  fwd_log_ret    fwd_ret  fwd_pct_chg  \\\n",
       "date                                                                       \n",
       "2014-09-17 00:00:00+00:00  21056800    -0.074643 -32.894013    -0.071926   \n",
       "2014-09-18 00:00:00+00:00  34483200    -0.072402 -29.644012    -0.069843   \n",
       "2014-09-19 00:00:00+00:00  37919700     0.035111  14.108002     0.035735   \n",
       "2014-09-20 00:00:00+00:00  36863600    -0.024968 -10.082978    -0.024659   \n",
       "2014-09-21 00:00:00+00:00  26580100     0.008317   3.330994     0.008352   \n",
       "\n",
       "                           fwd_close_positive  month_9  month_10  day_20  \\\n",
       "date                                                                       \n",
       "2014-09-17 00:00:00+00:00                   0        1         0       0   \n",
       "2014-09-18 00:00:00+00:00                   0        1         0       0   \n",
       "2014-09-19 00:00:00+00:00                   1        1         0       0   \n",
       "2014-09-20 00:00:00+00:00                   0        1         0       1   \n",
       "2014-09-21 00:00:00+00:00                   1        1         0       0   \n",
       "\n",
       "                           day_1  day_9  \n",
       "date                                     \n",
       "2014-09-17 00:00:00+00:00      0      0  \n",
       "2014-09-18 00:00:00+00:00      0      0  \n",
       "2014-09-19 00:00:00+00:00      0      0  \n",
       "2014-09-20 00:00:00+00:00      0      0  \n",
       "2014-09-21 00:00:00+00:00      0      0  "
      ]
     },
     "execution_count": 7,
     "metadata": {},
     "output_type": "execute_result"
    }
   ],
   "source": [
    "df.head()"
   ]
  },
  {
   "cell_type": "code",
   "execution_count": null,
   "id": "40235cc0",
   "metadata": {},
   "outputs": [],
   "source": []
  }
 ],
 "metadata": {
  "kernelspec": {
   "display_name": "Python 3 (ipykernel)",
   "language": "python",
   "name": "python3"
  },
  "language_info": {
   "codemirror_mode": {
    "name": "ipython",
    "version": 3
   },
   "file_extension": ".py",
   "mimetype": "text/x-python",
   "name": "python",
   "nbconvert_exporter": "python",
   "pygments_lexer": "ipython3",
   "version": "3.9.12"
  }
 },
 "nbformat": 4,
 "nbformat_minor": 5
}
