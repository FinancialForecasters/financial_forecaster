{
 "cells": [
  {
   "cell_type": "markdown",
   "metadata": {},
   "source": [
    "---\n",
    "# Imports"
   ]
  },
  {
   "cell_type": "code",
   "execution_count": 1,
   "metadata": {},
   "outputs": [
    {
     "name": "stderr",
     "output_type": "stream",
     "text": [
      "Intel(R) Extension for Scikit-learn* enabled (https://github.com/intel/scikit-learn-intelex)\n"
     ]
    }
   ],
   "source": [
    "# imports.py\n",
    "from imports import *\n",
    "from sklearn.datasets import make_blobs\n",
    "\n",
    "# plotting magic\n",
    "%matplotlib inline\n",
    "\n",
    "# custom mods\n",
    "import tidy\n",
    "import model_h\n",
    "import wrangle"
   ]
  },
  {
   "cell_type": "markdown",
   "metadata": {},
   "source": [
    "---\n",
    "# Wrangle"
   ]
  },
  {
   "cell_type": "code",
   "execution_count": 70,
   "metadata": {},
   "outputs": [
    {
     "name": "stdout",
     "output_type": "stream",
     "text": [
      "cached csv\n"
     ]
    }
   ],
   "source": [
    "df=wrangle.wrangle_df()\n",
    "# df.info()\n",
    "# # model_h.print_btcusd(df)\n",
    "# df.head()"
   ]
  },
  {
   "cell_type": "code",
   "execution_count": 71,
   "metadata": {},
   "outputs": [],
   "source": [
    "df['atr'] = talib.ATR(df.high, df.low, df.close, 14)"
   ]
  },
  {
   "cell_type": "code",
   "execution_count": 72,
   "metadata": {},
   "outputs": [],
   "source": [
    "df=df.loc['2014-11-03':]"
   ]
  },
  {
   "cell_type": "code",
   "execution_count": 73,
   "metadata": {},
   "outputs": [
    {
     "name": "stdout",
     "output_type": "stream",
     "text": [
      "<class 'pandas.core.frame.DataFrame'>\n",
      "DatetimeIndex: 2756 entries, 2014-11-03 to 2022-05-24\n",
      "Data columns (total 34 columns):\n",
      " #   Column                        Non-Null Count  Dtype  \n",
      "---  ------                        --------------  -----  \n",
      " 0   open                          2756 non-null   float64\n",
      " 1   high                          2756 non-null   float64\n",
      " 2   low                           2756 non-null   float64\n",
      " 3   close                         2756 non-null   float64\n",
      " 4   volume                        2756 non-null   float64\n",
      " 5   fwd_log_ret                   2756 non-null   float64\n",
      " 6   fwd_ret                       2756 non-null   float64\n",
      " 7   fwd_pct_chg                   2756 non-null   float64\n",
      " 8   fwd_close_positive            2756 non-null   float64\n",
      " 9   macd                          2756 non-null   float64\n",
      " 10  signal                        2756 non-null   float64\n",
      " 11  histo                         2756 non-null   float64\n",
      " 12  cross                         2756 non-null   float64\n",
      " 13  histy                         2756 non-null   float64\n",
      " 14  month_9                       2756 non-null   float64\n",
      " 15  month_10                      2756 non-null   float64\n",
      " 16  day_20                        2756 non-null   float64\n",
      " 17  day_1                         2756 non-null   float64\n",
      " 18  day_9                         2756 non-null   float64\n",
      " 19  atr_above_threshold_0.01      2756 non-null   object \n",
      " 20  atr_above_threshold_0.05      2756 non-null   object \n",
      " 21  atr_above_threshold_0.1       2756 non-null   object \n",
      " 22  atr_above_threshold_0.2       2756 non-null   object \n",
      " 23  atr_above_threshold_0.3       2756 non-null   object \n",
      " 24  avg-fees-per-transaction      2756 non-null   float64\n",
      " 25  cost-per-transaction-percent  2756 non-null   float64\n",
      " 26  cost-per-transaction          2756 non-null   float64\n",
      " 27  difficulty                    2756 non-null   float64\n",
      " 28  hash-rate                     2756 non-null   float64\n",
      " 29  miners-revenue                2756 non-null   float64\n",
      " 30  transaction-fees-to-miners    2756 non-null   float64\n",
      " 31  sentiment                     2756 non-null   float64\n",
      " 32  obv_close_product             2756 non-null   float64\n",
      " 33  atr                           2756 non-null   float64\n",
      "dtypes: float64(29), object(5)\n",
      "memory usage: 753.6+ KB\n"
     ]
    }
   ],
   "source": [
    "df.info()"
   ]
  },
  {
   "cell_type": "markdown",
   "metadata": {},
   "source": [
    "---\n",
    "## Train / Validate Split"
   ]
  },
  {
   "cell_type": "code",
   "execution_count": 80,
   "metadata": {},
   "outputs": [],
   "source": [
    "train_unscaled, val_unscaled=tidy.split_i(df)\n",
    "\n",
    "\n",
    "# # train_ii, test=tidy.split_ii(df)\n",
    "# # train_ii.info(),test.info()\n"
   ]
  },
  {
   "cell_type": "markdown",
   "metadata": {},
   "source": [
    "---\n",
    "## Scaler"
   ]
  },
  {
   "cell_type": "code",
   "execution_count": 75,
   "metadata": {},
   "outputs": [],
   "source": [
    "transformer = RobustScaler().fit(train_unscaled)"
   ]
  },
  {
   "cell_type": "code",
   "execution_count": 76,
   "metadata": {},
   "outputs": [],
   "source": [
    "train=transformer.transform(train_unscaled)\n",
    "val=transformer.transform(val_unscaled)"
   ]
  },
  {
   "cell_type": "code",
   "execution_count": 83,
   "metadata": {},
   "outputs": [],
   "source": [
    "train=pd.DataFrame(train,columns=train_unscaled.columns)\n",
    "val=pd.DataFrame(val,columns=val_unscaled.columns)"
   ]
  },
  {
   "cell_type": "code",
   "execution_count": null,
   "metadata": {},
   "outputs": [],
   "source": [
    "# def scaler_fit(X_train):\n",
    "# \tfor col in X_train.columns:\n",
    "# \t\tif X_train[col].dtype == 'float64':\n",
    "# \t\t\txs=np.array(X_train[[col]]).reshape(-1, 1)\n",
    "# \t\t\tX_train.loc[:,col]=RobustScaler().fit_transform(xs)\n",
    "# \t\t\tprint(col)\n",
    "# \treturn X_train\n"
   ]
  },
  {
   "cell_type": "code",
   "execution_count": null,
   "metadata": {},
   "outputs": [],
   "source": [
    "# def scaler_tran(df):\n",
    "# \tfor col in df.columns:\n",
    "# \t\tif df[col].dtype == 'float64':\n",
    "# \t\t\txs=np.array(df[[col]]).reshape(-1, 1)\n",
    "# \t\t\tX_train.loc[:,col]=RobustScaler().transform(xs)\n",
    "# \t\t\tprint(col)\n",
    "# \treturn X_train\n"
   ]
  },
  {
   "cell_type": "code",
   "execution_count": null,
   "metadata": {},
   "outputs": [],
   "source": [
    "# X_train=scaler_fit(X_train)\n"
   ]
  },
  {
   "cell_type": "markdown",
   "metadata": {},
   "source": [
    "---\n",
    "## Xy Split"
   ]
  },
  {
   "cell_type": "code",
   "execution_count": 89,
   "metadata": {},
   "outputs": [],
   "source": [
    "X_train=train[['open', 'high', 'low', 'close', 'volume', 'obv_close_product','atr', 'macd', 'signal', 'histo', 'sentiment']]\n",
    "X_val=val[['open', 'high', 'low', 'close', 'volume', 'obv_close_product','atr', 'macd', 'signal', 'histo', 'sentiment']]"
   ]
  },
  {
   "cell_type": "code",
   "execution_count": 92,
   "metadata": {},
   "outputs": [],
   "source": [
    "y_train=train[[ 'fwd_ret']]\n",
    "y_val=val[[ 'fwd_ret']]"
   ]
  },
  {
   "cell_type": "markdown",
   "metadata": {},
   "source": [
    "---\n",
    "# RFE Regression"
   ]
  },
  {
   "cell_type": "code",
   "execution_count": 100,
   "metadata": {},
   "outputs": [],
   "source": [
    "lm = LinearRegression()"
   ]
  },
  {
   "cell_type": "code",
   "execution_count": 108,
   "metadata": {},
   "outputs": [],
   "source": [
    "rfe = RFE(lm, n_features_to_select=8)"
   ]
  },
  {
   "cell_type": "code",
   "execution_count": 110,
   "metadata": {},
   "outputs": [
    {
     "data": {
      "text/html": [
       "<div>\n",
       "<style scoped>\n",
       "    .dataframe tbody tr th:only-of-type {\n",
       "        vertical-align: middle;\n",
       "    }\n",
       "\n",
       "    .dataframe tbody tr th {\n",
       "        vertical-align: top;\n",
       "    }\n",
       "\n",
       "    .dataframe thead th {\n",
       "        text-align: right;\n",
       "    }\n",
       "</style>\n",
       "<table border=\"1\" class=\"dataframe\">\n",
       "  <thead>\n",
       "    <tr style=\"text-align: right;\">\n",
       "      <th></th>\n",
       "      <th>open</th>\n",
       "      <th>high</th>\n",
       "      <th>low</th>\n",
       "      <th>close</th>\n",
       "      <th>volume</th>\n",
       "      <th>obv_close_product</th>\n",
       "      <th>atr</th>\n",
       "      <th>sentiment</th>\n",
       "    </tr>\n",
       "  </thead>\n",
       "  <tbody>\n",
       "    <tr>\n",
       "      <th>0</th>\n",
       "      <td>-0.602299</td>\n",
       "      <td>-0.595441</td>\n",
       "      <td>-0.610061</td>\n",
       "      <td>-0.602894</td>\n",
       "      <td>-0.212896</td>\n",
       "      <td>-0.405592</td>\n",
       "      <td>-0.418585</td>\n",
       "      <td>1.599793</td>\n",
       "    </tr>\n",
       "    <tr>\n",
       "      <th>1</th>\n",
       "      <td>-0.602143</td>\n",
       "      <td>-0.595655</td>\n",
       "      <td>-0.610102</td>\n",
       "      <td>-0.602605</td>\n",
       "      <td>-0.212789</td>\n",
       "      <td>-0.434121</td>\n",
       "      <td>-0.419445</td>\n",
       "      <td>1.517606</td>\n",
       "    </tr>\n",
       "    <tr>\n",
       "      <th>2</th>\n",
       "      <td>-0.601797</td>\n",
       "      <td>-0.594543</td>\n",
       "      <td>-0.609534</td>\n",
       "      <td>-0.601722</td>\n",
       "      <td>-0.212624</td>\n",
       "      <td>-0.309356</td>\n",
       "      <td>-0.419485</td>\n",
       "      <td>1.532418</td>\n",
       "    </tr>\n",
       "    <tr>\n",
       "      <th>3</th>\n",
       "      <td>-0.600935</td>\n",
       "      <td>-0.593624</td>\n",
       "      <td>-0.608751</td>\n",
       "      <td>-0.600759</td>\n",
       "      <td>-0.212665</td>\n",
       "      <td>-0.168982</td>\n",
       "      <td>-0.419318</td>\n",
       "      <td>1.592087</td>\n",
       "    </tr>\n",
       "    <tr>\n",
       "      <th>4</th>\n",
       "      <td>-0.599917</td>\n",
       "      <td>-0.593646</td>\n",
       "      <td>-0.608412</td>\n",
       "      <td>-0.601434</td>\n",
       "      <td>-0.212742</td>\n",
       "      <td>-0.331815</td>\n",
       "      <td>-0.419602</td>\n",
       "      <td>1.655639</td>\n",
       "    </tr>\n",
       "  </tbody>\n",
       "</table>\n",
       "</div>"
      ],
      "text/plain": [
       "       open      high       low     close    volume  obv_close_product  \\\n",
       "0 -0.602299 -0.595441 -0.610061 -0.602894 -0.212896          -0.405592   \n",
       "1 -0.602143 -0.595655 -0.610102 -0.602605 -0.212789          -0.434121   \n",
       "2 -0.601797 -0.594543 -0.609534 -0.601722 -0.212624          -0.309356   \n",
       "3 -0.600935 -0.593624 -0.608751 -0.600759 -0.212665          -0.168982   \n",
       "4 -0.599917 -0.593646 -0.608412 -0.601434 -0.212742          -0.331815   \n",
       "\n",
       "        atr  sentiment  \n",
       "0 -0.418585   1.599793  \n",
       "1 -0.419445   1.517606  \n",
       "2 -0.419485   1.532418  \n",
       "3 -0.419318   1.592087  \n",
       "4 -0.419602   1.655639  "
      ]
     },
     "execution_count": 110,
     "metadata": {},
     "output_type": "execute_result"
    }
   ],
   "source": [
    "# Transforming data using RFE\n",
    "X_rfe = rfe.fit_transform(X_train,y_train.fwd_ret)  \n",
    "mask=rfe.support_\n",
    "rfe_features = X_train.loc[:,mask].columns.tolist()\n",
    "\n",
    "X_train=pd.DataFrame(X_rfe,columns=rfe_features)\n",
    "X_train.head()\n"
   ]
  },
  {
   "cell_type": "code",
   "execution_count": 113,
   "metadata": {},
   "outputs": [],
   "source": [
    "# var_ranks = rfe.ranking_\n",
    "# var_names = X_rfe.columns.tolist()\n",
    "\n",
    "# pd.DataFrame({'Var': var_names, 'Rank': var_ranks})\n"
   ]
  },
  {
   "cell_type": "code",
   "execution_count": null,
   "metadata": {},
   "outputs": [],
   "source": [
    "# Transforming data using RFE\n",
    "X_rfe = rfe.fit_transform(X_val,y_train.fwd_ret)  \n",
    "mask=rfe.support_\n",
    "rfe_features = X_train.loc[:,mask].columns.tolist()\n",
    "\n",
    "X_train=pd.DataFrame(X_rfe,columns=rfe_features)\n",
    "X_train.head()"
   ]
  },
  {
   "cell_type": "code",
   "execution_count": 114,
   "metadata": {},
   "outputs": [],
   "source": [
    "X_val=X_val[rfe_features]"
   ]
  },
  {
   "cell_type": "markdown",
   "metadata": {},
   "source": [
    "---\n",
    "# Regression Model"
   ]
  },
  {
   "cell_type": "code",
   "execution_count": 118,
   "metadata": {},
   "outputs": [],
   "source": [
    "\n",
    "line=lm.fit(X_train,y_train)\n"
   ]
  },
  {
   "cell_type": "code",
   "execution_count": 119,
   "metadata": {},
   "outputs": [
    {
     "name": "stderr",
     "output_type": "stream",
     "text": [
      "/var/folders/mk/w2hz4wxx7xn5hr_56wz536gh0000gn/T/ipykernel_36348/1534299188.py:1: SettingWithCopyWarning: \n",
      "A value is trying to be set on a copy of a slice from a DataFrame.\n",
      "Try using .loc[row_indexer,col_indexer] = value instead\n",
      "\n",
      "See the caveats in the documentation: https://pandas.pydata.org/pandas-docs/stable/user_guide/indexing.html#returning-a-view-versus-a-copy\n",
      "  y_train['reg'] = lm.predict(X_train)\n"
     ]
    }
   ],
   "source": [
    "\n",
    "y_train['reg'] = lm.predict(X_train)\n"
   ]
  },
  {
   "cell_type": "code",
   "execution_count": 120,
   "metadata": {},
   "outputs": [],
   "source": [
    "\n",
    "rmse_train = metrics.mean_squared_error(y_train.fwd_ret, y_train.reg)**(1/2)\n"
   ]
  },
  {
   "cell_type": "code",
   "execution_count": 121,
   "metadata": {},
   "outputs": [
    {
     "name": "stderr",
     "output_type": "stream",
     "text": [
      "/var/folders/mk/w2hz4wxx7xn5hr_56wz536gh0000gn/T/ipykernel_36348/2913920812.py:1: SettingWithCopyWarning: \n",
      "A value is trying to be set on a copy of a slice from a DataFrame.\n",
      "Try using .loc[row_indexer,col_indexer] = value instead\n",
      "\n",
      "See the caveats in the documentation: https://pandas.pydata.org/pandas-docs/stable/user_guide/indexing.html#returning-a-view-versus-a-copy\n",
      "  y_val['reg'] = lm.predict(X_val)\n"
     ]
    }
   ],
   "source": [
    "\n",
    "y_val['reg'] = lm.predict(X_val)\n"
   ]
  },
  {
   "cell_type": "code",
   "execution_count": 122,
   "metadata": {},
   "outputs": [
    {
     "name": "stdout",
     "output_type": "stream",
     "text": [
      "RMSE for OLS using LinearRegression\n",
      "Training/In-Sample:  5.829673054574351 \n",
      "Validation/Out-of-Sample:  7.461529962262763\n"
     ]
    }
   ],
   "source": [
    "\n",
    "rmse_validate = metrics.mean_squared_error(y_val.fwd_ret, y_val.reg)**(1/2)\n",
    "\n",
    "print(\"RMSE for OLS using LinearRegression\\nTraining/In-Sample: \", rmse_train, \n",
    "      \"\\nValidation/Out-of-Sample: \", rmse_validate)"
   ]
  },
  {
   "cell_type": "markdown",
   "metadata": {},
   "source": [
    "---\n",
    "# *!!! Hard Hats Required Past This Point !!!*"
   ]
  },
  {
   "cell_type": "code",
   "execution_count": null,
   "metadata": {},
   "outputs": [],
   "source": []
  }
 ],
 "metadata": {
  "interpreter": {
   "hash": "3067ead486e059ec00ffe7555bdb889e6e264a24dc711bf108106cc7baee8d5d"
  },
  "kernelspec": {
   "display_name": "Python 3.9.12 ('base')",
   "language": "python",
   "name": "python3"
  },
  "language_info": {
   "codemirror_mode": {
    "name": "ipython",
    "version": 3
   },
   "file_extension": ".py",
   "mimetype": "text/x-python",
   "name": "python",
   "nbconvert_exporter": "python",
   "pygments_lexer": "ipython3",
   "version": "3.9.12"
  },
  "orig_nbformat": 4
 },
 "nbformat": 4,
 "nbformat_minor": 2
}
