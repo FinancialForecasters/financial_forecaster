{
 "cells": [
  {
   "cell_type": "markdown",
   "metadata": {},
   "source": [
    "---\n",
    "# Imports"
   ]
  },
  {
   "cell_type": "code",
   "execution_count": 2,
   "metadata": {},
   "outputs": [
    {
     "name": "stderr",
     "output_type": "stream",
     "text": [
      "Intel(R) Extension for Scikit-learn* enabled (https://github.com/intel/scikit-learn-intelex)\n"
     ]
    }
   ],
   "source": [
    "# imports.py\n",
    "from imports import *\n",
    "from sklearn.datasets import make_blobs\n",
    "\n",
    "# plotting magic\n",
    "%matplotlib inline\n",
    "\n",
    "# custom mods\n",
    "import tidy\n",
    "import model_h\n",
    "import wrangle"
   ]
  },
  {
   "cell_type": "markdown",
   "metadata": {},
   "source": [
    "---\n",
    "# Wrangle"
   ]
  },
  {
   "cell_type": "code",
   "execution_count": 52,
   "metadata": {},
   "outputs": [
    {
     "name": "stdout",
     "output_type": "stream",
     "text": [
      "cached csv\n"
     ]
    }
   ],
   "source": [
    "df=wrangle.wrangle_df()\n",
    "# df.info()\n",
    "# # model_h.print_btcusd(df)\n",
    "# df.head()"
   ]
  },
  {
   "cell_type": "code",
   "execution_count": 53,
   "metadata": {},
   "outputs": [],
   "source": [
    "df['atr'] = talib.ATR(df.high, df.low, df.close, 14)"
   ]
  },
  {
   "cell_type": "code",
   "execution_count": 54,
   "metadata": {},
   "outputs": [],
   "source": [
    "df=df.loc['2014-11-03':]"
   ]
  },
  {
   "cell_type": "code",
   "execution_count": 65,
   "metadata": {},
   "outputs": [],
   "source": [
    "x=['open', 'high', 'low', 'close', 'volume', \n",
    "\t'obv_close_product', \n",
    "\t'macd', 'signal', 'histo', \n",
    "\t'atr', \n",
    "\t'sentiment', \n",
    "\t'fwd_log_ret', 'fwd_ret', 'fwd_pct_chg'\n",
    "\t]"
   ]
  },
  {
   "cell_type": "code",
   "execution_count": 78,
   "metadata": {},
   "outputs": [],
   "source": [
    "y=['cross', 'histy', \n",
    "\t'atr_above_threshold_0.01', 'atr_above_threshold_0.05', 'atr_above_threshold_0.1', 'atr_above_threshold_0.2', 'atr_above_threshold_0.3' , \n",
    "\t'fwd_close_positive'\n",
    "\t]"
   ]
  },
  {
   "cell_type": "code",
   "execution_count": 66,
   "metadata": {},
   "outputs": [],
   "source": [
    "cont=df[x]"
   ]
  },
  {
   "cell_type": "code",
   "execution_count": 67,
   "metadata": {},
   "outputs": [
    {
     "name": "stdout",
     "output_type": "stream",
     "text": [
      "<class 'pandas.core.frame.DataFrame'>\n",
      "DatetimeIndex: 2756 entries, 2014-11-03 to 2022-05-24\n",
      "Data columns (total 15 columns):\n",
      " #   Column              Non-Null Count  Dtype  \n",
      "---  ------              --------------  -----  \n",
      " 0   open                2756 non-null   float64\n",
      " 1   high                2756 non-null   float64\n",
      " 2   low                 2756 non-null   float64\n",
      " 3   close               2756 non-null   float64\n",
      " 4   volume              2756 non-null   float64\n",
      " 5   obv_close_product   2756 non-null   float64\n",
      " 6   macd                2756 non-null   float64\n",
      " 7   signal              2756 non-null   float64\n",
      " 8   histo               2756 non-null   float64\n",
      " 9   atr                 2756 non-null   float64\n",
      " 10  sentiment           2756 non-null   float64\n",
      " 11  fwd_log_ret         2756 non-null   float64\n",
      " 12  fwd_ret             2756 non-null   float64\n",
      " 13  fwd_pct_chg         2756 non-null   float64\n",
      " 14  fwd_close_positive  2756 non-null   float64\n",
      "dtypes: float64(15)\n",
      "memory usage: 344.5 KB\n"
     ]
    }
   ],
   "source": [
    "cont.info()"
   ]
  },
  {
   "cell_type": "code",
   "execution_count": 76,
   "metadata": {},
   "outputs": [
    {
     "ename": "KeyError",
     "evalue": "\"None of [Index(['cross', 'histy', 'atr_above_threshold_0.01',\\n       'atr_above_threshold_0.05', 'atr_above_threshold_0.1',\\n       'atr_above_threshold_0.2', 'atr_above_threshold_0.3'],\\n      dtype='object')] are in the [columns]\"",
     "output_type": "error",
     "traceback": [
      "\u001b[0;31m---------------------------------------------------------------------------\u001b[0m",
      "\u001b[0;31mKeyError\u001b[0m                                  Traceback (most recent call last)",
      "\u001b[1;32m/Users/hinzlehome/codeup-data-science/financial_forecaster/hinzle_2.ipynb Cell 11'\u001b[0m in \u001b[0;36m<cell line: 1>\u001b[0;34m()\u001b[0m\n\u001b[0;32m----> <a href='vscode-notebook-cell:/Users/hinzlehome/codeup-data-science/financial_forecaster/hinzle_2.ipynb#ch0000068?line=0'>1</a>\u001b[0m clas\u001b[39m=\u001b[39mdf[y]\n",
      "File \u001b[0;32m/usr/local/anaconda3/lib/python3.9/site-packages/pandas/core/frame.py:3511\u001b[0m, in \u001b[0;36mDataFrame.__getitem__\u001b[0;34m(self, key)\u001b[0m\n\u001b[1;32m   <a href='file:///usr/local/anaconda3/lib/python3.9/site-packages/pandas/core/frame.py?line=3508'>3509</a>\u001b[0m     \u001b[39mif\u001b[39;00m is_iterator(key):\n\u001b[1;32m   <a href='file:///usr/local/anaconda3/lib/python3.9/site-packages/pandas/core/frame.py?line=3509'>3510</a>\u001b[0m         key \u001b[39m=\u001b[39m \u001b[39mlist\u001b[39m(key)\n\u001b[0;32m-> <a href='file:///usr/local/anaconda3/lib/python3.9/site-packages/pandas/core/frame.py?line=3510'>3511</a>\u001b[0m     indexer \u001b[39m=\u001b[39m \u001b[39mself\u001b[39;49m\u001b[39m.\u001b[39;49mcolumns\u001b[39m.\u001b[39;49m_get_indexer_strict(key, \u001b[39m\"\u001b[39;49m\u001b[39mcolumns\u001b[39;49m\u001b[39m\"\u001b[39;49m)[\u001b[39m1\u001b[39m]\n\u001b[1;32m   <a href='file:///usr/local/anaconda3/lib/python3.9/site-packages/pandas/core/frame.py?line=3512'>3513</a>\u001b[0m \u001b[39m# take() does not accept boolean indexers\u001b[39;00m\n\u001b[1;32m   <a href='file:///usr/local/anaconda3/lib/python3.9/site-packages/pandas/core/frame.py?line=3513'>3514</a>\u001b[0m \u001b[39mif\u001b[39;00m \u001b[39mgetattr\u001b[39m(indexer, \u001b[39m\"\u001b[39m\u001b[39mdtype\u001b[39m\u001b[39m\"\u001b[39m, \u001b[39mNone\u001b[39;00m) \u001b[39m==\u001b[39m \u001b[39mbool\u001b[39m:\n",
      "File \u001b[0;32m/usr/local/anaconda3/lib/python3.9/site-packages/pandas/core/indexes/base.py:5782\u001b[0m, in \u001b[0;36mIndex._get_indexer_strict\u001b[0;34m(self, key, axis_name)\u001b[0m\n\u001b[1;32m   <a href='file:///usr/local/anaconda3/lib/python3.9/site-packages/pandas/core/indexes/base.py?line=5778'>5779</a>\u001b[0m \u001b[39melse\u001b[39;00m:\n\u001b[1;32m   <a href='file:///usr/local/anaconda3/lib/python3.9/site-packages/pandas/core/indexes/base.py?line=5779'>5780</a>\u001b[0m     keyarr, indexer, new_indexer \u001b[39m=\u001b[39m \u001b[39mself\u001b[39m\u001b[39m.\u001b[39m_reindex_non_unique(keyarr)\n\u001b[0;32m-> <a href='file:///usr/local/anaconda3/lib/python3.9/site-packages/pandas/core/indexes/base.py?line=5781'>5782</a>\u001b[0m \u001b[39mself\u001b[39;49m\u001b[39m.\u001b[39;49m_raise_if_missing(keyarr, indexer, axis_name)\n\u001b[1;32m   <a href='file:///usr/local/anaconda3/lib/python3.9/site-packages/pandas/core/indexes/base.py?line=5783'>5784</a>\u001b[0m keyarr \u001b[39m=\u001b[39m \u001b[39mself\u001b[39m\u001b[39m.\u001b[39mtake(indexer)\n\u001b[1;32m   <a href='file:///usr/local/anaconda3/lib/python3.9/site-packages/pandas/core/indexes/base.py?line=5784'>5785</a>\u001b[0m \u001b[39mif\u001b[39;00m \u001b[39misinstance\u001b[39m(key, Index):\n\u001b[1;32m   <a href='file:///usr/local/anaconda3/lib/python3.9/site-packages/pandas/core/indexes/base.py?line=5785'>5786</a>\u001b[0m     \u001b[39m# GH 42790 - Preserve name from an Index\u001b[39;00m\n",
      "File \u001b[0;32m/usr/local/anaconda3/lib/python3.9/site-packages/pandas/core/indexes/base.py:5842\u001b[0m, in \u001b[0;36mIndex._raise_if_missing\u001b[0;34m(self, key, indexer, axis_name)\u001b[0m\n\u001b[1;32m   <a href='file:///usr/local/anaconda3/lib/python3.9/site-packages/pandas/core/indexes/base.py?line=5839'>5840</a>\u001b[0m     \u001b[39mif\u001b[39;00m use_interval_msg:\n\u001b[1;32m   <a href='file:///usr/local/anaconda3/lib/python3.9/site-packages/pandas/core/indexes/base.py?line=5840'>5841</a>\u001b[0m         key \u001b[39m=\u001b[39m \u001b[39mlist\u001b[39m(key)\n\u001b[0;32m-> <a href='file:///usr/local/anaconda3/lib/python3.9/site-packages/pandas/core/indexes/base.py?line=5841'>5842</a>\u001b[0m     \u001b[39mraise\u001b[39;00m \u001b[39mKeyError\u001b[39;00m(\u001b[39mf\u001b[39m\u001b[39m\"\u001b[39m\u001b[39mNone of [\u001b[39m\u001b[39m{\u001b[39;00mkey\u001b[39m}\u001b[39;00m\u001b[39m] are in the [\u001b[39m\u001b[39m{\u001b[39;00maxis_name\u001b[39m}\u001b[39;00m\u001b[39m]\u001b[39m\u001b[39m\"\u001b[39m)\n\u001b[1;32m   <a href='file:///usr/local/anaconda3/lib/python3.9/site-packages/pandas/core/indexes/base.py?line=5843'>5844</a>\u001b[0m not_found \u001b[39m=\u001b[39m \u001b[39mlist\u001b[39m(ensure_index(key)[missing_mask\u001b[39m.\u001b[39mnonzero()[\u001b[39m0\u001b[39m]]\u001b[39m.\u001b[39munique())\n\u001b[1;32m   <a href='file:///usr/local/anaconda3/lib/python3.9/site-packages/pandas/core/indexes/base.py?line=5844'>5845</a>\u001b[0m \u001b[39mraise\u001b[39;00m \u001b[39mKeyError\u001b[39;00m(\u001b[39mf\u001b[39m\u001b[39m\"\u001b[39m\u001b[39m{\u001b[39;00mnot_found\u001b[39m}\u001b[39;00m\u001b[39m not in index\u001b[39m\u001b[39m\"\u001b[39m)\n",
      "\u001b[0;31mKeyError\u001b[0m: \"None of [Index(['cross', 'histy', 'atr_above_threshold_0.01',\\n       'atr_above_threshold_0.05', 'atr_above_threshold_0.1',\\n       'atr_above_threshold_0.2', 'atr_above_threshold_0.3'],\\n      dtype='object')] are in the [columns]\""
     ]
    }
   ],
   "source": [
    "clas=df[y]"
   ]
  },
  {
   "cell_type": "code",
   "execution_count": 68,
   "metadata": {},
   "outputs": [
    {
     "name": "stdout",
     "output_type": "stream",
     "text": [
      "<class 'pandas.core.frame.DataFrame'>\n",
      "DatetimeIndex: 2756 entries, 2014-11-03 to 2022-05-24\n",
      "Data columns (total 7 columns):\n",
      " #   Column                    Non-Null Count  Dtype  \n",
      "---  ------                    --------------  -----  \n",
      " 0   cross                     2756 non-null   float64\n",
      " 1   histy                     2756 non-null   float64\n",
      " 2   atr_above_threshold_0.01  2756 non-null   object \n",
      " 3   atr_above_threshold_0.05  2756 non-null   object \n",
      " 4   atr_above_threshold_0.1   2756 non-null   object \n",
      " 5   atr_above_threshold_0.2   2756 non-null   object \n",
      " 6   atr_above_threshold_0.3   2756 non-null   object \n",
      "dtypes: float64(2), object(5)\n",
      "memory usage: 172.2+ KB\n"
     ]
    }
   ],
   "source": [
    "clas.info()"
   ]
  },
  {
   "cell_type": "markdown",
   "metadata": {},
   "source": [
    "---\n",
    "## Scaler"
   ]
  },
  {
   "cell_type": "code",
   "execution_count": 70,
   "metadata": {},
   "outputs": [],
   "source": [
    "transformer = RobustScaler().fit(cont)"
   ]
  },
  {
   "cell_type": "code",
   "execution_count": 71,
   "metadata": {},
   "outputs": [],
   "source": [
    "conts_unscaled=transformer.transform(cont)\n"
   ]
  },
  {
   "cell_type": "code",
   "execution_count": 73,
   "metadata": {},
   "outputs": [],
   "source": [
    "df=pd.DataFrame(conts_unscaled,columns=cont.columns)\n"
   ]
  },
  {
   "cell_type": "code",
   "execution_count": 77,
   "metadata": {},
   "outputs": [
    {
     "data": {
      "text/html": [
       "<div>\n",
       "<style scoped>\n",
       "    .dataframe tbody tr th:only-of-type {\n",
       "        vertical-align: middle;\n",
       "    }\n",
       "\n",
       "    .dataframe tbody tr th {\n",
       "        vertical-align: top;\n",
       "    }\n",
       "\n",
       "    .dataframe thead th {\n",
       "        text-align: right;\n",
       "    }\n",
       "</style>\n",
       "<table border=\"1\" class=\"dataframe\">\n",
       "  <thead>\n",
       "    <tr style=\"text-align: right;\">\n",
       "      <th></th>\n",
       "      <th>open</th>\n",
       "      <th>high</th>\n",
       "      <th>low</th>\n",
       "      <th>close</th>\n",
       "      <th>volume</th>\n",
       "      <th>obv_close_product</th>\n",
       "      <th>macd</th>\n",
       "      <th>signal</th>\n",
       "      <th>histo</th>\n",
       "      <th>atr</th>\n",
       "      <th>sentiment</th>\n",
       "      <th>fwd_log_ret</th>\n",
       "      <th>fwd_ret</th>\n",
       "      <th>fwd_pct_chg</th>\n",
       "      <th>fwd_close_positive</th>\n",
       "    </tr>\n",
       "  </thead>\n",
       "  <tbody>\n",
       "    <tr>\n",
       "      <th>0</th>\n",
       "      <td>-0.581808</td>\n",
       "      <td>-0.578257</td>\n",
       "      <td>-0.588033</td>\n",
       "      <td>-0.582091</td>\n",
       "      <td>-0.223432</td>\n",
       "      <td>-0.395834</td>\n",
       "      <td>-0.080104</td>\n",
       "      <td>-0.068788</td>\n",
       "      <td>-0.048056</td>\n",
       "      <td>-0.365178</td>\n",
       "      <td>1.655701</td>\n",
       "      <td>0.219969</td>\n",
       "      <td>0.007504</td>\n",
       "      <td>0.220638</td>\n",
       "      <td>0.0</td>\n",
       "    </tr>\n",
       "    <tr>\n",
       "      <th>1</th>\n",
       "      <td>-0.581659</td>\n",
       "      <td>-0.578461</td>\n",
       "      <td>-0.588072</td>\n",
       "      <td>-0.581817</td>\n",
       "      <td>-0.223328</td>\n",
       "      <td>-0.424380</td>\n",
       "      <td>-0.079822</td>\n",
       "      <td>-0.070680</td>\n",
       "      <td>-0.039269</td>\n",
       "      <td>-0.365904</td>\n",
       "      <td>1.571086</td>\n",
       "      <td>0.790851</td>\n",
       "      <td>0.049675</td>\n",
       "      <td>0.800415</td>\n",
       "      <td>0.0</td>\n",
       "    </tr>\n",
       "    <tr>\n",
       "      <th>2</th>\n",
       "      <td>-0.581331</td>\n",
       "      <td>-0.577401</td>\n",
       "      <td>-0.587534</td>\n",
       "      <td>-0.580978</td>\n",
       "      <td>-0.223169</td>\n",
       "      <td>-0.299542</td>\n",
       "      <td>-0.076194</td>\n",
       "      <td>-0.071461</td>\n",
       "      <td>-0.021327</td>\n",
       "      <td>-0.365938</td>\n",
       "      <td>1.586335</td>\n",
       "      <td>0.842446</td>\n",
       "      <td>0.055316</td>\n",
       "      <td>0.853328</td>\n",
       "      <td>0.0</td>\n",
       "    </tr>\n",
       "    <tr>\n",
       "      <th>3</th>\n",
       "      <td>-0.580511</td>\n",
       "      <td>-0.576525</td>\n",
       "      <td>-0.586790</td>\n",
       "      <td>-0.580062</td>\n",
       "      <td>-0.223208</td>\n",
       "      <td>-0.159087</td>\n",
       "      <td>-0.069738</td>\n",
       "      <td>-0.070781</td>\n",
       "      <td>0.002249</td>\n",
       "      <td>-0.365796</td>\n",
       "      <td>1.647767</td>\n",
       "      <td>-0.697762</td>\n",
       "      <td>-0.060831</td>\n",
       "      <td>-0.689888</td>\n",
       "      <td>-1.0</td>\n",
       "    </tr>\n",
       "    <tr>\n",
       "      <th>4</th>\n",
       "      <td>-0.579544</td>\n",
       "      <td>-0.576546</td>\n",
       "      <td>-0.586469</td>\n",
       "      <td>-0.580704</td>\n",
       "      <td>-0.223283</td>\n",
       "      <td>-0.322014</td>\n",
       "      <td>-0.066241</td>\n",
       "      <td>-0.069531</td>\n",
       "      <td>0.011462</td>\n",
       "      <td>-0.366037</td>\n",
       "      <td>1.713196</td>\n",
       "      <td>0.220124</td>\n",
       "      <td>0.008443</td>\n",
       "      <td>0.220794</td>\n",
       "      <td>0.0</td>\n",
       "    </tr>\n",
       "  </tbody>\n",
       "</table>\n",
       "</div>"
      ],
      "text/plain": [
       "       open      high       low     close    volume  obv_close_product  \\\n",
       "0 -0.581808 -0.578257 -0.588033 -0.582091 -0.223432          -0.395834   \n",
       "1 -0.581659 -0.578461 -0.588072 -0.581817 -0.223328          -0.424380   \n",
       "2 -0.581331 -0.577401 -0.587534 -0.580978 -0.223169          -0.299542   \n",
       "3 -0.580511 -0.576525 -0.586790 -0.580062 -0.223208          -0.159087   \n",
       "4 -0.579544 -0.576546 -0.586469 -0.580704 -0.223283          -0.322014   \n",
       "\n",
       "       macd    signal     histo       atr  sentiment  fwd_log_ret   fwd_ret  \\\n",
       "0 -0.080104 -0.068788 -0.048056 -0.365178   1.655701     0.219969  0.007504   \n",
       "1 -0.079822 -0.070680 -0.039269 -0.365904   1.571086     0.790851  0.049675   \n",
       "2 -0.076194 -0.071461 -0.021327 -0.365938   1.586335     0.842446  0.055316   \n",
       "3 -0.069738 -0.070781  0.002249 -0.365796   1.647767    -0.697762 -0.060831   \n",
       "4 -0.066241 -0.069531  0.011462 -0.366037   1.713196     0.220124  0.008443   \n",
       "\n",
       "   fwd_pct_chg  fwd_close_positive  \n",
       "0     0.220638                 0.0  \n",
       "1     0.800415                 0.0  \n",
       "2     0.853328                 0.0  \n",
       "3    -0.689888                -1.0  \n",
       "4     0.220794                 0.0  "
      ]
     },
     "execution_count": 77,
     "metadata": {},
     "output_type": "execute_result"
    }
   ],
   "source": [
    "df.head()"
   ]
  },
  {
   "cell_type": "markdown",
   "metadata": {},
   "source": [
    "---\n",
    "# Clustering"
   ]
  },
  {
   "cell_type": "code",
   "execution_count": 11,
   "metadata": {},
   "outputs": [],
   "source": [
    "db = DBSCAN(eps=0.5, min_samples=10).fit(train)\n",
    "core_samples_mask = np.zeros_like(db.labels_, dtype=bool)\n",
    "core_samples_mask[db.core_sample_indices_] = True\n",
    "labels = db.labels_\n"
   ]
  },
  {
   "cell_type": "code",
   "execution_count": 13,
   "metadata": {},
   "outputs": [
    {
     "data": {
      "text/plain": [
       "array([], shape=(0, 1), dtype=int64)"
      ]
     },
     "execution_count": 13,
     "metadata": {},
     "output_type": "execute_result"
    }
   ],
   "source": [
    "np.argwhere(np.isnan(labels))"
   ]
  },
  {
   "cell_type": "code",
   "execution_count": 14,
   "metadata": {},
   "outputs": [
    {
     "ename": "NameError",
     "evalue": "name 'X_train' is not defined",
     "output_type": "error",
     "traceback": [
      "\u001b[0;31m---------------------------------------------------------------------------\u001b[0m",
      "\u001b[0;31mNameError\u001b[0m                                 Traceback (most recent call last)",
      "\u001b[1;32m/Users/hinzlehome/codeup-data-science/financial_forecaster/hinzle_2.ipynb Cell 17'\u001b[0m in \u001b[0;36m<cell line: 1>\u001b[0;34m()\u001b[0m\n\u001b[0;32m----> <a href='vscode-notebook-cell:/Users/hinzlehome/codeup-data-science/financial_forecaster/hinzle_2.ipynb#ch0000041?line=0'>1</a>\u001b[0m labels\u001b[39m=\u001b[39mpd\u001b[39m.\u001b[39mDataFrame(labels,columns\u001b[39m=\u001b[39m[\u001b[39m'\u001b[39m\u001b[39mclust\u001b[39m\u001b[39m'\u001b[39m],dtype\u001b[39m=\u001b[39m\u001b[39m'\u001b[39m\u001b[39mint\u001b[39m\u001b[39m'\u001b[39m,index\u001b[39m=\u001b[39mX_train\u001b[39m.\u001b[39mindex)\n",
      "\u001b[0;31mNameError\u001b[0m: name 'X_train' is not defined"
     ]
    }
   ],
   "source": [
    "labels=pd.DataFrame(labels,columns=['clust'],dtype='int',index=X_train.index)"
   ]
  },
  {
   "cell_type": "code",
   "execution_count": null,
   "metadata": {},
   "outputs": [
    {
     "name": "stdout",
     "output_type": "stream",
     "text": [
      "<class 'pandas.core.frame.DataFrame'>\n",
      "DatetimeIndex: 2707 entries, 2014-10-20 to 2022-03-22\n",
      "Data columns (total 1 columns):\n",
      " #   Column  Non-Null Count  Dtype\n",
      "---  ------  --------------  -----\n",
      " 0   clust   2707 non-null   int64\n",
      "dtypes: int64(1)\n",
      "memory usage: 42.3 KB\n"
     ]
    }
   ],
   "source": [
    "labels.info()"
   ]
  },
  {
   "cell_type": "code",
   "execution_count": null,
   "metadata": {},
   "outputs": [
    {
     "data": {
      "text/plain": [
       "numpy.int64"
      ]
     },
     "execution_count": 62,
     "metadata": {},
     "output_type": "execute_result"
    }
   ],
   "source": [
    "type(labels.clust.iloc[0])"
   ]
  },
  {
   "cell_type": "code",
   "execution_count": null,
   "metadata": {},
   "outputs": [
    {
     "data": {
      "text/plain": [
       "numpy.float64"
      ]
     },
     "execution_count": 63,
     "metadata": {},
     "output_type": "execute_result"
    }
   ],
   "source": [
    "type(X_train.open.iloc[0])"
   ]
  },
  {
   "cell_type": "code",
   "execution_count": null,
   "metadata": {},
   "outputs": [
    {
     "name": "stdout",
     "output_type": "stream",
     "text": [
      "<class 'pandas.core.frame.DataFrame'>\n",
      "DatetimeIndex: 2707 entries, 2014-10-20 to 2022-03-22\n",
      "Data columns (total 17 columns):\n",
      " #   Column                    Non-Null Count  Dtype  \n",
      "---  ------                    --------------  -----  \n",
      " 0   open                      2707 non-null   float64\n",
      " 1   high                      2707 non-null   float64\n",
      " 2   low                       2707 non-null   float64\n",
      " 3   close                     2707 non-null   float64\n",
      " 4   volume                    2707 non-null   float64\n",
      " 5   obv_close_product         2707 non-null   float64\n",
      " 6   macd                      2707 non-null   float64\n",
      " 7   signal                    2707 non-null   float64\n",
      " 8   histo                     2707 non-null   float64\n",
      " 9   cross                     2707 non-null   float64\n",
      " 10  histy                     2707 non-null   float64\n",
      " 11  atr_above_threshold_0.01  2707 non-null   object \n",
      " 12  atr_above_threshold_0.05  2707 non-null   object \n",
      " 13  atr_above_threshold_0.1   2707 non-null   object \n",
      " 14  atr_above_threshold_0.2   2707 non-null   object \n",
      " 15  atr_above_threshold_0.3   2707 non-null   object \n",
      " 16  sentiment                 2707 non-null   float64\n",
      "dtypes: float64(12), object(5)\n",
      "memory usage: 380.7+ KB\n"
     ]
    }
   ],
   "source": [
    "X_train.info()"
   ]
  },
  {
   "cell_type": "code",
   "execution_count": null,
   "metadata": {},
   "outputs": [],
   "source": [
    "X_train=pd.concat([X_train,labels],axis=1)"
   ]
  },
  {
   "cell_type": "code",
   "execution_count": null,
   "metadata": {},
   "outputs": [],
   "source": [
    "xt=X_train.loc['2018':'2021']"
   ]
  },
  {
   "cell_type": "code",
   "execution_count": null,
   "metadata": {},
   "outputs": [
    {
     "data": {
      "text/plain": [
       "<seaborn.axisgrid.FacetGrid at 0x7f8362d1a6a0>"
      ]
     },
     "execution_count": 67,
     "metadata": {},
     "output_type": "execute_result"
    },
    {
     "data": {
      "image/png": "[encoded data removed]",
      "text/plain": [
       "<Figure size 408.75x360 with 1 Axes>"
      ]
     },
     "metadata": {
      "needs_background": "light"
     },
     "output_type": "display_data"
    }
   ],
   "source": [
    "sns.relplot(x=X_train.loc['2018':'2021'].index, y=X_train.loc['2018':'2021'].close, hue=X_train.loc['2018':'2021'].clust)"
   ]
  },
  {
   "cell_type": "code",
   "execution_count": null,
   "metadata": {},
   "outputs": [
    {
     "data": {
      "text/html": [
       "<div>\n",
       "<style scoped>\n",
       "    .dataframe tbody tr th:only-of-type {\n",
       "        vertical-align: middle;\n",
       "    }\n",
       "\n",
       "    .dataframe tbody tr th {\n",
       "        vertical-align: top;\n",
       "    }\n",
       "\n",
       "    .dataframe thead th {\n",
       "        text-align: right;\n",
       "    }\n",
       "</style>\n",
       "<table border=\"1\" class=\"dataframe\">\n",
       "  <thead>\n",
       "    <tr style=\"text-align: right;\">\n",
       "      <th></th>\n",
       "      <th>open</th>\n",
       "      <th>high</th>\n",
       "      <th>low</th>\n",
       "      <th>close</th>\n",
       "      <th>volume</th>\n",
       "      <th>obv_close_product</th>\n",
       "      <th>macd</th>\n",
       "      <th>signal</th>\n",
       "      <th>histo</th>\n",
       "      <th>cross</th>\n",
       "      <th>histy</th>\n",
       "      <th>atr_above_threshold_0.01</th>\n",
       "      <th>atr_above_threshold_0.05</th>\n",
       "      <th>atr_above_threshold_0.1</th>\n",
       "      <th>atr_above_threshold_0.2</th>\n",
       "      <th>atr_above_threshold_0.3</th>\n",
       "      <th>sentiment</th>\n",
       "      <th>clust</th>\n",
       "    </tr>\n",
       "  </thead>\n",
       "  <tbody>\n",
       "    <tr>\n",
       "      <th>2014-10-20</th>\n",
       "      <td>-0.594237</td>\n",
       "      <td>-0.590436</td>\n",
       "      <td>-0.602060</td>\n",
       "      <td>-0.594318</td>\n",
       "      <td>-0.211145</td>\n",
       "      <td>0.185718</td>\n",
       "      <td>-0.050510</td>\n",
       "      <td>-0.081143</td>\n",
       "      <td>0.128572</td>\n",
       "      <td>0.0</td>\n",
       "      <td>0.0</td>\n",
       "      <td>False</td>\n",
       "      <td>False</td>\n",
       "      <td>False</td>\n",
       "      <td>False</td>\n",
       "      <td>False</td>\n",
       "      <td>1.415845</td>\n",
       "      <td>0</td>\n",
       "    </tr>\n",
       "    <tr>\n",
       "      <th>2014-10-21</th>\n",
       "      <td>-0.594907</td>\n",
       "      <td>-0.590190</td>\n",
       "      <td>-0.601799</td>\n",
       "      <td>-0.593960</td>\n",
       "      <td>-0.211234</td>\n",
       "      <td>0.262380</td>\n",
       "      <td>-0.046294</td>\n",
       "      <td>-0.073474</td>\n",
       "      <td>0.114357</td>\n",
       "      <td>0.0</td>\n",
       "      <td>0.0</td>\n",
       "      <td>False</td>\n",
       "      <td>False</td>\n",
       "      <td>False</td>\n",
       "      <td>False</td>\n",
       "      <td>False</td>\n",
       "      <td>1.881179</td>\n",
       "      <td>0</td>\n",
       "    </tr>\n",
       "    <tr>\n",
       "      <th>2014-10-22</th>\n",
       "      <td>-0.594543</td>\n",
       "      <td>-0.590581</td>\n",
       "      <td>-0.601655</td>\n",
       "      <td>-0.594287</td>\n",
       "      <td>-0.211336</td>\n",
       "      <td>0.195438</td>\n",
       "      <td>-0.043841</td>\n",
       "      <td>-0.066850</td>\n",
       "      <td>0.097223</td>\n",
       "      <td>0.0</td>\n",
       "      <td>0.0</td>\n",
       "      <td>False</td>\n",
       "      <td>False</td>\n",
       "      <td>False</td>\n",
       "      <td>False</td>\n",
       "      <td>False</td>\n",
       "      <td>1.691602</td>\n",
       "      <td>-1</td>\n",
       "    </tr>\n",
       "    <tr>\n",
       "      <th>2014-10-23</th>\n",
       "      <td>-0.594853</td>\n",
       "      <td>-0.590920</td>\n",
       "      <td>-0.604268</td>\n",
       "      <td>-0.596721</td>\n",
       "      <td>-0.210745</td>\n",
       "      <td>-0.071116</td>\n",
       "      <td>-0.049855</td>\n",
       "      <td>-0.062750</td>\n",
       "      <td>0.055808</td>\n",
       "      <td>0.0</td>\n",
       "      <td>0.0</td>\n",
       "      <td>False</td>\n",
       "      <td>False</td>\n",
       "      <td>False</td>\n",
       "      <td>False</td>\n",
       "      <td>False</td>\n",
       "      <td>1.910950</td>\n",
       "      <td>0</td>\n",
       "    </tr>\n",
       "    <tr>\n",
       "      <th>2014-10-24</th>\n",
       "      <td>-0.597251</td>\n",
       "      <td>-0.592908</td>\n",
       "      <td>-0.604586</td>\n",
       "      <td>-0.596728</td>\n",
       "      <td>-0.211179</td>\n",
       "      <td>-0.047029</td>\n",
       "      <td>-0.054306</td>\n",
       "      <td>-0.060357</td>\n",
       "      <td>0.027793</td>\n",
       "      <td>0.0</td>\n",
       "      <td>0.0</td>\n",
       "      <td>False</td>\n",
       "      <td>False</td>\n",
       "      <td>False</td>\n",
       "      <td>False</td>\n",
       "      <td>False</td>\n",
       "      <td>1.897002</td>\n",
       "      <td>0</td>\n",
       "    </tr>\n",
       "  </tbody>\n",
       "</table>\n",
       "</div>"
      ],
      "text/plain": [
       "                open      high       low     close    volume  \\\n",
       "2014-10-20 -0.594237 -0.590436 -0.602060 -0.594318 -0.211145   \n",
       "2014-10-21 -0.594907 -0.590190 -0.601799 -0.593960 -0.211234   \n",
       "2014-10-22 -0.594543 -0.590581 -0.601655 -0.594287 -0.211336   \n",
       "2014-10-23 -0.594853 -0.590920 -0.604268 -0.596721 -0.210745   \n",
       "2014-10-24 -0.597251 -0.592908 -0.604586 -0.596728 -0.211179   \n",
       "\n",
       "            obv_close_product      macd    signal     histo  cross  histy  \\\n",
       "2014-10-20           0.185718 -0.050510 -0.081143  0.128572    0.0    0.0   \n",
       "2014-10-21           0.262380 -0.046294 -0.073474  0.114357    0.0    0.0   \n",
       "2014-10-22           0.195438 -0.043841 -0.066850  0.097223    0.0    0.0   \n",
       "2014-10-23          -0.071116 -0.049855 -0.062750  0.055808    0.0    0.0   \n",
       "2014-10-24          -0.047029 -0.054306 -0.060357  0.027793    0.0    0.0   \n",
       "\n",
       "           atr_above_threshold_0.01 atr_above_threshold_0.05  \\\n",
       "2014-10-20                    False                    False   \n",
       "2014-10-21                    False                    False   \n",
       "2014-10-22                    False                    False   \n",
       "2014-10-23                    False                    False   \n",
       "2014-10-24                    False                    False   \n",
       "\n",
       "           atr_above_threshold_0.1 atr_above_threshold_0.2  \\\n",
       "2014-10-20                   False                   False   \n",
       "2014-10-21                   False                   False   \n",
       "2014-10-22                   False                   False   \n",
       "2014-10-23                   False                   False   \n",
       "2014-10-24                   False                   False   \n",
       "\n",
       "           atr_above_threshold_0.3  sentiment  clust  \n",
       "2014-10-20                   False   1.415845      0  \n",
       "2014-10-21                   False   1.881179      0  \n",
       "2014-10-22                   False   1.691602     -1  \n",
       "2014-10-23                   False   1.910950      0  \n",
       "2014-10-24                   False   1.897002      0  "
      ]
     },
     "execution_count": 68,
     "metadata": {},
     "output_type": "execute_result"
    }
   ],
   "source": [
    "X_train.head()"
   ]
  },
  {
   "cell_type": "code",
   "execution_count": null,
   "metadata": {},
   "outputs": [],
   "source": [
    "# X_train=X_train.drop('clust',axis=1)"
   ]
  }
 ],
 "metadata": {
  "interpreter": {
   "hash": "3067ead486e059ec00ffe7555bdb889e6e264a24dc711bf108106cc7baee8d5d"
  },
  "kernelspec": {
   "display_name": "Python 3.9.12 ('base')",
   "language": "python",
   "name": "python3"
  },
  "language_info": {
   "codemirror_mode": {
    "name": "ipython",
    "version": 3
   },
   "file_extension": ".py",
   "mimetype": "text/x-python",
   "name": "python",
   "nbconvert_exporter": "python",
   "pygments_lexer": "ipython3",
   "version": "3.9.12"
  },
  "orig_nbformat": 4
 },
 "nbformat": 4,
 "nbformat_minor": 2
}
