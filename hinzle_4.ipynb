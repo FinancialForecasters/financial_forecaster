{
 "cells": [
  {
   "cell_type": "markdown",
   "metadata": {},
   "source": [
    "---\n",
    "# Imports"
   ]
  },
  {
   "cell_type": "code",
   "execution_count": 1,
   "metadata": {},
   "outputs": [
    {
     "name": "stderr",
     "output_type": "stream",
     "text": [
      "Intel(R) Extension for Scikit-learn* enabled (https://github.com/intel/scikit-learn-intelex)\n"
     ]
    }
   ],
   "source": [
    "# imports.py\n",
    "from imports import *\n",
    "from sklearn.datasets import make_blobs\n",
    "\n",
    "# plotting magic\n",
    "%matplotlib inline\n",
    "\n",
    "# custom mods\n",
    "import tidy\n",
    "import model_h\n",
    "import wrangle"
   ]
  },
  {
   "cell_type": "markdown",
   "metadata": {},
   "source": [
    "---\n",
    "# Wrangle"
   ]
  },
  {
   "cell_type": "code",
   "execution_count": 2,
   "metadata": {},
   "outputs": [
    {
     "name": "stdout",
     "output_type": "stream",
     "text": [
      "cached csv\n"
     ]
    }
   ],
   "source": [
    "df=wrangle.wrangle_df()\n",
    "# df.info()\n",
    "# # model_h.print_btcusd(df)\n",
    "# df.head()"
   ]
  },
  {
   "cell_type": "code",
   "execution_count": 3,
   "metadata": {},
   "outputs": [],
   "source": [
    "df['atr'] = talib.ATR(df.high, df.low, df.close, 14)"
   ]
  },
  {
   "cell_type": "code",
   "execution_count": 4,
   "metadata": {},
   "outputs": [],
   "source": [
    "df=df.loc['2021':]"
   ]
  },
  {
   "cell_type": "code",
   "execution_count": 5,
   "metadata": {},
   "outputs": [
    {
     "name": "stdout",
     "output_type": "stream",
     "text": [
      "<class 'pandas.core.frame.DataFrame'>\n",
      "DatetimeIndex: 509 entries, 2021-01-01 to 2022-05-24\n",
      "Data columns (total 34 columns):\n",
      " #   Column                        Non-Null Count  Dtype  \n",
      "---  ------                        --------------  -----  \n",
      " 0   open                          509 non-null    float64\n",
      " 1   high                          509 non-null    float64\n",
      " 2   low                           509 non-null    float64\n",
      " 3   close                         509 non-null    float64\n",
      " 4   volume                        509 non-null    float64\n",
      " 5   fwd_log_ret                   509 non-null    float64\n",
      " 6   fwd_ret                       509 non-null    float64\n",
      " 7   fwd_pct_chg                   509 non-null    float64\n",
      " 8   fwd_close_positive            509 non-null    float64\n",
      " 9   macd                          509 non-null    float64\n",
      " 10  signal                        509 non-null    float64\n",
      " 11  histo                         509 non-null    float64\n",
      " 12  cross                         509 non-null    float64\n",
      " 13  histy                         509 non-null    float64\n",
      " 14  month_9                       509 non-null    float64\n",
      " 15  month_10                      509 non-null    float64\n",
      " 16  day_20                        509 non-null    float64\n",
      " 17  day_1                         509 non-null    float64\n",
      " 18  day_9                         509 non-null    float64\n",
      " 19  atr_above_threshold_0.01      509 non-null    object \n",
      " 20  atr_above_threshold_0.05      509 non-null    object \n",
      " 21  atr_above_threshold_0.1       509 non-null    object \n",
      " 22  atr_above_threshold_0.2       509 non-null    object \n",
      " 23  atr_above_threshold_0.3       509 non-null    object \n",
      " 24  avg-fees-per-transaction      509 non-null    float64\n",
      " 25  cost-per-transaction-percent  509 non-null    float64\n",
      " 26  cost-per-transaction          509 non-null    float64\n",
      " 27  difficulty                    509 non-null    float64\n",
      " 28  hash-rate                     509 non-null    float64\n",
      " 29  miners-revenue                509 non-null    float64\n",
      " 30  transaction-fees-to-miners    509 non-null    float64\n",
      " 31  sentiment                     509 non-null    float64\n",
      " 32  obv_close_product             509 non-null    float64\n",
      " 33  atr                           509 non-null    float64\n",
      "dtypes: float64(29), object(5)\n",
      "memory usage: 139.2+ KB\n"
     ]
    }
   ],
   "source": [
    "df.info()"
   ]
  },
  {
   "cell_type": "markdown",
   "metadata": {},
   "source": [
    "---\n",
    "## Train / Test Split"
   ]
  },
  {
   "cell_type": "code",
   "execution_count": 6,
   "metadata": {},
   "outputs": [],
   "source": [
    "train_unscaled, val_unscaled=tidy.split_ii(df)\n",
    "\n",
    "\n",
    "# # train_ii, test=tidy.split_ii(df)\n",
    "# # train_ii.info(),test.info()\n"
   ]
  },
  {
   "cell_type": "markdown",
   "metadata": {},
   "source": [
    "---\n",
    "## Scaler"
   ]
  },
  {
   "cell_type": "code",
   "execution_count": 7,
   "metadata": {},
   "outputs": [],
   "source": [
    "transformer = RobustScaler().fit(train_unscaled)"
   ]
  },
  {
   "cell_type": "code",
   "execution_count": 8,
   "metadata": {},
   "outputs": [],
   "source": [
    "train=transformer.transform(train_unscaled)\n",
    "val=transformer.transform(val_unscaled)"
   ]
  },
  {
   "cell_type": "code",
   "execution_count": 9,
   "metadata": {},
   "outputs": [],
   "source": [
    "train=pd.DataFrame(train,columns=train_unscaled.columns)\n",
    "val=pd.DataFrame(val,columns=val_unscaled.columns)"
   ]
  },
  {
   "cell_type": "code",
   "execution_count": 10,
   "metadata": {},
   "outputs": [],
   "source": [
    "# def scaler_fit(X_train):\n",
    "# \tfor col in X_train.columns:\n",
    "# \t\tif X_train[col].dtype == 'float64':\n",
    "# \t\t\txs=np.array(X_train[[col]]).reshape(-1, 1)\n",
    "# \t\t\tX_train.loc[:,col]=RobustScaler().fit_transform(xs)\n",
    "# \t\t\tprint(col)\n",
    "# \treturn X_train\n"
   ]
  },
  {
   "cell_type": "code",
   "execution_count": 11,
   "metadata": {},
   "outputs": [],
   "source": [
    "# def scaler_tran(df):\n",
    "# \tfor col in df.columns:\n",
    "# \t\tif df[col].dtype == 'float64':\n",
    "# \t\t\txs=np.array(df[[col]]).reshape(-1, 1)\n",
    "# \t\t\tX_train.loc[:,col]=RobustScaler().transform(xs)\n",
    "# \t\t\tprint(col)\n",
    "# \treturn X_train\n"
   ]
  },
  {
   "cell_type": "code",
   "execution_count": 12,
   "metadata": {},
   "outputs": [],
   "source": [
    "# X_train=scaler_fit(X_train)\n"
   ]
  },
  {
   "cell_type": "markdown",
   "metadata": {},
   "source": [
    "---\n",
    "## Xy Split"
   ]
  },
  {
   "cell_type": "code",
   "execution_count": 13,
   "metadata": {},
   "outputs": [],
   "source": [
    "X_train=train[['open', 'high', 'low', 'close', 'volume', 'obv_close_product','atr', 'macd', 'signal', 'histo', 'sentiment']]\n",
    "X_val=val[['open', 'high', 'low', 'close', 'volume', 'obv_close_product','atr', 'macd', 'signal', 'histo', 'sentiment']]"
   ]
  },
  {
   "cell_type": "code",
   "execution_count": 14,
   "metadata": {},
   "outputs": [],
   "source": [
    "y_train=train[[ 'fwd_ret']]\n",
    "y_val=val[[ 'fwd_ret']]"
   ]
  },
  {
   "cell_type": "markdown",
   "metadata": {},
   "source": [
    "---\n",
    "# RFE Regression"
   ]
  },
  {
   "cell_type": "code",
   "execution_count": 15,
   "metadata": {},
   "outputs": [],
   "source": [
    "lm = LinearRegression()"
   ]
  },
  {
   "cell_type": "code",
   "execution_count": 16,
   "metadata": {},
   "outputs": [],
   "source": [
    "rfe = RFE(lm, n_features_to_select=8)"
   ]
  },
  {
   "cell_type": "code",
   "execution_count": 17,
   "metadata": {},
   "outputs": [
    {
     "data": {
      "text/html": [
       "<div>\n",
       "<style scoped>\n",
       "    .dataframe tbody tr th:only-of-type {\n",
       "        vertical-align: middle;\n",
       "    }\n",
       "\n",
       "    .dataframe tbody tr th {\n",
       "        vertical-align: top;\n",
       "    }\n",
       "\n",
       "    .dataframe thead th {\n",
       "        text-align: right;\n",
       "    }\n",
       "</style>\n",
       "<table border=\"1\" class=\"dataframe\">\n",
       "  <thead>\n",
       "    <tr style=\"text-align: right;\">\n",
       "      <th></th>\n",
       "      <th>open</th>\n",
       "      <th>high</th>\n",
       "      <th>low</th>\n",
       "      <th>close</th>\n",
       "      <th>obv_close_product</th>\n",
       "      <th>atr</th>\n",
       "      <th>histo</th>\n",
       "      <th>sentiment</th>\n",
       "    </tr>\n",
       "  </thead>\n",
       "  <tbody>\n",
       "    <tr>\n",
       "      <th>0</th>\n",
       "      <td>-1.104101</td>\n",
       "      <td>-1.105002</td>\n",
       "      <td>-1.112280</td>\n",
       "      <td>-1.074167</td>\n",
       "      <td>1.406586</td>\n",
       "      <td>-1.325586</td>\n",
       "      <td>0.584703</td>\n",
       "      <td>0.463774</td>\n",
       "    </tr>\n",
       "    <tr>\n",
       "      <th>1</th>\n",
       "      <td>-1.077980</td>\n",
       "      <td>-0.874466</td>\n",
       "      <td>-1.091036</td>\n",
       "      <td>-0.886564</td>\n",
       "      <td>1.406586</td>\n",
       "      <td>-1.127986</td>\n",
       "      <td>0.739006</td>\n",
       "      <td>-0.296571</td>\n",
       "    </tr>\n",
       "    <tr>\n",
       "      <th>2</th>\n",
       "      <td>-0.889953</td>\n",
       "      <td>-0.780200</td>\n",
       "      <td>-0.872306</td>\n",
       "      <td>-0.841947</td>\n",
       "      <td>1.406586</td>\n",
       "      <td>-1.049603</td>\n",
       "      <td>0.825680</td>\n",
       "      <td>0.558548</td>\n",
       "    </tr>\n",
       "    <tr>\n",
       "      <th>3</th>\n",
       "      <td>-0.843404</td>\n",
       "      <td>-0.855975</td>\n",
       "      <td>-1.118251</td>\n",
       "      <td>-0.897150</td>\n",
       "      <td>1.107941</td>\n",
       "      <td>-0.826158</td>\n",
       "      <td>0.748129</td>\n",
       "      <td>0.504276</td>\n",
       "    </tr>\n",
       "    <tr>\n",
       "      <th>4</th>\n",
       "      <td>-0.900360</td>\n",
       "      <td>-0.791288</td>\n",
       "      <td>-1.007566</td>\n",
       "      <td>-0.759468</td>\n",
       "      <td>1.370341</td>\n",
       "      <td>-0.653603</td>\n",
       "      <td>0.793288</td>\n",
       "      <td>0.574713</td>\n",
       "    </tr>\n",
       "  </tbody>\n",
       "</table>\n",
       "</div>"
      ],
      "text/plain": [
       "       open      high       low     close  obv_close_product       atr  \\\n",
       "0 -1.104101 -1.105002 -1.112280 -1.074167           1.406586 -1.325586   \n",
       "1 -1.077980 -0.874466 -1.091036 -0.886564           1.406586 -1.127986   \n",
       "2 -0.889953 -0.780200 -0.872306 -0.841947           1.406586 -1.049603   \n",
       "3 -0.843404 -0.855975 -1.118251 -0.897150           1.107941 -0.826158   \n",
       "4 -0.900360 -0.791288 -1.007566 -0.759468           1.370341 -0.653603   \n",
       "\n",
       "      histo  sentiment  \n",
       "0  0.584703   0.463774  \n",
       "1  0.739006  -0.296571  \n",
       "2  0.825680   0.558548  \n",
       "3  0.748129   0.504276  \n",
       "4  0.793288   0.574713  "
      ]
     },
     "execution_count": 17,
     "metadata": {},
     "output_type": "execute_result"
    }
   ],
   "source": [
    "# Transforming data using RFE\n",
    "X_rfe = rfe.fit_transform(X_train,y_train.fwd_ret)  \n",
    "mask=rfe.support_\n",
    "rfe_features = X_train.loc[:,mask].columns.tolist()\n",
    "\n",
    "X_train=pd.DataFrame(X_rfe,columns=rfe_features)\n",
    "X_train.head()\n"
   ]
  },
  {
   "cell_type": "code",
   "execution_count": 18,
   "metadata": {},
   "outputs": [],
   "source": [
    "# var_ranks = rfe.ranking_\n",
    "# var_names = X_rfe.columns.tolist()\n",
    "\n",
    "# pd.DataFrame({'Var': var_names, 'Rank': var_ranks})\n"
   ]
  },
  {
   "cell_type": "code",
   "execution_count": 19,
   "metadata": {},
   "outputs": [],
   "source": [
    "X_val=X_val[rfe_features]"
   ]
  },
  {
   "cell_type": "markdown",
   "metadata": {},
   "source": [
    "---\n",
    "# Regression Model"
   ]
  },
  {
   "cell_type": "code",
   "execution_count": 20,
   "metadata": {},
   "outputs": [],
   "source": [
    "\n",
    "line=lm.fit(X_train,y_train)\n"
   ]
  },
  {
   "cell_type": "code",
   "execution_count": 21,
   "metadata": {},
   "outputs": [
    {
     "name": "stderr",
     "output_type": "stream",
     "text": [
      "/var/folders/mk/w2hz4wxx7xn5hr_56wz536gh0000gn/T/ipykernel_25099/2063499806.py:1: SettingWithCopyWarning: \n",
      "A value is trying to be set on a copy of a slice from a DataFrame.\n",
      "Try using .loc[row_indexer,col_indexer] = value instead\n",
      "\n",
      "See the caveats in the documentation: https://pandas.pydata.org/pandas-docs/stable/user_guide/indexing.html#returning-a-view-versus-a-copy\n",
      "  y_train['reg'] = lm.predict(X_train)\n"
     ]
    }
   ],
   "source": [
    "\n",
    "y_train['reg'] = lm.predict(X_train)\n",
    "\n",
    "y_train.to_csv('reg_train_ii.csv')\n"
   ]
  },
  {
   "cell_type": "code",
   "execution_count": 22,
   "metadata": {},
   "outputs": [],
   "source": [
    "\n",
    "rmse_train = metrics.mean_squared_error(y_train.fwd_ret, y_train.reg)**(1/2)\n"
   ]
  },
  {
   "cell_type": "code",
   "execution_count": 23,
   "metadata": {},
   "outputs": [
    {
     "name": "stderr",
     "output_type": "stream",
     "text": [
      "/var/folders/mk/w2hz4wxx7xn5hr_56wz536gh0000gn/T/ipykernel_25099/1548275373.py:1: SettingWithCopyWarning: \n",
      "A value is trying to be set on a copy of a slice from a DataFrame.\n",
      "Try using .loc[row_indexer,col_indexer] = value instead\n",
      "\n",
      "See the caveats in the documentation: https://pandas.pydata.org/pandas-docs/stable/user_guide/indexing.html#returning-a-view-versus-a-copy\n",
      "  y_val['reg'] = lm.predict(X_val)\n"
     ]
    }
   ],
   "source": [
    "\n",
    "y_val['reg'] = lm.predict(X_val)\n",
    "\n",
    "y_val.to_csv('reg_val_ii.csv')\n"
   ]
  },
  {
   "cell_type": "code",
   "execution_count": 24,
   "metadata": {},
   "outputs": [
    {
     "name": "stdout",
     "output_type": "stream",
     "text": [
      "RMSE for OLS using LinearRegression\n",
      "Training/In-Sample:  0.9034954214607592 \n",
      "Validation/Out-of-Sample:  0.7679224709818969\n"
     ]
    }
   ],
   "source": [
    "\n",
    "rmse_validate = metrics.mean_squared_error(y_val.fwd_ret, y_val.reg)**(1/2)\n",
    "\n",
    "print(\"RMSE for OLS using LinearRegression\\nTraining/In-Sample: \", rmse_train, \n",
    "      \"\\nValidation/Out-of-Sample: \", rmse_validate)"
   ]
  }
 ],
 "metadata": {
  "interpreter": {
   "hash": "3067ead486e059ec00ffe7555bdb889e6e264a24dc711bf108106cc7baee8d5d"
  },
  "kernelspec": {
   "display_name": "Python 3.9.12 ('base')",
   "language": "python",
   "name": "python3"
  },
  "language_info": {
   "codemirror_mode": {
    "name": "ipython",
    "version": 3
   },
   "file_extension": ".py",
   "mimetype": "text/x-python",
   "name": "python",
   "nbconvert_exporter": "python",
   "pygments_lexer": "ipython3",
   "version": "3.9.12"
  },
  "orig_nbformat": 4
 },
 "nbformat": 4,
 "nbformat_minor": 2
}
