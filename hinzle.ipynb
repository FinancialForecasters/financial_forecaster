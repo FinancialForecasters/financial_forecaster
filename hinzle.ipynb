{
 "cells": [
  {
   "cell_type": "code",
   "execution_count": 1,
   "metadata": {},
   "outputs": [
    {
     "name": "stderr",
     "output_type": "stream",
     "text": [
      "Intel(R) Extension for Scikit-learn* enabled (https://github.com/intel/scikit-learn-intelex)\n"
     ]
    }
   ],
   "source": [
    "# imports.py\n",
    "from imports import *\n",
    "from sklearn.datasets import make_blobs\n",
    "\n",
    "# plotting magic\n",
    "%matplotlib inline\n",
    "\n",
    "# custom mods\n",
    "import tidy\n",
    "import model_h\n",
    "import wrangle"
   ]
  },
  {
   "cell_type": "code",
   "execution_count": 2,
   "metadata": {},
   "outputs": [
    {
     "name": "stdout",
     "output_type": "stream",
     "text": [
      "cached csv\n",
      "<class 'pandas.core.frame.DataFrame'>\n",
      "DatetimeIndex: 2807 entries, 2014-09-17 00:00:00+00:00 to 2022-05-24 00:00:00+00:00\n",
      "Data columns (total 9 columns):\n",
      " #   Column              Non-Null Count  Dtype  \n",
      "---  ------              --------------  -----  \n",
      " 0   open                2807 non-null   float64\n",
      " 1   high                2807 non-null   float64\n",
      " 2   low                 2807 non-null   float64\n",
      " 3   close               2807 non-null   float64\n",
      " 4   volume              2807 non-null   int64  \n",
      " 5   fwd_log_ret         2807 non-null   float64\n",
      " 6   fwd_ret             2807 non-null   float64\n",
      " 7   fwd_pct_chg         2807 non-null   float64\n",
      " 8   fwd_close_positive  2807 non-null   bool   \n",
      "dtypes: bool(1), float64(7), int64(1)\n",
      "memory usage: 200.1 KB\n"
     ]
    }
   ],
   "source": [
    "df=tidy.explore_df()\n",
    "df.info()"
   ]
  },
  {
   "cell_type": "code",
   "execution_count": 3,
   "metadata": {},
   "outputs": [
    {
     "data": {
      "image/png": "[encoded data removed]",
      "text/plain": [
       "<Figure size 432x288 with 1 Axes>"
      ]
     },
     "metadata": {
      "needs_background": "light"
     },
     "output_type": "display_data"
    }
   ],
   "source": [
    "model_h.print_btcusd(df)"
   ]
  },
  {
   "cell_type": "code",
   "execution_count": 4,
   "metadata": {},
   "outputs": [
    {
     "data": {
      "text/html": [
       "<div>\n",
       "<style scoped>\n",
       "    .dataframe tbody tr th:only-of-type {\n",
       "        vertical-align: middle;\n",
       "    }\n",
       "\n",
       "    .dataframe tbody tr th {\n",
       "        vertical-align: top;\n",
       "    }\n",
       "\n",
       "    .dataframe thead th {\n",
       "        text-align: right;\n",
       "    }\n",
       "</style>\n",
       "<table border=\"1\" class=\"dataframe\">\n",
       "  <thead>\n",
       "    <tr style=\"text-align: right;\">\n",
       "      <th></th>\n",
       "      <th>open</th>\n",
       "      <th>high</th>\n",
       "      <th>low</th>\n",
       "      <th>close</th>\n",
       "      <th>volume</th>\n",
       "      <th>fwd_log_ret</th>\n",
       "      <th>fwd_ret</th>\n",
       "      <th>fwd_pct_chg</th>\n",
       "      <th>fwd_close_positive</th>\n",
       "    </tr>\n",
       "    <tr>\n",
       "      <th>date</th>\n",
       "      <th></th>\n",
       "      <th></th>\n",
       "      <th></th>\n",
       "      <th></th>\n",
       "      <th></th>\n",
       "      <th></th>\n",
       "      <th></th>\n",
       "      <th></th>\n",
       "      <th></th>\n",
       "    </tr>\n",
       "  </thead>\n",
       "  <tbody>\n",
       "    <tr>\n",
       "      <th>2014-09-17 00:00:00+00:00</th>\n",
       "      <td>465.864014</td>\n",
       "      <td>468.174011</td>\n",
       "      <td>452.421997</td>\n",
       "      <td>457.334015</td>\n",
       "      <td>21056800</td>\n",
       "      <td>-0.074643</td>\n",
       "      <td>-32.894013</td>\n",
       "      <td>-0.071926</td>\n",
       "      <td>False</td>\n",
       "    </tr>\n",
       "    <tr>\n",
       "      <th>2014-09-18 00:00:00+00:00</th>\n",
       "      <td>456.859985</td>\n",
       "      <td>456.859985</td>\n",
       "      <td>413.104004</td>\n",
       "      <td>424.440002</td>\n",
       "      <td>34483200</td>\n",
       "      <td>-0.072402</td>\n",
       "      <td>-29.644012</td>\n",
       "      <td>-0.069843</td>\n",
       "      <td>False</td>\n",
       "    </tr>\n",
       "    <tr>\n",
       "      <th>2014-09-19 00:00:00+00:00</th>\n",
       "      <td>424.102997</td>\n",
       "      <td>427.834991</td>\n",
       "      <td>384.532013</td>\n",
       "      <td>394.795990</td>\n",
       "      <td>37919700</td>\n",
       "      <td>0.035111</td>\n",
       "      <td>14.108002</td>\n",
       "      <td>0.035735</td>\n",
       "      <td>True</td>\n",
       "    </tr>\n",
       "    <tr>\n",
       "      <th>2014-09-20 00:00:00+00:00</th>\n",
       "      <td>394.673004</td>\n",
       "      <td>423.295990</td>\n",
       "      <td>389.882996</td>\n",
       "      <td>408.903992</td>\n",
       "      <td>36863600</td>\n",
       "      <td>-0.024968</td>\n",
       "      <td>-10.082978</td>\n",
       "      <td>-0.024659</td>\n",
       "      <td>False</td>\n",
       "    </tr>\n",
       "    <tr>\n",
       "      <th>2014-09-21 00:00:00+00:00</th>\n",
       "      <td>408.084991</td>\n",
       "      <td>412.425995</td>\n",
       "      <td>393.181000</td>\n",
       "      <td>398.821014</td>\n",
       "      <td>26580100</td>\n",
       "      <td>0.008317</td>\n",
       "      <td>3.330994</td>\n",
       "      <td>0.008352</td>\n",
       "      <td>True</td>\n",
       "    </tr>\n",
       "  </tbody>\n",
       "</table>\n",
       "</div>"
      ],
      "text/plain": [
       "                                 open        high         low       close  \\\n",
       "date                                                                        \n",
       "2014-09-17 00:00:00+00:00  465.864014  468.174011  452.421997  457.334015   \n",
       "2014-09-18 00:00:00+00:00  456.859985  456.859985  413.104004  424.440002   \n",
       "2014-09-19 00:00:00+00:00  424.102997  427.834991  384.532013  394.795990   \n",
       "2014-09-20 00:00:00+00:00  394.673004  423.295990  389.882996  408.903992   \n",
       "2014-09-21 00:00:00+00:00  408.084991  412.425995  393.181000  398.821014   \n",
       "\n",
       "                             volume  fwd_log_ret    fwd_ret  fwd_pct_chg  \\\n",
       "date                                                                       \n",
       "2014-09-17 00:00:00+00:00  21056800    -0.074643 -32.894013    -0.071926   \n",
       "2014-09-18 00:00:00+00:00  34483200    -0.072402 -29.644012    -0.069843   \n",
       "2014-09-19 00:00:00+00:00  37919700     0.035111  14.108002     0.035735   \n",
       "2014-09-20 00:00:00+00:00  36863600    -0.024968 -10.082978    -0.024659   \n",
       "2014-09-21 00:00:00+00:00  26580100     0.008317   3.330994     0.008352   \n",
       "\n",
       "                           fwd_close_positive  \n",
       "date                                           \n",
       "2014-09-17 00:00:00+00:00               False  \n",
       "2014-09-18 00:00:00+00:00               False  \n",
       "2014-09-19 00:00:00+00:00                True  \n",
       "2014-09-20 00:00:00+00:00               False  \n",
       "2014-09-21 00:00:00+00:00                True  "
      ]
     },
     "execution_count": 4,
     "metadata": {},
     "output_type": "execute_result"
    }
   ],
   "source": [
    "df.head()"
   ]
  },
  {
   "cell_type": "code",
   "execution_count": 5,
   "metadata": {},
   "outputs": [
    {
     "data": {
      "text/plain": [
       "<AxesSubplot:xlabel='date'>"
      ]
     },
     "execution_count": 5,
     "metadata": {},
     "output_type": "execute_result"
    },
    {
     "data": {
      "image/png": "[encoded data removed]",
      "text/plain": [
       "<Figure size 432x288 with 1 Axes>"
      ]
     },
     "metadata": {
      "needs_background": "light"
     },
     "output_type": "display_data"
    }
   ],
   "source": [
    "df.close.resample('m').mean().plot(alpha=.2, label='resample')"
   ]
  },
  {
   "cell_type": "code",
   "execution_count": 6,
   "metadata": {},
   "outputs": [],
   "source": [
    "# model_h.d_stats_btcusd(df)"
   ]
  },
  {
   "cell_type": "code",
   "execution_count": 7,
   "metadata": {},
   "outputs": [],
   "source": [
    "def split_i(df):\n",
    "\ttrain = df.loc[:'2022-3-22']\n",
    "\tvalidate =df.loc['2022-03-23':'2022-04-23'] \n",
    "\treturn train, validate"
   ]
  },
  {
   "cell_type": "code",
   "execution_count": 8,
   "metadata": {},
   "outputs": [],
   "source": [
    "def split_ii(df):\n",
    "\ttrain = df.loc[:'2022-04-24']\n",
    "\ttest = df.loc['2022-04-25':]\n",
    "\treturn train, test"
   ]
  },
  {
   "cell_type": "code",
   "execution_count": 9,
   "metadata": {},
   "outputs": [
    {
     "name": "stdout",
     "output_type": "stream",
     "text": [
      "<class 'pandas.core.frame.DataFrame'>\n",
      "DatetimeIndex: 2744 entries, 2014-09-17 00:00:00+00:00 to 2022-03-22 00:00:00+00:00\n",
      "Data columns (total 9 columns):\n",
      " #   Column              Non-Null Count  Dtype  \n",
      "---  ------              --------------  -----  \n",
      " 0   open                2744 non-null   float64\n",
      " 1   high                2744 non-null   float64\n",
      " 2   low                 2744 non-null   float64\n",
      " 3   close               2744 non-null   float64\n",
      " 4   volume              2744 non-null   int64  \n",
      " 5   fwd_log_ret         2744 non-null   float64\n",
      " 6   fwd_ret             2744 non-null   float64\n",
      " 7   fwd_pct_chg         2744 non-null   float64\n",
      " 8   fwd_close_positive  2744 non-null   bool   \n",
      "dtypes: bool(1), float64(7), int64(1)\n",
      "memory usage: 195.6 KB\n",
      "<class 'pandas.core.frame.DataFrame'>\n",
      "DatetimeIndex: 32 entries, 2022-03-23 00:00:00+00:00 to 2022-04-23 00:00:00+00:00\n",
      "Data columns (total 9 columns):\n",
      " #   Column              Non-Null Count  Dtype  \n",
      "---  ------              --------------  -----  \n",
      " 0   open                32 non-null     float64\n",
      " 1   high                32 non-null     float64\n",
      " 2   low                 32 non-null     float64\n",
      " 3   close               32 non-null     float64\n",
      " 4   volume              32 non-null     int64  \n",
      " 5   fwd_log_ret         32 non-null     float64\n",
      " 6   fwd_ret             32 non-null     float64\n",
      " 7   fwd_pct_chg         32 non-null     float64\n",
      " 8   fwd_close_positive  32 non-null     bool   \n",
      "dtypes: bool(1), float64(7), int64(1)\n",
      "memory usage: 2.3 KB\n"
     ]
    },
    {
     "data": {
      "text/plain": [
       "(None, None)"
      ]
     },
     "execution_count": 9,
     "metadata": {},
     "output_type": "execute_result"
    }
   ],
   "source": [
    "train_i, validate=split_i(df)\n",
    "train_i.info(),validate.info()"
   ]
  },
  {
   "cell_type": "code",
   "execution_count": 10,
   "metadata": {},
   "outputs": [
    {
     "name": "stdout",
     "output_type": "stream",
     "text": [
      "<class 'pandas.core.frame.DataFrame'>\n",
      "DatetimeIndex: 2777 entries, 2014-09-17 00:00:00+00:00 to 2022-04-24 00:00:00+00:00\n",
      "Data columns (total 9 columns):\n",
      " #   Column              Non-Null Count  Dtype  \n",
      "---  ------              --------------  -----  \n",
      " 0   open                2777 non-null   float64\n",
      " 1   high                2777 non-null   float64\n",
      " 2   low                 2777 non-null   float64\n",
      " 3   close               2777 non-null   float64\n",
      " 4   volume              2777 non-null   int64  \n",
      " 5   fwd_log_ret         2777 non-null   float64\n",
      " 6   fwd_ret             2777 non-null   float64\n",
      " 7   fwd_pct_chg         2777 non-null   float64\n",
      " 8   fwd_close_positive  2777 non-null   bool   \n",
      "dtypes: bool(1), float64(7), int64(1)\n",
      "memory usage: 198.0 KB\n",
      "<class 'pandas.core.frame.DataFrame'>\n",
      "DatetimeIndex: 30 entries, 2022-04-25 00:00:00+00:00 to 2022-05-24 00:00:00+00:00\n",
      "Data columns (total 9 columns):\n",
      " #   Column              Non-Null Count  Dtype  \n",
      "---  ------              --------------  -----  \n",
      " 0   open                30 non-null     float64\n",
      " 1   high                30 non-null     float64\n",
      " 2   low                 30 non-null     float64\n",
      " 3   close               30 non-null     float64\n",
      " 4   volume              30 non-null     int64  \n",
      " 5   fwd_log_ret         30 non-null     float64\n",
      " 6   fwd_ret             30 non-null     float64\n",
      " 7   fwd_pct_chg         30 non-null     float64\n",
      " 8   fwd_close_positive  30 non-null     bool   \n",
      "dtypes: bool(1), float64(7), int64(1)\n",
      "memory usage: 2.1 KB\n"
     ]
    },
    {
     "data": {
      "text/plain": [
       "(None, None)"
      ]
     },
     "execution_count": 10,
     "metadata": {},
     "output_type": "execute_result"
    }
   ],
   "source": [
    "train_ii, test=split_ii(df)\n",
    "train_ii.info(),test.info()\n"
   ]
  },
  {
   "cell_type": "code",
   "execution_count": 11,
   "metadata": {},
   "outputs": [
    {
     "data": {
      "text/plain": [
       "4.17316149094532"
      ]
     },
     "execution_count": 11,
     "metadata": {},
     "output_type": "execute_result"
    }
   ],
   "source": [
    "df.fwd_log_ret.sum()"
   ]
  },
  {
   "cell_type": "code",
   "execution_count": 12,
   "metadata": {},
   "outputs": [
    {
     "data": {
      "text/plain": [
       "29198.251923"
      ]
     },
     "execution_count": 12,
     "metadata": {},
     "output_type": "execute_result"
    }
   ],
   "source": [
    "df.close[-1]-df.close[0]\n",
    "\n",
    "# this is ROI if you bought 1 btc in 2014-09-17 and sold in 2022-05-24"
   ]
  },
  {
   "cell_type": "code",
   "execution_count": 13,
   "metadata": {},
   "outputs": [
    {
     "data": {
      "text/plain": [
       "datetime.date(2014, 9, 17)"
      ]
     },
     "execution_count": 13,
     "metadata": {},
     "output_type": "execute_result"
    }
   ],
   "source": [
    "df.index[0].date()"
   ]
  },
  {
   "cell_type": "code",
   "execution_count": 14,
   "metadata": {},
   "outputs": [],
   "source": [
    "def macd_df(df):\n",
    "\t'''\n",
    "\tmacd encoder\n",
    "\t'''\n",
    "\tmacd, signal, histo = talib.MACD(df.close,fastperiod=12, slowperiod=26, signalperiod=9)\n",
    "\tmac=pd.concat([df,macd,signal,histo],axis=1)\n",
    "\tmac=mac.rename(columns={0:'macd',1:'signal',2:'histo'})\n",
    "\tmac=mac.drop(mac[mac.index<'2014-10-20'].index)\n",
    "\tmac=mac.fillna(0)\n",
    "\tcools=mac.histo>0\n",
    "\tstart=cools[0]\n",
    "\tnot_list=[]\n",
    "\n",
    "\tfor x in cools:\n",
    "\t\tif x:\n",
    "\t\t\tnot_list.append(1)\n",
    "\t\telse:\n",
    "\t\t\tnot_list.append(0)\n",
    "\n",
    "\tnot_list=pd.Series(not_list, index=mac.index)\n",
    "\tbools=mac.macd>mac.signal\n",
    "\tyesterday=bools[0]\n",
    "\tlist=[]\n",
    "\n",
    "\tfor today in bools:\n",
    "\t\tif today==yesterday:\n",
    "\t\t\tlist.append(0)\n",
    "\t\t\tcontinue\n",
    "\t\telse:\n",
    "\t\t\tlist.append(1)\n",
    "\t\t\tyesterday=today\n",
    "\n",
    "\tlist=pd.Series(list, index=mac.index)\n",
    "\n",
    "\t# crossover indicator\n",
    "\tmacker=pd.concat([mac.close,list,not_list],axis=1)\n",
    "\tmacker=macker.rename({0:'cross',1:'histy'},axis=1)\n",
    "\n",
    "\treturn macker, mac\n",
    "\n",
    "macker, mac=macd_df(df)"
   ]
  },
  {
   "cell_type": "code",
   "execution_count": 15,
   "metadata": {},
   "outputs": [],
   "source": [
    "def macd_roi(df):\n",
    "\tbuy=[]\n",
    "\tsell=[]\n",
    "\tfor i in df.index:\n",
    "\t\tif df.loc[i].cross > 0:\n",
    "\t\t\tif df.loc[i].histy > 0:\n",
    "\t\t\t\tbuy.append(df.loc[i].close)\n",
    "\t\t\t\tsell.append(0)\n",
    "\t\t\telse:\n",
    "\t\t\t\tbuy.append(0)\n",
    "\t\t\t\tsell.append(df.loc[i].close)\n",
    "\t\telse:\n",
    "\t\t\tcontinue\n",
    "\treturn buy,sell"
   ]
  },
  {
   "cell_type": "code",
   "execution_count": 16,
   "metadata": {},
   "outputs": [],
   "source": [
    "buy,sell=macd_roi(macker)"
   ]
  },
  {
   "cell_type": "code",
   "execution_count": 17,
   "metadata": {},
   "outputs": [],
   "source": [
    "profits=pd.DataFrame({'buy':buy,'sell':sell})"
   ]
  },
  {
   "cell_type": "code",
   "execution_count": 18,
   "metadata": {},
   "outputs": [],
   "source": [
    "if profits.buy.loc[0] == 0:\n",
    "\tprofits=profits.drop(0)\n",
    "\tprofits.sell=profits.sell.shift(-1)\n",
    "else:\n",
    "\tprofits.sell=profits.sell.shift(-1)"
   ]
  },
  {
   "cell_type": "code",
   "execution_count": 19,
   "metadata": {},
   "outputs": [
    {
     "data": {
      "text/plain": [
       "36491.43405399999"
      ]
     },
     "execution_count": 19,
     "metadata": {},
     "output_type": "execute_result"
    }
   ],
   "source": [
    "(profits.sell-profits.buy).sum()"
   ]
  },
  {
   "cell_type": "code",
   "execution_count": 20,
   "metadata": {},
   "outputs": [
    {
     "data": {
      "image/png": "[encoded data removed]",
      "text/plain": [
       "<Figure size 1296x864 with 1 Axes>"
      ]
     },
     "metadata": {
      "needs_background": "light"
     },
     "output_type": "display_data"
    }
   ],
   "source": [
    "plt.figure(figsize=[18,12])\n",
    "mac.macd.tail(500).plot()\n",
    "mac.signal.tail(500).plot()\n",
    "plt.stem(mac.index[-500:],mac['histo'].tail(500),linefmt='silver',markerfmt='w,')\n",
    "_=macker[(macker.cross==1)&(macker.histy==1)].tail(500)\n",
    "plt.scatter(y=_.close,x=_.index,c='green')\n",
    "_=macker[(macker.cross==1)&(macker.histy==0)].tail(500)\n",
    "plt.scatter(y=_.close,x=_.index,c='red')\n",
    "macker.close.tail(500).plot(color='blue')\n",
    "plt.show()\n",
    "\n",
    "\n",
    "#wip\n"
   ]
  },
  {
   "cell_type": "code",
   "execution_count": 21,
   "metadata": {},
   "outputs": [
    {
     "name": "stdout",
     "output_type": "stream",
     "text": [
      "cached csv\n"
     ]
    }
   ],
   "source": [
    "df = wrangle.wrangle_df()"
   ]
  },
  {
   "cell_type": "code",
   "execution_count": 22,
   "metadata": {},
   "outputs": [
    {
     "name": "stdout",
     "output_type": "stream",
     "text": [
      "<class 'pandas.core.frame.DataFrame'>\n",
      "DatetimeIndex: 2774 entries, 2014-10-20 to 2022-05-24\n",
      "Data columns (total 28 columns):\n",
      " #   Column                        Non-Null Count  Dtype  \n",
      "---  ------                        --------------  -----  \n",
      " 0   open                          2774 non-null   float64\n",
      " 1   high                          2774 non-null   float64\n",
      " 2   low                           2774 non-null   float64\n",
      " 3   close                         2774 non-null   float64\n",
      " 4   volume                        2774 non-null   int64  \n",
      " 5   fwd_log_ret                   2774 non-null   float64\n",
      " 6   fwd_ret                       2774 non-null   float64\n",
      " 7   fwd_pct_chg                   2774 non-null   float64\n",
      " 8   fwd_close_positive            2774 non-null   int64  \n",
      " 9   cross                         2774 non-null   float64\n",
      " 10  histy                         2774 non-null   float64\n",
      " 11  month_9                       2774 non-null   int64  \n",
      " 12  month_10                      2774 non-null   int64  \n",
      " 13  day_20                        2774 non-null   int64  \n",
      " 14  day_1                         2774 non-null   int64  \n",
      " 15  day_9                         2774 non-null   int64  \n",
      " 16  atr_above_threshold_0.01      2774 non-null   bool   \n",
      " 17  atr_above_threshold_0.05      2774 non-null   bool   \n",
      " 18  atr_above_threshold_0.1       2774 non-null   bool   \n",
      " 19  atr_above_threshold_0.2       2774 non-null   bool   \n",
      " 20  atr_above_threshold_0.3       2774 non-null   bool   \n",
      " 21  avg-fees-per-transaction      2774 non-null   float64\n",
      " 22  cost-per-transaction-percent  2774 non-null   float64\n",
      " 23  cost-per-transaction          2774 non-null   float64\n",
      " 24  difficulty                    2774 non-null   float64\n",
      " 25  hash-rate                     2774 non-null   float64\n",
      " 26  miners-revenue                2774 non-null   float64\n",
      " 27  transaction-fees-to-miners    2774 non-null   float64\n",
      "dtypes: bool(5), float64(16), int64(7)\n",
      "memory usage: 533.7 KB\n"
     ]
    }
   ],
   "source": [
    "df.info()"
   ]
  },
  {
   "cell_type": "code",
   "execution_count": 23,
   "metadata": {},
   "outputs": [],
   "source": [
    "X=df[['open', 'high', 'low', 'close', 'volume',  'cross', 'histy', 'month_9', 'month_10', 'day_20', 'day_1', 'day_9', 'atr_above_threshold_0.01', 'atr_above_threshold_0.05', 'atr_above_threshold_0.1', 'atr_above_threshold_0.2', 'atr_above_threshold_0.3', 'avg-fees-per-transaction', 'cost-per-transaction-percent', 'cost-per-transaction', 'difficulty', 'hash-rate', 'miners-revenue', 'transaction-fees-to-miners']]"
   ]
  },
  {
   "cell_type": "code",
   "execution_count": 24,
   "metadata": {},
   "outputs": [],
   "source": [
    "y=df[['fwd_log_ret', 'fwd_ret', 'fwd_pct_chg', 'fwd_close_positive']]"
   ]
  },
  {
   "cell_type": "code",
   "execution_count": 25,
   "metadata": {},
   "outputs": [],
   "source": [
    "X_train, X_val=tidy.split_i(X)"
   ]
  },
  {
   "cell_type": "code",
   "execution_count": 26,
   "metadata": {},
   "outputs": [],
   "source": [
    "y_train, y_val=tidy.split_i(y)"
   ]
  },
  {
   "cell_type": "code",
   "execution_count": 27,
   "metadata": {},
   "outputs": [
    {
     "name": "stderr",
     "output_type": "stream",
     "text": [
      "/var/folders/mk/w2hz4wxx7xn5hr_56wz536gh0000gn/T/ipykernel_59727/3875323173.py:3: SettingWithCopyWarning: \n",
      "A value is trying to be set on a copy of a slice from a DataFrame.\n",
      "Try using .loc[row_indexer,col_indexer] = value instead\n",
      "\n",
      "See the caveats in the documentation: https://pandas.pydata.org/pandas-docs/stable/user_guide/indexing.html#returning-a-view-versus-a-copy\n",
      "  X_train.volume=smaller.astype('float64')\n"
     ]
    }
   ],
   "source": [
    "smaller=X_train.volume.copy()\n",
    "\n",
    "X_train.volume=smaller.astype('float64')"
   ]
  },
  {
   "cell_type": "code",
   "execution_count": 28,
   "metadata": {},
   "outputs": [
    {
     "name": "stderr",
     "output_type": "stream",
     "text": [
      "/var/folders/mk/w2hz4wxx7xn5hr_56wz536gh0000gn/T/ipykernel_59727/1090873265.py:4: SettingWithCopyWarning: \n",
      "A value is trying to be set on a copy of a slice from a DataFrame.\n",
      "Try using .loc[row_indexer,col_indexer] = value instead\n",
      "\n",
      "See the caveats in the documentation: https://pandas.pydata.org/pandas-docs/stable/user_guide/indexing.html#returning-a-view-versus-a-copy\n",
      "  X_train.loc[:,col]=RobustScaler().fit_transform(xs)\n",
      "/var/folders/mk/w2hz4wxx7xn5hr_56wz536gh0000gn/T/ipykernel_59727/1090873265.py:4: SettingWithCopyWarning: \n",
      "A value is trying to be set on a copy of a slice from a DataFrame.\n",
      "Try using .loc[row_indexer,col_indexer] = value instead\n",
      "\n",
      "See the caveats in the documentation: https://pandas.pydata.org/pandas-docs/stable/user_guide/indexing.html#returning-a-view-versus-a-copy\n",
      "  X_train.loc[:,col]=RobustScaler().fit_transform(xs)\n",
      "/var/folders/mk/w2hz4wxx7xn5hr_56wz536gh0000gn/T/ipykernel_59727/1090873265.py:4: SettingWithCopyWarning: \n",
      "A value is trying to be set on a copy of a slice from a DataFrame.\n",
      "Try using .loc[row_indexer,col_indexer] = value instead\n",
      "\n",
      "See the caveats in the documentation: https://pandas.pydata.org/pandas-docs/stable/user_guide/indexing.html#returning-a-view-versus-a-copy\n",
      "  X_train.loc[:,col]=RobustScaler().fit_transform(xs)\n",
      "/var/folders/mk/w2hz4wxx7xn5hr_56wz536gh0000gn/T/ipykernel_59727/1090873265.py:4: SettingWithCopyWarning: \n",
      "A value is trying to be set on a copy of a slice from a DataFrame.\n",
      "Try using .loc[row_indexer,col_indexer] = value instead\n",
      "\n",
      "See the caveats in the documentation: https://pandas.pydata.org/pandas-docs/stable/user_guide/indexing.html#returning-a-view-versus-a-copy\n",
      "  X_train.loc[:,col]=RobustScaler().fit_transform(xs)\n",
      "/var/folders/mk/w2hz4wxx7xn5hr_56wz536gh0000gn/T/ipykernel_59727/1090873265.py:4: SettingWithCopyWarning: \n",
      "A value is trying to be set on a copy of a slice from a DataFrame.\n",
      "Try using .loc[row_indexer,col_indexer] = value instead\n",
      "\n",
      "See the caveats in the documentation: https://pandas.pydata.org/pandas-docs/stable/user_guide/indexing.html#returning-a-view-versus-a-copy\n",
      "  X_train.loc[:,col]=RobustScaler().fit_transform(xs)\n",
      "/var/folders/mk/w2hz4wxx7xn5hr_56wz536gh0000gn/T/ipykernel_59727/1090873265.py:4: SettingWithCopyWarning: \n",
      "A value is trying to be set on a copy of a slice from a DataFrame.\n",
      "Try using .loc[row_indexer,col_indexer] = value instead\n",
      "\n",
      "See the caveats in the documentation: https://pandas.pydata.org/pandas-docs/stable/user_guide/indexing.html#returning-a-view-versus-a-copy\n",
      "  X_train.loc[:,col]=RobustScaler().fit_transform(xs)\n",
      "/var/folders/mk/w2hz4wxx7xn5hr_56wz536gh0000gn/T/ipykernel_59727/1090873265.py:4: SettingWithCopyWarning: \n",
      "A value is trying to be set on a copy of a slice from a DataFrame.\n",
      "Try using .loc[row_indexer,col_indexer] = value instead\n",
      "\n",
      "See the caveats in the documentation: https://pandas.pydata.org/pandas-docs/stable/user_guide/indexing.html#returning-a-view-versus-a-copy\n",
      "  X_train.loc[:,col]=RobustScaler().fit_transform(xs)\n",
      "/var/folders/mk/w2hz4wxx7xn5hr_56wz536gh0000gn/T/ipykernel_59727/1090873265.py:4: SettingWithCopyWarning: \n",
      "A value is trying to be set on a copy of a slice from a DataFrame.\n",
      "Try using .loc[row_indexer,col_indexer] = value instead\n",
      "\n",
      "See the caveats in the documentation: https://pandas.pydata.org/pandas-docs/stable/user_guide/indexing.html#returning-a-view-versus-a-copy\n",
      "  X_train.loc[:,col]=RobustScaler().fit_transform(xs)\n",
      "/var/folders/mk/w2hz4wxx7xn5hr_56wz536gh0000gn/T/ipykernel_59727/1090873265.py:4: SettingWithCopyWarning: \n",
      "A value is trying to be set on a copy of a slice from a DataFrame.\n",
      "Try using .loc[row_indexer,col_indexer] = value instead\n",
      "\n",
      "See the caveats in the documentation: https://pandas.pydata.org/pandas-docs/stable/user_guide/indexing.html#returning-a-view-versus-a-copy\n",
      "  X_train.loc[:,col]=RobustScaler().fit_transform(xs)\n",
      "/var/folders/mk/w2hz4wxx7xn5hr_56wz536gh0000gn/T/ipykernel_59727/1090873265.py:4: SettingWithCopyWarning: \n",
      "A value is trying to be set on a copy of a slice from a DataFrame.\n",
      "Try using .loc[row_indexer,col_indexer] = value instead\n",
      "\n",
      "See the caveats in the documentation: https://pandas.pydata.org/pandas-docs/stable/user_guide/indexing.html#returning-a-view-versus-a-copy\n",
      "  X_train.loc[:,col]=RobustScaler().fit_transform(xs)\n",
      "/var/folders/mk/w2hz4wxx7xn5hr_56wz536gh0000gn/T/ipykernel_59727/1090873265.py:4: SettingWithCopyWarning: \n",
      "A value is trying to be set on a copy of a slice from a DataFrame.\n",
      "Try using .loc[row_indexer,col_indexer] = value instead\n",
      "\n",
      "See the caveats in the documentation: https://pandas.pydata.org/pandas-docs/stable/user_guide/indexing.html#returning-a-view-versus-a-copy\n",
      "  X_train.loc[:,col]=RobustScaler().fit_transform(xs)\n"
     ]
    },
    {
     "name": "stdout",
     "output_type": "stream",
     "text": [
      "open\n",
      "high\n",
      "low\n",
      "close\n",
      "volume\n",
      "cross\n",
      "histy\n",
      "avg-fees-per-transaction\n",
      "cost-per-transaction-percent\n",
      "cost-per-transaction\n",
      "difficulty\n",
      "hash-rate\n",
      "miners-revenue\n",
      "transaction-fees-to-miners\n"
     ]
    },
    {
     "name": "stderr",
     "output_type": "stream",
     "text": [
      "/var/folders/mk/w2hz4wxx7xn5hr_56wz536gh0000gn/T/ipykernel_59727/1090873265.py:4: SettingWithCopyWarning: \n",
      "A value is trying to be set on a copy of a slice from a DataFrame.\n",
      "Try using .loc[row_indexer,col_indexer] = value instead\n",
      "\n",
      "See the caveats in the documentation: https://pandas.pydata.org/pandas-docs/stable/user_guide/indexing.html#returning-a-view-versus-a-copy\n",
      "  X_train.loc[:,col]=RobustScaler().fit_transform(xs)\n",
      "/var/folders/mk/w2hz4wxx7xn5hr_56wz536gh0000gn/T/ipykernel_59727/1090873265.py:4: SettingWithCopyWarning: \n",
      "A value is trying to be set on a copy of a slice from a DataFrame.\n",
      "Try using .loc[row_indexer,col_indexer] = value instead\n",
      "\n",
      "See the caveats in the documentation: https://pandas.pydata.org/pandas-docs/stable/user_guide/indexing.html#returning-a-view-versus-a-copy\n",
      "  X_train.loc[:,col]=RobustScaler().fit_transform(xs)\n",
      "/var/folders/mk/w2hz4wxx7xn5hr_56wz536gh0000gn/T/ipykernel_59727/1090873265.py:4: SettingWithCopyWarning: \n",
      "A value is trying to be set on a copy of a slice from a DataFrame.\n",
      "Try using .loc[row_indexer,col_indexer] = value instead\n",
      "\n",
      "See the caveats in the documentation: https://pandas.pydata.org/pandas-docs/stable/user_guide/indexing.html#returning-a-view-versus-a-copy\n",
      "  X_train.loc[:,col]=RobustScaler().fit_transform(xs)\n"
     ]
    }
   ],
   "source": [
    "for col in X_train.columns:\n",
    "\tif X_train[col].dtype == 'float64':\n",
    "\t\txs=np.array(X_train[[col]]).reshape(-1, 1)\n",
    "\t\tX_train.loc[:,col]=RobustScaler().fit_transform(xs)\n",
    "\t\tprint(col)\n"
   ]
  },
  {
   "cell_type": "code",
   "execution_count": 29,
   "metadata": {},
   "outputs": [
    {
     "data": {
      "text/html": [
       "<div>\n",
       "<style scoped>\n",
       "    .dataframe tbody tr th:only-of-type {\n",
       "        vertical-align: middle;\n",
       "    }\n",
       "\n",
       "    .dataframe tbody tr th {\n",
       "        vertical-align: top;\n",
       "    }\n",
       "\n",
       "    .dataframe thead th {\n",
       "        text-align: right;\n",
       "    }\n",
       "</style>\n",
       "<table border=\"1\" class=\"dataframe\">\n",
       "  <thead>\n",
       "    <tr style=\"text-align: right;\">\n",
       "      <th></th>\n",
       "      <th>open</th>\n",
       "      <th>high</th>\n",
       "      <th>low</th>\n",
       "      <th>close</th>\n",
       "      <th>volume</th>\n",
       "      <th>cross</th>\n",
       "      <th>histy</th>\n",
       "      <th>month_9</th>\n",
       "      <th>month_10</th>\n",
       "      <th>day_20</th>\n",
       "      <th>day_1</th>\n",
       "      <th>day_9</th>\n",
       "      <th>atr_above_threshold_0.01</th>\n",
       "      <th>atr_above_threshold_0.05</th>\n",
       "      <th>atr_above_threshold_0.1</th>\n",
       "      <th>atr_above_threshold_0.2</th>\n",
       "      <th>atr_above_threshold_0.3</th>\n",
       "      <th>avg-fees-per-transaction</th>\n",
       "      <th>cost-per-transaction-percent</th>\n",
       "      <th>cost-per-transaction</th>\n",
       "      <th>difficulty</th>\n",
       "      <th>hash-rate</th>\n",
       "      <th>miners-revenue</th>\n",
       "      <th>transaction-fees-to-miners</th>\n",
       "    </tr>\n",
       "  </thead>\n",
       "  <tbody>\n",
       "    <tr>\n",
       "      <th>2014-10-20</th>\n",
       "      <td>-0.594923</td>\n",
       "      <td>-0.590765</td>\n",
       "      <td>-0.603427</td>\n",
       "      <td>-0.596215</td>\n",
       "      <td>-0.211943</td>\n",
       "      <td>0.0</td>\n",
       "      <td>0.0</td>\n",
       "      <td>0</td>\n",
       "      <td>1</td>\n",
       "      <td>1</td>\n",
       "      <td>0</td>\n",
       "      <td>0</td>\n",
       "      <td>False</td>\n",
       "      <td>False</td>\n",
       "      <td>False</td>\n",
       "      <td>False</td>\n",
       "      <td>False</td>\n",
       "      <td>-0.319844</td>\n",
       "      <td>1.865922</td>\n",
       "      <td>-0.176852</td>\n",
       "      <td>-0.33258</td>\n",
       "      <td>-0.333372</td>\n",
       "      <td>-0.528352</td>\n",
       "      <td>-0.323265</td>\n",
       "    </tr>\n",
       "    <tr>\n",
       "      <th>2014-10-21</th>\n",
       "      <td>-0.595593</td>\n",
       "      <td>-0.590519</td>\n",
       "      <td>-0.603166</td>\n",
       "      <td>-0.595858</td>\n",
       "      <td>-0.212032</td>\n",
       "      <td>0.0</td>\n",
       "      <td>0.0</td>\n",
       "      <td>0</td>\n",
       "      <td>1</td>\n",
       "      <td>0</td>\n",
       "      <td>0</td>\n",
       "      <td>0</td>\n",
       "      <td>False</td>\n",
       "      <td>False</td>\n",
       "      <td>False</td>\n",
       "      <td>False</td>\n",
       "      <td>False</td>\n",
       "      <td>-0.319401</td>\n",
       "      <td>1.865922</td>\n",
       "      <td>-0.253825</td>\n",
       "      <td>-0.33258</td>\n",
       "      <td>-0.333372</td>\n",
       "      <td>-0.518958</td>\n",
       "      <td>-0.321070</td>\n",
       "    </tr>\n",
       "    <tr>\n",
       "      <th>2014-10-22</th>\n",
       "      <td>-0.595229</td>\n",
       "      <td>-0.590910</td>\n",
       "      <td>-0.603022</td>\n",
       "      <td>-0.596184</td>\n",
       "      <td>-0.212133</td>\n",
       "      <td>0.0</td>\n",
       "      <td>0.0</td>\n",
       "      <td>0</td>\n",
       "      <td>1</td>\n",
       "      <td>0</td>\n",
       "      <td>0</td>\n",
       "      <td>0</td>\n",
       "      <td>False</td>\n",
       "      <td>False</td>\n",
       "      <td>False</td>\n",
       "      <td>False</td>\n",
       "      <td>False</td>\n",
       "      <td>-0.319401</td>\n",
       "      <td>1.865922</td>\n",
       "      <td>-0.253825</td>\n",
       "      <td>-0.33258</td>\n",
       "      <td>-0.332771</td>\n",
       "      <td>-0.518958</td>\n",
       "      <td>-0.321070</td>\n",
       "    </tr>\n",
       "    <tr>\n",
       "      <th>2014-10-23</th>\n",
       "      <td>-0.595539</td>\n",
       "      <td>-0.591249</td>\n",
       "      <td>-0.605638</td>\n",
       "      <td>-0.598620</td>\n",
       "      <td>-0.211542</td>\n",
       "      <td>0.0</td>\n",
       "      <td>0.0</td>\n",
       "      <td>0</td>\n",
       "      <td>1</td>\n",
       "      <td>0</td>\n",
       "      <td>0</td>\n",
       "      <td>0</td>\n",
       "      <td>False</td>\n",
       "      <td>False</td>\n",
       "      <td>False</td>\n",
       "      <td>False</td>\n",
       "      <td>False</td>\n",
       "      <td>-0.319401</td>\n",
       "      <td>1.568939</td>\n",
       "      <td>-0.253825</td>\n",
       "      <td>-0.33258</td>\n",
       "      <td>-0.332771</td>\n",
       "      <td>-0.518958</td>\n",
       "      <td>-0.321070</td>\n",
       "    </tr>\n",
       "    <tr>\n",
       "      <th>2014-10-24</th>\n",
       "      <td>-0.597937</td>\n",
       "      <td>-0.593238</td>\n",
       "      <td>-0.605957</td>\n",
       "      <td>-0.598627</td>\n",
       "      <td>-0.211976</td>\n",
       "      <td>0.0</td>\n",
       "      <td>0.0</td>\n",
       "      <td>0</td>\n",
       "      <td>1</td>\n",
       "      <td>0</td>\n",
       "      <td>0</td>\n",
       "      <td>0</td>\n",
       "      <td>False</td>\n",
       "      <td>False</td>\n",
       "      <td>False</td>\n",
       "      <td>False</td>\n",
       "      <td>False</td>\n",
       "      <td>-0.321155</td>\n",
       "      <td>1.568939</td>\n",
       "      <td>-0.277610</td>\n",
       "      <td>-0.33258</td>\n",
       "      <td>-0.332771</td>\n",
       "      <td>-0.537035</td>\n",
       "      <td>-0.322373</td>\n",
       "    </tr>\n",
       "  </tbody>\n",
       "</table>\n",
       "</div>"
      ],
      "text/plain": [
       "                open      high       low     close    volume  cross  histy  \\\n",
       "2014-10-20 -0.594923 -0.590765 -0.603427 -0.596215 -0.211943    0.0    0.0   \n",
       "2014-10-21 -0.595593 -0.590519 -0.603166 -0.595858 -0.212032    0.0    0.0   \n",
       "2014-10-22 -0.595229 -0.590910 -0.603022 -0.596184 -0.212133    0.0    0.0   \n",
       "2014-10-23 -0.595539 -0.591249 -0.605638 -0.598620 -0.211542    0.0    0.0   \n",
       "2014-10-24 -0.597937 -0.593238 -0.605957 -0.598627 -0.211976    0.0    0.0   \n",
       "\n",
       "            month_9  month_10  day_20  day_1  day_9  atr_above_threshold_0.01  \\\n",
       "2014-10-20        0         1       1      0      0                     False   \n",
       "2014-10-21        0         1       0      0      0                     False   \n",
       "2014-10-22        0         1       0      0      0                     False   \n",
       "2014-10-23        0         1       0      0      0                     False   \n",
       "2014-10-24        0         1       0      0      0                     False   \n",
       "\n",
       "            atr_above_threshold_0.05  atr_above_threshold_0.1  \\\n",
       "2014-10-20                     False                    False   \n",
       "2014-10-21                     False                    False   \n",
       "2014-10-22                     False                    False   \n",
       "2014-10-23                     False                    False   \n",
       "2014-10-24                     False                    False   \n",
       "\n",
       "            atr_above_threshold_0.2  atr_above_threshold_0.3  \\\n",
       "2014-10-20                    False                    False   \n",
       "2014-10-21                    False                    False   \n",
       "2014-10-22                    False                    False   \n",
       "2014-10-23                    False                    False   \n",
       "2014-10-24                    False                    False   \n",
       "\n",
       "            avg-fees-per-transaction  cost-per-transaction-percent  \\\n",
       "2014-10-20                 -0.319844                      1.865922   \n",
       "2014-10-21                 -0.319401                      1.865922   \n",
       "2014-10-22                 -0.319401                      1.865922   \n",
       "2014-10-23                 -0.319401                      1.568939   \n",
       "2014-10-24                 -0.321155                      1.568939   \n",
       "\n",
       "            cost-per-transaction  difficulty  hash-rate  miners-revenue  \\\n",
       "2014-10-20             -0.176852    -0.33258  -0.333372       -0.528352   \n",
       "2014-10-21             -0.253825    -0.33258  -0.333372       -0.518958   \n",
       "2014-10-22             -0.253825    -0.33258  -0.332771       -0.518958   \n",
       "2014-10-23             -0.253825    -0.33258  -0.332771       -0.518958   \n",
       "2014-10-24             -0.277610    -0.33258  -0.332771       -0.537035   \n",
       "\n",
       "            transaction-fees-to-miners  \n",
       "2014-10-20                   -0.323265  \n",
       "2014-10-21                   -0.321070  \n",
       "2014-10-22                   -0.321070  \n",
       "2014-10-23                   -0.321070  \n",
       "2014-10-24                   -0.322373  "
      ]
     },
     "execution_count": 29,
     "metadata": {},
     "output_type": "execute_result"
    }
   ],
   "source": [
    "X_train.head()"
   ]
  },
  {
   "cell_type": "code",
   "execution_count": 30,
   "metadata": {},
   "outputs": [],
   "source": [
    "db = DBSCAN(eps=0.3, min_samples=10).fit(X_train)\n",
    "core_samples_mask = np.zeros_like(db.labels_, dtype=bool)\n",
    "core_samples_mask[db.core_sample_indices_] = True\n",
    "labels = db.labels_\n"
   ]
  },
  {
   "cell_type": "code",
   "execution_count": 31,
   "metadata": {},
   "outputs": [],
   "source": [
    "\n",
    "centers = [[1, 1], [-1, -1], [1, -1]]\n",
    "X, labels_true = make_blobs(\n",
    "    n_samples=750, centers=centers, cluster_std=0.4, random_state=0\n",
    ")\n",
    "\n",
    "X = StandardScaler().fit_transform(X)"
   ]
  },
  {
   "cell_type": "code",
   "execution_count": 32,
   "metadata": {},
   "outputs": [
    {
     "data": {
      "text/html": [
       "<div>\n",
       "<style scoped>\n",
       "    .dataframe tbody tr th:only-of-type {\n",
       "        vertical-align: middle;\n",
       "    }\n",
       "\n",
       "    .dataframe tbody tr th {\n",
       "        vertical-align: top;\n",
       "    }\n",
       "\n",
       "    .dataframe thead th {\n",
       "        text-align: right;\n",
       "    }\n",
       "</style>\n",
       "<table border=\"1\" class=\"dataframe\">\n",
       "  <thead>\n",
       "    <tr style=\"text-align: right;\">\n",
       "      <th></th>\n",
       "      <th>fwd_log_ret</th>\n",
       "      <th>fwd_ret</th>\n",
       "      <th>fwd_pct_chg</th>\n",
       "      <th>fwd_close_positive</th>\n",
       "    </tr>\n",
       "  </thead>\n",
       "  <tbody>\n",
       "    <tr>\n",
       "      <th>2014-10-20</th>\n",
       "      <td>0.009437</td>\n",
       "      <td>3.630005</td>\n",
       "      <td>0.009482</td>\n",
       "      <td>1</td>\n",
       "    </tr>\n",
       "    <tr>\n",
       "      <th>2014-10-21</th>\n",
       "      <td>-0.008620</td>\n",
       "      <td>-3.317016</td>\n",
       "      <td>-0.008583</td>\n",
       "      <td>0</td>\n",
       "    </tr>\n",
       "    <tr>\n",
       "      <th>2014-10-22</th>\n",
       "      <td>-0.066750</td>\n",
       "      <td>-24.740998</td>\n",
       "      <td>-0.064571</td>\n",
       "      <td>0</td>\n",
       "    </tr>\n",
       "    <tr>\n",
       "      <th>2014-10-23</th>\n",
       "      <td>-0.000201</td>\n",
       "      <td>-0.071991</td>\n",
       "      <td>-0.000201</td>\n",
       "      <td>0</td>\n",
       "    </tr>\n",
       "    <tr>\n",
       "      <th>2014-10-24</th>\n",
       "      <td>-0.031391</td>\n",
       "      <td>-11.074005</td>\n",
       "      <td>-0.030903</td>\n",
       "      <td>0</td>\n",
       "    </tr>\n",
       "  </tbody>\n",
       "</table>\n",
       "</div>"
      ],
      "text/plain": [
       "            fwd_log_ret    fwd_ret  fwd_pct_chg  fwd_close_positive\n",
       "2014-10-20     0.009437   3.630005     0.009482                   1\n",
       "2014-10-21    -0.008620  -3.317016    -0.008583                   0\n",
       "2014-10-22    -0.066750 -24.740998    -0.064571                   0\n",
       "2014-10-23    -0.000201  -0.071991    -0.000201                   0\n",
       "2014-10-24    -0.031391 -11.074005    -0.030903                   0"
      ]
     },
     "execution_count": 32,
     "metadata": {},
     "output_type": "execute_result"
    }
   ],
   "source": [
    "y_train.head()"
   ]
  },
  {
   "cell_type": "code",
   "execution_count": 33,
   "metadata": {},
   "outputs": [
    {
     "name": "stdout",
     "output_type": "stream",
     "text": [
      "Estimated number of clusters: 16\n",
      "Estimated number of noise points: 2058\n",
      "Homogeneity: 0.005\n",
      "Completeness: 0.004\n",
      "V-measure: 0.004\n",
      "Adjusted Rand Index: -0.003\n",
      "Adjusted Mutual Information: 0.001\n",
      "Silhouette Coefficient: -0.275\n"
     ]
    }
   ],
   "source": [
    "\n",
    "# Number of clusters in labels, ignoring noise if present.\n",
    "n_clusters_ = len(set(labels)) - (1 if -1 in labels else 0)\n",
    "n_noise_ = list(labels).count(-1)\n",
    "\n",
    "print(\"Estimated number of clusters: %d\" % n_clusters_)\n",
    "print(\"Estimated number of noise points: %d\" % n_noise_)\n",
    "print(\"Homogeneity: %0.3f\" % metrics.homogeneity_score(y_train.fwd_close_positive, labels))\n",
    "print(\"Completeness: %0.3f\" % metrics.completeness_score(y_train.fwd_close_positive, labels))\n",
    "print(\"V-measure: %0.3f\" % metrics.v_measure_score(y_train.fwd_close_positive, labels))\n",
    "print(\"Adjusted Rand Index: %0.3f\" % metrics.adjusted_rand_score(y_train.fwd_close_positive, labels))\n",
    "print(\n",
    "    \"Adjusted Mutual Information: %0.3f\"\n",
    "    % metrics.adjusted_mutual_info_score(y_train.fwd_close_positive, labels)\n",
    ")\n",
    "print(\"Silhouette Coefficient: %0.3f\" % metrics.silhouette_score(X_train, labels))"
   ]
  },
  {
   "cell_type": "code",
   "execution_count": 34,
   "metadata": {},
   "outputs": [
    {
     "data": {
      "text/plain": [
       "array([], shape=(0, 1), dtype=int64)"
      ]
     },
     "execution_count": 34,
     "metadata": {},
     "output_type": "execute_result"
    }
   ],
   "source": [
    "np.argwhere(np.isnan(labels))"
   ]
  },
  {
   "cell_type": "code",
   "execution_count": 35,
   "metadata": {},
   "outputs": [],
   "source": [
    "labels=pd.DataFrame(labels,columns=['clust'],dtype='int',index=X_train.index)"
   ]
  },
  {
   "cell_type": "code",
   "execution_count": 36,
   "metadata": {},
   "outputs": [
    {
     "name": "stdout",
     "output_type": "stream",
     "text": [
      "<class 'pandas.core.frame.DataFrame'>\n",
      "DatetimeIndex: 2711 entries, 2014-10-20 to 2022-03-22\n",
      "Data columns (total 1 columns):\n",
      " #   Column  Non-Null Count  Dtype\n",
      "---  ------  --------------  -----\n",
      " 0   clust   2711 non-null   int64\n",
      "dtypes: int64(1)\n",
      "memory usage: 42.4 KB\n"
     ]
    }
   ],
   "source": [
    "labels.info()"
   ]
  },
  {
   "cell_type": "code",
   "execution_count": 37,
   "metadata": {},
   "outputs": [
    {
     "data": {
      "text/plain": [
       "numpy.int64"
      ]
     },
     "execution_count": 37,
     "metadata": {},
     "output_type": "execute_result"
    }
   ],
   "source": [
    "type(labels.clust.iloc[0])"
   ]
  },
  {
   "cell_type": "code",
   "execution_count": 38,
   "metadata": {},
   "outputs": [
    {
     "data": {
      "text/plain": [
       "numpy.float64"
      ]
     },
     "execution_count": 38,
     "metadata": {},
     "output_type": "execute_result"
    }
   ],
   "source": [
    "type(X_train.open.iloc[0])"
   ]
  },
  {
   "cell_type": "code",
   "execution_count": 39,
   "metadata": {},
   "outputs": [
    {
     "name": "stdout",
     "output_type": "stream",
     "text": [
      "<class 'pandas.core.frame.DataFrame'>\n",
      "DatetimeIndex: 2711 entries, 2014-10-20 to 2022-03-22\n",
      "Data columns (total 24 columns):\n",
      " #   Column                        Non-Null Count  Dtype  \n",
      "---  ------                        --------------  -----  \n",
      " 0   open                          2711 non-null   float64\n",
      " 1   high                          2711 non-null   float64\n",
      " 2   low                           2711 non-null   float64\n",
      " 3   close                         2711 non-null   float64\n",
      " 4   volume                        2711 non-null   float64\n",
      " 5   cross                         2711 non-null   float64\n",
      " 6   histy                         2711 non-null   float64\n",
      " 7   month_9                       2711 non-null   int64  \n",
      " 8   month_10                      2711 non-null   int64  \n",
      " 9   day_20                        2711 non-null   int64  \n",
      " 10  day_1                         2711 non-null   int64  \n",
      " 11  day_9                         2711 non-null   int64  \n",
      " 12  atr_above_threshold_0.01      2711 non-null   bool   \n",
      " 13  atr_above_threshold_0.05      2711 non-null   bool   \n",
      " 14  atr_above_threshold_0.1       2711 non-null   bool   \n",
      " 15  atr_above_threshold_0.2       2711 non-null   bool   \n",
      " 16  atr_above_threshold_0.3       2711 non-null   bool   \n",
      " 17  avg-fees-per-transaction      2711 non-null   float64\n",
      " 18  cost-per-transaction-percent  2711 non-null   float64\n",
      " 19  cost-per-transaction          2711 non-null   float64\n",
      " 20  difficulty                    2711 non-null   float64\n",
      " 21  hash-rate                     2711 non-null   float64\n",
      " 22  miners-revenue                2711 non-null   float64\n",
      " 23  transaction-fees-to-miners    2711 non-null   float64\n",
      "dtypes: bool(5), float64(14), int64(5)\n",
      "memory usage: 436.8 KB\n"
     ]
    }
   ],
   "source": [
    "X_train.info()"
   ]
  },
  {
   "cell_type": "code",
   "execution_count": 40,
   "metadata": {},
   "outputs": [],
   "source": [
    "X_train=pd.concat([X_train,labels],axis=1)"
   ]
  },
  {
   "cell_type": "code",
   "execution_count": 41,
   "metadata": {},
   "outputs": [],
   "source": [
    "xt=X_train.loc['2018':'2021']"
   ]
  },
  {
   "cell_type": "code",
   "execution_count": 42,
   "metadata": {},
   "outputs": [
    {
     "data": {
      "text/plain": [
       "<seaborn.axisgrid.FacetGrid at 0x7fd8c1d2b1c0>"
      ]
     },
     "execution_count": 42,
     "metadata": {},
     "output_type": "execute_result"
    },
    {
     "data": {
      "image/png": "[encoded data removed]",
      "text/plain": [
       "<Figure size 408.75x360 with 1 Axes>"
      ]
     },
     "metadata": {
      "needs_background": "light"
     },
     "output_type": "display_data"
    }
   ],
   "source": [
    "sns.relplot(x=X_train.loc['2018':'2021'].index, y=X_train.loc['2018':'2021'].close, hue=X_train.loc['2018':'2021'].clust)"
   ]
  },
  {
   "cell_type": "code",
   "execution_count": 43,
   "metadata": {},
   "outputs": [],
   "source": [
    "def fbp_clean(df):\n",
    "\t'''\n",
    "\ttakes in binance candlestick data and cleans it for facebook prophet. df must have datetime index and a column labled \"close\". helps if \"close\" has close prices for a crypto trading pair.\n",
    "\t'''\n",
    "\tdf=df.close\n",
    "\tdf=df.reset_index()\n",
    "\tdf=df.rename(columns={'close':'y','index':'ds'})\n",
    "\tdf.ds=df.ds.dt.to_period('S')\n",
    "\tdf.ds=df.ds.astype(str)\n",
    "\tdf.ds=pd.to_datetime(df.ds)\n",
    "\treturn df"
   ]
  },
  {
   "cell_type": "code",
   "execution_count": 44,
   "metadata": {},
   "outputs": [],
   "source": [
    "fbp=fbp_clean(X_train)"
   ]
  },
  {
   "cell_type": "code",
   "execution_count": 45,
   "metadata": {},
   "outputs": [
    {
     "data": {
      "text/html": [
       "<div>\n",
       "<style scoped>\n",
       "    .dataframe tbody tr th:only-of-type {\n",
       "        vertical-align: middle;\n",
       "    }\n",
       "\n",
       "    .dataframe tbody tr th {\n",
       "        vertical-align: top;\n",
       "    }\n",
       "\n",
       "    .dataframe thead th {\n",
       "        text-align: right;\n",
       "    }\n",
       "</style>\n",
       "<table border=\"1\" class=\"dataframe\">\n",
       "  <thead>\n",
       "    <tr style=\"text-align: right;\">\n",
       "      <th></th>\n",
       "      <th>ds</th>\n",
       "      <th>y</th>\n",
       "    </tr>\n",
       "  </thead>\n",
       "  <tbody>\n",
       "    <tr>\n",
       "      <th>0</th>\n",
       "      <td>2014-10-20</td>\n",
       "      <td>-0.596215</td>\n",
       "    </tr>\n",
       "    <tr>\n",
       "      <th>1</th>\n",
       "      <td>2014-10-21</td>\n",
       "      <td>-0.595858</td>\n",
       "    </tr>\n",
       "    <tr>\n",
       "      <th>2</th>\n",
       "      <td>2014-10-22</td>\n",
       "      <td>-0.596184</td>\n",
       "    </tr>\n",
       "    <tr>\n",
       "      <th>3</th>\n",
       "      <td>2014-10-23</td>\n",
       "      <td>-0.598620</td>\n",
       "    </tr>\n",
       "    <tr>\n",
       "      <th>4</th>\n",
       "      <td>2014-10-24</td>\n",
       "      <td>-0.598627</td>\n",
       "    </tr>\n",
       "  </tbody>\n",
       "</table>\n",
       "</div>"
      ],
      "text/plain": [
       "          ds         y\n",
       "0 2014-10-20 -0.596215\n",
       "1 2014-10-21 -0.595858\n",
       "2 2014-10-22 -0.596184\n",
       "3 2014-10-23 -0.598620\n",
       "4 2014-10-24 -0.598627"
      ]
     },
     "execution_count": 45,
     "metadata": {},
     "output_type": "execute_result"
    }
   ],
   "source": [
    "fbp.head()"
   ]
  },
  {
   "cell_type": "code",
   "execution_count": 47,
   "metadata": {},
   "outputs": [
    {
     "name": "stderr",
     "output_type": "stream",
     "text": [
      "INFO:prophet:Disabling daily seasonality. Run prophet with daily_seasonality=True to override this.\n",
      "/usr/local/anaconda3/lib/python3.9/site-packages/prophet/forecaster.py:896: FutureWarning: The frame.append method is deprecated and will be removed from pandas in a future version. Use pandas.concat instead.\n",
      "  components = components.append(new_comp)\n"
     ]
    },
    {
     "name": "stdout",
     "output_type": "stream",
     "text": [
      "Initial log joint probability = -74.9702\n"
     ]
    },
    {
     "data": {
      "text/plain": [
       "<prophet.forecaster.Prophet at 0x7fd8b14ab700>"
      ]
     },
     "execution_count": 47,
     "metadata": {},
     "output_type": "execute_result"
    },
    {
     "name": "stdout",
     "output_type": "stream",
     "text": [
      "    Iter      log prob        ||dx||      ||grad||       alpha      alpha0  # evals  Notes \n",
      "      99       4894.82    0.00319556        234.24      0.1782      0.1782      124   \n",
      "    Iter      log prob        ||dx||      ||grad||       alpha      alpha0  # evals  Notes \n",
      "     199       4910.39    0.00145394       190.703      0.4611      0.4611      248   \n",
      "    Iter      log prob        ||dx||      ||grad||       alpha      alpha0  # evals  Notes \n",
      "     299       4913.62    0.00744181       100.523       2.399      0.4115      375   \n",
      "    Iter      log prob        ||dx||      ||grad||       alpha      alpha0  # evals  Notes \n",
      "     323       4914.44   0.000293037        123.55   3.093e-06       0.001      451  LS failed, Hessian reset \n",
      "     399        4915.3   0.000310512       69.6713           1           1      546   \n",
      "    Iter      log prob        ||dx||      ||grad||       alpha      alpha0  # evals  Notes \n",
      "     499       4915.57   0.000765902       80.6193           1           1      660   \n",
      "    Iter      log prob        ||dx||      ||grad||       alpha      alpha0  # evals  Notes \n",
      "     599       4916.97   0.000594704       79.4745      0.4879      0.4879      790   \n",
      "    Iter      log prob        ||dx||      ||grad||       alpha      alpha0  # evals  Notes \n",
      "     628       4917.45    0.00306438       167.272   2.895e-05       0.001      862  LS failed, Hessian reset \n",
      "     699       4917.97   0.000130855       55.6515      0.6882      0.6882      950   \n",
      "    Iter      log prob        ||dx||      ||grad||       alpha      alpha0  # evals  Notes \n",
      "     752       4918.08   0.000236045       95.3901   2.852e-06       0.001     1055  LS failed, Hessian reset \n",
      "     799       4918.12    0.00209789        96.864      0.3826           1     1107   \n",
      "    Iter      log prob        ||dx||      ||grad||       alpha      alpha0  # evals  Notes \n",
      "     899       4918.39   0.000319516       73.7386           1           1     1236   \n",
      "    Iter      log prob        ||dx||      ||grad||       alpha      alpha0  # evals  Notes \n",
      "     919       4920.96    0.00070982       197.918   6.274e-06       0.001     1363  LS failed, Hessian reset \n",
      "     999       4925.24   0.000189323       63.3098      0.7064      0.7064     1467   \n",
      "    Iter      log prob        ||dx||      ||grad||       alpha      alpha0  # evals  Notes \n",
      "    1099       4925.47   9.27137e-06       62.8225      0.7358      0.7358     1589   \n",
      "    Iter      log prob        ||dx||      ||grad||       alpha      alpha0  # evals  Notes \n",
      "    1114       4925.47   6.20488e-06       72.4163   9.517e-08       0.001     1644  LS failed, Hessian reset \n",
      "    1124       4925.47   1.75916e-07        55.993      0.2246           1     1659   \n",
      "Optimization terminated normally: \n",
      "  Convergence detected: relative gradient magnitude is below tolerance\n"
     ]
    }
   ],
   "source": [
    "m = Prophet()\n",
    "# make the thing\n",
    "\n",
    "m.fit(fbp)\n",
    "# fit the thing"
   ]
  },
  {
   "cell_type": "code",
   "execution_count": 48,
   "metadata": {},
   "outputs": [
    {
     "data": {
      "text/html": [
       "<div>\n",
       "<style scoped>\n",
       "    .dataframe tbody tr th:only-of-type {\n",
       "        vertical-align: middle;\n",
       "    }\n",
       "\n",
       "    .dataframe tbody tr th {\n",
       "        vertical-align: top;\n",
       "    }\n",
       "\n",
       "    .dataframe thead th {\n",
       "        text-align: right;\n",
       "    }\n",
       "</style>\n",
       "<table border=\"1\" class=\"dataframe\">\n",
       "  <thead>\n",
       "    <tr style=\"text-align: right;\">\n",
       "      <th></th>\n",
       "      <th>ds</th>\n",
       "    </tr>\n",
       "  </thead>\n",
       "  <tbody>\n",
       "    <tr>\n",
       "      <th>2736</th>\n",
       "      <td>2022-04-17</td>\n",
       "    </tr>\n",
       "    <tr>\n",
       "      <th>2737</th>\n",
       "      <td>2022-04-18</td>\n",
       "    </tr>\n",
       "    <tr>\n",
       "      <th>2738</th>\n",
       "      <td>2022-04-19</td>\n",
       "    </tr>\n",
       "    <tr>\n",
       "      <th>2739</th>\n",
       "      <td>2022-04-20</td>\n",
       "    </tr>\n",
       "    <tr>\n",
       "      <th>2740</th>\n",
       "      <td>2022-04-21</td>\n",
       "    </tr>\n",
       "  </tbody>\n",
       "</table>\n",
       "</div>"
      ],
      "text/plain": [
       "             ds\n",
       "2736 2022-04-17\n",
       "2737 2022-04-18\n",
       "2738 2022-04-19\n",
       "2739 2022-04-20\n",
       "2740 2022-04-21"
      ]
     },
     "execution_count": 48,
     "metadata": {},
     "output_type": "execute_result"
    }
   ],
   "source": [
    "future = m.make_future_dataframe(periods=30)\n",
    "future.tail()\n"
   ]
  },
  {
   "cell_type": "code",
   "execution_count": 49,
   "metadata": {},
   "outputs": [
    {
     "name": "stderr",
     "output_type": "stream",
     "text": [
      "/usr/local/anaconda3/lib/python3.9/site-packages/prophet/forecaster.py:896: FutureWarning: The frame.append method is deprecated and will be removed from pandas in a future version. Use pandas.concat instead.\n",
      "  components = components.append(new_comp)\n",
      "/usr/local/anaconda3/lib/python3.9/site-packages/prophet/forecaster.py:896: FutureWarning: The frame.append method is deprecated and will be removed from pandas in a future version. Use pandas.concat instead.\n",
      "  components = components.append(new_comp)\n"
     ]
    },
    {
     "data": {
      "text/html": [
       "<div>\n",
       "<style scoped>\n",
       "    .dataframe tbody tr th:only-of-type {\n",
       "        vertical-align: middle;\n",
       "    }\n",
       "\n",
       "    .dataframe tbody tr th {\n",
       "        vertical-align: top;\n",
       "    }\n",
       "\n",
       "    .dataframe thead th {\n",
       "        text-align: right;\n",
       "    }\n",
       "</style>\n",
       "<table border=\"1\" class=\"dataframe\">\n",
       "  <thead>\n",
       "    <tr style=\"text-align: right;\">\n",
       "      <th></th>\n",
       "      <th>ds</th>\n",
       "      <th>yhat</th>\n",
       "      <th>yhat_lower</th>\n",
       "      <th>yhat_upper</th>\n",
       "    </tr>\n",
       "  </thead>\n",
       "  <tbody>\n",
       "    <tr>\n",
       "      <th>2736</th>\n",
       "      <td>2022-04-17</td>\n",
       "      <td>5.501087</td>\n",
       "      <td>4.791240</td>\n",
       "      <td>6.226199</td>\n",
       "    </tr>\n",
       "    <tr>\n",
       "      <th>2737</th>\n",
       "      <td>2022-04-18</td>\n",
       "      <td>5.506242</td>\n",
       "      <td>4.766975</td>\n",
       "      <td>6.264398</td>\n",
       "    </tr>\n",
       "    <tr>\n",
       "      <th>2738</th>\n",
       "      <td>2022-04-19</td>\n",
       "      <td>5.507862</td>\n",
       "      <td>4.805488</td>\n",
       "      <td>6.251772</td>\n",
       "    </tr>\n",
       "    <tr>\n",
       "      <th>2739</th>\n",
       "      <td>2022-04-20</td>\n",
       "      <td>5.519785</td>\n",
       "      <td>4.747260</td>\n",
       "      <td>6.302305</td>\n",
       "    </tr>\n",
       "    <tr>\n",
       "      <th>2740</th>\n",
       "      <td>2022-04-21</td>\n",
       "      <td>5.519136</td>\n",
       "      <td>4.801814</td>\n",
       "      <td>6.252648</td>\n",
       "    </tr>\n",
       "  </tbody>\n",
       "</table>\n",
       "</div>"
      ],
      "text/plain": [
       "             ds      yhat  yhat_lower  yhat_upper\n",
       "2736 2022-04-17  5.501087    4.791240    6.226199\n",
       "2737 2022-04-18  5.506242    4.766975    6.264398\n",
       "2738 2022-04-19  5.507862    4.805488    6.251772\n",
       "2739 2022-04-20  5.519785    4.747260    6.302305\n",
       "2740 2022-04-21  5.519136    4.801814    6.252648"
      ]
     },
     "execution_count": 49,
     "metadata": {},
     "output_type": "execute_result"
    }
   ],
   "source": [
    "forecast = m.predict(future)\n",
    "forecast[['ds', 'yhat', 'yhat_lower', 'yhat_upper']].tail()\n"
   ]
  },
  {
   "cell_type": "code",
   "execution_count": 50,
   "metadata": {},
   "outputs": [
    {
     "data": {
      "image/png": "[encoded data removed]",
      "text/plain": [
       "<Figure size 720x432 with 1 Axes>"
      ]
     },
     "metadata": {},
     "output_type": "display_data"
    }
   ],
   "source": [
    "fig1 = m.plot(forecast)"
   ]
  },
  {
   "cell_type": "code",
   "execution_count": 57,
   "metadata": {},
   "outputs": [
    {
     "data": {
      "text/html": [
       "<div>\n",
       "<style scoped>\n",
       "    .dataframe tbody tr th:only-of-type {\n",
       "        vertical-align: middle;\n",
       "    }\n",
       "\n",
       "    .dataframe tbody tr th {\n",
       "        vertical-align: top;\n",
       "    }\n",
       "\n",
       "    .dataframe thead th {\n",
       "        text-align: right;\n",
       "    }\n",
       "</style>\n",
       "<table border=\"1\" class=\"dataframe\">\n",
       "  <thead>\n",
       "    <tr style=\"text-align: right;\">\n",
       "      <th></th>\n",
       "      <th>open</th>\n",
       "      <th>high</th>\n",
       "      <th>low</th>\n",
       "      <th>close</th>\n",
       "      <th>volume</th>\n",
       "      <th>cross</th>\n",
       "      <th>histy</th>\n",
       "      <th>month_9</th>\n",
       "      <th>month_10</th>\n",
       "      <th>day_20</th>\n",
       "      <th>day_1</th>\n",
       "      <th>day_9</th>\n",
       "      <th>atr_above_threshold_0.01</th>\n",
       "      <th>atr_above_threshold_0.05</th>\n",
       "      <th>atr_above_threshold_0.1</th>\n",
       "      <th>atr_above_threshold_0.2</th>\n",
       "      <th>atr_above_threshold_0.3</th>\n",
       "      <th>avg-fees-per-transaction</th>\n",
       "      <th>cost-per-transaction-percent</th>\n",
       "      <th>cost-per-transaction</th>\n",
       "      <th>difficulty</th>\n",
       "      <th>hash-rate</th>\n",
       "      <th>miners-revenue</th>\n",
       "      <th>transaction-fees-to-miners</th>\n",
       "      <th>clust</th>\n",
       "    </tr>\n",
       "  </thead>\n",
       "  <tbody>\n",
       "    <tr>\n",
       "      <th>2014-10-20</th>\n",
       "      <td>-0.594923</td>\n",
       "      <td>-0.590765</td>\n",
       "      <td>-0.603427</td>\n",
       "      <td>-0.596215</td>\n",
       "      <td>-0.211943</td>\n",
       "      <td>0.0</td>\n",
       "      <td>0.0</td>\n",
       "      <td>0</td>\n",
       "      <td>1</td>\n",
       "      <td>1</td>\n",
       "      <td>0</td>\n",
       "      <td>0</td>\n",
       "      <td>False</td>\n",
       "      <td>False</td>\n",
       "      <td>False</td>\n",
       "      <td>False</td>\n",
       "      <td>False</td>\n",
       "      <td>-0.319844</td>\n",
       "      <td>1.865922</td>\n",
       "      <td>-0.176852</td>\n",
       "      <td>-0.33258</td>\n",
       "      <td>-0.333372</td>\n",
       "      <td>-0.528352</td>\n",
       "      <td>-0.323265</td>\n",
       "      <td>-1</td>\n",
       "    </tr>\n",
       "    <tr>\n",
       "      <th>2014-10-21</th>\n",
       "      <td>-0.595593</td>\n",
       "      <td>-0.590519</td>\n",
       "      <td>-0.603166</td>\n",
       "      <td>-0.595858</td>\n",
       "      <td>-0.212032</td>\n",
       "      <td>0.0</td>\n",
       "      <td>0.0</td>\n",
       "      <td>0</td>\n",
       "      <td>1</td>\n",
       "      <td>0</td>\n",
       "      <td>0</td>\n",
       "      <td>0</td>\n",
       "      <td>False</td>\n",
       "      <td>False</td>\n",
       "      <td>False</td>\n",
       "      <td>False</td>\n",
       "      <td>False</td>\n",
       "      <td>-0.319401</td>\n",
       "      <td>1.865922</td>\n",
       "      <td>-0.253825</td>\n",
       "      <td>-0.33258</td>\n",
       "      <td>-0.333372</td>\n",
       "      <td>-0.518958</td>\n",
       "      <td>-0.321070</td>\n",
       "      <td>-1</td>\n",
       "    </tr>\n",
       "    <tr>\n",
       "      <th>2014-10-22</th>\n",
       "      <td>-0.595229</td>\n",
       "      <td>-0.590910</td>\n",
       "      <td>-0.603022</td>\n",
       "      <td>-0.596184</td>\n",
       "      <td>-0.212133</td>\n",
       "      <td>0.0</td>\n",
       "      <td>0.0</td>\n",
       "      <td>0</td>\n",
       "      <td>1</td>\n",
       "      <td>0</td>\n",
       "      <td>0</td>\n",
       "      <td>0</td>\n",
       "      <td>False</td>\n",
       "      <td>False</td>\n",
       "      <td>False</td>\n",
       "      <td>False</td>\n",
       "      <td>False</td>\n",
       "      <td>-0.319401</td>\n",
       "      <td>1.865922</td>\n",
       "      <td>-0.253825</td>\n",
       "      <td>-0.33258</td>\n",
       "      <td>-0.332771</td>\n",
       "      <td>-0.518958</td>\n",
       "      <td>-0.321070</td>\n",
       "      <td>-1</td>\n",
       "    </tr>\n",
       "    <tr>\n",
       "      <th>2014-10-23</th>\n",
       "      <td>-0.595539</td>\n",
       "      <td>-0.591249</td>\n",
       "      <td>-0.605638</td>\n",
       "      <td>-0.598620</td>\n",
       "      <td>-0.211542</td>\n",
       "      <td>0.0</td>\n",
       "      <td>0.0</td>\n",
       "      <td>0</td>\n",
       "      <td>1</td>\n",
       "      <td>0</td>\n",
       "      <td>0</td>\n",
       "      <td>0</td>\n",
       "      <td>False</td>\n",
       "      <td>False</td>\n",
       "      <td>False</td>\n",
       "      <td>False</td>\n",
       "      <td>False</td>\n",
       "      <td>-0.319401</td>\n",
       "      <td>1.568939</td>\n",
       "      <td>-0.253825</td>\n",
       "      <td>-0.33258</td>\n",
       "      <td>-0.332771</td>\n",
       "      <td>-0.518958</td>\n",
       "      <td>-0.321070</td>\n",
       "      <td>-1</td>\n",
       "    </tr>\n",
       "    <tr>\n",
       "      <th>2014-10-24</th>\n",
       "      <td>-0.597937</td>\n",
       "      <td>-0.593238</td>\n",
       "      <td>-0.605957</td>\n",
       "      <td>-0.598627</td>\n",
       "      <td>-0.211976</td>\n",
       "      <td>0.0</td>\n",
       "      <td>0.0</td>\n",
       "      <td>0</td>\n",
       "      <td>1</td>\n",
       "      <td>0</td>\n",
       "      <td>0</td>\n",
       "      <td>0</td>\n",
       "      <td>False</td>\n",
       "      <td>False</td>\n",
       "      <td>False</td>\n",
       "      <td>False</td>\n",
       "      <td>False</td>\n",
       "      <td>-0.321155</td>\n",
       "      <td>1.568939</td>\n",
       "      <td>-0.277610</td>\n",
       "      <td>-0.33258</td>\n",
       "      <td>-0.332771</td>\n",
       "      <td>-0.537035</td>\n",
       "      <td>-0.322373</td>\n",
       "      <td>-1</td>\n",
       "    </tr>\n",
       "  </tbody>\n",
       "</table>\n",
       "</div>"
      ],
      "text/plain": [
       "                open      high       low     close    volume  cross  histy  \\\n",
       "2014-10-20 -0.594923 -0.590765 -0.603427 -0.596215 -0.211943    0.0    0.0   \n",
       "2014-10-21 -0.595593 -0.590519 -0.603166 -0.595858 -0.212032    0.0    0.0   \n",
       "2014-10-22 -0.595229 -0.590910 -0.603022 -0.596184 -0.212133    0.0    0.0   \n",
       "2014-10-23 -0.595539 -0.591249 -0.605638 -0.598620 -0.211542    0.0    0.0   \n",
       "2014-10-24 -0.597937 -0.593238 -0.605957 -0.598627 -0.211976    0.0    0.0   \n",
       "\n",
       "            month_9  month_10  day_20  day_1  day_9  atr_above_threshold_0.01  \\\n",
       "2014-10-20        0         1       1      0      0                     False   \n",
       "2014-10-21        0         1       0      0      0                     False   \n",
       "2014-10-22        0         1       0      0      0                     False   \n",
       "2014-10-23        0         1       0      0      0                     False   \n",
       "2014-10-24        0         1       0      0      0                     False   \n",
       "\n",
       "            atr_above_threshold_0.05  atr_above_threshold_0.1  \\\n",
       "2014-10-20                     False                    False   \n",
       "2014-10-21                     False                    False   \n",
       "2014-10-22                     False                    False   \n",
       "2014-10-23                     False                    False   \n",
       "2014-10-24                     False                    False   \n",
       "\n",
       "            atr_above_threshold_0.2  atr_above_threshold_0.3  \\\n",
       "2014-10-20                    False                    False   \n",
       "2014-10-21                    False                    False   \n",
       "2014-10-22                    False                    False   \n",
       "2014-10-23                    False                    False   \n",
       "2014-10-24                    False                    False   \n",
       "\n",
       "            avg-fees-per-transaction  cost-per-transaction-percent  \\\n",
       "2014-10-20                 -0.319844                      1.865922   \n",
       "2014-10-21                 -0.319401                      1.865922   \n",
       "2014-10-22                 -0.319401                      1.865922   \n",
       "2014-10-23                 -0.319401                      1.568939   \n",
       "2014-10-24                 -0.321155                      1.568939   \n",
       "\n",
       "            cost-per-transaction  difficulty  hash-rate  miners-revenue  \\\n",
       "2014-10-20             -0.176852    -0.33258  -0.333372       -0.528352   \n",
       "2014-10-21             -0.253825    -0.33258  -0.333372       -0.518958   \n",
       "2014-10-22             -0.253825    -0.33258  -0.332771       -0.518958   \n",
       "2014-10-23             -0.253825    -0.33258  -0.332771       -0.518958   \n",
       "2014-10-24             -0.277610    -0.33258  -0.332771       -0.537035   \n",
       "\n",
       "            transaction-fees-to-miners  clust  \n",
       "2014-10-20                   -0.323265     -1  \n",
       "2014-10-21                   -0.321070     -1  \n",
       "2014-10-22                   -0.321070     -1  \n",
       "2014-10-23                   -0.321070     -1  \n",
       "2014-10-24                   -0.322373     -1  "
      ]
     },
     "execution_count": 57,
     "metadata": {},
     "output_type": "execute_result"
    }
   ],
   "source": [
    "X_train.head()"
   ]
  },
  {
   "cell_type": "code",
   "execution_count": 59,
   "metadata": {},
   "outputs": [],
   "source": [
    "X_train=X_train.drop('clust',axis=1)"
   ]
  },
  {
   "cell_type": "code",
   "execution_count": 60,
   "metadata": {},
   "outputs": [],
   "source": [
    "pf = PolynomialFeatures(degree=2)"
   ]
  },
  {
   "cell_type": "code",
   "execution_count": 61,
   "metadata": {},
   "outputs": [],
   "source": [
    "X_train_degree2 = pf.fit_transform(X_train)"
   ]
  },
  {
   "cell_type": "code",
   "execution_count": 62,
   "metadata": {},
   "outputs": [],
   "source": [
    "X_validate_degree2 = pf.transform(X_val)"
   ]
  },
  {
   "cell_type": "code",
   "execution_count": 63,
   "metadata": {},
   "outputs": [],
   "source": [
    "rfe = RFE(pf, n_features_to_select=None)"
   ]
  }
 ],
 "metadata": {
  "interpreter": {
   "hash": "3067ead486e059ec00ffe7555bdb889e6e264a24dc711bf108106cc7baee8d5d"
  },
  "kernelspec": {
   "display_name": "Python 3.9.12 ('base')",
   "language": "python",
   "name": "python3"
  },
  "language_info": {
   "codemirror_mode": {
    "name": "ipython",
    "version": 3
   },
   "file_extension": ".py",
   "mimetype": "text/x-python",
   "name": "python",
   "nbconvert_exporter": "python",
   "pygments_lexer": "ipython3",
   "version": "3.9.12"
  },
  "orig_nbformat": 4
 },
 "nbformat": 4,
 "nbformat_minor": 2
}
