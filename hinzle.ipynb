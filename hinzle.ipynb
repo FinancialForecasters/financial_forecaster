{
 "cells": [
  {
   "cell_type": "code",
   "execution_count": 97,
   "metadata": {},
   "outputs": [],
   "source": [
    "# imports.py\n",
    "from imports import *\n",
    "from sklearn.datasets import make_blobs\n",
    "\n",
    "# plotting magic\n",
    "%matplotlib inline\n",
    "\n",
    "# custom mods\n",
    "import tidy\n",
    "import model_h\n",
    "import wrangle"
   ]
  },
  {
   "cell_type": "code",
   "execution_count": 2,
   "metadata": {},
   "outputs": [
    {
     "name": "stdout",
     "output_type": "stream",
     "text": [
      "cached csv\n",
      "<class 'pandas.core.frame.DataFrame'>\n",
      "DatetimeIndex: 2807 entries, 2014-09-17 00:00:00+00:00 to 2022-05-24 00:00:00+00:00\n",
      "Data columns (total 9 columns):\n",
      " #   Column              Non-Null Count  Dtype  \n",
      "---  ------              --------------  -----  \n",
      " 0   open                2807 non-null   float64\n",
      " 1   high                2807 non-null   float64\n",
      " 2   low                 2807 non-null   float64\n",
      " 3   close               2807 non-null   float64\n",
      " 4   volume              2807 non-null   int64  \n",
      " 5   fwd_log_ret         2807 non-null   float64\n",
      " 6   fwd_ret             2807 non-null   float64\n",
      " 7   fwd_pct_chg         2807 non-null   float64\n",
      " 8   fwd_close_positive  2807 non-null   bool   \n",
      "dtypes: bool(1), float64(7), int64(1)\n",
      "memory usage: 200.1 KB\n"
     ]
    }
   ],
   "source": [
    "df=tidy.explore_df()\n",
    "df.info()"
   ]
  },
  {
   "cell_type": "code",
   "execution_count": 3,
   "metadata": {},
   "outputs": [
    {
     "data": {
      "image/png": "[encoded data removed]",
      "text/plain": [
       "<Figure size 432x288 with 1 Axes>"
      ]
     },
     "metadata": {
      "needs_background": "light"
     },
     "output_type": "display_data"
    }
   ],
   "source": [
    "model_h.print_btcusd(df)"
   ]
  },
  {
   "cell_type": "code",
   "execution_count": 4,
   "metadata": {},
   "outputs": [
    {
     "data": {
      "text/html": [
       "<div>\n",
       "<style scoped>\n",
       "    .dataframe tbody tr th:only-of-type {\n",
       "        vertical-align: middle;\n",
       "    }\n",
       "\n",
       "    .dataframe tbody tr th {\n",
       "        vertical-align: top;\n",
       "    }\n",
       "\n",
       "    .dataframe thead th {\n",
       "        text-align: right;\n",
       "    }\n",
       "</style>\n",
       "<table border=\"1\" class=\"dataframe\">\n",
       "  <thead>\n",
       "    <tr style=\"text-align: right;\">\n",
       "      <th></th>\n",
       "      <th>open</th>\n",
       "      <th>high</th>\n",
       "      <th>low</th>\n",
       "      <th>close</th>\n",
       "      <th>volume</th>\n",
       "      <th>fwd_log_ret</th>\n",
       "      <th>fwd_ret</th>\n",
       "      <th>fwd_pct_chg</th>\n",
       "      <th>fwd_close_positive</th>\n",
       "    </tr>\n",
       "    <tr>\n",
       "      <th>date</th>\n",
       "      <th></th>\n",
       "      <th></th>\n",
       "      <th></th>\n",
       "      <th></th>\n",
       "      <th></th>\n",
       "      <th></th>\n",
       "      <th></th>\n",
       "      <th></th>\n",
       "      <th></th>\n",
       "    </tr>\n",
       "  </thead>\n",
       "  <tbody>\n",
       "    <tr>\n",
       "      <th>2014-09-17 00:00:00+00:00</th>\n",
       "      <td>465.864014</td>\n",
       "      <td>468.174011</td>\n",
       "      <td>452.421997</td>\n",
       "      <td>457.334015</td>\n",
       "      <td>21056800</td>\n",
       "      <td>-0.074643</td>\n",
       "      <td>-32.894013</td>\n",
       "      <td>-0.071926</td>\n",
       "      <td>False</td>\n",
       "    </tr>\n",
       "    <tr>\n",
       "      <th>2014-09-18 00:00:00+00:00</th>\n",
       "      <td>456.859985</td>\n",
       "      <td>456.859985</td>\n",
       "      <td>413.104004</td>\n",
       "      <td>424.440002</td>\n",
       "      <td>34483200</td>\n",
       "      <td>-0.072402</td>\n",
       "      <td>-29.644012</td>\n",
       "      <td>-0.069843</td>\n",
       "      <td>False</td>\n",
       "    </tr>\n",
       "    <tr>\n",
       "      <th>2014-09-19 00:00:00+00:00</th>\n",
       "      <td>424.102997</td>\n",
       "      <td>427.834991</td>\n",
       "      <td>384.532013</td>\n",
       "      <td>394.795990</td>\n",
       "      <td>37919700</td>\n",
       "      <td>0.035111</td>\n",
       "      <td>14.108002</td>\n",
       "      <td>0.035735</td>\n",
       "      <td>True</td>\n",
       "    </tr>\n",
       "    <tr>\n",
       "      <th>2014-09-20 00:00:00+00:00</th>\n",
       "      <td>394.673004</td>\n",
       "      <td>423.295990</td>\n",
       "      <td>389.882996</td>\n",
       "      <td>408.903992</td>\n",
       "      <td>36863600</td>\n",
       "      <td>-0.024968</td>\n",
       "      <td>-10.082978</td>\n",
       "      <td>-0.024659</td>\n",
       "      <td>False</td>\n",
       "    </tr>\n",
       "    <tr>\n",
       "      <th>2014-09-21 00:00:00+00:00</th>\n",
       "      <td>408.084991</td>\n",
       "      <td>412.425995</td>\n",
       "      <td>393.181000</td>\n",
       "      <td>398.821014</td>\n",
       "      <td>26580100</td>\n",
       "      <td>0.008317</td>\n",
       "      <td>3.330994</td>\n",
       "      <td>0.008352</td>\n",
       "      <td>True</td>\n",
       "    </tr>\n",
       "  </tbody>\n",
       "</table>\n",
       "</div>"
      ],
      "text/plain": [
       "                                 open        high         low       close  \\\n",
       "date                                                                        \n",
       "2014-09-17 00:00:00+00:00  465.864014  468.174011  452.421997  457.334015   \n",
       "2014-09-18 00:00:00+00:00  456.859985  456.859985  413.104004  424.440002   \n",
       "2014-09-19 00:00:00+00:00  424.102997  427.834991  384.532013  394.795990   \n",
       "2014-09-20 00:00:00+00:00  394.673004  423.295990  389.882996  408.903992   \n",
       "2014-09-21 00:00:00+00:00  408.084991  412.425995  393.181000  398.821014   \n",
       "\n",
       "                             volume  fwd_log_ret    fwd_ret  fwd_pct_chg  \\\n",
       "date                                                                       \n",
       "2014-09-17 00:00:00+00:00  21056800    -0.074643 -32.894013    -0.071926   \n",
       "2014-09-18 00:00:00+00:00  34483200    -0.072402 -29.644012    -0.069843   \n",
       "2014-09-19 00:00:00+00:00  37919700     0.035111  14.108002     0.035735   \n",
       "2014-09-20 00:00:00+00:00  36863600    -0.024968 -10.082978    -0.024659   \n",
       "2014-09-21 00:00:00+00:00  26580100     0.008317   3.330994     0.008352   \n",
       "\n",
       "                           fwd_close_positive  \n",
       "date                                           \n",
       "2014-09-17 00:00:00+00:00               False  \n",
       "2014-09-18 00:00:00+00:00               False  \n",
       "2014-09-19 00:00:00+00:00                True  \n",
       "2014-09-20 00:00:00+00:00               False  \n",
       "2014-09-21 00:00:00+00:00                True  "
      ]
     },
     "execution_count": 4,
     "metadata": {},
     "output_type": "execute_result"
    }
   ],
   "source": [
    "df.head()"
   ]
  },
  {
   "cell_type": "code",
   "execution_count": 5,
   "metadata": {},
   "outputs": [
    {
     "data": {
      "text/plain": [
       "<AxesSubplot:xlabel='date'>"
      ]
     },
     "execution_count": 5,
     "metadata": {},
     "output_type": "execute_result"
    },
    {
     "data": {
      "image/png": "[encoded data removed]",
      "text/plain": [
       "<Figure size 432x288 with 1 Axes>"
      ]
     },
     "metadata": {
      "needs_background": "light"
     },
     "output_type": "display_data"
    }
   ],
   "source": [
    "df.close.resample('m').mean().plot(alpha=.2, label='resample')"
   ]
  },
  {
   "cell_type": "code",
   "execution_count": 6,
   "metadata": {},
   "outputs": [],
   "source": [
    "# model_h.d_stats_btcusd(df)"
   ]
  },
  {
   "cell_type": "code",
   "execution_count": 7,
   "metadata": {},
   "outputs": [],
   "source": [
    "def split_i(df):\n",
    "\ttrain = df.loc[:'2022-3-22']\n",
    "\tvalidate =df.loc['2022-03-23':'2022-04-23'] \n",
    "\treturn train, validate"
   ]
  },
  {
   "cell_type": "code",
   "execution_count": 8,
   "metadata": {},
   "outputs": [],
   "source": [
    "def split_ii(df):\n",
    "\ttrain = df.loc[:'2022-04-24']\n",
    "\ttest = df.loc['2022-04-25':]\n",
    "\treturn train, test"
   ]
  },
  {
   "cell_type": "code",
   "execution_count": 9,
   "metadata": {},
   "outputs": [
    {
     "name": "stdout",
     "output_type": "stream",
     "text": [
      "<class 'pandas.core.frame.DataFrame'>\n",
      "DatetimeIndex: 2744 entries, 2014-09-17 00:00:00+00:00 to 2022-03-22 00:00:00+00:00\n",
      "Data columns (total 9 columns):\n",
      " #   Column              Non-Null Count  Dtype  \n",
      "---  ------              --------------  -----  \n",
      " 0   open                2744 non-null   float64\n",
      " 1   high                2744 non-null   float64\n",
      " 2   low                 2744 non-null   float64\n",
      " 3   close               2744 non-null   float64\n",
      " 4   volume              2744 non-null   int64  \n",
      " 5   fwd_log_ret         2744 non-null   float64\n",
      " 6   fwd_ret             2744 non-null   float64\n",
      " 7   fwd_pct_chg         2744 non-null   float64\n",
      " 8   fwd_close_positive  2744 non-null   bool   \n",
      "dtypes: bool(1), float64(7), int64(1)\n",
      "memory usage: 195.6 KB\n",
      "<class 'pandas.core.frame.DataFrame'>\n",
      "DatetimeIndex: 32 entries, 2022-03-23 00:00:00+00:00 to 2022-04-23 00:00:00+00:00\n",
      "Data columns (total 9 columns):\n",
      " #   Column              Non-Null Count  Dtype  \n",
      "---  ------              --------------  -----  \n",
      " 0   open                32 non-null     float64\n",
      " 1   high                32 non-null     float64\n",
      " 2   low                 32 non-null     float64\n",
      " 3   close               32 non-null     float64\n",
      " 4   volume              32 non-null     int64  \n",
      " 5   fwd_log_ret         32 non-null     float64\n",
      " 6   fwd_ret             32 non-null     float64\n",
      " 7   fwd_pct_chg         32 non-null     float64\n",
      " 8   fwd_close_positive  32 non-null     bool   \n",
      "dtypes: bool(1), float64(7), int64(1)\n",
      "memory usage: 2.3 KB\n"
     ]
    },
    {
     "data": {
      "text/plain": [
       "(None, None)"
      ]
     },
     "execution_count": 9,
     "metadata": {},
     "output_type": "execute_result"
    }
   ],
   "source": [
    "train_i, validate=split_i(df)\n",
    "train_i.info(),validate.info()"
   ]
  },
  {
   "cell_type": "code",
   "execution_count": 10,
   "metadata": {},
   "outputs": [
    {
     "name": "stdout",
     "output_type": "stream",
     "text": [
      "<class 'pandas.core.frame.DataFrame'>\n",
      "DatetimeIndex: 2777 entries, 2014-09-17 00:00:00+00:00 to 2022-04-24 00:00:00+00:00\n",
      "Data columns (total 9 columns):\n",
      " #   Column              Non-Null Count  Dtype  \n",
      "---  ------              --------------  -----  \n",
      " 0   open                2777 non-null   float64\n",
      " 1   high                2777 non-null   float64\n",
      " 2   low                 2777 non-null   float64\n",
      " 3   close               2777 non-null   float64\n",
      " 4   volume              2777 non-null   int64  \n",
      " 5   fwd_log_ret         2777 non-null   float64\n",
      " 6   fwd_ret             2777 non-null   float64\n",
      " 7   fwd_pct_chg         2777 non-null   float64\n",
      " 8   fwd_close_positive  2777 non-null   bool   \n",
      "dtypes: bool(1), float64(7), int64(1)\n",
      "memory usage: 198.0 KB\n",
      "<class 'pandas.core.frame.DataFrame'>\n",
      "DatetimeIndex: 30 entries, 2022-04-25 00:00:00+00:00 to 2022-05-24 00:00:00+00:00\n",
      "Data columns (total 9 columns):\n",
      " #   Column              Non-Null Count  Dtype  \n",
      "---  ------              --------------  -----  \n",
      " 0   open                30 non-null     float64\n",
      " 1   high                30 non-null     float64\n",
      " 2   low                 30 non-null     float64\n",
      " 3   close               30 non-null     float64\n",
      " 4   volume              30 non-null     int64  \n",
      " 5   fwd_log_ret         30 non-null     float64\n",
      " 6   fwd_ret             30 non-null     float64\n",
      " 7   fwd_pct_chg         30 non-null     float64\n",
      " 8   fwd_close_positive  30 non-null     bool   \n",
      "dtypes: bool(1), float64(7), int64(1)\n",
      "memory usage: 2.1 KB\n"
     ]
    },
    {
     "data": {
      "text/plain": [
       "(None, None)"
      ]
     },
     "execution_count": 10,
     "metadata": {},
     "output_type": "execute_result"
    }
   ],
   "source": [
    "train_ii, test=split_ii(df)\n",
    "train_ii.info(),test.info()\n"
   ]
  },
  {
   "cell_type": "code",
   "execution_count": 11,
   "metadata": {},
   "outputs": [
    {
     "data": {
      "text/plain": [
       "4.17316149094532"
      ]
     },
     "execution_count": 11,
     "metadata": {},
     "output_type": "execute_result"
    }
   ],
   "source": [
    "df.fwd_log_ret.sum()"
   ]
  },
  {
   "cell_type": "code",
   "execution_count": 12,
   "metadata": {},
   "outputs": [
    {
     "data": {
      "text/plain": [
       "29198.251923"
      ]
     },
     "execution_count": 12,
     "metadata": {},
     "output_type": "execute_result"
    }
   ],
   "source": [
    "df.close[-1]-df.close[0]\n",
    "\n",
    "# this is ROI if you bought 1 btc in 2014-09-17 and sold in 2022-05-24"
   ]
  },
  {
   "cell_type": "code",
   "execution_count": 13,
   "metadata": {},
   "outputs": [
    {
     "data": {
      "text/plain": [
       "datetime.date(2014, 9, 17)"
      ]
     },
     "execution_count": 13,
     "metadata": {},
     "output_type": "execute_result"
    }
   ],
   "source": [
    "df.index[0].date()"
   ]
  },
  {
   "cell_type": "code",
   "execution_count": 14,
   "metadata": {},
   "outputs": [],
   "source": [
    "def macd_df(df):\n",
    "\t'''\n",
    "\tmacd encoder\n",
    "\t'''\n",
    "\tmacd, signal, histo = talib.MACD(df.close,fastperiod=12, slowperiod=26, signalperiod=9)\n",
    "\tmac=pd.concat([df,macd,signal,histo],axis=1)\n",
    "\tmac=mac.rename(columns={0:'macd',1:'signal',2:'histo'})\n",
    "\tmac=mac.drop(mac[mac.index<'2014-10-20'].index)\n",
    "\tmac=mac.fillna(0)\n",
    "\tcools=mac.histo>0\n",
    "\tstart=cools[0]\n",
    "\tnot_list=[]\n",
    "\n",
    "\tfor x in cools:\n",
    "\t\tif x:\n",
    "\t\t\tnot_list.append(1)\n",
    "\t\telse:\n",
    "\t\t\tnot_list.append(0)\n",
    "\n",
    "\tnot_list=pd.Series(not_list, index=mac.index)\n",
    "\tbools=mac.macd>mac.signal\n",
    "\tyesterday=bools[0]\n",
    "\tlist=[]\n",
    "\n",
    "\tfor today in bools:\n",
    "\t\tif today==yesterday:\n",
    "\t\t\tlist.append(0)\n",
    "\t\t\tcontinue\n",
    "\t\telse:\n",
    "\t\t\tlist.append(1)\n",
    "\t\t\tyesterday=today\n",
    "\n",
    "\tlist=pd.Series(list, index=mac.index)\n",
    "\n",
    "\t# crossover indicator\n",
    "\tmacker=pd.concat([mac.close,list,not_list],axis=1)\n",
    "\tmacker=macker.rename({0:'cross',1:'histy'},axis=1)\n",
    "\n",
    "\treturn macker, mac\n",
    "\n",
    "macker, mac=macd_df(df)"
   ]
  },
  {
   "cell_type": "code",
   "execution_count": 15,
   "metadata": {},
   "outputs": [],
   "source": [
    "def macd_roi(df):\n",
    "\tbuy=[]\n",
    "\tsell=[]\n",
    "\tfor i in df.index:\n",
    "\t\tif df.loc[i].cross > 0:\n",
    "\t\t\tif df.loc[i].histy > 0:\n",
    "\t\t\t\tbuy.append(df.loc[i].close)\n",
    "\t\t\t\tsell.append(0)\n",
    "\t\t\telse:\n",
    "\t\t\t\tbuy.append(0)\n",
    "\t\t\t\tsell.append(df.loc[i].close)\n",
    "\t\telse:\n",
    "\t\t\tcontinue\n",
    "\treturn buy,sell"
   ]
  },
  {
   "cell_type": "code",
   "execution_count": 16,
   "metadata": {},
   "outputs": [],
   "source": [
    "buy,sell=macd_roi(macker)"
   ]
  },
  {
   "cell_type": "code",
   "execution_count": 17,
   "metadata": {},
   "outputs": [],
   "source": [
    "profits=pd.DataFrame({'buy':buy,'sell':sell})"
   ]
  },
  {
   "cell_type": "code",
   "execution_count": 18,
   "metadata": {},
   "outputs": [],
   "source": [
    "if profits.buy.loc[0] == 0:\n",
    "\tprofits=profits.drop(0)\n",
    "\tprofits.sell=profits.sell.shift(-1)\n",
    "else:\n",
    "\tprofits.sell=profits.sell.shift(-1)"
   ]
  },
  {
   "cell_type": "code",
   "execution_count": 19,
   "metadata": {},
   "outputs": [
    {
     "data": {
      "text/plain": [
       "36491.43405399999"
      ]
     },
     "execution_count": 19,
     "metadata": {},
     "output_type": "execute_result"
    }
   ],
   "source": [
    "(profits.sell-profits.buy).sum()"
   ]
  },
  {
   "cell_type": "code",
   "execution_count": 20,
   "metadata": {},
   "outputs": [
    {
     "data": {
      "image/png": "[encoded data removed]",
      "text/plain": [
       "<Figure size 1296x864 with 1 Axes>"
      ]
     },
     "metadata": {
      "needs_background": "light"
     },
     "output_type": "display_data"
    }
   ],
   "source": [
    "plt.figure(figsize=[18,12])\n",
    "mac.macd.tail(500).plot()\n",
    "mac.signal.tail(500).plot()\n",
    "plt.stem(mac.index[-500:],mac['histo'].tail(500),linefmt='silver',markerfmt='w,')\n",
    "_=macker[(macker.cross==1)&(macker.histy==1)].tail(500)\n",
    "plt.scatter(y=_.close,x=_.index,c='green')\n",
    "_=macker[(macker.cross==1)&(macker.histy==0)].tail(500)\n",
    "plt.scatter(y=_.close,x=_.index,c='red')\n",
    "macker.close.tail(500).plot(color='blue')\n",
    "plt.show()\n",
    "\n",
    "\n",
    "#wip\n"
   ]
  },
  {
   "cell_type": "code",
   "execution_count": 21,
   "metadata": {},
   "outputs": [
    {
     "name": "stdout",
     "output_type": "stream",
     "text": [
      "cached csv\n"
     ]
    }
   ],
   "source": [
    "df = wrangle.wrangle_df()"
   ]
  },
  {
   "cell_type": "code",
   "execution_count": 22,
   "metadata": {},
   "outputs": [
    {
     "name": "stdout",
     "output_type": "stream",
     "text": [
      "<class 'pandas.core.frame.DataFrame'>\n",
      "DatetimeIndex: 2774 entries, 2014-10-20 to 2022-05-24\n",
      "Data columns (total 28 columns):\n",
      " #   Column                        Non-Null Count  Dtype  \n",
      "---  ------                        --------------  -----  \n",
      " 0   open                          2774 non-null   float64\n",
      " 1   high                          2774 non-null   float64\n",
      " 2   low                           2774 non-null   float64\n",
      " 3   close                         2774 non-null   float64\n",
      " 4   volume                        2774 non-null   int64  \n",
      " 5   fwd_log_ret                   2774 non-null   float64\n",
      " 6   fwd_ret                       2774 non-null   float64\n",
      " 7   fwd_pct_chg                   2774 non-null   float64\n",
      " 8   fwd_close_positive            2774 non-null   int64  \n",
      " 9   cross                         2774 non-null   float64\n",
      " 10  histy                         2774 non-null   float64\n",
      " 11  month_9                       2774 non-null   int64  \n",
      " 12  month_10                      2774 non-null   int64  \n",
      " 13  day_20                        2774 non-null   int64  \n",
      " 14  day_1                         2774 non-null   int64  \n",
      " 15  day_9                         2774 non-null   int64  \n",
      " 16  atr_above_threshold_0.01      2774 non-null   bool   \n",
      " 17  atr_above_threshold_0.05      2774 non-null   bool   \n",
      " 18  atr_above_threshold_0.1       2774 non-null   bool   \n",
      " 19  atr_above_threshold_0.2       2774 non-null   bool   \n",
      " 20  atr_above_threshold_0.3       2774 non-null   bool   \n",
      " 21  avg-fees-per-transaction      2774 non-null   float64\n",
      " 22  cost-per-transaction-percent  2774 non-null   float64\n",
      " 23  cost-per-transaction          2774 non-null   float64\n",
      " 24  difficulty                    2774 non-null   float64\n",
      " 25  hash-rate                     2774 non-null   float64\n",
      " 26  miners-revenue                2774 non-null   float64\n",
      " 27  transaction-fees-to-miners    2774 non-null   float64\n",
      "dtypes: bool(5), float64(16), int64(7)\n",
      "memory usage: 533.7 KB\n"
     ]
    }
   ],
   "source": [
    "df.info()"
   ]
  },
  {
   "cell_type": "code",
   "execution_count": 70,
   "metadata": {},
   "outputs": [],
   "source": [
    "X=df[['open', 'high', 'low', 'close', 'volume',  'cross', 'histy', 'month_9', 'month_10', 'day_20', 'day_1', 'day_9', 'atr_above_threshold_0.01', 'atr_above_threshold_0.05', 'atr_above_threshold_0.1', 'atr_above_threshold_0.2', 'atr_above_threshold_0.3', 'avg-fees-per-transaction', 'cost-per-transaction-percent', 'cost-per-transaction', 'difficulty', 'hash-rate', 'miners-revenue', 'transaction-fees-to-miners']]"
   ]
  },
  {
   "cell_type": "code",
   "execution_count": 24,
   "metadata": {},
   "outputs": [],
   "source": [
    "y=df[['fwd_log_ret', 'fwd_ret', 'fwd_pct_chg', 'fwd_close_positive']]"
   ]
  },
  {
   "cell_type": "code",
   "execution_count": 71,
   "metadata": {},
   "outputs": [],
   "source": [
    "X_train, X_val=tidy.split_i(X)"
   ]
  },
  {
   "cell_type": "code",
   "execution_count": 85,
   "metadata": {},
   "outputs": [],
   "source": [
    "y_train, y_val=tidy.split_i(y)"
   ]
  },
  {
   "cell_type": "code",
   "execution_count": 74,
   "metadata": {},
   "outputs": [],
   "source": [
    "smaller=X_train.volume.copy()\n",
    "\n",
    "X_train.volume=smaller.astype('float64')"
   ]
  },
  {
   "cell_type": "code",
   "execution_count": 80,
   "metadata": {},
   "outputs": [
    {
     "name": "stdout",
     "output_type": "stream",
     "text": [
      "open\n",
      "high\n",
      "low\n",
      "close\n",
      "volume\n",
      "cross\n",
      "histy\n",
      "avg-fees-per-transaction\n",
      "cost-per-transaction-percent\n",
      "cost-per-transaction\n",
      "difficulty\n",
      "hash-rate\n",
      "miners-revenue\n",
      "transaction-fees-to-miners\n"
     ]
    },
    {
     "name": "stderr",
     "output_type": "stream",
     "text": [
      "/var/folders/mk/w2hz4wxx7xn5hr_56wz536gh0000gn/T/ipykernel_22929/1090873265.py:4: SettingWithCopyWarning: \n",
      "A value is trying to be set on a copy of a slice from a DataFrame.\n",
      "Try using .loc[row_indexer,col_indexer] = value instead\n",
      "\n",
      "See the caveats in the documentation: https://pandas.pydata.org/pandas-docs/stable/user_guide/indexing.html#returning-a-view-versus-a-copy\n",
      "  X_train.loc[:,col]=RobustScaler().fit_transform(xs)\n",
      "/var/folders/mk/w2hz4wxx7xn5hr_56wz536gh0000gn/T/ipykernel_22929/1090873265.py:4: SettingWithCopyWarning: \n",
      "A value is trying to be set on a copy of a slice from a DataFrame.\n",
      "Try using .loc[row_indexer,col_indexer] = value instead\n",
      "\n",
      "See the caveats in the documentation: https://pandas.pydata.org/pandas-docs/stable/user_guide/indexing.html#returning-a-view-versus-a-copy\n",
      "  X_train.loc[:,col]=RobustScaler().fit_transform(xs)\n",
      "/var/folders/mk/w2hz4wxx7xn5hr_56wz536gh0000gn/T/ipykernel_22929/1090873265.py:4: SettingWithCopyWarning: \n",
      "A value is trying to be set on a copy of a slice from a DataFrame.\n",
      "Try using .loc[row_indexer,col_indexer] = value instead\n",
      "\n",
      "See the caveats in the documentation: https://pandas.pydata.org/pandas-docs/stable/user_guide/indexing.html#returning-a-view-versus-a-copy\n",
      "  X_train.loc[:,col]=RobustScaler().fit_transform(xs)\n",
      "/var/folders/mk/w2hz4wxx7xn5hr_56wz536gh0000gn/T/ipykernel_22929/1090873265.py:4: SettingWithCopyWarning: \n",
      "A value is trying to be set on a copy of a slice from a DataFrame.\n",
      "Try using .loc[row_indexer,col_indexer] = value instead\n",
      "\n",
      "See the caveats in the documentation: https://pandas.pydata.org/pandas-docs/stable/user_guide/indexing.html#returning-a-view-versus-a-copy\n",
      "  X_train.loc[:,col]=RobustScaler().fit_transform(xs)\n",
      "/var/folders/mk/w2hz4wxx7xn5hr_56wz536gh0000gn/T/ipykernel_22929/1090873265.py:4: SettingWithCopyWarning: \n",
      "A value is trying to be set on a copy of a slice from a DataFrame.\n",
      "Try using .loc[row_indexer,col_indexer] = value instead\n",
      "\n",
      "See the caveats in the documentation: https://pandas.pydata.org/pandas-docs/stable/user_guide/indexing.html#returning-a-view-versus-a-copy\n",
      "  X_train.loc[:,col]=RobustScaler().fit_transform(xs)\n",
      "/var/folders/mk/w2hz4wxx7xn5hr_56wz536gh0000gn/T/ipykernel_22929/1090873265.py:4: SettingWithCopyWarning: \n",
      "A value is trying to be set on a copy of a slice from a DataFrame.\n",
      "Try using .loc[row_indexer,col_indexer] = value instead\n",
      "\n",
      "See the caveats in the documentation: https://pandas.pydata.org/pandas-docs/stable/user_guide/indexing.html#returning-a-view-versus-a-copy\n",
      "  X_train.loc[:,col]=RobustScaler().fit_transform(xs)\n",
      "/var/folders/mk/w2hz4wxx7xn5hr_56wz536gh0000gn/T/ipykernel_22929/1090873265.py:4: SettingWithCopyWarning: \n",
      "A value is trying to be set on a copy of a slice from a DataFrame.\n",
      "Try using .loc[row_indexer,col_indexer] = value instead\n",
      "\n",
      "See the caveats in the documentation: https://pandas.pydata.org/pandas-docs/stable/user_guide/indexing.html#returning-a-view-versus-a-copy\n",
      "  X_train.loc[:,col]=RobustScaler().fit_transform(xs)\n",
      "/var/folders/mk/w2hz4wxx7xn5hr_56wz536gh0000gn/T/ipykernel_22929/1090873265.py:4: SettingWithCopyWarning: \n",
      "A value is trying to be set on a copy of a slice from a DataFrame.\n",
      "Try using .loc[row_indexer,col_indexer] = value instead\n",
      "\n",
      "See the caveats in the documentation: https://pandas.pydata.org/pandas-docs/stable/user_guide/indexing.html#returning-a-view-versus-a-copy\n",
      "  X_train.loc[:,col]=RobustScaler().fit_transform(xs)\n",
      "/var/folders/mk/w2hz4wxx7xn5hr_56wz536gh0000gn/T/ipykernel_22929/1090873265.py:4: SettingWithCopyWarning: \n",
      "A value is trying to be set on a copy of a slice from a DataFrame.\n",
      "Try using .loc[row_indexer,col_indexer] = value instead\n",
      "\n",
      "See the caveats in the documentation: https://pandas.pydata.org/pandas-docs/stable/user_guide/indexing.html#returning-a-view-versus-a-copy\n",
      "  X_train.loc[:,col]=RobustScaler().fit_transform(xs)\n",
      "/var/folders/mk/w2hz4wxx7xn5hr_56wz536gh0000gn/T/ipykernel_22929/1090873265.py:4: SettingWithCopyWarning: \n",
      "A value is trying to be set on a copy of a slice from a DataFrame.\n",
      "Try using .loc[row_indexer,col_indexer] = value instead\n",
      "\n",
      "See the caveats in the documentation: https://pandas.pydata.org/pandas-docs/stable/user_guide/indexing.html#returning-a-view-versus-a-copy\n",
      "  X_train.loc[:,col]=RobustScaler().fit_transform(xs)\n",
      "/var/folders/mk/w2hz4wxx7xn5hr_56wz536gh0000gn/T/ipykernel_22929/1090873265.py:4: SettingWithCopyWarning: \n",
      "A value is trying to be set on a copy of a slice from a DataFrame.\n",
      "Try using .loc[row_indexer,col_indexer] = value instead\n",
      "\n",
      "See the caveats in the documentation: https://pandas.pydata.org/pandas-docs/stable/user_guide/indexing.html#returning-a-view-versus-a-copy\n",
      "  X_train.loc[:,col]=RobustScaler().fit_transform(xs)\n",
      "/var/folders/mk/w2hz4wxx7xn5hr_56wz536gh0000gn/T/ipykernel_22929/1090873265.py:4: SettingWithCopyWarning: \n",
      "A value is trying to be set on a copy of a slice from a DataFrame.\n",
      "Try using .loc[row_indexer,col_indexer] = value instead\n",
      "\n",
      "See the caveats in the documentation: https://pandas.pydata.org/pandas-docs/stable/user_guide/indexing.html#returning-a-view-versus-a-copy\n",
      "  X_train.loc[:,col]=RobustScaler().fit_transform(xs)\n",
      "/var/folders/mk/w2hz4wxx7xn5hr_56wz536gh0000gn/T/ipykernel_22929/1090873265.py:4: SettingWithCopyWarning: \n",
      "A value is trying to be set on a copy of a slice from a DataFrame.\n",
      "Try using .loc[row_indexer,col_indexer] = value instead\n",
      "\n",
      "See the caveats in the documentation: https://pandas.pydata.org/pandas-docs/stable/user_guide/indexing.html#returning-a-view-versus-a-copy\n",
      "  X_train.loc[:,col]=RobustScaler().fit_transform(xs)\n",
      "/var/folders/mk/w2hz4wxx7xn5hr_56wz536gh0000gn/T/ipykernel_22929/1090873265.py:4: SettingWithCopyWarning: \n",
      "A value is trying to be set on a copy of a slice from a DataFrame.\n",
      "Try using .loc[row_indexer,col_indexer] = value instead\n",
      "\n",
      "See the caveats in the documentation: https://pandas.pydata.org/pandas-docs/stable/user_guide/indexing.html#returning-a-view-versus-a-copy\n",
      "  X_train.loc[:,col]=RobustScaler().fit_transform(xs)\n"
     ]
    }
   ],
   "source": [
    "for col in X_train.columns:\n",
    "\tif X_train[col].dtype == 'float64':\n",
    "\t\txs=np.array(X_train[[col]]).reshape(-1, 1)\n",
    "\t\tX_train.loc[:,col]=RobustScaler().fit_transform(xs)\n",
    "\t\tprint(col)\n"
   ]
  },
  {
   "cell_type": "code",
   "execution_count": 81,
   "metadata": {},
   "outputs": [
    {
     "data": {
      "text/html": [
       "<div>\n",
       "<style scoped>\n",
       "    .dataframe tbody tr th:only-of-type {\n",
       "        vertical-align: middle;\n",
       "    }\n",
       "\n",
       "    .dataframe tbody tr th {\n",
       "        vertical-align: top;\n",
       "    }\n",
       "\n",
       "    .dataframe thead th {\n",
       "        text-align: right;\n",
       "    }\n",
       "</style>\n",
       "<table border=\"1\" class=\"dataframe\">\n",
       "  <thead>\n",
       "    <tr style=\"text-align: right;\">\n",
       "      <th></th>\n",
       "      <th>open</th>\n",
       "      <th>high</th>\n",
       "      <th>low</th>\n",
       "      <th>close</th>\n",
       "      <th>volume</th>\n",
       "      <th>cross</th>\n",
       "      <th>histy</th>\n",
       "      <th>month_9</th>\n",
       "      <th>month_10</th>\n",
       "      <th>day_20</th>\n",
       "      <th>day_1</th>\n",
       "      <th>day_9</th>\n",
       "      <th>atr_above_threshold_0.01</th>\n",
       "      <th>atr_above_threshold_0.05</th>\n",
       "      <th>atr_above_threshold_0.1</th>\n",
       "      <th>atr_above_threshold_0.2</th>\n",
       "      <th>atr_above_threshold_0.3</th>\n",
       "      <th>avg-fees-per-transaction</th>\n",
       "      <th>cost-per-transaction-percent</th>\n",
       "      <th>cost-per-transaction</th>\n",
       "      <th>difficulty</th>\n",
       "      <th>hash-rate</th>\n",
       "      <th>miners-revenue</th>\n",
       "      <th>transaction-fees-to-miners</th>\n",
       "    </tr>\n",
       "  </thead>\n",
       "  <tbody>\n",
       "    <tr>\n",
       "      <th>2014-10-20</th>\n",
       "      <td>-0.594923</td>\n",
       "      <td>-0.590765</td>\n",
       "      <td>-0.603427</td>\n",
       "      <td>-0.596215</td>\n",
       "      <td>-0.211943</td>\n",
       "      <td>0.0</td>\n",
       "      <td>0.0</td>\n",
       "      <td>0</td>\n",
       "      <td>1</td>\n",
       "      <td>1</td>\n",
       "      <td>0</td>\n",
       "      <td>0</td>\n",
       "      <td>False</td>\n",
       "      <td>False</td>\n",
       "      <td>False</td>\n",
       "      <td>False</td>\n",
       "      <td>False</td>\n",
       "      <td>-0.319844</td>\n",
       "      <td>1.865922</td>\n",
       "      <td>-0.176852</td>\n",
       "      <td>-0.33258</td>\n",
       "      <td>-0.333372</td>\n",
       "      <td>-0.528352</td>\n",
       "      <td>-0.323265</td>\n",
       "    </tr>\n",
       "    <tr>\n",
       "      <th>2014-10-21</th>\n",
       "      <td>-0.595593</td>\n",
       "      <td>-0.590519</td>\n",
       "      <td>-0.603166</td>\n",
       "      <td>-0.595858</td>\n",
       "      <td>-0.212032</td>\n",
       "      <td>0.0</td>\n",
       "      <td>0.0</td>\n",
       "      <td>0</td>\n",
       "      <td>1</td>\n",
       "      <td>0</td>\n",
       "      <td>0</td>\n",
       "      <td>0</td>\n",
       "      <td>False</td>\n",
       "      <td>False</td>\n",
       "      <td>False</td>\n",
       "      <td>False</td>\n",
       "      <td>False</td>\n",
       "      <td>-0.319401</td>\n",
       "      <td>1.865922</td>\n",
       "      <td>-0.253825</td>\n",
       "      <td>-0.33258</td>\n",
       "      <td>-0.333372</td>\n",
       "      <td>-0.518958</td>\n",
       "      <td>-0.321070</td>\n",
       "    </tr>\n",
       "    <tr>\n",
       "      <th>2014-10-22</th>\n",
       "      <td>-0.595229</td>\n",
       "      <td>-0.590910</td>\n",
       "      <td>-0.603022</td>\n",
       "      <td>-0.596184</td>\n",
       "      <td>-0.212133</td>\n",
       "      <td>0.0</td>\n",
       "      <td>0.0</td>\n",
       "      <td>0</td>\n",
       "      <td>1</td>\n",
       "      <td>0</td>\n",
       "      <td>0</td>\n",
       "      <td>0</td>\n",
       "      <td>False</td>\n",
       "      <td>False</td>\n",
       "      <td>False</td>\n",
       "      <td>False</td>\n",
       "      <td>False</td>\n",
       "      <td>-0.319401</td>\n",
       "      <td>1.865922</td>\n",
       "      <td>-0.253825</td>\n",
       "      <td>-0.33258</td>\n",
       "      <td>-0.332771</td>\n",
       "      <td>-0.518958</td>\n",
       "      <td>-0.321070</td>\n",
       "    </tr>\n",
       "    <tr>\n",
       "      <th>2014-10-23</th>\n",
       "      <td>-0.595539</td>\n",
       "      <td>-0.591249</td>\n",
       "      <td>-0.605638</td>\n",
       "      <td>-0.598620</td>\n",
       "      <td>-0.211542</td>\n",
       "      <td>0.0</td>\n",
       "      <td>0.0</td>\n",
       "      <td>0</td>\n",
       "      <td>1</td>\n",
       "      <td>0</td>\n",
       "      <td>0</td>\n",
       "      <td>0</td>\n",
       "      <td>False</td>\n",
       "      <td>False</td>\n",
       "      <td>False</td>\n",
       "      <td>False</td>\n",
       "      <td>False</td>\n",
       "      <td>-0.319401</td>\n",
       "      <td>1.568939</td>\n",
       "      <td>-0.253825</td>\n",
       "      <td>-0.33258</td>\n",
       "      <td>-0.332771</td>\n",
       "      <td>-0.518958</td>\n",
       "      <td>-0.321070</td>\n",
       "    </tr>\n",
       "    <tr>\n",
       "      <th>2014-10-24</th>\n",
       "      <td>-0.597937</td>\n",
       "      <td>-0.593238</td>\n",
       "      <td>-0.605957</td>\n",
       "      <td>-0.598627</td>\n",
       "      <td>-0.211976</td>\n",
       "      <td>0.0</td>\n",
       "      <td>0.0</td>\n",
       "      <td>0</td>\n",
       "      <td>1</td>\n",
       "      <td>0</td>\n",
       "      <td>0</td>\n",
       "      <td>0</td>\n",
       "      <td>False</td>\n",
       "      <td>False</td>\n",
       "      <td>False</td>\n",
       "      <td>False</td>\n",
       "      <td>False</td>\n",
       "      <td>-0.321155</td>\n",
       "      <td>1.568939</td>\n",
       "      <td>-0.277610</td>\n",
       "      <td>-0.33258</td>\n",
       "      <td>-0.332771</td>\n",
       "      <td>-0.537035</td>\n",
       "      <td>-0.322373</td>\n",
       "    </tr>\n",
       "  </tbody>\n",
       "</table>\n",
       "</div>"
      ],
      "text/plain": [
       "                open      high       low     close    volume  cross  histy  \\\n",
       "2014-10-20 -0.594923 -0.590765 -0.603427 -0.596215 -0.211943    0.0    0.0   \n",
       "2014-10-21 -0.595593 -0.590519 -0.603166 -0.595858 -0.212032    0.0    0.0   \n",
       "2014-10-22 -0.595229 -0.590910 -0.603022 -0.596184 -0.212133    0.0    0.0   \n",
       "2014-10-23 -0.595539 -0.591249 -0.605638 -0.598620 -0.211542    0.0    0.0   \n",
       "2014-10-24 -0.597937 -0.593238 -0.605957 -0.598627 -0.211976    0.0    0.0   \n",
       "\n",
       "            month_9  month_10  day_20  day_1  day_9  atr_above_threshold_0.01  \\\n",
       "2014-10-20        0         1       1      0      0                     False   \n",
       "2014-10-21        0         1       0      0      0                     False   \n",
       "2014-10-22        0         1       0      0      0                     False   \n",
       "2014-10-23        0         1       0      0      0                     False   \n",
       "2014-10-24        0         1       0      0      0                     False   \n",
       "\n",
       "            atr_above_threshold_0.05  atr_above_threshold_0.1  \\\n",
       "2014-10-20                     False                    False   \n",
       "2014-10-21                     False                    False   \n",
       "2014-10-22                     False                    False   \n",
       "2014-10-23                     False                    False   \n",
       "2014-10-24                     False                    False   \n",
       "\n",
       "            atr_above_threshold_0.2  atr_above_threshold_0.3  \\\n",
       "2014-10-20                    False                    False   \n",
       "2014-10-21                    False                    False   \n",
       "2014-10-22                    False                    False   \n",
       "2014-10-23                    False                    False   \n",
       "2014-10-24                    False                    False   \n",
       "\n",
       "            avg-fees-per-transaction  cost-per-transaction-percent  \\\n",
       "2014-10-20                 -0.319844                      1.865922   \n",
       "2014-10-21                 -0.319401                      1.865922   \n",
       "2014-10-22                 -0.319401                      1.865922   \n",
       "2014-10-23                 -0.319401                      1.568939   \n",
       "2014-10-24                 -0.321155                      1.568939   \n",
       "\n",
       "            cost-per-transaction  difficulty  hash-rate  miners-revenue  \\\n",
       "2014-10-20             -0.176852    -0.33258  -0.333372       -0.528352   \n",
       "2014-10-21             -0.253825    -0.33258  -0.333372       -0.518958   \n",
       "2014-10-22             -0.253825    -0.33258  -0.332771       -0.518958   \n",
       "2014-10-23             -0.253825    -0.33258  -0.332771       -0.518958   \n",
       "2014-10-24             -0.277610    -0.33258  -0.332771       -0.537035   \n",
       "\n",
       "            transaction-fees-to-miners  \n",
       "2014-10-20                   -0.323265  \n",
       "2014-10-21                   -0.321070  \n",
       "2014-10-22                   -0.321070  \n",
       "2014-10-23                   -0.321070  \n",
       "2014-10-24                   -0.322373  "
      ]
     },
     "execution_count": 81,
     "metadata": {},
     "output_type": "execute_result"
    }
   ],
   "source": [
    "X_train.head()"
   ]
  },
  {
   "cell_type": "code",
   "execution_count": 154,
   "metadata": {},
   "outputs": [],
   "source": [
    "db = DBSCAN(eps=0.3, min_samples=10).fit(X_train)\n",
    "core_samples_mask = np.zeros_like(db.labels_, dtype=bool)\n",
    "core_samples_mask[db.core_sample_indices_] = True\n",
    "labels = db.labels_\n"
   ]
  },
  {
   "cell_type": "code",
   "execution_count": 89,
   "metadata": {},
   "outputs": [],
   "source": [
    "\n",
    "centers = [[1, 1], [-1, -1], [1, -1]]\n",
    "X, labels_true = make_blobs(\n",
    "    n_samples=750, centers=centers, cluster_std=0.4, random_state=0\n",
    ")\n",
    "\n",
    "X = StandardScaler().fit_transform(X)"
   ]
  },
  {
   "cell_type": "code",
   "execution_count": 91,
   "metadata": {},
   "outputs": [
    {
     "data": {
      "text/html": [
       "<div>\n",
       "<style scoped>\n",
       "    .dataframe tbody tr th:only-of-type {\n",
       "        vertical-align: middle;\n",
       "    }\n",
       "\n",
       "    .dataframe tbody tr th {\n",
       "        vertical-align: top;\n",
       "    }\n",
       "\n",
       "    .dataframe thead th {\n",
       "        text-align: right;\n",
       "    }\n",
       "</style>\n",
       "<table border=\"1\" class=\"dataframe\">\n",
       "  <thead>\n",
       "    <tr style=\"text-align: right;\">\n",
       "      <th></th>\n",
       "      <th>fwd_log_ret</th>\n",
       "      <th>fwd_ret</th>\n",
       "      <th>fwd_pct_chg</th>\n",
       "      <th>fwd_close_positive</th>\n",
       "    </tr>\n",
       "  </thead>\n",
       "  <tbody>\n",
       "    <tr>\n",
       "      <th>2014-10-20</th>\n",
       "      <td>0.009437</td>\n",
       "      <td>3.630005</td>\n",
       "      <td>0.009482</td>\n",
       "      <td>1</td>\n",
       "    </tr>\n",
       "    <tr>\n",
       "      <th>2014-10-21</th>\n",
       "      <td>-0.008620</td>\n",
       "      <td>-3.317016</td>\n",
       "      <td>-0.008583</td>\n",
       "      <td>0</td>\n",
       "    </tr>\n",
       "    <tr>\n",
       "      <th>2014-10-22</th>\n",
       "      <td>-0.066750</td>\n",
       "      <td>-24.740998</td>\n",
       "      <td>-0.064571</td>\n",
       "      <td>0</td>\n",
       "    </tr>\n",
       "    <tr>\n",
       "      <th>2014-10-23</th>\n",
       "      <td>-0.000201</td>\n",
       "      <td>-0.071991</td>\n",
       "      <td>-0.000201</td>\n",
       "      <td>0</td>\n",
       "    </tr>\n",
       "    <tr>\n",
       "      <th>2014-10-24</th>\n",
       "      <td>-0.031391</td>\n",
       "      <td>-11.074005</td>\n",
       "      <td>-0.030903</td>\n",
       "      <td>0</td>\n",
       "    </tr>\n",
       "  </tbody>\n",
       "</table>\n",
       "</div>"
      ],
      "text/plain": [
       "            fwd_log_ret    fwd_ret  fwd_pct_chg  fwd_close_positive\n",
       "2014-10-20     0.009437   3.630005     0.009482                   1\n",
       "2014-10-21    -0.008620  -3.317016    -0.008583                   0\n",
       "2014-10-22    -0.066750 -24.740998    -0.064571                   0\n",
       "2014-10-23    -0.000201  -0.071991    -0.000201                   0\n",
       "2014-10-24    -0.031391 -11.074005    -0.030903                   0"
      ]
     },
     "execution_count": 91,
     "metadata": {},
     "output_type": "execute_result"
    }
   ],
   "source": [
    "y_train.head()"
   ]
  },
  {
   "cell_type": "code",
   "execution_count": 96,
   "metadata": {},
   "outputs": [
    {
     "name": "stdout",
     "output_type": "stream",
     "text": [
      "Estimated number of clusters: 16\n",
      "Estimated number of noise points: 2058\n",
      "Homogeneity: 0.005\n",
      "Completeness: 0.004\n",
      "V-measure: 0.004\n",
      "Adjusted Rand Index: -0.003\n",
      "Adjusted Mutual Information: 0.001\n",
      "Silhouette Coefficient: -0.275\n"
     ]
    }
   ],
   "source": [
    "\n",
    "# Number of clusters in labels, ignoring noise if present.\n",
    "n_clusters_ = len(set(labels)) - (1 if -1 in labels else 0)\n",
    "n_noise_ = list(labels).count(-1)\n",
    "\n",
    "print(\"Estimated number of clusters: %d\" % n_clusters_)\n",
    "print(\"Estimated number of noise points: %d\" % n_noise_)\n",
    "print(\"Homogeneity: %0.3f\" % metrics.homogeneity_score(y_train.fwd_close_positive, labels))\n",
    "print(\"Completeness: %0.3f\" % metrics.completeness_score(y_train.fwd_close_positive, labels))\n",
    "print(\"V-measure: %0.3f\" % metrics.v_measure_score(y_train.fwd_close_positive, labels))\n",
    "print(\"Adjusted Rand Index: %0.3f\" % metrics.adjusted_rand_score(y_train.fwd_close_positive, labels))\n",
    "print(\n",
    "    \"Adjusted Mutual Information: %0.3f\"\n",
    "    % metrics.adjusted_mutual_info_score(y_train.fwd_close_positive, labels)\n",
    ")\n",
    "print(\"Silhouette Coefficient: %0.3f\" % metrics.silhouette_score(X_train, labels))"
   ]
  },
  {
   "cell_type": "code",
   "execution_count": 155,
   "metadata": {},
   "outputs": [
    {
     "data": {
      "text/plain": [
       "array([], shape=(0, 1), dtype=int64)"
      ]
     },
     "execution_count": 155,
     "metadata": {},
     "output_type": "execute_result"
    }
   ],
   "source": [
    "np.argwhere(np.isnan(labels))"
   ]
  },
  {
   "cell_type": "code",
   "execution_count": 156,
   "metadata": {},
   "outputs": [],
   "source": [
    "labels=pd.DataFrame(labels,columns=['clust'],dtype='int',index=X_train.index)"
   ]
  },
  {
   "cell_type": "code",
   "execution_count": 157,
   "metadata": {},
   "outputs": [
    {
     "name": "stdout",
     "output_type": "stream",
     "text": [
      "<class 'pandas.core.frame.DataFrame'>\n",
      "DatetimeIndex: 2711 entries, 2014-10-20 to 2022-03-22\n",
      "Data columns (total 1 columns):\n",
      " #   Column  Non-Null Count  Dtype\n",
      "---  ------  --------------  -----\n",
      " 0   clust   2711 non-null   int64\n",
      "dtypes: int64(1)\n",
      "memory usage: 106.9 KB\n"
     ]
    }
   ],
   "source": [
    "labels.info()"
   ]
  },
  {
   "cell_type": "code",
   "execution_count": 164,
   "metadata": {},
   "outputs": [
    {
     "data": {
      "text/plain": [
       "numpy.int64"
      ]
     },
     "execution_count": 164,
     "metadata": {},
     "output_type": "execute_result"
    }
   ],
   "source": [
    "type(labels.clust.iloc[0])"
   ]
  },
  {
   "cell_type": "code",
   "execution_count": 165,
   "metadata": {},
   "outputs": [
    {
     "data": {
      "text/plain": [
       "numpy.float64"
      ]
     },
     "execution_count": 165,
     "metadata": {},
     "output_type": "execute_result"
    }
   ],
   "source": [
    "type(X_train.open.iloc[0])"
   ]
  },
  {
   "cell_type": "code",
   "execution_count": 171,
   "metadata": {},
   "outputs": [
    {
     "name": "stdout",
     "output_type": "stream",
     "text": [
      "<class 'pandas.core.frame.DataFrame'>\n",
      "DatetimeIndex: 2711 entries, 2014-10-20 to 2022-03-22\n",
      "Data columns (total 25 columns):\n",
      " #   Column                        Non-Null Count  Dtype  \n",
      "---  ------                        --------------  -----  \n",
      " 0   open                          2711 non-null   float64\n",
      " 1   high                          2711 non-null   float64\n",
      " 2   low                           2711 non-null   float64\n",
      " 3   close                         2711 non-null   float64\n",
      " 4   volume                        2711 non-null   float64\n",
      " 5   cross                         2711 non-null   float64\n",
      " 6   histy                         2711 non-null   float64\n",
      " 7   month_9                       2711 non-null   int64  \n",
      " 8   month_10                      2711 non-null   int64  \n",
      " 9   day_20                        2711 non-null   int64  \n",
      " 10  day_1                         2711 non-null   int64  \n",
      " 11  day_9                         2711 non-null   int64  \n",
      " 12  atr_above_threshold_0.01      2711 non-null   bool   \n",
      " 13  atr_above_threshold_0.05      2711 non-null   bool   \n",
      " 14  atr_above_threshold_0.1       2711 non-null   bool   \n",
      " 15  atr_above_threshold_0.2       2711 non-null   bool   \n",
      " 16  atr_above_threshold_0.3       2711 non-null   bool   \n",
      " 17  avg-fees-per-transaction      2711 non-null   float64\n",
      " 18  cost-per-transaction-percent  2711 non-null   float64\n",
      " 19  cost-per-transaction          2711 non-null   float64\n",
      " 20  difficulty                    2711 non-null   float64\n",
      " 21  hash-rate                     2711 non-null   float64\n",
      " 22  miners-revenue                2711 non-null   float64\n",
      " 23  transaction-fees-to-miners    2711 non-null   float64\n",
      " 24  clust                         2711 non-null   int64  \n",
      "dtypes: bool(5), float64(14), int64(6)\n",
      "memory usage: 522.5 KB\n"
     ]
    }
   ],
   "source": [
    "X_train.info()"
   ]
  },
  {
   "cell_type": "code",
   "execution_count": 168,
   "metadata": {},
   "outputs": [],
   "source": [
    "X_train=pd.concat([X_train,labels],axis=1)"
   ]
  },
  {
   "cell_type": "code",
   "execution_count": 169,
   "metadata": {},
   "outputs": [],
   "source": [
    "xt=X_train.loc['2018':'2021']"
   ]
  },
  {
   "cell_type": "code",
   "execution_count": 173,
   "metadata": {},
   "outputs": [
    {
     "data": {
      "text/plain": [
       "<seaborn.axisgrid.FacetGrid at 0x7fec2b7b8370>"
      ]
     },
     "execution_count": 173,
     "metadata": {},
     "output_type": "execute_result"
    },
    {
     "data": {
      "image/png": "[encoded data removed]",
      "text/plain": [
       "<Figure size 408.75x360 with 1 Axes>"
      ]
     },
     "metadata": {
      "needs_background": "light"
     },
     "output_type": "display_data"
    }
   ],
   "source": [
    "sns.relplot(x=X_train.loc['2018':'2021'].index, y=X_train.loc['2018':'2021'].close, hue=X_train.loc['2018':'2021'].clust)"
   ]
  }
 ],
 "metadata": {
  "interpreter": {
   "hash": "3067ead486e059ec00ffe7555bdb889e6e264a24dc711bf108106cc7baee8d5d"
  },
  "kernelspec": {
   "display_name": "Python 3.9.12 ('base')",
   "language": "python",
   "name": "python3"
  },
  "language_info": {
   "codemirror_mode": {
    "name": "ipython",
    "version": 3
   },
   "file_extension": ".py",
   "mimetype": "text/x-python",
   "name": "python",
   "nbconvert_exporter": "python",
   "pygments_lexer": "ipython3",
   "version": "3.9.12"
  },
  "orig_nbformat": 4
 },
 "nbformat": 4,
 "nbformat_minor": 2
}
