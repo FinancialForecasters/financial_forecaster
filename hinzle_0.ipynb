{
 "cells": [
  {
   "cell_type": "markdown",
   "metadata": {},
   "source": [
    "---\n",
    "# Imports"
   ]
  },
  {
   "cell_type": "code",
   "execution_count": 1,
   "metadata": {},
   "outputs": [
    {
     "name": "stderr",
     "output_type": "stream",
     "text": [
      "Intel(R) Extension for Scikit-learn* enabled (https://github.com/intel/scikit-learn-intelex)\n"
     ]
    }
   ],
   "source": [
    "# imports.py\n",
    "from imports import *\n",
    "from sklearn.datasets import make_blobs\n",
    "\n",
    "# plotting magic\n",
    "%matplotlib inline\n",
    "\n",
    "# custom mods\n",
    "import tidy\n",
    "import model_h\n",
    "import wrangle"
   ]
  },
  {
   "cell_type": "markdown",
   "metadata": {},
   "source": [
    "---\n",
    "# Tidiness"
   ]
  },
  {
   "cell_type": "code",
   "execution_count": 2,
   "metadata": {},
   "outputs": [
    {
     "name": "stdout",
     "output_type": "stream",
     "text": [
      "cached csv\n",
      "<class 'pandas.core.frame.DataFrame'>\n",
      "DatetimeIndex: 2770 entries, 2014-10-20 to 2022-05-24\n",
      "Data columns (total 33 columns):\n",
      " #   Column                        Non-Null Count  Dtype  \n",
      "---  ------                        --------------  -----  \n",
      " 0   open                          2770 non-null   float64\n",
      " 1   high                          2770 non-null   float64\n",
      " 2   low                           2770 non-null   float64\n",
      " 3   close                         2770 non-null   float64\n",
      " 4   volume                        2770 non-null   float64\n",
      " 5   fwd_log_ret                   2770 non-null   float64\n",
      " 6   fwd_ret                       2770 non-null   float64\n",
      " 7   fwd_pct_chg                   2770 non-null   float64\n",
      " 8   fwd_close_positive            2770 non-null   float64\n",
      " 9   macd                          2770 non-null   float64\n",
      " 10  signal                        2770 non-null   float64\n",
      " 11  histo                         2770 non-null   float64\n",
      " 12  cross                         2770 non-null   float64\n",
      " 13  histy                         2770 non-null   float64\n",
      " 14  month_9                       2770 non-null   float64\n",
      " 15  month_10                      2770 non-null   float64\n",
      " 16  day_20                        2770 non-null   float64\n",
      " 17  day_1                         2770 non-null   float64\n",
      " 18  day_9                         2770 non-null   float64\n",
      " 19  atr_above_threshold_0.01      2770 non-null   object \n",
      " 20  atr_above_threshold_0.05      2770 non-null   object \n",
      " 21  atr_above_threshold_0.1       2770 non-null   object \n",
      " 22  atr_above_threshold_0.2       2770 non-null   object \n",
      " 23  atr_above_threshold_0.3       2770 non-null   object \n",
      " 24  avg-fees-per-transaction      2770 non-null   float64\n",
      " 25  cost-per-transaction-percent  2770 non-null   float64\n",
      " 26  cost-per-transaction          2770 non-null   float64\n",
      " 27  difficulty                    2770 non-null   float64\n",
      " 28  hash-rate                     2770 non-null   float64\n",
      " 29  miners-revenue                2770 non-null   float64\n",
      " 30  transaction-fees-to-miners    2770 non-null   float64\n",
      " 31  sentiment                     2770 non-null   float64\n",
      " 32  obv_close_product             2770 non-null   float64\n",
      "dtypes: float64(28), object(5)\n",
      "memory usage: 735.8+ KB\n"
     ]
    },
    {
     "data": {
      "text/html": [
       "<div>\n",
       "<style scoped>\n",
       "    .dataframe tbody tr th:only-of-type {\n",
       "        vertical-align: middle;\n",
       "    }\n",
       "\n",
       "    .dataframe tbody tr th {\n",
       "        vertical-align: top;\n",
       "    }\n",
       "\n",
       "    .dataframe thead th {\n",
       "        text-align: right;\n",
       "    }\n",
       "</style>\n",
       "<table border=\"1\" class=\"dataframe\">\n",
       "  <thead>\n",
       "    <tr style=\"text-align: right;\">\n",
       "      <th></th>\n",
       "      <th>open</th>\n",
       "      <th>high</th>\n",
       "      <th>low</th>\n",
       "      <th>close</th>\n",
       "      <th>volume</th>\n",
       "      <th>fwd_log_ret</th>\n",
       "      <th>fwd_ret</th>\n",
       "      <th>fwd_pct_chg</th>\n",
       "      <th>fwd_close_positive</th>\n",
       "      <th>macd</th>\n",
       "      <th>signal</th>\n",
       "      <th>histo</th>\n",
       "      <th>cross</th>\n",
       "      <th>histy</th>\n",
       "      <th>month_9</th>\n",
       "      <th>month_10</th>\n",
       "      <th>day_20</th>\n",
       "      <th>day_1</th>\n",
       "      <th>day_9</th>\n",
       "      <th>atr_above_threshold_0.01</th>\n",
       "      <th>atr_above_threshold_0.05</th>\n",
       "      <th>atr_above_threshold_0.1</th>\n",
       "      <th>atr_above_threshold_0.2</th>\n",
       "      <th>atr_above_threshold_0.3</th>\n",
       "      <th>avg-fees-per-transaction</th>\n",
       "      <th>cost-per-transaction-percent</th>\n",
       "      <th>cost-per-transaction</th>\n",
       "      <th>difficulty</th>\n",
       "      <th>hash-rate</th>\n",
       "      <th>miners-revenue</th>\n",
       "      <th>transaction-fees-to-miners</th>\n",
       "      <th>sentiment</th>\n",
       "      <th>obv_close_product</th>\n",
       "    </tr>\n",
       "  </thead>\n",
       "  <tbody>\n",
       "    <tr>\n",
       "      <th>2014-10-20</th>\n",
       "      <td>389.230988</td>\n",
       "      <td>390.084015</td>\n",
       "      <td>378.252014</td>\n",
       "      <td>382.845001</td>\n",
       "      <td>16419000.0</td>\n",
       "      <td>0.009437</td>\n",
       "      <td>3.630005</td>\n",
       "      <td>0.009482</td>\n",
       "      <td>1.0</td>\n",
       "      <td>-6.216836</td>\n",
       "      <td>-14.504225</td>\n",
       "      <td>8.287389</td>\n",
       "      <td>0.0</td>\n",
       "      <td>1.0</td>\n",
       "      <td>0.0</td>\n",
       "      <td>1.0</td>\n",
       "      <td>1.0</td>\n",
       "      <td>0.0</td>\n",
       "      <td>0.0</td>\n",
       "      <td>False</td>\n",
       "      <td>False</td>\n",
       "      <td>False</td>\n",
       "      <td>False</td>\n",
       "      <td>False</td>\n",
       "      <td>0.059651</td>\n",
       "      <td>2.830044</td>\n",
       "      <td>24.826121</td>\n",
       "      <td>3.500248e+10</td>\n",
       "      <td>233157.697776</td>\n",
       "      <td>1.747486e+06</td>\n",
       "      <td>4198.799233</td>\n",
       "      <td>0.234784</td>\n",
       "      <td>0.458883</td>\n",
       "    </tr>\n",
       "    <tr>\n",
       "      <th>2014-10-21</th>\n",
       "      <td>382.420990</td>\n",
       "      <td>392.645996</td>\n",
       "      <td>380.834015</td>\n",
       "      <td>386.475006</td>\n",
       "      <td>14188900.0</td>\n",
       "      <td>-0.008620</td>\n",
       "      <td>-3.317016</td>\n",
       "      <td>-0.008583</td>\n",
       "      <td>0.0</td>\n",
       "      <td>-5.196584</td>\n",
       "      <td>-12.642697</td>\n",
       "      <td>7.446112</td>\n",
       "      <td>0.0</td>\n",
       "      <td>1.0</td>\n",
       "      <td>0.0</td>\n",
       "      <td>1.0</td>\n",
       "      <td>0.0</td>\n",
       "      <td>0.0</td>\n",
       "      <td>0.0</td>\n",
       "      <td>False</td>\n",
       "      <td>False</td>\n",
       "      <td>False</td>\n",
       "      <td>False</td>\n",
       "      <td>False</td>\n",
       "      <td>0.060749</td>\n",
       "      <td>2.830044</td>\n",
       "      <td>20.194035</td>\n",
       "      <td>3.500248e+10</td>\n",
       "      <td>233157.697776</td>\n",
       "      <td>1.903490e+06</td>\n",
       "      <td>5726.216590</td>\n",
       "      <td>0.274812</td>\n",
       "      <td>0.510393</td>\n",
       "    </tr>\n",
       "    <tr>\n",
       "      <th>2014-10-22</th>\n",
       "      <td>386.118011</td>\n",
       "      <td>388.575989</td>\n",
       "      <td>382.248993</td>\n",
       "      <td>383.157990</td>\n",
       "      <td>11641300.0</td>\n",
       "      <td>-0.066750</td>\n",
       "      <td>-24.740998</td>\n",
       "      <td>-0.064571</td>\n",
       "      <td>0.0</td>\n",
       "      <td>-4.602627</td>\n",
       "      <td>-11.034683</td>\n",
       "      <td>6.432056</td>\n",
       "      <td>0.0</td>\n",
       "      <td>1.0</td>\n",
       "      <td>0.0</td>\n",
       "      <td>1.0</td>\n",
       "      <td>0.0</td>\n",
       "      <td>0.0</td>\n",
       "      <td>0.0</td>\n",
       "      <td>False</td>\n",
       "      <td>False</td>\n",
       "      <td>False</td>\n",
       "      <td>False</td>\n",
       "      <td>False</td>\n",
       "      <td>0.060749</td>\n",
       "      <td>2.830044</td>\n",
       "      <td>20.194035</td>\n",
       "      <td>3.500248e+10</td>\n",
       "      <td>297537.062088</td>\n",
       "      <td>1.903490e+06</td>\n",
       "      <td>5726.216590</td>\n",
       "      <td>0.258505</td>\n",
       "      <td>0.465414</td>\n",
       "    </tr>\n",
       "    <tr>\n",
       "      <th>2014-10-23</th>\n",
       "      <td>382.962006</td>\n",
       "      <td>385.048004</td>\n",
       "      <td>356.446991</td>\n",
       "      <td>358.416992</td>\n",
       "      <td>26456900.0</td>\n",
       "      <td>-0.000201</td>\n",
       "      <td>-0.071991</td>\n",
       "      <td>-0.000201</td>\n",
       "      <td>0.0</td>\n",
       "      <td>-6.058464</td>\n",
       "      <td>-10.039439</td>\n",
       "      <td>3.980975</td>\n",
       "      <td>0.0</td>\n",
       "      <td>1.0</td>\n",
       "      <td>0.0</td>\n",
       "      <td>1.0</td>\n",
       "      <td>0.0</td>\n",
       "      <td>0.0</td>\n",
       "      <td>0.0</td>\n",
       "      <td>False</td>\n",
       "      <td>False</td>\n",
       "      <td>False</td>\n",
       "      <td>False</td>\n",
       "      <td>False</td>\n",
       "      <td>0.060749</td>\n",
       "      <td>2.566983</td>\n",
       "      <td>20.194035</td>\n",
       "      <td>3.500248e+10</td>\n",
       "      <td>297537.062088</td>\n",
       "      <td>1.903490e+06</td>\n",
       "      <td>5726.216590</td>\n",
       "      <td>0.277373</td>\n",
       "      <td>0.286309</td>\n",
       "    </tr>\n",
       "    <tr>\n",
       "      <th>2014-10-24</th>\n",
       "      <td>358.591003</td>\n",
       "      <td>364.345001</td>\n",
       "      <td>353.304993</td>\n",
       "      <td>358.345001</td>\n",
       "      <td>15585700.0</td>\n",
       "      <td>-0.031391</td>\n",
       "      <td>-11.074005</td>\n",
       "      <td>-0.030903</td>\n",
       "      <td>0.0</td>\n",
       "      <td>-7.135779</td>\n",
       "      <td>-9.458707</td>\n",
       "      <td>2.322928</td>\n",
       "      <td>0.0</td>\n",
       "      <td>1.0</td>\n",
       "      <td>0.0</td>\n",
       "      <td>1.0</td>\n",
       "      <td>0.0</td>\n",
       "      <td>0.0</td>\n",
       "      <td>0.0</td>\n",
       "      <td>False</td>\n",
       "      <td>False</td>\n",
       "      <td>False</td>\n",
       "      <td>False</td>\n",
       "      <td>False</td>\n",
       "      <td>0.056403</td>\n",
       "      <td>2.566983</td>\n",
       "      <td>18.762679</td>\n",
       "      <td>3.500248e+10</td>\n",
       "      <td>297537.062088</td>\n",
       "      <td>1.603290e+06</td>\n",
       "      <td>4819.681933</td>\n",
       "      <td>0.276173</td>\n",
       "      <td>0.302494</td>\n",
       "    </tr>\n",
       "  </tbody>\n",
       "</table>\n",
       "</div>"
      ],
      "text/plain": [
       "                  open        high         low       close      volume  \\\n",
       "2014-10-20  389.230988  390.084015  378.252014  382.845001  16419000.0   \n",
       "2014-10-21  382.420990  392.645996  380.834015  386.475006  14188900.0   \n",
       "2014-10-22  386.118011  388.575989  382.248993  383.157990  11641300.0   \n",
       "2014-10-23  382.962006  385.048004  356.446991  358.416992  26456900.0   \n",
       "2014-10-24  358.591003  364.345001  353.304993  358.345001  15585700.0   \n",
       "\n",
       "            fwd_log_ret    fwd_ret  fwd_pct_chg  fwd_close_positive      macd  \\\n",
       "2014-10-20     0.009437   3.630005     0.009482                 1.0 -6.216836   \n",
       "2014-10-21    -0.008620  -3.317016    -0.008583                 0.0 -5.196584   \n",
       "2014-10-22    -0.066750 -24.740998    -0.064571                 0.0 -4.602627   \n",
       "2014-10-23    -0.000201  -0.071991    -0.000201                 0.0 -6.058464   \n",
       "2014-10-24    -0.031391 -11.074005    -0.030903                 0.0 -7.135779   \n",
       "\n",
       "               signal     histo  cross  histy  month_9  month_10  day_20  \\\n",
       "2014-10-20 -14.504225  8.287389    0.0    1.0      0.0       1.0     1.0   \n",
       "2014-10-21 -12.642697  7.446112    0.0    1.0      0.0       1.0     0.0   \n",
       "2014-10-22 -11.034683  6.432056    0.0    1.0      0.0       1.0     0.0   \n",
       "2014-10-23 -10.039439  3.980975    0.0    1.0      0.0       1.0     0.0   \n",
       "2014-10-24  -9.458707  2.322928    0.0    1.0      0.0       1.0     0.0   \n",
       "\n",
       "            day_1  day_9 atr_above_threshold_0.01 atr_above_threshold_0.05  \\\n",
       "2014-10-20    0.0    0.0                    False                    False   \n",
       "2014-10-21    0.0    0.0                    False                    False   \n",
       "2014-10-22    0.0    0.0                    False                    False   \n",
       "2014-10-23    0.0    0.0                    False                    False   \n",
       "2014-10-24    0.0    0.0                    False                    False   \n",
       "\n",
       "           atr_above_threshold_0.1 atr_above_threshold_0.2  \\\n",
       "2014-10-20                   False                   False   \n",
       "2014-10-21                   False                   False   \n",
       "2014-10-22                   False                   False   \n",
       "2014-10-23                   False                   False   \n",
       "2014-10-24                   False                   False   \n",
       "\n",
       "           atr_above_threshold_0.3  avg-fees-per-transaction  \\\n",
       "2014-10-20                   False                  0.059651   \n",
       "2014-10-21                   False                  0.060749   \n",
       "2014-10-22                   False                  0.060749   \n",
       "2014-10-23                   False                  0.060749   \n",
       "2014-10-24                   False                  0.056403   \n",
       "\n",
       "            cost-per-transaction-percent  cost-per-transaction    difficulty  \\\n",
       "2014-10-20                      2.830044             24.826121  3.500248e+10   \n",
       "2014-10-21                      2.830044             20.194035  3.500248e+10   \n",
       "2014-10-22                      2.830044             20.194035  3.500248e+10   \n",
       "2014-10-23                      2.566983             20.194035  3.500248e+10   \n",
       "2014-10-24                      2.566983             18.762679  3.500248e+10   \n",
       "\n",
       "                hash-rate  miners-revenue  transaction-fees-to-miners  \\\n",
       "2014-10-20  233157.697776    1.747486e+06                 4198.799233   \n",
       "2014-10-21  233157.697776    1.903490e+06                 5726.216590   \n",
       "2014-10-22  297537.062088    1.903490e+06                 5726.216590   \n",
       "2014-10-23  297537.062088    1.903490e+06                 5726.216590   \n",
       "2014-10-24  297537.062088    1.603290e+06                 4819.681933   \n",
       "\n",
       "            sentiment  obv_close_product  \n",
       "2014-10-20   0.234784           0.458883  \n",
       "2014-10-21   0.274812           0.510393  \n",
       "2014-10-22   0.258505           0.465414  \n",
       "2014-10-23   0.277373           0.286309  \n",
       "2014-10-24   0.276173           0.302494  "
      ]
     },
     "execution_count": 2,
     "metadata": {},
     "output_type": "execute_result"
    }
   ],
   "source": [
    "df=wrangle.wrangle_df()\n",
    "df.info()\n",
    "# model_h.print_btcusd(df)\n",
    "df.head()"
   ]
  },
  {
   "cell_type": "code",
   "execution_count": 3,
   "metadata": {},
   "outputs": [
    {
     "data": {
      "text/plain": [
       "<AxesSubplot:>"
      ]
     },
     "execution_count": 3,
     "metadata": {},
     "output_type": "execute_result"
    },
    {
     "data": {
      "image/png": "[encoded data removed]",
      "text/plain": [
       "<Figure size 432x288 with 1 Axes>"
      ]
     },
     "metadata": {
      "needs_background": "light"
     },
     "output_type": "display_data"
    }
   ],
   "source": [
    "df.close.resample('m').mean().plot(alpha=.2, label='resample')"
   ]
  },
  {
   "cell_type": "code",
   "execution_count": 4,
   "metadata": {},
   "outputs": [
    {
     "name": "stdout",
     "output_type": "stream",
     "text": [
      "<class 'pandas.core.frame.DataFrame'>\n",
      "DatetimeIndex: 32 entries, 2022-03-23 to 2022-04-23\n",
      "Data columns (total 33 columns):\n",
      " #   Column                        Non-Null Count  Dtype  \n",
      "---  ------                        --------------  -----  \n",
      " 0   open                          32 non-null     float64\n",
      " 1   high                          32 non-null     float64\n",
      " 2   low                           32 non-null     float64\n",
      " 3   close                         32 non-null     float64\n",
      " 4   volume                        32 non-null     float64\n",
      " 5   fwd_log_ret                   32 non-null     float64\n",
      " 6   fwd_ret                       32 non-null     float64\n",
      " 7   fwd_pct_chg                   32 non-null     float64\n",
      " 8   fwd_close_positive            32 non-null     float64\n",
      " 9   macd                          32 non-null     float64\n",
      " 10  signal                        32 non-null     float64\n",
      " 11  histo                         32 non-null     float64\n",
      " 12  cross                         32 non-null     float64\n",
      " 13  histy                         32 non-null     float64\n",
      " 14  month_9                       32 non-null     float64\n",
      " 15  month_10                      32 non-null     float64\n",
      " 16  day_20                        32 non-null     float64\n",
      " 17  day_1                         32 non-null     float64\n",
      " 18  day_9                         32 non-null     float64\n",
      " 19  atr_above_threshold_0.01      32 non-null     object \n",
      " 20  atr_above_threshold_0.05      32 non-null     object \n",
      " 21  atr_above_threshold_0.1       32 non-null     object \n",
      " 22  atr_above_threshold_0.2       32 non-null     object \n",
      " 23  atr_above_threshold_0.3       32 non-null     object \n",
      " 24  avg-fees-per-transaction      32 non-null     float64\n",
      " 25  cost-per-transaction-percent  32 non-null     float64\n",
      " 26  cost-per-transaction          32 non-null     float64\n",
      " 27  difficulty                    32 non-null     float64\n",
      " 28  hash-rate                     32 non-null     float64\n",
      " 29  miners-revenue                32 non-null     float64\n",
      " 30  transaction-fees-to-miners    32 non-null     float64\n",
      " 31  sentiment                     32 non-null     float64\n",
      " 32  obv_close_product             32 non-null     float64\n",
      "dtypes: float64(28), object(5)\n",
      "memory usage: 8.5+ KB\n"
     ]
    },
    {
     "data": {
      "text/plain": [
       "(None,\n",
       "                     open          high           low         close  \\\n",
       " 2022-03-23  42364.378906  42893.507813  41877.507813  42892.957031   \n",
       " 2022-03-24  42886.652344  44131.855469  42726.164063  43960.933594   \n",
       " 2022-03-25  43964.546875  44999.492188  43706.285156  44348.730469   \n",
       " 2022-03-26  44349.859375  44735.996094  44166.273438  44500.828125   \n",
       " 2022-03-27  44505.355469  46827.546875  44437.292969  46820.492188   \n",
       " \n",
       "                   volume  fwd_log_ret      fwd_ret  fwd_pct_chg  \\\n",
       " 2022-03-23  2.524294e+10     0.024594  1067.976563     0.024899   \n",
       " 2022-03-24  3.104299e+10     0.008783   387.796875     0.008821   \n",
       " 2022-03-25  3.057441e+10     0.003424   152.097656     0.003430   \n",
       " 2022-03-26  1.695046e+10     0.050813  2319.664063     0.052126   \n",
       " 2022-03-27  2.816089e+10     0.006546   307.511718     0.006568   \n",
       " \n",
       "             fwd_close_positive         macd      signal       histo  cross  \\\n",
       " 2022-03-23                 1.0   496.267336  152.548856  343.718480    0.0   \n",
       " 2022-03-24                 1.0   676.647807  257.368646  419.279161    0.0   \n",
       " 2022-03-25                 1.0   841.195815  374.134080  467.061735    0.0   \n",
       " 2022-03-26                 1.0   972.662064  493.839677  478.822387    0.0   \n",
       " 2022-03-27                 1.0  1249.622645  644.996270  604.626374    0.0   \n",
       " \n",
       "             histy  month_9  month_10  day_20  day_1  day_9  \\\n",
       " 2022-03-23    1.0      0.0       0.0     0.0    0.0    0.0   \n",
       " 2022-03-24    1.0      0.0       0.0     0.0    0.0    0.0   \n",
       " 2022-03-25    1.0      0.0       0.0     0.0    0.0    0.0   \n",
       " 2022-03-26    1.0      0.0       0.0     0.0    0.0    0.0   \n",
       " 2022-03-27    1.0      0.0       0.0     0.0    0.0    0.0   \n",
       " \n",
       "            atr_above_threshold_0.01 atr_above_threshold_0.05  \\\n",
       " 2022-03-23                    False                    False   \n",
       " 2022-03-24                    False                    False   \n",
       " 2022-03-25                    False                    False   \n",
       " 2022-03-26                    False                    False   \n",
       " 2022-03-27                    False                    False   \n",
       " \n",
       "            atr_above_threshold_0.1 atr_above_threshold_0.2  \\\n",
       " 2022-03-23                   False                   False   \n",
       " 2022-03-24                   False                   False   \n",
       " 2022-03-25                   False                   False   \n",
       " 2022-03-26                   False                   False   \n",
       " 2022-03-27                   False                   False   \n",
       " \n",
       "            atr_above_threshold_0.3  avg-fees-per-transaction  \\\n",
       " 2022-03-23                   False                  1.735049   \n",
       " 2022-03-24                   False                  1.735049   \n",
       " 2022-03-25                   False                  1.968806   \n",
       " 2022-03-26                   False                  1.968806   \n",
       " 2022-03-27                   False                  1.968806   \n",
       " \n",
       "             cost-per-transaction-percent  cost-per-transaction    difficulty  \\\n",
       " 2022-03-23                      0.631079            150.769510  2.745271e+13   \n",
       " 2022-03-24                      0.922893            150.769510  2.745271e+13   \n",
       " 2022-03-25                      0.922893            150.511149  2.745271e+13   \n",
       " 2022-03-26                      0.922893            150.511149  2.745271e+13   \n",
       " 2022-03-27                      0.921668            150.511149  2.745271e+13   \n",
       " \n",
       "                hash-rate  miners-revenue  transaction-fees-to-miners  \\\n",
       " 2022-03-23  1.978788e+08    3.988894e+07               459040.050128   \n",
       " 2022-03-24  1.978788e+08    3.988894e+07               459040.050128   \n",
       " 2022-03-25  1.978788e+08    4.375645e+07               572369.415451   \n",
       " 2022-03-26  2.197137e+08    4.375645e+07               572369.415451   \n",
       " 2022-03-27  2.197137e+08    4.375645e+07               572369.415451   \n",
       " \n",
       "             sentiment  obv_close_product  \n",
       " 2022-03-23   0.082640           0.577934  \n",
       " 2022-03-24   0.092771           0.940801  \n",
       " 2022-03-25   0.071903           0.999111  \n",
       " 2022-03-26   0.069578           1.000000  \n",
       " 2022-03-27   0.073572           1.000000  )"
      ]
     },
     "execution_count": 4,
     "metadata": {},
     "output_type": "execute_result"
    }
   ],
   "source": [
    "train_i, validate=tidy.split_i(df)\n",
    "validate.info(),validate.head()\n",
    "# train_ii, test=tidy.split_ii(df)\n",
    "# train_ii.info(),test.info()\n"
   ]
  },
  {
   "cell_type": "markdown",
   "metadata": {},
   "source": [
    "---\n",
    "# Baseline"
   ]
  },
  {
   "cell_type": "code",
   "execution_count": 14,
   "metadata": {},
   "outputs": [
    {
     "data": {
      "text/plain": [
       "15.506451271887698"
      ]
     },
     "execution_count": 14,
     "metadata": {},
     "output_type": "execute_result"
    }
   ],
   "source": [
    "(train_i.close[-1]-train_i.close[0])/len(train_i)\n",
    "\n",
    "# UPDATE: DAILY simple return\n",
    "# this is simple return if you bought 1 btc in 2014-09-17 and sold in 2022-03-23"
   ]
  },
  {
   "cell_type": "code",
   "execution_count": 13,
   "metadata": {},
   "outputs": [
    {
     "data": {
      "text/plain": [
       "13.817506896932604"
      ]
     },
     "execution_count": 13,
     "metadata": {},
     "output_type": "execute_result"
    }
   ],
   "source": [
    "(train_i.close.sum()-train_i.open.sum())/len(train_i)\n",
    "\n",
    "# UPDATE: DAILY simple return\n",
    "# this is simple return if you bought every morning and sold every night"
   ]
  },
  {
   "cell_type": "code",
   "execution_count": 7,
   "metadata": {},
   "outputs": [
    {
     "data": {
      "text/plain": [
       "0.02439731930876332"
      ]
     },
     "execution_count": 7,
     "metadata": {},
     "output_type": "execute_result"
    }
   ],
   "source": [
    "1-36491.43405399999/37403.99116999656\n"
   ]
  },
  {
   "cell_type": "markdown",
   "metadata": {},
   "source": [
    "---\n",
    "# MACD "
   ]
  },
  {
   "cell_type": "code",
   "execution_count": 8,
   "metadata": {},
   "outputs": [],
   "source": [
    "# def macd_df(df):\n",
    "# \t'''\n",
    "# \tmacd encoder\n",
    "# \t'''\n",
    "# \treturn macker, mac\n",
    "\t"
   ]
  },
  {
   "cell_type": "code",
   "execution_count": 9,
   "metadata": {},
   "outputs": [],
   "source": [
    "# macd, signal, histo = talib.MACD(df.close,fastperiod=12, slowperiod=26, signalperiod=9)\n",
    "# mac=pd.concat([df,macd,signal,histo],axis=1)\n",
    "# mac=mac.rename(columns={0:'macd',1:'signal',2:'histo'})\n",
    "# mac=mac.drop(mac[mac.index<'2014-10-20'].index)\n",
    "# mac=mac.fillna(0)"
   ]
  },
  {
   "cell_type": "code",
   "execution_count": 10,
   "metadata": {},
   "outputs": [
    {
     "ename": "NameError",
     "evalue": "name 'mac' is not defined",
     "output_type": "error",
     "traceback": [
      "\u001b[0;31m---------------------------------------------------------------------------\u001b[0m",
      "\u001b[0;31mNameError\u001b[0m                                 Traceback (most recent call last)",
      "\u001b[1;32m/Users/hinzlehome/codeup-data-science/financial_forecaster/hinzle_0.ipynb Cell 14'\u001b[0m in \u001b[0;36m<cell line: 1>\u001b[0;34m()\u001b[0m\n\u001b[0;32m----> <a href='vscode-notebook-cell:/Users/hinzlehome/codeup-data-science/financial_forecaster/hinzle_0.ipynb#ch0000013?line=0'>1</a>\u001b[0m mac\u001b[39m.\u001b[39mhead()\n",
      "\u001b[0;31mNameError\u001b[0m: name 'mac' is not defined"
     ]
    }
   ],
   "source": [
    "mac.head()"
   ]
  },
  {
   "cell_type": "code",
   "execution_count": null,
   "metadata": {},
   "outputs": [],
   "source": [
    "# cools=mac.histo>0\n",
    "# # start=cools[0]\n",
    "# not_list=[]\n"
   ]
  },
  {
   "cell_type": "code",
   "execution_count": null,
   "metadata": {},
   "outputs": [],
   "source": [
    "\n",
    "# for x in cools:\n",
    "# \tif x:\n",
    "# \t\tnot_list.append(1)\n",
    "# \telse:\n",
    "# \t\tnot_list.append(0)\n"
   ]
  },
  {
   "cell_type": "code",
   "execution_count": null,
   "metadata": {},
   "outputs": [],
   "source": [
    "# not_list"
   ]
  },
  {
   "cell_type": "code",
   "execution_count": null,
   "metadata": {},
   "outputs": [],
   "source": [
    "\n",
    "# not_list=pd.Series(not_list, index=mac.index)\n"
   ]
  },
  {
   "cell_type": "code",
   "execution_count": null,
   "metadata": {},
   "outputs": [],
   "source": [
    "# bools=mac.macd>mac.signal\n",
    "# yesterday=bools[0]\n",
    "# list=[]\n"
   ]
  },
  {
   "cell_type": "code",
   "execution_count": null,
   "metadata": {},
   "outputs": [],
   "source": [
    "\n",
    "# for today in bools:\n",
    "# \tif today==yesterday:\n",
    "# \t\tlist.append(0)\n",
    "# \t\tcontinue\n",
    "# \telse:\n",
    "# \t\tlist.append(1)\n",
    "# \t\tyesterday=today\n",
    "\n",
    "# list=pd.Series(list, index=mac.index)\n",
    "\n",
    "# # crossover indicator\n",
    "# macker=pd.concat([mac.close,list,not_list],axis=1)\n",
    "# macker=macker.rename({0:'cross',1:'histy'},axis=1)\n"
   ]
  },
  {
   "cell_type": "code",
   "execution_count": null,
   "metadata": {},
   "outputs": [],
   "source": [
    "\n",
    "# macker, mac=macd_df(train_i)"
   ]
  },
  {
   "cell_type": "code",
   "execution_count": null,
   "metadata": {},
   "outputs": [],
   "source": [
    "def macd_roi(df):\n",
    "\tbuy=[]\n",
    "\tsell=[]\n",
    "\tfor i in df.index:\n",
    "\t\tif df.loc[i].cross > 0:\n",
    "\t\t\tif df.loc[i].histy > 0:\n",
    "\t\t\t\tbuy.append(df.loc[i].close)\n",
    "\t\t\t\tsell.append(0)\n",
    "\t\t\telse:\n",
    "\t\t\t\tbuy.append(0)\n",
    "\t\t\t\tsell.append(df.loc[i].close)\n",
    "\t\telse:\n",
    "\t\t\tcontinue\n",
    "\treturn buy,sell\n",
    "\t\n",
    "buy,sell=macd_roi(df)"
   ]
  },
  {
   "cell_type": "code",
   "execution_count": null,
   "metadata": {},
   "outputs": [],
   "source": [
    "profits=pd.DataFrame({'buy':buy,'sell':sell})"
   ]
  },
  {
   "cell_type": "code",
   "execution_count": null,
   "metadata": {},
   "outputs": [],
   "source": [
    "profits.head()"
   ]
  },
  {
   "cell_type": "code",
   "execution_count": null,
   "metadata": {},
   "outputs": [],
   "source": [
    "if profits.buy.loc[0] == 0:\n",
    "\tprofits=profits.drop(0)\n",
    "\tprofits.sell=profits.sell.shift(-1)\n",
    "else:\n",
    "\tprofits.sell=profits.sell.shift(-1)"
   ]
  },
  {
   "cell_type": "code",
   "execution_count": null,
   "metadata": {},
   "outputs": [],
   "source": [
    "(profits.sell-profits.buy).sum()"
   ]
  },
  {
   "cell_type": "code",
   "execution_count": null,
   "metadata": {},
   "outputs": [],
   "source": [
    "plt.figure(figsize=[18,12])\n",
    "df.macd.tail(500).plot()\n",
    "df.signal.tail(500).plot()\n",
    "plt.stem(df.index[-500:],df['histo'].tail(500),linefmt='silver',markerfmt='w,')\n",
    "_=df[(df.cross==1)&(df.histy==1)].tail(500)\n",
    "plt.scatter(y=_.close,x=_.index,c='green')\n",
    "_=df[(df.cross==1)&(df.histy==0)].tail(500)\n",
    "plt.scatter(y=_.close,x=_.index,c='red')\n",
    "df.close.tail(500).plot(color='blue')\n",
    "plt.show()\n",
    "\n",
    "\n",
    "#wip\n"
   ]
  },
  {
   "cell_type": "markdown",
   "metadata": {},
   "source": [
    "---\n",
    "# Xy Split"
   ]
  },
  {
   "cell_type": "code",
   "execution_count": null,
   "metadata": {},
   "outputs": [],
   "source": [
    "X=df[['open', 'high', 'low', 'close', 'volume', 'obv_close_product', 'macd', 'signal', 'histo', 'cross', 'histy', 'atr_above_threshold_0.01',\n",
    "       'atr_above_threshold_0.05', 'atr_above_threshold_0.1',\n",
    "       'atr_above_threshold_0.2', 'atr_above_threshold_0.3','sentiment']]"
   ]
  },
  {
   "cell_type": "code",
   "execution_count": null,
   "metadata": {},
   "outputs": [],
   "source": [
    "y=df[['fwd_log_ret', 'fwd_ret', 'fwd_pct_chg', 'fwd_close_positive']]"
   ]
  },
  {
   "cell_type": "code",
   "execution_count": null,
   "metadata": {},
   "outputs": [],
   "source": [
    "X_train, X_val=tidy.split_i(X)"
   ]
  },
  {
   "cell_type": "code",
   "execution_count": null,
   "metadata": {},
   "outputs": [],
   "source": [
    "y_train, y_val=tidy.split_i(y)"
   ]
  },
  {
   "cell_type": "code",
   "execution_count": null,
   "metadata": {},
   "outputs": [],
   "source": [
    "smaller=X_train.volume.copy()\n",
    "\n",
    "X_train.volume=smaller.astype('float64')"
   ]
  },
  {
   "cell_type": "code",
   "execution_count": null,
   "metadata": {},
   "outputs": [],
   "source": [
    "for col in X_train.columns:\n",
    "\tif X_train[col].dtype == 'float64':\n",
    "\t\txs=np.array(X_train[[col]]).reshape(-1, 1)\n",
    "\t\tX_train.loc[:,col]=RobustScaler().fit_transform(xs)\n",
    "\t\tprint(col)\n"
   ]
  },
  {
   "cell_type": "code",
   "execution_count": null,
   "metadata": {},
   "outputs": [],
   "source": [
    "X_train.describe()"
   ]
  },
  {
   "cell_type": "markdown",
   "metadata": {},
   "source": [
    "---\n",
    "# Clustering"
   ]
  },
  {
   "cell_type": "code",
   "execution_count": null,
   "metadata": {},
   "outputs": [],
   "source": [
    "db = DBSCAN(eps=0.3, min_samples=10).fit(X_train)\n",
    "core_samples_mask = np.zeros_like(db.labels_, dtype=bool)\n",
    "core_samples_mask[db.core_sample_indices_] = True\n",
    "labels = db.labels_\n"
   ]
  },
  {
   "cell_type": "code",
   "execution_count": null,
   "metadata": {},
   "outputs": [],
   "source": [
    "\n",
    "centers = [[1, 1], [-1, -1], [1, -1]]\n",
    "X, labels_true = make_blobs(\n",
    "    n_samples=750, centers=centers, cluster_std=0.4, random_state=0\n",
    ")\n",
    "\n",
    "X = StandardScaler().fit_transform(X)"
   ]
  },
  {
   "cell_type": "code",
   "execution_count": null,
   "metadata": {},
   "outputs": [],
   "source": [
    "y_train.head()"
   ]
  },
  {
   "cell_type": "code",
   "execution_count": null,
   "metadata": {},
   "outputs": [],
   "source": [
    "\n",
    "# Number of clusters in labels, ignoring noise if present.\n",
    "n_clusters_ = len(set(labels)) - (1 if -1 in labels else 0)\n",
    "n_noise_ = list(labels).count(-1)\n",
    "\n",
    "print(\"Estimated number of clusters: %d\" % n_clusters_)\n",
    "print(\"Estimated number of noise points: %d\" % n_noise_)\n",
    "print(\"Homogeneity: %0.3f\" % metrics.homogeneity_score(y_train.fwd_close_positive, labels))\n",
    "print(\"Completeness: %0.3f\" % metrics.completeness_score(y_train.fwd_close_positive, labels))\n",
    "print(\"V-measure: %0.3f\" % metrics.v_measure_score(y_train.fwd_close_positive, labels))\n",
    "print(\"Adjusted Rand Index: %0.3f\" % metrics.adjusted_rand_score(y_train.fwd_close_positive, labels))\n",
    "print(\n",
    "    \"Adjusted Mutual Information: %0.3f\"\n",
    "    % metrics.adjusted_mutual_info_score(y_train.fwd_close_positive, labels)\n",
    ")\n",
    "print(\"Silhouette Coefficient: %0.3f\" % metrics.silhouette_score(X_train, labels))"
   ]
  },
  {
   "cell_type": "code",
   "execution_count": null,
   "metadata": {},
   "outputs": [],
   "source": [
    "np.argwhere(np.isnan(labels))"
   ]
  },
  {
   "cell_type": "code",
   "execution_count": null,
   "metadata": {},
   "outputs": [],
   "source": [
    "labels=pd.DataFrame(labels,columns=['clust'],dtype='int',index=X_train.index)"
   ]
  },
  {
   "cell_type": "code",
   "execution_count": null,
   "metadata": {},
   "outputs": [],
   "source": [
    "labels.info()"
   ]
  },
  {
   "cell_type": "code",
   "execution_count": null,
   "metadata": {},
   "outputs": [],
   "source": [
    "type(labels.clust.iloc[0])"
   ]
  },
  {
   "cell_type": "code",
   "execution_count": null,
   "metadata": {},
   "outputs": [],
   "source": [
    "type(X_train.open.iloc[0])"
   ]
  },
  {
   "cell_type": "code",
   "execution_count": null,
   "metadata": {},
   "outputs": [],
   "source": [
    "X_train.info()"
   ]
  },
  {
   "cell_type": "code",
   "execution_count": null,
   "metadata": {},
   "outputs": [],
   "source": [
    "X_train=pd.concat([X_train,labels],axis=1)"
   ]
  },
  {
   "cell_type": "code",
   "execution_count": null,
   "metadata": {},
   "outputs": [],
   "source": [
    "xt=X_train.loc['2018':'2021']"
   ]
  },
  {
   "cell_type": "code",
   "execution_count": null,
   "metadata": {},
   "outputs": [],
   "source": [
    "sns.relplot(x=X_train.loc['2018':'2021'].index, y=X_train.loc['2018':'2021'].close, hue=X_train.loc['2018':'2021'].clust)"
   ]
  },
  {
   "cell_type": "code",
   "execution_count": null,
   "metadata": {},
   "outputs": [],
   "source": [
    "X_train.head()"
   ]
  },
  {
   "cell_type": "code",
   "execution_count": null,
   "metadata": {},
   "outputs": [],
   "source": [
    "# X_train=X_train.drop('clust',axis=1)"
   ]
  }
 ],
 "metadata": {
  "interpreter": {
   "hash": "3067ead486e059ec00ffe7555bdb889e6e264a24dc711bf108106cc7baee8d5d"
  },
  "kernelspec": {
   "display_name": "Python 3.9.12 ('base')",
   "language": "python",
   "name": "python3"
  },
  "language_info": {
   "codemirror_mode": {
    "name": "ipython",
    "version": 3
   },
   "file_extension": ".py",
   "mimetype": "text/x-python",
   "name": "python",
   "nbconvert_exporter": "python",
   "pygments_lexer": "ipython3",
   "version": "3.9.12"
  },
  "orig_nbformat": 4
 },
 "nbformat": 4,
 "nbformat_minor": 2
}
