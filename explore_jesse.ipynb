{
 "cells": [
  {
   "cell_type": "code",
   "execution_count": 6,
   "id": "70bd36c5-4de1-417d-ad41-49f581881bac",
   "metadata": {},
   "outputs": [],
   "source": [
    "# imports.py\n",
    "from imports import *\n",
    "# custom mods\n",
    "import tidy"
   ]
  },
  {
   "cell_type": "code",
   "execution_count": 20,
   "id": "aba9ad5d-7f04-4980-bab2-83188c7fa306",
   "metadata": {},
   "outputs": [],
   "source": [
    "import nltk\n",
    "import pandas as pd\n",
    "import numpy as np\n",
    "from env import *\n",
    "\n",
    "import tweepy as tw \n",
    "import scipy.stats as stats"
   ]
  },
  {
   "cell_type": "code",
   "execution_count": 19,
   "id": "7e522ba7-b71b-48a1-970a-121fea181188",
   "metadata": {},
   "outputs": [
    {
     "name": "stdout",
     "output_type": "stream",
     "text": [
      "cached csv\n"
     ]
    }
   ],
   "source": [
    "df=tidy.explore_df()"
   ]
  },
  {
   "cell_type": "code",
   "execution_count": 16,
   "id": "405d1cb7-654b-4494-844e-ca66e7fb2013",
   "metadata": {},
   "outputs": [
    {
     "data": {
      "text/plain": [
       "Timestamp('2014-09-17 00:00:00+0000', tz='UTC')"
      ]
     },
     "execution_count": 16,
     "metadata": {},
     "output_type": "execute_result"
    }
   ],
   "source": [
    "df.index.min()"
   ]
  },
  {
   "cell_type": "code",
   "execution_count": 17,
   "id": "98673e62-eaf5-40c6-a688-5e8a4b253020",
   "metadata": {},
   "outputs": [
    {
     "data": {
      "text/plain": [
       "Timestamp('2022-05-24 00:00:00+0000', tz='UTC')"
      ]
     },
     "execution_count": 17,
     "metadata": {},
     "output_type": "execute_result"
    }
   ],
   "source": [
    "df.index.max()"
   ]
  },
  {
   "cell_type": "code",
   "execution_count": 32,
   "id": "31093143-a1cc-4ab2-b7b9-653aff1d65fe",
   "metadata": {},
   "outputs": [
    {
     "data": {
      "text/plain": [
       "<AxesSubplot:>"
      ]
     },
     "execution_count": 32,
     "metadata": {},
     "output_type": "execute_result"
    },
    {
     "data": {
      "image/png": "[encoded data removed]",
      "text/plain": [
       "<Figure size 432x288 with 1 Axes>"
      ]
     },
     "metadata": {
      "needs_background": "light"
     },
     "output_type": "display_data"
    }
   ],
   "source": [
    "df.fwd_log_ret.hist()"
   ]
  },
  {
   "cell_type": "code",
   "execution_count": 33,
   "id": "0a577dd0-77ea-4418-9209-416c6ddf39c5",
   "metadata": {},
   "outputs": [
    {
     "data": {
      "text/plain": [
       "<AxesSubplot:>"
      ]
     },
     "execution_count": 33,
     "metadata": {},
     "output_type": "execute_result"
    },
    {
     "data": {
      "image/png": "[encoded data removed]",
      "text/plain": [
       "<Figure size 432x288 with 1 Axes>"
      ]
     },
     "metadata": {
      "needs_background": "light"
     },
     "output_type": "display_data"
    }
   ],
   "source": [
    "df.fwd_close_positive.value_counts(normalize=True).plot.bar()"
   ]
  },
  {
   "cell_type": "markdown",
   "id": "a47f1b14-878e-4a09-8d13-0e21781540de",
   "metadata": {},
   "source": [
    "### When volatility is high what kind of returns are expected? \n",
    "- Measure this using ATR:\n",
    "    - TR = Max[(H-L), Abs(H-Cp), Abs(L-Cp)]\n",
    "    - ATR = (1/n)* sum(TRi)"
   ]
  },
  {
   "cell_type": "code",
   "execution_count": 111,
   "id": "0695e82a-206d-4d70-914f-dd0543fd84f3",
   "metadata": {},
   "outputs": [],
   "source": [
    "from talib import ATR"
   ]
  },
  {
   "cell_type": "code",
   "execution_count": 154,
   "id": "020b4714-d867-4496-ba18-e3def3a98783",
   "metadata": {},
   "outputs": [],
   "source": [
    "def add_ATR_feature(df):\n",
    "    \"\"\"Adds columns with boolean of whether current and historical ATR \n",
    "    is greater than the ATR threshold (percentage)\"\"\"\n",
    "    \n",
    "    df_calc = df.copy()\n",
    "\n",
    "    # Calculate the 14 day ATR and add it as column to df\n",
    "    df_calc['ATR_14'] = ATR(df_calc.high, df_calc.low, df_calc.close, 14)\n",
    "    # Calculate the rolling 14 day average of ATR and add it as column to df\n",
    "    df_calc['avg_atr_14'] = df_calc.ATR_14.rolling(14).mean()\n",
    "    # Calculate the percentage current 14 day ATR is above/below the rolling mean\n",
    "    df_calc['atr_vs_historical'] = (df_calc.ATR_14 - df_calc.avg_atr_14)/df_calc.avg_atr_14\n",
    "    \n",
    "    thresholds_to_add = [0.01, 0.05, 0.1, 0.2, 0.3]\n",
    "    \n",
    "    for threshold in thresholds_to_add:\n",
    "        df[f'atr_above_threshold_{threshold}'] = df_calc.atr_vs_historical>threshold\n",
    "    \n",
    "    return df"
   ]
  },
  {
   "cell_type": "code",
   "execution_count": 156,
   "id": "fca96f25-eaec-43f7-bba3-70acd0ed5d32",
   "metadata": {},
   "outputs": [
    {
     "data": {
      "text/html": [
       "<div>\n",
       "<style scoped>\n",
       "    .dataframe tbody tr th:only-of-type {\n",
       "        vertical-align: middle;\n",
       "    }\n",
       "\n",
       "    .dataframe tbody tr th {\n",
       "        vertical-align: top;\n",
       "    }\n",
       "\n",
       "    .dataframe thead th {\n",
       "        text-align: right;\n",
       "    }\n",
       "</style>\n",
       "<table border=\"1\" class=\"dataframe\">\n",
       "  <thead>\n",
       "    <tr style=\"text-align: right;\">\n",
       "      <th></th>\n",
       "      <th>open</th>\n",
       "      <th>high</th>\n",
       "      <th>low</th>\n",
       "      <th>close</th>\n",
       "      <th>volume</th>\n",
       "      <th>fwd_log_ret</th>\n",
       "      <th>fwd_ret</th>\n",
       "      <th>fwd_pct_chg</th>\n",
       "      <th>fwd_close_positive</th>\n",
       "      <th>ATR_14</th>\n",
       "      <th>avg_atr_14</th>\n",
       "      <th>atr_vs_historical</th>\n",
       "      <th>atr_above_threshold</th>\n",
       "      <th>atr_above_threshold_0.01</th>\n",
       "      <th>atr_above_threshold_0.05</th>\n",
       "      <th>atr_above_threshold_0.1</th>\n",
       "      <th>atr_above_threshold_0.2</th>\n",
       "      <th>atr_above_threshold_0.3</th>\n",
       "    </tr>\n",
       "    <tr>\n",
       "      <th>date</th>\n",
       "      <th></th>\n",
       "      <th></th>\n",
       "      <th></th>\n",
       "      <th></th>\n",
       "      <th></th>\n",
       "      <th></th>\n",
       "      <th></th>\n",
       "      <th></th>\n",
       "      <th></th>\n",
       "      <th></th>\n",
       "      <th></th>\n",
       "      <th></th>\n",
       "      <th></th>\n",
       "      <th></th>\n",
       "      <th></th>\n",
       "      <th></th>\n",
       "      <th></th>\n",
       "      <th></th>\n",
       "    </tr>\n",
       "  </thead>\n",
       "  <tbody>\n",
       "    <tr>\n",
       "      <th>2014-09-17 00:00:00+00:00</th>\n",
       "      <td>465.864014</td>\n",
       "      <td>468.174011</td>\n",
       "      <td>452.421997</td>\n",
       "      <td>457.334015</td>\n",
       "      <td>21056800</td>\n",
       "      <td>-0.074643</td>\n",
       "      <td>-32.894013</td>\n",
       "      <td>-0.071926</td>\n",
       "      <td>False</td>\n",
       "      <td>NaN</td>\n",
       "      <td>NaN</td>\n",
       "      <td>NaN</td>\n",
       "      <td>False</td>\n",
       "      <td>False</td>\n",
       "      <td>False</td>\n",
       "      <td>False</td>\n",
       "      <td>False</td>\n",
       "      <td>False</td>\n",
       "    </tr>\n",
       "    <tr>\n",
       "      <th>2014-09-18 00:00:00+00:00</th>\n",
       "      <td>456.859985</td>\n",
       "      <td>456.859985</td>\n",
       "      <td>413.104004</td>\n",
       "      <td>424.440002</td>\n",
       "      <td>34483200</td>\n",
       "      <td>-0.072402</td>\n",
       "      <td>-29.644012</td>\n",
       "      <td>-0.069843</td>\n",
       "      <td>False</td>\n",
       "      <td>NaN</td>\n",
       "      <td>NaN</td>\n",
       "      <td>NaN</td>\n",
       "      <td>False</td>\n",
       "      <td>False</td>\n",
       "      <td>False</td>\n",
       "      <td>False</td>\n",
       "      <td>False</td>\n",
       "      <td>False</td>\n",
       "    </tr>\n",
       "    <tr>\n",
       "      <th>2014-09-19 00:00:00+00:00</th>\n",
       "      <td>424.102997</td>\n",
       "      <td>427.834991</td>\n",
       "      <td>384.532013</td>\n",
       "      <td>394.795990</td>\n",
       "      <td>37919700</td>\n",
       "      <td>0.035111</td>\n",
       "      <td>14.108002</td>\n",
       "      <td>0.035735</td>\n",
       "      <td>True</td>\n",
       "      <td>NaN</td>\n",
       "      <td>NaN</td>\n",
       "      <td>NaN</td>\n",
       "      <td>False</td>\n",
       "      <td>False</td>\n",
       "      <td>False</td>\n",
       "      <td>False</td>\n",
       "      <td>False</td>\n",
       "      <td>False</td>\n",
       "    </tr>\n",
       "    <tr>\n",
       "      <th>2014-09-20 00:00:00+00:00</th>\n",
       "      <td>394.673004</td>\n",
       "      <td>423.295990</td>\n",
       "      <td>389.882996</td>\n",
       "      <td>408.903992</td>\n",
       "      <td>36863600</td>\n",
       "      <td>-0.024968</td>\n",
       "      <td>-10.082978</td>\n",
       "      <td>-0.024659</td>\n",
       "      <td>False</td>\n",
       "      <td>NaN</td>\n",
       "      <td>NaN</td>\n",
       "      <td>NaN</td>\n",
       "      <td>False</td>\n",
       "      <td>False</td>\n",
       "      <td>False</td>\n",
       "      <td>False</td>\n",
       "      <td>False</td>\n",
       "      <td>False</td>\n",
       "    </tr>\n",
       "    <tr>\n",
       "      <th>2014-09-21 00:00:00+00:00</th>\n",
       "      <td>408.084991</td>\n",
       "      <td>412.425995</td>\n",
       "      <td>393.181000</td>\n",
       "      <td>398.821014</td>\n",
       "      <td>26580100</td>\n",
       "      <td>0.008317</td>\n",
       "      <td>3.330994</td>\n",
       "      <td>0.008352</td>\n",
       "      <td>True</td>\n",
       "      <td>NaN</td>\n",
       "      <td>NaN</td>\n",
       "      <td>NaN</td>\n",
       "      <td>False</td>\n",
       "      <td>False</td>\n",
       "      <td>False</td>\n",
       "      <td>False</td>\n",
       "      <td>False</td>\n",
       "      <td>False</td>\n",
       "    </tr>\n",
       "    <tr>\n",
       "      <th>...</th>\n",
       "      <td>...</td>\n",
       "      <td>...</td>\n",
       "      <td>...</td>\n",
       "      <td>...</td>\n",
       "      <td>...</td>\n",
       "      <td>...</td>\n",
       "      <td>...</td>\n",
       "      <td>...</td>\n",
       "      <td>...</td>\n",
       "      <td>...</td>\n",
       "      <td>...</td>\n",
       "      <td>...</td>\n",
       "      <td>...</td>\n",
       "      <td>...</td>\n",
       "      <td>...</td>\n",
       "      <td>...</td>\n",
       "      <td>...</td>\n",
       "      <td>...</td>\n",
       "    </tr>\n",
       "    <tr>\n",
       "      <th>2022-05-20 00:00:00+00:00</th>\n",
       "      <td>30311.119141</td>\n",
       "      <td>30664.976563</td>\n",
       "      <td>28793.605469</td>\n",
       "      <td>29200.740234</td>\n",
       "      <td>30749382605</td>\n",
       "      <td>0.007896</td>\n",
       "      <td>231.486329</td>\n",
       "      <td>0.007927</td>\n",
       "      <td>True</td>\n",
       "      <td>1934.784373</td>\n",
       "      <td>1908.213044</td>\n",
       "      <td>0.013925</td>\n",
       "      <td>False</td>\n",
       "      <td>True</td>\n",
       "      <td>False</td>\n",
       "      <td>False</td>\n",
       "      <td>False</td>\n",
       "      <td>False</td>\n",
       "    </tr>\n",
       "    <tr>\n",
       "      <th>2022-05-21 00:00:00+00:00</th>\n",
       "      <td>29199.859375</td>\n",
       "      <td>29588.869141</td>\n",
       "      <td>29027.394531</td>\n",
       "      <td>29432.226563</td>\n",
       "      <td>17274840442</td>\n",
       "      <td>0.029840</td>\n",
       "      <td>891.496093</td>\n",
       "      <td>0.030290</td>\n",
       "      <td>True</td>\n",
       "      <td>1836.690818</td>\n",
       "      <td>1926.856448</td>\n",
       "      <td>-0.046794</td>\n",
       "      <td>False</td>\n",
       "      <td>False</td>\n",
       "      <td>False</td>\n",
       "      <td>False</td>\n",
       "      <td>False</td>\n",
       "      <td>False</td>\n",
       "    </tr>\n",
       "    <tr>\n",
       "      <th>2022-05-22 00:00:00+00:00</th>\n",
       "      <td>29432.472656</td>\n",
       "      <td>30425.861328</td>\n",
       "      <td>29275.183594</td>\n",
       "      <td>30323.722656</td>\n",
       "      <td>21631532270</td>\n",
       "      <td>-0.041230</td>\n",
       "      <td>-1224.812500</td>\n",
       "      <td>-0.040391</td>\n",
       "      <td>False</td>\n",
       "      <td>1787.689884</td>\n",
       "      <td>1941.753391</td>\n",
       "      <td>-0.079342</td>\n",
       "      <td>False</td>\n",
       "      <td>False</td>\n",
       "      <td>False</td>\n",
       "      <td>False</td>\n",
       "      <td>False</td>\n",
       "      <td>False</td>\n",
       "    </tr>\n",
       "    <tr>\n",
       "      <th>2022-05-23 00:00:00+00:00</th>\n",
       "      <td>30309.396484</td>\n",
       "      <td>30590.585938</td>\n",
       "      <td>28975.560547</td>\n",
       "      <td>29098.910156</td>\n",
       "      <td>31483454557</td>\n",
       "      <td>0.018950</td>\n",
       "      <td>556.675782</td>\n",
       "      <td>0.019130</td>\n",
       "      <td>True</td>\n",
       "      <td>1775.356706</td>\n",
       "      <td>1943.800063</td>\n",
       "      <td>-0.086657</td>\n",
       "      <td>False</td>\n",
       "      <td>False</td>\n",
       "      <td>False</td>\n",
       "      <td>False</td>\n",
       "      <td>False</td>\n",
       "      <td>False</td>\n",
       "    </tr>\n",
       "    <tr>\n",
       "      <th>2022-05-24 00:00:00+00:00</th>\n",
       "      <td>29101.125000</td>\n",
       "      <td>29774.355469</td>\n",
       "      <td>28786.589844</td>\n",
       "      <td>29655.585938</td>\n",
       "      <td>26616506245</td>\n",
       "      <td>0.001170</td>\n",
       "      <td>34.708984</td>\n",
       "      <td>0.001170</td>\n",
       "      <td>True</td>\n",
       "      <td>1719.100200</td>\n",
       "      <td>1937.212075</td>\n",
       "      <td>-0.112591</td>\n",
       "      <td>False</td>\n",
       "      <td>False</td>\n",
       "      <td>False</td>\n",
       "      <td>False</td>\n",
       "      <td>False</td>\n",
       "      <td>False</td>\n",
       "    </tr>\n",
       "  </tbody>\n",
       "</table>\n",
       "<p>2807 rows × 18 columns</p>\n",
       "</div>"
      ],
      "text/plain": [
       "                                   open          high           low  \\\n",
       "date                                                                  \n",
       "2014-09-17 00:00:00+00:00    465.864014    468.174011    452.421997   \n",
       "2014-09-18 00:00:00+00:00    456.859985    456.859985    413.104004   \n",
       "2014-09-19 00:00:00+00:00    424.102997    427.834991    384.532013   \n",
       "2014-09-20 00:00:00+00:00    394.673004    423.295990    389.882996   \n",
       "2014-09-21 00:00:00+00:00    408.084991    412.425995    393.181000   \n",
       "...                                 ...           ...           ...   \n",
       "2022-05-20 00:00:00+00:00  30311.119141  30664.976563  28793.605469   \n",
       "2022-05-21 00:00:00+00:00  29199.859375  29588.869141  29027.394531   \n",
       "2022-05-22 00:00:00+00:00  29432.472656  30425.861328  29275.183594   \n",
       "2022-05-23 00:00:00+00:00  30309.396484  30590.585938  28975.560547   \n",
       "2022-05-24 00:00:00+00:00  29101.125000  29774.355469  28786.589844   \n",
       "\n",
       "                                  close       volume  fwd_log_ret  \\\n",
       "date                                                                \n",
       "2014-09-17 00:00:00+00:00    457.334015     21056800    -0.074643   \n",
       "2014-09-18 00:00:00+00:00    424.440002     34483200    -0.072402   \n",
       "2014-09-19 00:00:00+00:00    394.795990     37919700     0.035111   \n",
       "2014-09-20 00:00:00+00:00    408.903992     36863600    -0.024968   \n",
       "2014-09-21 00:00:00+00:00    398.821014     26580100     0.008317   \n",
       "...                                 ...          ...          ...   \n",
       "2022-05-20 00:00:00+00:00  29200.740234  30749382605     0.007896   \n",
       "2022-05-21 00:00:00+00:00  29432.226563  17274840442     0.029840   \n",
       "2022-05-22 00:00:00+00:00  30323.722656  21631532270    -0.041230   \n",
       "2022-05-23 00:00:00+00:00  29098.910156  31483454557     0.018950   \n",
       "2022-05-24 00:00:00+00:00  29655.585938  26616506245     0.001170   \n",
       "\n",
       "                               fwd_ret  fwd_pct_chg  fwd_close_positive  \\\n",
       "date                                                                      \n",
       "2014-09-17 00:00:00+00:00   -32.894013    -0.071926               False   \n",
       "2014-09-18 00:00:00+00:00   -29.644012    -0.069843               False   \n",
       "2014-09-19 00:00:00+00:00    14.108002     0.035735                True   \n",
       "2014-09-20 00:00:00+00:00   -10.082978    -0.024659               False   \n",
       "2014-09-21 00:00:00+00:00     3.330994     0.008352                True   \n",
       "...                                ...          ...                 ...   \n",
       "2022-05-20 00:00:00+00:00   231.486329     0.007927                True   \n",
       "2022-05-21 00:00:00+00:00   891.496093     0.030290                True   \n",
       "2022-05-22 00:00:00+00:00 -1224.812500    -0.040391               False   \n",
       "2022-05-23 00:00:00+00:00   556.675782     0.019130                True   \n",
       "2022-05-24 00:00:00+00:00    34.708984     0.001170                True   \n",
       "\n",
       "                                ATR_14   avg_atr_14  atr_vs_historical  \\\n",
       "date                                                                     \n",
       "2014-09-17 00:00:00+00:00          NaN          NaN                NaN   \n",
       "2014-09-18 00:00:00+00:00          NaN          NaN                NaN   \n",
       "2014-09-19 00:00:00+00:00          NaN          NaN                NaN   \n",
       "2014-09-20 00:00:00+00:00          NaN          NaN                NaN   \n",
       "2014-09-21 00:00:00+00:00          NaN          NaN                NaN   \n",
       "...                                ...          ...                ...   \n",
       "2022-05-20 00:00:00+00:00  1934.784373  1908.213044           0.013925   \n",
       "2022-05-21 00:00:00+00:00  1836.690818  1926.856448          -0.046794   \n",
       "2022-05-22 00:00:00+00:00  1787.689884  1941.753391          -0.079342   \n",
       "2022-05-23 00:00:00+00:00  1775.356706  1943.800063          -0.086657   \n",
       "2022-05-24 00:00:00+00:00  1719.100200  1937.212075          -0.112591   \n",
       "\n",
       "                           atr_above_threshold  atr_above_threshold_0.01  \\\n",
       "date                                                                       \n",
       "2014-09-17 00:00:00+00:00                False                     False   \n",
       "2014-09-18 00:00:00+00:00                False                     False   \n",
       "2014-09-19 00:00:00+00:00                False                     False   \n",
       "2014-09-20 00:00:00+00:00                False                     False   \n",
       "2014-09-21 00:00:00+00:00                False                     False   \n",
       "...                                        ...                       ...   \n",
       "2022-05-20 00:00:00+00:00                False                      True   \n",
       "2022-05-21 00:00:00+00:00                False                     False   \n",
       "2022-05-22 00:00:00+00:00                False                     False   \n",
       "2022-05-23 00:00:00+00:00                False                     False   \n",
       "2022-05-24 00:00:00+00:00                False                     False   \n",
       "\n",
       "                           atr_above_threshold_0.05  atr_above_threshold_0.1  \\\n",
       "date                                                                           \n",
       "2014-09-17 00:00:00+00:00                     False                    False   \n",
       "2014-09-18 00:00:00+00:00                     False                    False   \n",
       "2014-09-19 00:00:00+00:00                     False                    False   \n",
       "2014-09-20 00:00:00+00:00                     False                    False   \n",
       "2014-09-21 00:00:00+00:00                     False                    False   \n",
       "...                                             ...                      ...   \n",
       "2022-05-20 00:00:00+00:00                     False                    False   \n",
       "2022-05-21 00:00:00+00:00                     False                    False   \n",
       "2022-05-22 00:00:00+00:00                     False                    False   \n",
       "2022-05-23 00:00:00+00:00                     False                    False   \n",
       "2022-05-24 00:00:00+00:00                     False                    False   \n",
       "\n",
       "                           atr_above_threshold_0.2  atr_above_threshold_0.3  \n",
       "date                                                                         \n",
       "2014-09-17 00:00:00+00:00                    False                    False  \n",
       "2014-09-18 00:00:00+00:00                    False                    False  \n",
       "2014-09-19 00:00:00+00:00                    False                    False  \n",
       "2014-09-20 00:00:00+00:00                    False                    False  \n",
       "2014-09-21 00:00:00+00:00                    False                    False  \n",
       "...                                            ...                      ...  \n",
       "2022-05-20 00:00:00+00:00                    False                    False  \n",
       "2022-05-21 00:00:00+00:00                    False                    False  \n",
       "2022-05-22 00:00:00+00:00                    False                    False  \n",
       "2022-05-23 00:00:00+00:00                    False                    False  \n",
       "2022-05-24 00:00:00+00:00                    False                    False  \n",
       "\n",
       "[2807 rows x 18 columns]"
      ]
     },
     "execution_count": 156,
     "metadata": {},
     "output_type": "execute_result"
    }
   ],
   "source": [
    "add_ATR_feature(df)"
   ]
  },
  {
   "cell_type": "code",
   "execution_count": 120,
   "id": "d947cfb4-f4f6-4442-9503-366530374323",
   "metadata": {},
   "outputs": [],
   "source": [
    "def perform_ATR_analysis(df, atr_threshold  = 0.05, make_plots = True, alpha = 0.05):\n",
    "    \"\"\"Performs analysis of returns based on current vs historical ATR.\n",
    "    \n",
    "    If the difference in current and historical ATR is greater than the ATR threshold (percentage)\"\"\"\n",
    "\n",
    "    # Calculate the 14 day ATR and add it as column to df\n",
    "    df['ATR_14'] = ATR(df.high, df.low, df.close, 14)\n",
    "    # Calculate the rolling 14 day average of ATR and add it as column to df\n",
    "    df['avg_atr_14'] = df.ATR_14.rolling(14).mean()\n",
    "    # Calculate the percentage current 14 day ATR is above/below the rolling mean\n",
    "    df['atr_vs_historical'] = (df.ATR_14 - df.avg_atr_14)/df.avg_atr_14\n",
    "\n",
    "    if make_plots:\n",
    "    # Plot ATR 14 and close price\n",
    "        fig, ax = plt.subplots(2,1,sharex=True)\n",
    "        df.close.plot(ax = ax[0])\n",
    "        ax[0].set_title('Close price of BTC')\n",
    "        df.avg_atr_14.plot(ax = ax[1])\n",
    "        ax[1].set_title('Rolling 14 day average of 14 day ATR')\n",
    "\n",
    "    df['atr_above_threshold'] = df.atr_vs_historical>atr_threshold\n",
    "\n",
    "    print(f\"Percentage of observations above threshold: {df.atr_above_threshold.mean():.2%}\")\n",
    "    \n",
    "    avg_return_above_threshold = round(df[df.atr_above_threshold].fwd_log_ret.mean(),6)\n",
    "    \n",
    "    print(f\"Average next day return when ATR above threshold: {avg_return_above_threshold}\")\n",
    "    \n",
    "    print(f\"which is: {round(df[df.atr_above_threshold].fwd_log_ret.mean()/df.fwd_log_ret.mean(),3)} times overall average\")\n",
    "    \n",
    "    # Perform one sample t-test -> is the average return of the high volatility days significantly greater than overall mean?\n",
    "    \n",
    "    t,p = stats.ttest_1samp(df[df.atr_above_threshold].fwd_log_ret, df.fwd_log_ret.mean())\n",
    "    \n",
    "    if ((t>0)&(p/2<alpha)):\n",
    "        print(\"Results significant!: t is >0\",t>0,\"p/2 < alpha\",p<alpha)\n",
    "    else:\n",
    "        print(\"Fail to reject null hypothesis\")\n",
    "        \n",
    "    return avg_return_above_threshold\n",
    "    "
   ]
  },
  {
   "cell_type": "code",
   "execution_count": 131,
   "id": "0feb2251-a1e3-4ef1-8325-6d3f0e0fca74",
   "metadata": {},
   "outputs": [
    {
     "name": "stdout",
     "output_type": "stream",
     "text": [
      "Percentage of observations above threshold: 38.69%\n",
      "Average next day return when ATR above threshold: 0.002414\n",
      "which is: 1.624 times overall average\n",
      "Fail to reject null hypothesis\n",
      "Percentage of observations above threshold: 30.00%\n",
      "Average next day return when ATR above threshold: 0.004002\n",
      "which is: 2.692 times overall average\n",
      "Fail to reject null hypothesis\n",
      "Percentage of observations above threshold: 22.19%\n",
      "Average next day return when ATR above threshold: 0.00423\n",
      "which is: 2.845 times overall average\n",
      "Fail to reject null hypothesis\n",
      "Percentage of observations above threshold: 12.36%\n",
      "Average next day return when ATR above threshold: 0.00517\n",
      "which is: 3.477 times overall average\n",
      "Fail to reject null hypothesis\n",
      "Percentage of observations above threshold: 7.59%\n",
      "Average next day return when ATR above threshold: 0.00443\n",
      "which is: 2.98 times overall average\n",
      "Fail to reject null hypothesis\n",
      "Percentage of observations above threshold: 4.99%\n",
      "Average next day return when ATR above threshold: -0.002062\n",
      "which is: -1.387 times overall average\n",
      "Fail to reject null hypothesis\n",
      "Percentage of observations above threshold: 2.89%\n",
      "Average next day return when ATR above threshold: -0.003105\n",
      "which is: -2.088 times overall average\n",
      "Fail to reject null hypothesis\n",
      "Percentage of observations above threshold: 1.46%\n",
      "Average next day return when ATR above threshold: 5.1e-05\n",
      "which is: 0.035 times overall average\n",
      "Fail to reject null hypothesis\n"
     ]
    }
   ],
   "source": [
    "thresholds_to_try = [0.01, 0.05, 0.1, 0.2, 0.3, 0.4, 0.5, 0.6]\n",
    "returns = {}\n",
    "for threshold in thresholds_to_try:\n",
    "    avg_return = perform_ATR_analysis(df, atr_threshold=threshold, make_plots=False)\n",
    "    returns[threshold] = avg_return\n"
   ]
  },
  {
   "cell_type": "code",
   "execution_count": 153,
   "id": "a3958a51-e32d-42d2-9fb3-3f42024d6ae6",
   "metadata": {},
   "outputs": [
    {
     "data": {
      "text/plain": [
       "Text(5, 0.0017, 'Overall Mean')"
      ]
     },
     "execution_count": 153,
     "metadata": {},
     "output_type": "execute_result"
    },
    {
     "data": {
      "image/png": "[encoded data removed]",
      "text/plain": [
       "<Figure size 432x288 with 1 Axes>"
      ]
     },
     "metadata": {
      "needs_background": "light"
     },
     "output_type": "display_data"
    }
   ],
   "source": [
    "pd.DataFrame(returns, index = ['avg_return']).T.plot.bar(legend=False)\n",
    "plt.title('Average Next Day Return when ATR is \\nAbove 14 Day Average ATR by Threshold Amount')\n",
    "plt.xlabel('Threshold')\n",
    "plt.ylabel('Average Return')\n",
    "plt.axhline(df.fwd_log_ret.mean(), color = 'r')\n",
    "plt.annotate('Overall Mean', (5, 0.0017))\n"
   ]
  },
  {
   "cell_type": "code",
   "execution_count": 53,
   "id": "d04a7031-a909-4bf3-9ed9-4b5d7e26e9db",
   "metadata": {},
   "outputs": [
    {
     "data": {
      "text/plain": [
       "<AxesSubplot:xlabel='date'>"
      ]
     },
     "execution_count": 53,
     "metadata": {},
     "output_type": "execute_result"
    },
    {
     "data": {
      "image/png": "[encoded data removed]",
      "text/plain": [
       "<Figure size 432x288 with 1 Axes>"
      ]
     },
     "metadata": {
      "needs_background": "light"
     },
     "output_type": "display_data"
    }
   ],
   "source": [
    "df.atr_vs_historical.plot()"
   ]
  },
  {
   "cell_type": "markdown",
   "id": "7535fa29-dab4-4a24-8f7f-22be178f4f2d",
   "metadata": {},
   "source": [
    "When current ATR gets very extended from mean, what are next day returns?\n",
    "- very extended defined as difference in current ATR from 14 day historical ATR as greater than the 3rd quartile"
   ]
  },
  {
   "cell_type": "code",
   "execution_count": 60,
   "id": "738b2479-5bf4-414d-932f-9932716c7bc2",
   "metadata": {},
   "outputs": [],
   "source": [
    "atr_threshold = df.atr_vs_historical.quantile(0.75)\n",
    "\n",
    "df['atr_above_threshold'] = df.atr_vs_historical>atr_threshold\n",
    "\n",
    "df.atr_above_threshold.mean()"
   ]
  },
  {
   "cell_type": "markdown",
   "id": "25a4bd3f-31a1-4cf6-ae31-53f50ed586d3",
   "metadata": {},
   "source": [
    "As expected, the difference in current volatility from 14 day average is above threshold 25% of the time"
   ]
  },
  {
   "cell_type": "markdown",
   "id": "d2817ddd-e308-4a58-a759-9866789ea8c9",
   "metadata": {},
   "source": [
    "What is the average return when (Current ATR - Historical ATR) > threshold? How does this compare with overall average?"
   ]
  },
  {
   "cell_type": "code",
   "execution_count": 62,
   "id": "516c8b9a-fddf-49b8-ae0f-67d5e3198358",
   "metadata": {},
   "outputs": [
    {
     "data": {
      "text/plain": [
       "0.004058148250319954"
      ]
     },
     "execution_count": 62,
     "metadata": {},
     "output_type": "execute_result"
    }
   ],
   "source": [
    "df[df.atr_above_threshold].fwd_log_ret.mean()"
   ]
  },
  {
   "cell_type": "markdown",
   "id": "eb59a3da-065e-4cb5-966e-79d49e21585d",
   "metadata": {},
   "source": [
    "How does this compare to overall average?"
   ]
  },
  {
   "cell_type": "code",
   "execution_count": 65,
   "id": "55c32bd8-c115-4f39-b886-be5d82e3e0aa",
   "metadata": {},
   "outputs": [
    {
     "data": {
      "text/plain": [
       "2.7296384679490866"
      ]
     },
     "execution_count": 65,
     "metadata": {},
     "output_type": "execute_result"
    }
   ],
   "source": [
    "df[df.atr_above_threshold].fwd_log_ret.mean()/df.fwd_log_ret.mean()"
   ]
  },
  {
   "cell_type": "markdown",
   "id": "64a7658b-2b9b-497a-915b-d1444772c85a",
   "metadata": {},
   "source": [
    "Nearly 3 times as high as average. Check for statistical significance at the 95% confidence level:\n",
    "- H0: Days with volatility above the threshold do not exhibit above average returns\n",
    "- H1: Days with volatility above the threshold return in above average next day returns"
   ]
  },
  {
   "cell_type": "code",
   "execution_count": 69,
   "id": "0ceb571c-973f-4b5a-8366-7365a45b8366",
   "metadata": {},
   "outputs": [],
   "source": [
    "alpha = 0.05\n",
    "t,p = stats.ttest_1samp(df[df.atr_above_threshold].fwd_log_ret, df.fwd_log_ret.mean())\n",
    "\n",
    "print(\"t is >0\",t>0,\"p/2 < alpha\",p<alpha)"
   ]
  },
  {
   "cell_type": "markdown",
   "id": "f5bbf294-b056-4cdd-bf1a-02d8f3d4c286",
   "metadata": {},
   "source": [
    "Cannot reject the null hypothesis - days with above average volatility do not result in above average next day returns. Will try additional thresholds"
   ]
  },
  {
   "cell_type": "markdown",
   "id": "3118f79d-75a3-40c9-a93a-69f6b06e8f72",
   "metadata": {},
   "source": [
    "### Bollinger bands - when price is \"stretched\" a certain point from its average do we expect returns to be greater?"
   ]
  },
  {
   "cell_type": "code",
   "execution_count": 18,
   "id": "6e7dcd08-33ce-4dab-985e-2cfc52ec06be",
   "metadata": {},
   "outputs": [],
   "source": [
    "from talib import BBANDS"
   ]
  },
  {
   "cell_type": "code",
   "execution_count": 57,
   "id": "3194f13e-26dd-4885-8587-0aabf7dec0a1",
   "metadata": {},
   "outputs": [],
   "source": [
    "# Create 5 period sma as middle band, 2 std dev +- for upper and lower bands\n",
    "df['upperband2'], df['middleband'], df['lowerband2'] = BBANDS(df.close, timeperiod=5, nbdevup=2, nbdevdn=2, matype=0)\n",
    "\n",
    "df['upperband1'], df['middleband'], df['lowerband1'] = BBANDS(df.close, timeperiod=5, nbdevup=1, nbdevdn=1, matype=0)\n",
    "\n",
    "\n",
    "\n",
    "# create columns true when low below lower band, another column true when high above upper band\n",
    "df['low_below_lower1'] = df.low < df.lowerband1\n",
    "df['high_above_upper1'] = df.high > df.upperband1\n",
    "\n",
    "df['low_below_lower2'] = df.low < df.lowerband2\n",
    "df['high_above_upper2'] = df.high > df.upperband2"
   ]
  },
  {
   "cell_type": "code",
   "execution_count": 59,
   "id": "6e73acd3-dba7-48f7-b2a4-fc2267ba826a",
   "metadata": {},
   "outputs": [
    {
     "data": {
      "text/plain": [
       "0.46597791236195224"
      ]
     },
     "execution_count": 59,
     "metadata": {},
     "output_type": "execute_result"
    }
   ],
   "source": [
    "df.low_below_lower1.mean()"
   ]
  },
  {
   "cell_type": "code",
   "execution_count": 60,
   "id": "bbe1d44c-6856-4685-98ad-09bd806eb183",
   "metadata": {},
   "outputs": [
    {
     "data": {
      "text/plain": [
       "0.5553972212326327"
      ]
     },
     "execution_count": 60,
     "metadata": {},
     "output_type": "execute_result"
    }
   ],
   "source": [
    "df.high_above_upper1.mean()"
   ]
  },
  {
   "cell_type": "markdown",
   "id": "4c712052-749a-47b2-9e8a-78e5033dc8db",
   "metadata": {},
   "source": [
    "What is the average forward return when low below lower and what is it when high above upper?"
   ]
  },
  {
   "cell_type": "code",
   "execution_count": 61,
   "id": "fbc9c29d-48e6-48d4-ad9b-2123896ecb62",
   "metadata": {},
   "outputs": [
    {
     "data": {
      "text/plain": [
       "5.468772458423057e-05"
      ]
     },
     "execution_count": 61,
     "metadata": {},
     "output_type": "execute_result"
    }
   ],
   "source": [
    "df[df.low_below_lower2].fwd_log_ret.mean()"
   ]
  },
  {
   "cell_type": "code",
   "execution_count": 62,
   "id": "8d76c3eb-b53e-44b2-9a64-d2edf23e1ead",
   "metadata": {},
   "outputs": [
    {
     "data": {
      "text/plain": [
       "0.00025614540533167523"
      ]
     },
     "execution_count": 62,
     "metadata": {},
     "output_type": "execute_result"
    }
   ],
   "source": [
    "df[df.high_above_upper2].fwd_log_ret.mean()"
   ]
  },
  {
   "cell_type": "code",
   "execution_count": 63,
   "id": "5e71c7f0-c0b2-4850-b5bc-3a3c6c59f6c3",
   "metadata": {},
   "outputs": [
    {
     "data": {
      "text/plain": [
       "-0.0002509609606985909"
      ]
     },
     "execution_count": 63,
     "metadata": {},
     "output_type": "execute_result"
    }
   ],
   "source": [
    "df[df.low_below_lower1].fwd_log_ret.mean()"
   ]
  },
  {
   "cell_type": "code",
   "execution_count": 64,
   "id": "1d88c8ea-2acb-4a52-b6fc-a28cde9f30a0",
   "metadata": {},
   "outputs": [
    {
     "data": {
      "text/plain": [
       "0.002590890403563458"
      ]
     },
     "execution_count": 64,
     "metadata": {},
     "output_type": "execute_result"
    }
   ],
   "source": [
    "df[df.high_above_upper1].fwd_log_ret.mean()"
   ]
  },
  {
   "cell_type": "code",
   "execution_count": 30,
   "id": "5a0d30fb-9ab1-4f31-9829-16f184b765f6",
   "metadata": {},
   "outputs": [
    {
     "data": {
      "text/plain": [
       "0.0014866980730122267"
      ]
     },
     "execution_count": 30,
     "metadata": {},
     "output_type": "execute_result"
    }
   ],
   "source": [
    "df.fwd_log_ret.mean()"
   ]
  },
  {
   "cell_type": "markdown",
   "id": "9d34c3ec-2c77-418f-865d-7db7ec2a0f3c",
   "metadata": {},
   "source": [
    "Overall the returns are much less than average when price is stretched 2 std dev away from the mean"
   ]
  },
  {
   "cell_type": "code",
   "execution_count": 65,
   "id": "985b4694-5616-4530-97a8-05c180e3e509",
   "metadata": {},
   "outputs": [
    {
     "data": {
      "image/png": "[encoded data removed]",
      "text/plain": [
       "<Figure size 432x288 with 3 Axes>"
      ]
     },
     "metadata": {
      "needs_background": "light"
     },
     "output_type": "display_data"
    }
   ],
   "source": [
    "fig, ax = plt.subplots(1,3,sharey=True)\n",
    "sns.boxplot(y=df.fwd_log_ret, ax = ax[0])\n",
    "ax[0].set_title('Overall')\n",
    "sns.boxplot(y=df[df.low_below_lower1].fwd_log_ret, ax=ax[1])\n",
    "ax[1].set_title('When low \\nbelow lower band')\n",
    "sns.boxplot(y=df[df.high_above_upper1].fwd_log_ret, ax = ax[2])\n",
    "ax[2].set_title('When high \\nabove upper band')\n",
    "plt.suptitle('Log Returns Based on Price Relative to Bollinger Band')\n",
    "plt.tight_layout()"
   ]
  },
  {
   "cell_type": "code",
   "execution_count": 56,
   "id": "a4c55f0b-3b2f-4523-94cd-f5223d8937ff",
   "metadata": {},
   "outputs": [
    {
     "data": {
      "text/plain": [
       "<matplotlib.legend.Legend at 0x7f9e33038880>"
      ]
     },
     "execution_count": 56,
     "metadata": {},
     "output_type": "execute_result"
    },
    {
     "data": {
      "image/png": "[encoded data removed]",
      "text/plain": [
       "<Figure size 1296x576 with 1 Axes>"
      ]
     },
     "metadata": {
      "needs_background": "light"
     },
     "output_type": "display_data"
    }
   ],
   "source": [
    "plt.figure(figsize = (18,8))\n",
    "sample = df.loc['08-2020']\n",
    "sample.high.plot()\n",
    "sample.upperband.plot()\n",
    "sample.lowerband.plot()\n",
    "plt.legend()"
   ]
  },
  {
   "cell_type": "markdown",
   "id": "d44976f4-c34e-4c1a-a56d-97f06ad5d66f",
   "metadata": {},
   "source": [
    "Perform t-test"
   ]
  },
  {
   "cell_type": "code",
   "execution_count": 71,
   "id": "bc4047c0-e267-4b3e-a931-8406f61c270f",
   "metadata": {},
   "outputs": [
    {
     "name": "stdout",
     "output_type": "stream",
     "text": [
      "low_below_lower2 -0.7212809213135888 False\n",
      "low_below_lower1 -1.5194888178095236 False\n",
      "high_above_upper1 1.201382924201341 False\n",
      "high_above_upper2 -0.6961508741026569 False\n"
     ]
    }
   ],
   "source": [
    "to_test = ['low_below_lower2', 'low_below_lower1', 'high_above_upper1', 'high_above_upper2']\n",
    "overall_mean = df.fwd_log_ret.mean()\n",
    "alpha = 0.05\n",
    "for test in to_test:\n",
    "    sample = df[df[test]].fwd_log_ret\n",
    "    t,p = stats.ttest_1samp(sample, overall_mean)\n",
    "    print(test, t, p/2<alpha)"
   ]
  },
  {
   "cell_type": "markdown",
   "id": "e523738f-02f3-411b-adf3-4e91099de343",
   "metadata": {},
   "source": [
    "Nothing significant"
   ]
  },
  {
   "cell_type": "markdown",
   "id": "48142a27-46f0-41c4-bdfe-dda1823d71d3",
   "metadata": {},
   "source": [
    "### Explore consolidation then breakout of price"
   ]
  },
  {
   "cell_type": "markdown",
   "id": "7bf3b207-84f7-4ba3-8622-e2c26ed7f086",
   "metadata": {},
   "source": [
    "Quick nlp "
   ]
  },
  {
   "cell_type": "code",
   "execution_count": 23,
   "id": "8278a653-65a1-41ed-a1ef-58ff84215938",
   "metadata": {},
   "outputs": [],
   "source": [
    "import nltk.sentiment\n",
    "\n",
    "sia = nltk.sentiment.SentimentIntensityAnalyzer()\n",
    "\n",
    "import numpy as np\n",
    "\n",
    "import pandas as pd\n",
    "from datetime import datetime"
   ]
  },
  {
   "cell_type": "code",
   "execution_count": 10,
   "id": "0637f7a0-1b41-4961-9481-bdd69050807d",
   "metadata": {},
   "outputs": [
    {
     "data": {
      "text/plain": [
       "86399"
      ]
     },
     "execution_count": 10,
     "metadata": {},
     "output_type": "execute_result"
    }
   ],
   "source": [
    "(datetime.now()-datetime.now()).seconds"
   ]
  },
  {
   "cell_type": "code",
   "execution_count": 24,
   "id": "b882feba-514d-4cd5-a720-fe42b4c35179",
   "metadata": {},
   "outputs": [],
   "source": [
    "def get_later_tweets(tweet_csv = 'csv/latest_tweets.csv'):\n",
    "    \n",
    "    start_read_time = datetime.now()\n",
    "    \n",
    "    print(\"starting reading csv at: \", start_read_time)\n",
    "    \n",
    "    # https://www.kaggle.com/datasets/kaushiksuresh147/bitcoin-tweets\n",
    "    latest_tweets = pd.read_csv(tweet_csv)\n",
    "    \n",
    "    print(\"done reading csv, took \", ((datetime.now() - start_read_time).seconds)/60, \" minutes\")\n",
    "    \n",
    "    # some values don't have proper date values\n",
    "    latest_tweets= latest_tweets[latest_tweets.date.str.len()==19]\n",
    "\n",
    "    # Set index to date\n",
    "    latest_tweets.index = pd.to_datetime(latest_tweets.date)\n",
    "\n",
    "    # create date column\n",
    "    latest_tweets['date_of_tweet'] = latest_tweets.index.date\n",
    "\n",
    "    # sort index and just use date and text going forward\n",
    "    latest_tweets = latest_tweets.sort_index()[['date','text']]\n",
    "    \n",
    "    prices_df = tidy.explore_df()\n",
    "    # Join with prices df to get Bitcoin price change for that date\n",
    "    latest_tweets = latest_tweets.merge(prices_df, how='left',left_on=latest_tweets.index.date, right_on = prices_df.index.date)\n",
    "\n",
    "    latest_tweets.index = pd.to_datetime(latest_tweets.key_0)\n",
    "\n",
    "    latest_tweets = latest_tweets[['fwd_log_ret','text']]\n",
    "\n",
    "    latest_tweets.index.name = \"\"\n",
    "    \n",
    "    return latest_tweets"
   ]
  },
  {
   "cell_type": "code",
   "execution_count": 25,
   "id": "85f31d4f-e994-455e-b41b-dd3caffe6820",
   "metadata": {},
   "outputs": [
    {
     "name": "stdout",
     "output_type": "stream",
     "text": [
      "starting reading csv at:  2022-06-02 09:30:15.855555\n"
     ]
    },
    {
     "name": "stderr",
     "output_type": "stream",
     "text": [
      "/var/folders/tt/99v8dp0d60sfw82fs51dhr4m0000gn/T/ipykernel_13067/1495300577.py:8: DtypeWarning: Columns (4,5,6,7,12) have mixed types. Specify dtype option on import or set low_memory=False.\n",
      "  latest_tweets = pd.read_csv(tweet_csv)\n"
     ]
    },
    {
     "name": "stdout",
     "output_type": "stream",
     "text": [
      "done reading csv, took  0.43333333333333335  minutes\n"
     ]
    },
    {
     "name": "stderr",
     "output_type": "stream",
     "text": [
      "/var/folders/tt/99v8dp0d60sfw82fs51dhr4m0000gn/T/ipykernel_13067/1495300577.py:19: SettingWithCopyWarning: \n",
      "A value is trying to be set on a copy of a slice from a DataFrame.\n",
      "Try using .loc[row_indexer,col_indexer] = value instead\n",
      "\n",
      "See the caveats in the documentation: https://pandas.pydata.org/pandas-docs/stable/user_guide/indexing.html#returning-a-view-versus-a-copy\n",
      "  latest_tweets['date_of_tweet'] = latest_tweets.index.date\n"
     ]
    },
    {
     "name": "stdout",
     "output_type": "stream",
     "text": [
      "cached csv\n"
     ]
    }
   ],
   "source": [
    "latest_tweets = get_later_tweets()"
   ]
  },
  {
   "cell_type": "code",
   "execution_count": null,
   "id": "7a6b6c21-e927-43c4-b456-b06a33c35314",
   "metadata": {},
   "outputs": [],
   "source": [
    "def read_and_clean_early_tweets(time_columns = 'timestamp', csv_location = 'csv/early_tweets.csv'):\n",
    "    \"\"\" Reads in early tweets (until 2019), clean up the dates, and outputs dataframe with date and text of tweet \"\"\"\n",
    "    \n",
    "    # Define required columns from the csv - this should speed up load\n",
    "    req_cols = ['timestamp','likes','retweets','text']\n",
    "    \n",
    "    # Read CSV\n",
    "    tweets = pd.read_csv(csv_location,nrows = 16000000,on_bad_lines='skip',sep=';', usecols = req_cols)\n",
    "    \n",
    "    print(\"Completed reading in csv, shape: \", tweets.shape)\n",
    "    \n",
    "    # Clean dates (sometimes the time column has non time values. If it's a timestamp should have set number of characters\n",
    "    if time_column == 'time': # For reading in later tweets, that csv's time column is called 'time'\n",
    "        tweets = tweets[tweets[time_column].str.len()==25]\n",
    "    \n",
    "    # convert time to datetime\n",
    "    tweets[time_column]= pd.to_datetime(tweets[time_column])\n",
    "    \n",
    "    # Create date column\n",
    "    tweets['date'] = tweets[time_column].dt.date\n",
    "    \n",
    "    # Only use date and text columns\n",
    "    tweets = tweets[['date','text']]\n",
    "    \n",
    "    return tweets"
   ]
  },
  {
   "cell_type": "code",
   "execution_count": 160,
   "id": "f244c8cb-8e02-47f8-805b-21130b69e43a",
   "metadata": {},
   "outputs": [
    {
     "name": "stderr",
     "output_type": "stream",
     "text": [
      "/var/folders/tt/99v8dp0d60sfw82fs51dhr4m0000gn/T/ipykernel_7175/84593635.py:2: DtypeWarning: Columns (4,8) have mixed types. Specify dtype option on import or set low_memory=False.\n",
      "  tweets = pd.read_csv('csv/early_tweets.csv',nrows = 16000000,on_bad_lines='skip',sep=';', usecols = req_cols)\n"
     ]
    }
   ],
   "source": [
    "req_cols = ['timestamp','likes','retweets','text']\n",
    "tweets = pd.read_csv('csv/early_tweets.csv',nrows = 16000000,on_bad_lines='skip',sep=';', usecols = req_cols)"
   ]
  },
  {
   "cell_type": "code",
   "execution_count": 161,
   "id": "8eb4feaa-2461-4c0d-a063-55f461836786",
   "metadata": {},
   "outputs": [
    {
     "data": {
      "text/plain": [
       "(16000000, 4)"
      ]
     },
     "execution_count": 161,
     "metadata": {},
     "output_type": "execute_result"
    }
   ],
   "source": [
    "tweets.shape"
   ]
  },
  {
   "cell_type": "code",
   "execution_count": 162,
   "id": "9c0429a5-e772-4f57-b8d8-147a39b67aef",
   "metadata": {},
   "outputs": [
    {
     "data": {
      "text/html": [
       "<div>\n",
       "<style scoped>\n",
       "    .dataframe tbody tr th:only-of-type {\n",
       "        vertical-align: middle;\n",
       "    }\n",
       "\n",
       "    .dataframe tbody tr th {\n",
       "        vertical-align: top;\n",
       "    }\n",
       "\n",
       "    .dataframe thead th {\n",
       "        text-align: right;\n",
       "    }\n",
       "</style>\n",
       "<table border=\"1\" class=\"dataframe\">\n",
       "  <thead>\n",
       "    <tr style=\"text-align: right;\">\n",
       "      <th></th>\n",
       "      <th>timestamp</th>\n",
       "      <th>likes</th>\n",
       "      <th>retweets</th>\n",
       "      <th>text</th>\n",
       "    </tr>\n",
       "  </thead>\n",
       "  <tbody>\n",
       "    <tr>\n",
       "      <th>0</th>\n",
       "      <td>2019-05-27 11:49:14+00</td>\n",
       "      <td>0.0</td>\n",
       "      <td>0.0</td>\n",
       "      <td>È appena uscito un nuovo video! LES CRYPTOMONN...</td>\n",
       "    </tr>\n",
       "    <tr>\n",
       "      <th>1</th>\n",
       "      <td>2019-05-27 11:49:18+00</td>\n",
       "      <td>0.0</td>\n",
       "      <td>0.0</td>\n",
       "      <td>Cardano: Digitize Currencies; EOS https://t.co...</td>\n",
       "    </tr>\n",
       "    <tr>\n",
       "      <th>2</th>\n",
       "      <td>2019-05-27 11:49:06+00</td>\n",
       "      <td>2.0</td>\n",
       "      <td>1.0</td>\n",
       "      <td>Another Test tweet that wasn't caught in the s...</td>\n",
       "    </tr>\n",
       "    <tr>\n",
       "      <th>3</th>\n",
       "      <td>2019-05-27 11:49:22+00</td>\n",
       "      <td>0.0</td>\n",
       "      <td>0.0</td>\n",
       "      <td>Current Crypto Prices! \\n\\nBTC: $8721.99 USD\\n...</td>\n",
       "    </tr>\n",
       "    <tr>\n",
       "      <th>4</th>\n",
       "      <td>2019-05-27 11:49:23+00</td>\n",
       "      <td>0.0</td>\n",
       "      <td>0.0</td>\n",
       "      <td>Spiv (Nosar Baz): BITCOIN Is An Asset &amp;amp; NO...</td>\n",
       "    </tr>\n",
       "  </tbody>\n",
       "</table>\n",
       "</div>"
      ],
      "text/plain": [
       "                timestamp  likes  retweets  \\\n",
       "0  2019-05-27 11:49:14+00    0.0       0.0   \n",
       "1  2019-05-27 11:49:18+00    0.0       0.0   \n",
       "2  2019-05-27 11:49:06+00    2.0       1.0   \n",
       "3  2019-05-27 11:49:22+00    0.0       0.0   \n",
       "4  2019-05-27 11:49:23+00    0.0       0.0   \n",
       "\n",
       "                                                text  \n",
       "0  È appena uscito un nuovo video! LES CRYPTOMONN...  \n",
       "1  Cardano: Digitize Currencies; EOS https://t.co...  \n",
       "2  Another Test tweet that wasn't caught in the s...  \n",
       "3  Current Crypto Prices! \\n\\nBTC: $8721.99 USD\\n...  \n",
       "4  Spiv (Nosar Baz): BITCOIN Is An Asset &amp; NO...  "
      ]
     },
     "execution_count": 162,
     "metadata": {},
     "output_type": "execute_result"
    }
   ],
   "source": [
    "tweets.head()"
   ]
  },
  {
   "cell_type": "code",
   "execution_count": 163,
   "id": "bfe09272-4607-4830-b2d4-357d943d9448",
   "metadata": {},
   "outputs": [],
   "source": [
    "def initial_tweet_clean(tweets,time_column = 'time'):\n",
    "    # Clean dates\n",
    "    if time_column == 'time':\n",
    "        tweets = tweets[tweets[time_column].str.len()==25]\n",
    "\n",
    "    tweets[time_column]= pd.to_datetime(tweets[time_column])\n",
    "\n",
    "    tweets['date'] = tweets[time_column].dt.date\n",
    "\n",
    "    tweets = tweets[['date','text']]\n",
    "    \n",
    "    return tweets\n"
   ]
  },
  {
   "cell_type": "code",
   "execution_count": null,
   "id": "2f58cd86-7350-4fd8-82c1-434a9232ea19",
   "metadata": {},
   "outputs": [],
   "source": [
    "cleaned_early_tweets = read_and_clean_early_tweets()"
   ]
  },
  {
   "cell_type": "code",
   "execution_count": 164,
   "id": "9f48b5b4-50bf-4a41-8bca-02cf74696ac6",
   "metadata": {},
   "outputs": [],
   "source": [
    "# cleaned_tweets = initial_tweet_clean(tweets, 'timestamp')"
   ]
  },
  {
   "cell_type": "code",
   "execution_count": 166,
   "id": "7d860252-dc06-4323-8899-c16b534d9506",
   "metadata": {},
   "outputs": [
    {
     "ename": "AttributeError",
     "evalue": "'float' object has no attribute 'encode'",
     "output_type": "error",
     "traceback": [
      "\u001b[0;31m---------------------------------------------------------------------------\u001b[0m",
      "\u001b[0;31mAttributeError\u001b[0m                            Traceback (most recent call last)",
      "Input \u001b[0;32mIn [166]\u001b[0m, in \u001b[0;36m<cell line: 1>\u001b[0;34m()\u001b[0m\n\u001b[0;32m----> 1\u001b[0m cleaned_tweets[\u001b[38;5;124m'\u001b[39m\u001b[38;5;124msentiment\u001b[39m\u001b[38;5;124m'\u001b[39m] \u001b[38;5;241m=\u001b[39m \u001b[43mcleaned_tweets\u001b[49m\u001b[38;5;241;43m.\u001b[39;49m\u001b[43mtext\u001b[49m\u001b[38;5;241;43m.\u001b[39;49m\u001b[43mapply\u001b[49m\u001b[43m(\u001b[49m\u001b[38;5;28;43;01mlambda\u001b[39;49;00m\u001b[43m \u001b[49m\u001b[43mmsg\u001b[49m\u001b[43m:\u001b[49m\u001b[43m \u001b[49m\u001b[43msia\u001b[49m\u001b[38;5;241;43m.\u001b[39;49m\u001b[43mpolarity_scores\u001b[49m\u001b[43m(\u001b[49m\u001b[43mmsg\u001b[49m\u001b[43m)\u001b[49m\u001b[43m[\u001b[49m\u001b[38;5;124;43m'\u001b[39;49m\u001b[38;5;124;43mcompound\u001b[39;49m\u001b[38;5;124;43m'\u001b[39;49m\u001b[43m]\u001b[49m\u001b[43m)\u001b[49m\n",
      "File \u001b[0;32m/opt/homebrew/anaconda3/envs/quant/lib/python3.9/site-packages/pandas/core/series.py:4433\u001b[0m, in \u001b[0;36mSeries.apply\u001b[0;34m(self, func, convert_dtype, args, **kwargs)\u001b[0m\n\u001b[1;32m   4323\u001b[0m \u001b[38;5;28;01mdef\u001b[39;00m \u001b[38;5;21mapply\u001b[39m(\n\u001b[1;32m   4324\u001b[0m     \u001b[38;5;28mself\u001b[39m,\n\u001b[1;32m   4325\u001b[0m     func: AggFuncType,\n\u001b[0;32m   (...)\u001b[0m\n\u001b[1;32m   4328\u001b[0m     \u001b[38;5;241m*\u001b[39m\u001b[38;5;241m*\u001b[39mkwargs,\n\u001b[1;32m   4329\u001b[0m ) \u001b[38;5;241m-\u001b[39m\u001b[38;5;241m>\u001b[39m DataFrame \u001b[38;5;241m|\u001b[39m Series:\n\u001b[1;32m   4330\u001b[0m     \u001b[38;5;124;03m\"\"\"\u001b[39;00m\n\u001b[1;32m   4331\u001b[0m \u001b[38;5;124;03m    Invoke function on values of Series.\u001b[39;00m\n\u001b[1;32m   4332\u001b[0m \n\u001b[0;32m   (...)\u001b[0m\n\u001b[1;32m   4431\u001b[0m \u001b[38;5;124;03m    dtype: float64\u001b[39;00m\n\u001b[1;32m   4432\u001b[0m \u001b[38;5;124;03m    \"\"\"\u001b[39;00m\n\u001b[0;32m-> 4433\u001b[0m     \u001b[38;5;28;01mreturn\u001b[39;00m \u001b[43mSeriesApply\u001b[49m\u001b[43m(\u001b[49m\u001b[38;5;28;43mself\u001b[39;49m\u001b[43m,\u001b[49m\u001b[43m \u001b[49m\u001b[43mfunc\u001b[49m\u001b[43m,\u001b[49m\u001b[43m \u001b[49m\u001b[43mconvert_dtype\u001b[49m\u001b[43m,\u001b[49m\u001b[43m \u001b[49m\u001b[43margs\u001b[49m\u001b[43m,\u001b[49m\u001b[43m \u001b[49m\u001b[43mkwargs\u001b[49m\u001b[43m)\u001b[49m\u001b[38;5;241;43m.\u001b[39;49m\u001b[43mapply\u001b[49m\u001b[43m(\u001b[49m\u001b[43m)\u001b[49m\n",
      "File \u001b[0;32m/opt/homebrew/anaconda3/envs/quant/lib/python3.9/site-packages/pandas/core/apply.py:1082\u001b[0m, in \u001b[0;36mSeriesApply.apply\u001b[0;34m(self)\u001b[0m\n\u001b[1;32m   1078\u001b[0m \u001b[38;5;28;01mif\u001b[39;00m \u001b[38;5;28misinstance\u001b[39m(\u001b[38;5;28mself\u001b[39m\u001b[38;5;241m.\u001b[39mf, \u001b[38;5;28mstr\u001b[39m):\n\u001b[1;32m   1079\u001b[0m     \u001b[38;5;66;03m# if we are a string, try to dispatch\u001b[39;00m\n\u001b[1;32m   1080\u001b[0m     \u001b[38;5;28;01mreturn\u001b[39;00m \u001b[38;5;28mself\u001b[39m\u001b[38;5;241m.\u001b[39mapply_str()\n\u001b[0;32m-> 1082\u001b[0m \u001b[38;5;28;01mreturn\u001b[39;00m \u001b[38;5;28;43mself\u001b[39;49m\u001b[38;5;241;43m.\u001b[39;49m\u001b[43mapply_standard\u001b[49m\u001b[43m(\u001b[49m\u001b[43m)\u001b[49m\n",
      "File \u001b[0;32m/opt/homebrew/anaconda3/envs/quant/lib/python3.9/site-packages/pandas/core/apply.py:1137\u001b[0m, in \u001b[0;36mSeriesApply.apply_standard\u001b[0;34m(self)\u001b[0m\n\u001b[1;32m   1131\u001b[0m         values \u001b[38;5;241m=\u001b[39m obj\u001b[38;5;241m.\u001b[39mastype(\u001b[38;5;28mobject\u001b[39m)\u001b[38;5;241m.\u001b[39m_values\n\u001b[1;32m   1132\u001b[0m         \u001b[38;5;66;03m# error: Argument 2 to \"map_infer\" has incompatible type\u001b[39;00m\n\u001b[1;32m   1133\u001b[0m         \u001b[38;5;66;03m# \"Union[Callable[..., Any], str, List[Union[Callable[..., Any], str]],\u001b[39;00m\n\u001b[1;32m   1134\u001b[0m         \u001b[38;5;66;03m# Dict[Hashable, Union[Union[Callable[..., Any], str],\u001b[39;00m\n\u001b[1;32m   1135\u001b[0m         \u001b[38;5;66;03m# List[Union[Callable[..., Any], str]]]]]\"; expected\u001b[39;00m\n\u001b[1;32m   1136\u001b[0m         \u001b[38;5;66;03m# \"Callable[[Any], Any]\"\u001b[39;00m\n\u001b[0;32m-> 1137\u001b[0m         mapped \u001b[38;5;241m=\u001b[39m \u001b[43mlib\u001b[49m\u001b[38;5;241;43m.\u001b[39;49m\u001b[43mmap_infer\u001b[49m\u001b[43m(\u001b[49m\n\u001b[1;32m   1138\u001b[0m \u001b[43m            \u001b[49m\u001b[43mvalues\u001b[49m\u001b[43m,\u001b[49m\n\u001b[1;32m   1139\u001b[0m \u001b[43m            \u001b[49m\u001b[43mf\u001b[49m\u001b[43m,\u001b[49m\u001b[43m  \u001b[49m\u001b[38;5;66;43;03m# type: ignore[arg-type]\u001b[39;49;00m\n\u001b[1;32m   1140\u001b[0m \u001b[43m            \u001b[49m\u001b[43mconvert\u001b[49m\u001b[38;5;241;43m=\u001b[39;49m\u001b[38;5;28;43mself\u001b[39;49m\u001b[38;5;241;43m.\u001b[39;49m\u001b[43mconvert_dtype\u001b[49m\u001b[43m,\u001b[49m\n\u001b[1;32m   1141\u001b[0m \u001b[43m        \u001b[49m\u001b[43m)\u001b[49m\n\u001b[1;32m   1143\u001b[0m \u001b[38;5;28;01mif\u001b[39;00m \u001b[38;5;28mlen\u001b[39m(mapped) \u001b[38;5;129;01mand\u001b[39;00m \u001b[38;5;28misinstance\u001b[39m(mapped[\u001b[38;5;241m0\u001b[39m], ABCSeries):\n\u001b[1;32m   1144\u001b[0m     \u001b[38;5;66;03m# GH#43986 Need to do list(mapped) in order to get treated as nested\u001b[39;00m\n\u001b[1;32m   1145\u001b[0m     \u001b[38;5;66;03m#  See also GH#25959 regarding EA support\u001b[39;00m\n\u001b[1;32m   1146\u001b[0m     \u001b[38;5;28;01mreturn\u001b[39;00m obj\u001b[38;5;241m.\u001b[39m_constructor_expanddim(\u001b[38;5;28mlist\u001b[39m(mapped), index\u001b[38;5;241m=\u001b[39mobj\u001b[38;5;241m.\u001b[39mindex)\n",
      "File \u001b[0;32m/opt/homebrew/anaconda3/envs/quant/lib/python3.9/site-packages/pandas/_libs/lib.pyx:2870\u001b[0m, in \u001b[0;36mpandas._libs.lib.map_infer\u001b[0;34m()\u001b[0m\n",
      "Input \u001b[0;32mIn [166]\u001b[0m, in \u001b[0;36m<lambda>\u001b[0;34m(msg)\u001b[0m\n\u001b[0;32m----> 1\u001b[0m cleaned_tweets[\u001b[38;5;124m'\u001b[39m\u001b[38;5;124msentiment\u001b[39m\u001b[38;5;124m'\u001b[39m] \u001b[38;5;241m=\u001b[39m cleaned_tweets\u001b[38;5;241m.\u001b[39mtext\u001b[38;5;241m.\u001b[39mapply(\u001b[38;5;28;01mlambda\u001b[39;00m msg: \u001b[43msia\u001b[49m\u001b[38;5;241;43m.\u001b[39;49m\u001b[43mpolarity_scores\u001b[49m\u001b[43m(\u001b[49m\u001b[43mmsg\u001b[49m\u001b[43m)\u001b[49m[\u001b[38;5;124m'\u001b[39m\u001b[38;5;124mcompound\u001b[39m\u001b[38;5;124m'\u001b[39m])\n",
      "File \u001b[0;32m/opt/homebrew/anaconda3/envs/quant/lib/python3.9/site-packages/nltk/sentiment/vader.py:361\u001b[0m, in \u001b[0;36mSentimentIntensityAnalyzer.polarity_scores\u001b[0;34m(self, text)\u001b[0m\n\u001b[1;32m    355\u001b[0m \u001b[38;5;124;03m\"\"\"\u001b[39;00m\n\u001b[1;32m    356\u001b[0m \u001b[38;5;124;03mReturn a float for sentiment strength based on the input text.\u001b[39;00m\n\u001b[1;32m    357\u001b[0m \u001b[38;5;124;03mPositive values are positive valence, negative value are negative\u001b[39;00m\n\u001b[1;32m    358\u001b[0m \u001b[38;5;124;03mvalence.\u001b[39;00m\n\u001b[1;32m    359\u001b[0m \u001b[38;5;124;03m\"\"\"\u001b[39;00m\n\u001b[1;32m    360\u001b[0m \u001b[38;5;66;03m# text, words_and_emoticons, is_cap_diff = self.preprocess(text)\u001b[39;00m\n\u001b[0;32m--> 361\u001b[0m sentitext \u001b[38;5;241m=\u001b[39m \u001b[43mSentiText\u001b[49m\u001b[43m(\u001b[49m\n\u001b[1;32m    362\u001b[0m \u001b[43m    \u001b[49m\u001b[43mtext\u001b[49m\u001b[43m,\u001b[49m\u001b[43m \u001b[49m\u001b[38;5;28;43mself\u001b[39;49m\u001b[38;5;241;43m.\u001b[39;49m\u001b[43mconstants\u001b[49m\u001b[38;5;241;43m.\u001b[39;49m\u001b[43mPUNC_LIST\u001b[49m\u001b[43m,\u001b[49m\u001b[43m \u001b[49m\u001b[38;5;28;43mself\u001b[39;49m\u001b[38;5;241;43m.\u001b[39;49m\u001b[43mconstants\u001b[49m\u001b[38;5;241;43m.\u001b[39;49m\u001b[43mREGEX_REMOVE_PUNCTUATION\u001b[49m\n\u001b[1;32m    363\u001b[0m \u001b[43m\u001b[49m\u001b[43m)\u001b[49m\n\u001b[1;32m    364\u001b[0m sentiments \u001b[38;5;241m=\u001b[39m []\n\u001b[1;32m    365\u001b[0m words_and_emoticons \u001b[38;5;241m=\u001b[39m sentitext\u001b[38;5;241m.\u001b[39mwords_and_emoticons\n",
      "File \u001b[0;32m/opt/homebrew/anaconda3/envs/quant/lib/python3.9/site-packages/nltk/sentiment/vader.py:270\u001b[0m, in \u001b[0;36mSentiText.__init__\u001b[0;34m(self, text, punc_list, regex_remove_punctuation)\u001b[0m\n\u001b[1;32m    268\u001b[0m \u001b[38;5;28;01mdef\u001b[39;00m \u001b[38;5;21m__init__\u001b[39m(\u001b[38;5;28mself\u001b[39m, text, punc_list, regex_remove_punctuation):\n\u001b[1;32m    269\u001b[0m     \u001b[38;5;28;01mif\u001b[39;00m \u001b[38;5;129;01mnot\u001b[39;00m \u001b[38;5;28misinstance\u001b[39m(text, \u001b[38;5;28mstr\u001b[39m):\n\u001b[0;32m--> 270\u001b[0m         text \u001b[38;5;241m=\u001b[39m \u001b[38;5;28mstr\u001b[39m(\u001b[43mtext\u001b[49m\u001b[38;5;241;43m.\u001b[39;49m\u001b[43mencode\u001b[49m(\u001b[38;5;124m\"\u001b[39m\u001b[38;5;124mutf-8\u001b[39m\u001b[38;5;124m\"\u001b[39m))\n\u001b[1;32m    271\u001b[0m     \u001b[38;5;28mself\u001b[39m\u001b[38;5;241m.\u001b[39mtext \u001b[38;5;241m=\u001b[39m text\n\u001b[1;32m    272\u001b[0m     \u001b[38;5;28mself\u001b[39m\u001b[38;5;241m.\u001b[39mPUNC_LIST \u001b[38;5;241m=\u001b[39m punc_list\n",
      "\u001b[0;31mAttributeError\u001b[0m: 'float' object has no attribute 'encode'"
     ]
    }
   ],
   "source": [
    "cleaned_tweets['sentiment'] = cleaned_tweets.text.apply(lambda msg: sia.polarity_scores(msg)['compound'])"
   ]
  },
  {
   "cell_type": "code",
   "execution_count": 87,
   "id": "33e4d7b2-52c0-4e6d-b05a-905d1016ae80",
   "metadata": {},
   "outputs": [],
   "source": [
    "prepared_tweets = tidy.prepare_df(tweets.sample(5000), 'text')\n",
    "\n",
    "prices = df\n",
    "\n",
    "prepared_tweets = prepared_tweets.merge(prices, how = 'left', left_on = 'date', right_on = prices.index.date)\n",
    "\n",
    "prepared_tweets.index = pd.to_datetime(prepared_tweets.date)"
   ]
  },
  {
   "cell_type": "code",
   "execution_count": 89,
   "id": "982c95c4-181b-459f-83e4-6acb8cad8dc8",
   "metadata": {},
   "outputs": [],
   "source": [
    "lem_and_ret = prepared_tweets.resample('D').agg({'lemmatized':' '.join, 'fwd_log_ret':np.mean, 'fwd_close_positive':np.mean})"
   ]
  },
  {
   "cell_type": "code",
   "execution_count": 42,
   "id": "e09c49a4-5301-480b-a22d-622335643ee9",
   "metadata": {},
   "outputs": [],
   "source": [
    "from sklearn.feature_extraction.text import TfidfVectorizer, CountVectorizer\n",
    "from sklearn.metrics import classification_report, accuracy_score\n",
    "from sklearn.linear_model import LogisticRegression"
   ]
  },
  {
   "cell_type": "code",
   "execution_count": 104,
   "id": "fda457f7-7883-49c1-8f7c-792ec21bcfb7",
   "metadata": {},
   "outputs": [
    {
     "name": "stderr",
     "output_type": "stream",
     "text": [
      "/var/folders/tt/99v8dp0d60sfw82fs51dhr4m0000gn/T/ipykernel_7175/3598481775.py:1: SettingWithCopyWarning: \n",
      "A value is trying to be set on a copy of a slice from a DataFrame.\n",
      "Try using .loc[row_indexer,col_indexer] = value instead\n",
      "\n",
      "See the caveats in the documentation: https://pandas.pydata.org/pandas-docs/stable/user_guide/indexing.html#returning-a-view-versus-a-copy\n",
      "  tweets['sentiment'] = tweets.text.apply(lambda msg: sia.polarity_scores(msg)['compound'])\n"
     ]
    }
   ],
   "source": [
    "tweets['sentiment'] = tweets.text.apply(lambda msg: sia.polarity_scores(msg)['compound'])"
   ]
  },
  {
   "cell_type": "code",
   "execution_count": 108,
   "id": "f5fb3194-d235-41ce-ace0-75872f5150b1",
   "metadata": {},
   "outputs": [
    {
     "data": {
      "text/plain": [
       "datetime.date(2019, 5, 27)"
      ]
     },
     "execution_count": 108,
     "metadata": {},
     "output_type": "execute_result"
    }
   ],
   "source": [
    "tweets.date.max()"
   ]
  },
  {
   "cell_type": "code",
   "execution_count": 51,
   "id": "7fc1d87e-8673-49e8-b6f8-dd586dde0282",
   "metadata": {},
   "outputs": [],
   "source": [
    "train = lem_and_ret.iloc[:20]\n",
    "\n",
    "validate = lem_and_ret.iloc[20:]"
   ]
  },
  {
   "cell_type": "code",
   "execution_count": 52,
   "id": "dcac5f35-3464-431f-8c4c-2ce9d7431387",
   "metadata": {},
   "outputs": [],
   "source": [
    "target = 'fwd_close_positive'"
   ]
  },
  {
   "cell_type": "code",
   "execution_count": 53,
   "id": "ebe8a856-22d1-445c-b532-3b1f11da7037",
   "metadata": {},
   "outputs": [],
   "source": [
    "# Instantiate the feature extraction method\n",
    "feature_extraction_method = CountVectorizer(ngram_range=(1,1))\n",
    "\n",
    "# Perform feature extraction on lemmatized text from train\n",
    "X_train = feature_extraction_method.fit_transform(train.lemmatized)\n",
    "\n",
    "# Generate dataframe of results of feature extraction\n",
    "train_vectorizer_df = pd.DataFrame(X_train.todense(), columns=feature_extraction_method.get_feature_names_out())\n",
    "\n",
    "# Set index to train index\n",
    "train_vectorizer_df.index = train.index\n",
    "\n",
    "# Add in other features (lengths of readme)\n",
    "# X_train = pd.concat([train_vectorizer_df,train[['original_length','stem_length', 'lem_length', 'original_word_count',\n",
    "#        'stemmed_word_count', 'lemmatized_word_count']]], axis = 1)\n",
    "\n",
    "# Scale features in train (necessary for logistic regression)\n",
    "# X_train_scaled = scaler.fit_transform(X_train)\n",
    "\n",
    "# Perform feature extraction and add in additional features on validate\n",
    "X_validate = feature_extraction_method.transform(validate.lemmatized)\n",
    "validate_vectorizer_df = pd.DataFrame(X_validate.todense(), columns=feature_extraction_method.get_feature_names_out())\n",
    "validate_vectorizer_df.index = validate.index\n",
    "\n",
    "# X_validate = pd.concat([validate_vectorizer_df,validate[['original_length','stem_length', 'lem_length', 'original_word_count',\n",
    "#        'stemmed_word_count', 'lemmatized_word_count']]], axis = 1)\n",
    "\n",
    "# Scale validate\n",
    "# X_validate_scaled = scaler.transform(X_validate)\n",
    "\n",
    "# Define target \n",
    "y_train = train[target]\n",
    "y_validate = validate[target]"
   ]
  },
  {
   "cell_type": "code",
   "execution_count": 57,
   "id": "9fe239d2-faed-48d3-97fd-8cabe0782319",
   "metadata": {},
   "outputs": [
    {
     "name": "stderr",
     "output_type": "stream",
     "text": [
      "/opt/homebrew/anaconda3/envs/quant/lib/python3.9/site-packages/sklearn/linear_model/_logistic.py:814: ConvergenceWarning: lbfgs failed to converge (status=1):\n",
      "STOP: TOTAL NO. of ITERATIONS REACHED LIMIT.\n",
      "\n",
      "Increase the number of iterations (max_iter) or scale the data as shown in:\n",
      "    https://scikit-learn.org/stable/modules/preprocessing.html\n",
      "Please also refer to the documentation for alternative solver options:\n",
      "    https://scikit-learn.org/stable/modules/linear_model.html#logistic-regression\n",
      "  n_iter_i = _check_optimize_result(\n"
     ]
    }
   ],
   "source": [
    "# Create dataframe of results from train and validate\n",
    "train_results=pd.DataFrame(dict(actual = y_train))\n",
    "validate_results = pd.DataFrame(dict(actual = y_validate))\n",
    "\n",
    "class_model = LogisticRegression()\n",
    "# Fit model to scaled train data \n",
    "model_to_use = class_model.fit(X_train, y_train)\n",
    "\n",
    "# Predict on train and validate\n",
    "train_results['predicted'] = model_to_use.predict(X_train)\n",
    "validate_results['predicted'] = model_to_use.predict(X_validate)\n"
   ]
  },
  {
   "cell_type": "code",
   "execution_count": 58,
   "id": "1e9cde1b-860a-4a9b-9852-c4fd902559e8",
   "metadata": {},
   "outputs": [],
   "source": [
    "# Generate classification reports for train and validate\n",
    "train_class_report = classification_report(train_results.actual, train_results.predicted, output_dict = True)\n",
    "validate_class_report = classification_report(validate_results.actual, validate_results.predicted,output_dict=True)"
   ]
  },
  {
   "cell_type": "code",
   "execution_count": 59,
   "id": "5e651f80-d572-4641-be6d-16eafb39c55d",
   "metadata": {},
   "outputs": [
    {
     "name": "stdout",
     "output_type": "stream",
     "text": [
      "Accuracy: 100.00%\n",
      "---\n",
      "---\n",
      "            0.0  1.0  accuracy  macro avg  weighted avg\n",
      "precision   1.0  1.0       1.0        1.0           1.0\n",
      "recall      1.0  1.0       1.0        1.0           1.0\n",
      "f1-score    1.0  1.0       1.0        1.0           1.0\n",
      "support    11.0  9.0       1.0       20.0          20.0\n",
      "Accuracy: 40.00%\n",
      "---\n",
      "---\n",
      "           0.0   1.0  accuracy  macro avg  weighted avg\n",
      "precision  0.5  0.25       0.4      0.375           0.4\n",
      "recall     0.5  0.25       0.4      0.375           0.4\n",
      "f1-score   0.5  0.25       0.4      0.375           0.4\n",
      "support    6.0  4.00       0.4     10.000          10.0\n"
     ]
    }
   ],
   "source": [
    "\n",
    "print('Accuracy: {:.2%}'.format(accuracy_score(train_results.actual, train_results.predicted)))\n",
    "print('---')\n",
    "# print('Train Confusion Matrix')\n",
    "# print(pd.crosstab(train_results_tfidf.predicted, train_results_tfidf.actual))\n",
    "print('---')\n",
    "print(pd.DataFrame(train_class_report))\n",
    "\n",
    "\n",
    "print('Accuracy: {:.2%}'.format(accuracy_score(validate_results.actual, validate_results.predicted)))\n",
    "print('---')\n",
    "# print('Validate Confusion Matrix')\n",
    "# print(pd.crosstab(validate_results_tfidf.predicted, validate_results_tfidf.actual))\n",
    "print('---')\n",
    "print(pd.DataFrame(validate_class_report))"
   ]
  },
  {
   "cell_type": "code",
   "execution_count": 13,
   "id": "39aff2a0-5a0d-40e4-b669-bdbc418566e2",
   "metadata": {},
   "outputs": [],
   "source": [
    "from sklearn.model_selection import TimeSeriesSplit"
   ]
  },
  {
   "cell_type": "code",
   "execution_count": 14,
   "id": "d53033b4-8705-48cf-a385-231929e38897",
   "metadata": {},
   "outputs": [
    {
     "name": "stdout",
     "output_type": "stream",
     "text": [
      "cached csv\n"
     ]
    }
   ],
   "source": [
    "df=tidy.explore_df()"
   ]
  },
  {
   "cell_type": "code",
   "execution_count": 15,
   "id": "af7efcc3-f957-4793-baee-b83edcece151",
   "metadata": {},
   "outputs": [],
   "source": [
    "df = tidy.add_ATR_feature(df)"
   ]
  },
  {
   "cell_type": "code",
   "execution_count": 16,
   "id": "ef7b0e88-a944-4e09-9066-1a7f93bedcd3",
   "metadata": {},
   "outputs": [],
   "source": [
    "X = df[['close','atr_above_threshold_0.01',\n",
    "       'atr_above_threshold_0.05', 'atr_above_threshold_0.1',\n",
    "       'atr_above_threshold_0.2', 'atr_above_threshold_0.3']]\n",
    "y = df[['fwd_log_ret']]"
   ]
  },
  {
   "cell_type": "code",
   "execution_count": 17,
   "id": "ccf0e134-3e0b-4b79-9629-7d6f82718356",
   "metadata": {},
   "outputs": [
    {
     "name": "stdout",
     "output_type": "stream",
     "text": [
      "Train: DatetimeIndex(['2014-09-17 00:00:00+00:00', '2014-09-18 00:00:00+00:00',\n",
      "               '2014-09-19 00:00:00+00:00', '2014-09-20 00:00:00+00:00',\n",
      "               '2014-09-21 00:00:00+00:00', '2014-09-22 00:00:00+00:00',\n",
      "               '2014-09-23 00:00:00+00:00', '2014-09-24 00:00:00+00:00',\n",
      "               '2014-09-25 00:00:00+00:00', '2014-09-26 00:00:00+00:00',\n",
      "               ...\n",
      "               '2021-09-07 00:00:00+00:00', '2021-09-08 00:00:00+00:00',\n",
      "               '2021-09-09 00:00:00+00:00', '2021-09-10 00:00:00+00:00',\n",
      "               '2021-09-11 00:00:00+00:00', '2021-09-12 00:00:00+00:00',\n",
      "               '2021-09-13 00:00:00+00:00', '2021-09-14 00:00:00+00:00',\n",
      "               '2021-09-15 00:00:00+00:00', '2021-09-16 00:00:00+00:00'],\n",
      "              dtype='datetime64[ns, UTC]', name='date', length=2557, freq=None) Test: DatetimeIndex(['2021-09-17 00:00:00+00:00', '2021-09-18 00:00:00+00:00',\n",
      "               '2021-09-19 00:00:00+00:00', '2021-09-20 00:00:00+00:00',\n",
      "               '2021-09-21 00:00:00+00:00', '2021-09-22 00:00:00+00:00',\n",
      "               '2021-09-23 00:00:00+00:00', '2021-09-24 00:00:00+00:00',\n",
      "               '2021-09-25 00:00:00+00:00', '2021-09-26 00:00:00+00:00',\n",
      "               '2021-09-27 00:00:00+00:00', '2021-09-28 00:00:00+00:00',\n",
      "               '2021-09-29 00:00:00+00:00', '2021-09-30 00:00:00+00:00',\n",
      "               '2021-10-01 00:00:00+00:00', '2021-10-02 00:00:00+00:00',\n",
      "               '2021-10-03 00:00:00+00:00', '2021-10-04 00:00:00+00:00',\n",
      "               '2021-10-05 00:00:00+00:00', '2021-10-06 00:00:00+00:00',\n",
      "               '2021-10-07 00:00:00+00:00', '2021-10-08 00:00:00+00:00',\n",
      "               '2021-10-09 00:00:00+00:00', '2021-10-10 00:00:00+00:00',\n",
      "               '2021-10-11 00:00:00+00:00', '2021-10-12 00:00:00+00:00',\n",
      "               '2021-10-13 00:00:00+00:00', '2021-10-14 00:00:00+00:00',\n",
      "               '2021-10-15 00:00:00+00:00', '2021-10-16 00:00:00+00:00',\n",
      "               '2021-10-17 00:00:00+00:00', '2021-10-18 00:00:00+00:00',\n",
      "               '2021-10-19 00:00:00+00:00', '2021-10-20 00:00:00+00:00',\n",
      "               '2021-10-21 00:00:00+00:00', '2021-10-22 00:00:00+00:00',\n",
      "               '2021-10-23 00:00:00+00:00', '2021-10-24 00:00:00+00:00',\n",
      "               '2021-10-25 00:00:00+00:00', '2021-10-26 00:00:00+00:00',\n",
      "               '2021-10-27 00:00:00+00:00', '2021-10-28 00:00:00+00:00',\n",
      "               '2021-10-29 00:00:00+00:00', '2021-10-30 00:00:00+00:00',\n",
      "               '2021-10-31 00:00:00+00:00', '2021-11-01 00:00:00+00:00',\n",
      "               '2021-11-02 00:00:00+00:00', '2021-11-03 00:00:00+00:00',\n",
      "               '2021-11-04 00:00:00+00:00', '2021-11-05 00:00:00+00:00'],\n",
      "              dtype='datetime64[ns, UTC]', name='date', freq=None)\n",
      "Train: DatetimeIndex(['2014-11-06 00:00:00+00:00', '2014-11-07 00:00:00+00:00',\n",
      "               '2014-11-08 00:00:00+00:00', '2014-11-09 00:00:00+00:00',\n",
      "               '2014-11-10 00:00:00+00:00', '2014-11-11 00:00:00+00:00',\n",
      "               '2014-11-12 00:00:00+00:00', '2014-11-13 00:00:00+00:00',\n",
      "               '2014-11-14 00:00:00+00:00', '2014-11-15 00:00:00+00:00',\n",
      "               ...\n",
      "               '2021-10-27 00:00:00+00:00', '2021-10-28 00:00:00+00:00',\n",
      "               '2021-10-29 00:00:00+00:00', '2021-10-30 00:00:00+00:00',\n",
      "               '2021-10-31 00:00:00+00:00', '2021-11-01 00:00:00+00:00',\n",
      "               '2021-11-02 00:00:00+00:00', '2021-11-03 00:00:00+00:00',\n",
      "               '2021-11-04 00:00:00+00:00', '2021-11-05 00:00:00+00:00'],\n",
      "              dtype='datetime64[ns, UTC]', name='date', length=2557, freq=None) Test: DatetimeIndex(['2021-11-06 00:00:00+00:00', '2021-11-07 00:00:00+00:00',\n",
      "               '2021-11-08 00:00:00+00:00', '2021-11-09 00:00:00+00:00',\n",
      "               '2021-11-10 00:00:00+00:00', '2021-11-11 00:00:00+00:00',\n",
      "               '2021-11-12 00:00:00+00:00', '2021-11-13 00:00:00+00:00',\n",
      "               '2021-11-14 00:00:00+00:00', '2021-11-15 00:00:00+00:00',\n",
      "               '2021-11-16 00:00:00+00:00', '2021-11-17 00:00:00+00:00',\n",
      "               '2021-11-18 00:00:00+00:00', '2021-11-19 00:00:00+00:00',\n",
      "               '2021-11-20 00:00:00+00:00', '2021-11-21 00:00:00+00:00',\n",
      "               '2021-11-22 00:00:00+00:00', '2021-11-23 00:00:00+00:00',\n",
      "               '2021-11-24 00:00:00+00:00', '2021-11-25 00:00:00+00:00',\n",
      "               '2021-11-26 00:00:00+00:00', '2021-11-27 00:00:00+00:00',\n",
      "               '2021-11-28 00:00:00+00:00', '2021-11-29 00:00:00+00:00',\n",
      "               '2021-11-30 00:00:00+00:00', '2021-12-01 00:00:00+00:00',\n",
      "               '2021-12-02 00:00:00+00:00', '2021-12-03 00:00:00+00:00',\n",
      "               '2021-12-04 00:00:00+00:00', '2021-12-05 00:00:00+00:00',\n",
      "               '2021-12-06 00:00:00+00:00', '2021-12-07 00:00:00+00:00',\n",
      "               '2021-12-08 00:00:00+00:00', '2021-12-09 00:00:00+00:00',\n",
      "               '2021-12-10 00:00:00+00:00', '2021-12-11 00:00:00+00:00',\n",
      "               '2021-12-12 00:00:00+00:00', '2021-12-13 00:00:00+00:00',\n",
      "               '2021-12-14 00:00:00+00:00', '2021-12-15 00:00:00+00:00',\n",
      "               '2021-12-16 00:00:00+00:00', '2021-12-17 00:00:00+00:00',\n",
      "               '2021-12-18 00:00:00+00:00', '2021-12-19 00:00:00+00:00',\n",
      "               '2021-12-20 00:00:00+00:00', '2021-12-21 00:00:00+00:00',\n",
      "               '2021-12-22 00:00:00+00:00', '2021-12-23 00:00:00+00:00',\n",
      "               '2021-12-24 00:00:00+00:00', '2021-12-25 00:00:00+00:00'],\n",
      "              dtype='datetime64[ns, UTC]', name='date', freq=None)\n",
      "Train: DatetimeIndex(['2014-12-26 00:00:00+00:00', '2014-12-27 00:00:00+00:00',\n",
      "               '2014-12-28 00:00:00+00:00', '2014-12-29 00:00:00+00:00',\n",
      "               '2014-12-30 00:00:00+00:00', '2014-12-31 00:00:00+00:00',\n",
      "               '2015-01-01 00:00:00+00:00', '2015-01-02 00:00:00+00:00',\n",
      "               '2015-01-03 00:00:00+00:00', '2015-01-04 00:00:00+00:00',\n",
      "               ...\n",
      "               '2021-12-16 00:00:00+00:00', '2021-12-17 00:00:00+00:00',\n",
      "               '2021-12-18 00:00:00+00:00', '2021-12-19 00:00:00+00:00',\n",
      "               '2021-12-20 00:00:00+00:00', '2021-12-21 00:00:00+00:00',\n",
      "               '2021-12-22 00:00:00+00:00', '2021-12-23 00:00:00+00:00',\n",
      "               '2021-12-24 00:00:00+00:00', '2021-12-25 00:00:00+00:00'],\n",
      "              dtype='datetime64[ns, UTC]', name='date', length=2557, freq=None) Test: DatetimeIndex(['2021-12-26 00:00:00+00:00', '2021-12-27 00:00:00+00:00',\n",
      "               '2021-12-28 00:00:00+00:00', '2021-12-29 00:00:00+00:00',\n",
      "               '2021-12-30 00:00:00+00:00', '2021-12-31 00:00:00+00:00',\n",
      "               '2022-01-01 00:00:00+00:00', '2022-01-02 00:00:00+00:00',\n",
      "               '2022-01-03 00:00:00+00:00', '2022-01-04 00:00:00+00:00',\n",
      "               '2022-01-05 00:00:00+00:00', '2022-01-06 00:00:00+00:00',\n",
      "               '2022-01-07 00:00:00+00:00', '2022-01-08 00:00:00+00:00',\n",
      "               '2022-01-09 00:00:00+00:00', '2022-01-10 00:00:00+00:00',\n",
      "               '2022-01-11 00:00:00+00:00', '2022-01-12 00:00:00+00:00',\n",
      "               '2022-01-13 00:00:00+00:00', '2022-01-14 00:00:00+00:00',\n",
      "               '2022-01-15 00:00:00+00:00', '2022-01-16 00:00:00+00:00',\n",
      "               '2022-01-17 00:00:00+00:00', '2022-01-18 00:00:00+00:00',\n",
      "               '2022-01-19 00:00:00+00:00', '2022-01-20 00:00:00+00:00',\n",
      "               '2022-01-21 00:00:00+00:00', '2022-01-22 00:00:00+00:00',\n",
      "               '2022-01-23 00:00:00+00:00', '2022-01-24 00:00:00+00:00',\n",
      "               '2022-01-25 00:00:00+00:00', '2022-01-26 00:00:00+00:00',\n",
      "               '2022-01-27 00:00:00+00:00', '2022-01-28 00:00:00+00:00',\n",
      "               '2022-01-29 00:00:00+00:00', '2022-01-30 00:00:00+00:00',\n",
      "               '2022-01-31 00:00:00+00:00', '2022-02-01 00:00:00+00:00',\n",
      "               '2022-02-02 00:00:00+00:00', '2022-02-03 00:00:00+00:00',\n",
      "               '2022-02-04 00:00:00+00:00', '2022-02-05 00:00:00+00:00',\n",
      "               '2022-02-06 00:00:00+00:00', '2022-02-07 00:00:00+00:00',\n",
      "               '2022-02-08 00:00:00+00:00', '2022-02-09 00:00:00+00:00',\n",
      "               '2022-02-10 00:00:00+00:00', '2022-02-11 00:00:00+00:00',\n",
      "               '2022-02-12 00:00:00+00:00', '2022-02-13 00:00:00+00:00'],\n",
      "              dtype='datetime64[ns, UTC]', name='date', freq=None)\n",
      "Train: DatetimeIndex(['2015-02-14 00:00:00+00:00', '2015-02-15 00:00:00+00:00',\n",
      "               '2015-02-16 00:00:00+00:00', '2015-02-17 00:00:00+00:00',\n",
      "               '2015-02-18 00:00:00+00:00', '2015-02-19 00:00:00+00:00',\n",
      "               '2015-02-20 00:00:00+00:00', '2015-02-21 00:00:00+00:00',\n",
      "               '2015-02-22 00:00:00+00:00', '2015-02-23 00:00:00+00:00',\n",
      "               ...\n",
      "               '2022-02-04 00:00:00+00:00', '2022-02-05 00:00:00+00:00',\n",
      "               '2022-02-06 00:00:00+00:00', '2022-02-07 00:00:00+00:00',\n",
      "               '2022-02-08 00:00:00+00:00', '2022-02-09 00:00:00+00:00',\n",
      "               '2022-02-10 00:00:00+00:00', '2022-02-11 00:00:00+00:00',\n",
      "               '2022-02-12 00:00:00+00:00', '2022-02-13 00:00:00+00:00'],\n",
      "              dtype='datetime64[ns, UTC]', name='date', length=2557, freq=None) Test: DatetimeIndex(['2022-02-14 00:00:00+00:00', '2022-02-15 00:00:00+00:00',\n",
      "               '2022-02-16 00:00:00+00:00', '2022-02-17 00:00:00+00:00',\n",
      "               '2022-02-18 00:00:00+00:00', '2022-02-19 00:00:00+00:00',\n",
      "               '2022-02-20 00:00:00+00:00', '2022-02-21 00:00:00+00:00',\n",
      "               '2022-02-22 00:00:00+00:00', '2022-02-23 00:00:00+00:00',\n",
      "               '2022-02-24 00:00:00+00:00', '2022-02-25 00:00:00+00:00',\n",
      "               '2022-02-26 00:00:00+00:00', '2022-02-27 00:00:00+00:00',\n",
      "               '2022-02-28 00:00:00+00:00', '2022-03-01 00:00:00+00:00',\n",
      "               '2022-03-02 00:00:00+00:00', '2022-03-03 00:00:00+00:00',\n",
      "               '2022-03-04 00:00:00+00:00', '2022-03-05 00:00:00+00:00',\n",
      "               '2022-03-06 00:00:00+00:00', '2022-03-07 00:00:00+00:00',\n",
      "               '2022-03-08 00:00:00+00:00', '2022-03-09 00:00:00+00:00',\n",
      "               '2022-03-10 00:00:00+00:00', '2022-03-11 00:00:00+00:00',\n",
      "               '2022-03-12 00:00:00+00:00', '2022-03-13 00:00:00+00:00',\n",
      "               '2022-03-14 00:00:00+00:00', '2022-03-15 00:00:00+00:00',\n",
      "               '2022-03-16 00:00:00+00:00', '2022-03-17 00:00:00+00:00',\n",
      "               '2022-03-18 00:00:00+00:00', '2022-03-19 00:00:00+00:00',\n",
      "               '2022-03-20 00:00:00+00:00', '2022-03-21 00:00:00+00:00',\n",
      "               '2022-03-22 00:00:00+00:00', '2022-03-23 00:00:00+00:00',\n",
      "               '2022-03-24 00:00:00+00:00', '2022-03-25 00:00:00+00:00',\n",
      "               '2022-03-26 00:00:00+00:00', '2022-03-27 00:00:00+00:00',\n",
      "               '2022-03-28 00:00:00+00:00', '2022-03-29 00:00:00+00:00',\n",
      "               '2022-03-30 00:00:00+00:00', '2022-03-31 00:00:00+00:00',\n",
      "               '2022-04-01 00:00:00+00:00', '2022-04-02 00:00:00+00:00',\n",
      "               '2022-04-03 00:00:00+00:00', '2022-04-04 00:00:00+00:00'],\n",
      "              dtype='datetime64[ns, UTC]', name='date', freq=None)\n",
      "Train: DatetimeIndex(['2015-04-05 00:00:00+00:00', '2015-04-06 00:00:00+00:00',\n",
      "               '2015-04-07 00:00:00+00:00', '2015-04-08 00:00:00+00:00',\n",
      "               '2015-04-09 00:00:00+00:00', '2015-04-10 00:00:00+00:00',\n",
      "               '2015-04-11 00:00:00+00:00', '2015-04-12 00:00:00+00:00',\n",
      "               '2015-04-13 00:00:00+00:00', '2015-04-14 00:00:00+00:00',\n",
      "               ...\n",
      "               '2022-03-26 00:00:00+00:00', '2022-03-27 00:00:00+00:00',\n",
      "               '2022-03-28 00:00:00+00:00', '2022-03-29 00:00:00+00:00',\n",
      "               '2022-03-30 00:00:00+00:00', '2022-03-31 00:00:00+00:00',\n",
      "               '2022-04-01 00:00:00+00:00', '2022-04-02 00:00:00+00:00',\n",
      "               '2022-04-03 00:00:00+00:00', '2022-04-04 00:00:00+00:00'],\n",
      "              dtype='datetime64[ns, UTC]', name='date', length=2557, freq=None) Test: DatetimeIndex(['2022-04-05 00:00:00+00:00', '2022-04-06 00:00:00+00:00',\n",
      "               '2022-04-07 00:00:00+00:00', '2022-04-08 00:00:00+00:00',\n",
      "               '2022-04-09 00:00:00+00:00', '2022-04-10 00:00:00+00:00',\n",
      "               '2022-04-11 00:00:00+00:00', '2022-04-12 00:00:00+00:00',\n",
      "               '2022-04-13 00:00:00+00:00', '2022-04-14 00:00:00+00:00',\n",
      "               '2022-04-15 00:00:00+00:00', '2022-04-16 00:00:00+00:00',\n",
      "               '2022-04-17 00:00:00+00:00', '2022-04-18 00:00:00+00:00',\n",
      "               '2022-04-19 00:00:00+00:00', '2022-04-20 00:00:00+00:00',\n",
      "               '2022-04-21 00:00:00+00:00', '2022-04-22 00:00:00+00:00',\n",
      "               '2022-04-23 00:00:00+00:00', '2022-04-24 00:00:00+00:00',\n",
      "               '2022-04-25 00:00:00+00:00', '2022-04-26 00:00:00+00:00',\n",
      "               '2022-04-27 00:00:00+00:00', '2022-04-28 00:00:00+00:00',\n",
      "               '2022-04-29 00:00:00+00:00', '2022-04-30 00:00:00+00:00',\n",
      "               '2022-05-01 00:00:00+00:00', '2022-05-02 00:00:00+00:00',\n",
      "               '2022-05-03 00:00:00+00:00', '2022-05-04 00:00:00+00:00',\n",
      "               '2022-05-05 00:00:00+00:00', '2022-05-06 00:00:00+00:00',\n",
      "               '2022-05-07 00:00:00+00:00', '2022-05-08 00:00:00+00:00',\n",
      "               '2022-05-09 00:00:00+00:00', '2022-05-10 00:00:00+00:00',\n",
      "               '2022-05-11 00:00:00+00:00', '2022-05-12 00:00:00+00:00',\n",
      "               '2022-05-13 00:00:00+00:00', '2022-05-14 00:00:00+00:00',\n",
      "               '2022-05-15 00:00:00+00:00', '2022-05-16 00:00:00+00:00',\n",
      "               '2022-05-17 00:00:00+00:00', '2022-05-18 00:00:00+00:00',\n",
      "               '2022-05-19 00:00:00+00:00', '2022-05-20 00:00:00+00:00',\n",
      "               '2022-05-21 00:00:00+00:00', '2022-05-22 00:00:00+00:00',\n",
      "               '2022-05-23 00:00:00+00:00', '2022-05-24 00:00:00+00:00'],\n",
      "              dtype='datetime64[ns, UTC]', name='date', freq=None)\n"
     ]
    }
   ],
   "source": [
    "test_size = 50\n",
    "tscv = TimeSeriesSplit(n_splits=5, test_size = test_size)\n",
    "multiplier = 0\n",
    "train_closes = []\n",
    "test_closes = []\n",
    "for train_index, test_index in tscv.split(X):\n",
    "    # Sets up the rolling part of the split by moving the start index of forward by test_size for each split s\n",
    "    # First split starts at 0, second starts at index = test_size, s split starts at 0+(s-1)*(test_size)\n",
    "    train_index = train_index[multiplier * test_size:]\n",
    "    \n",
    "    print(\"Train:\", df.index[train_index], \"Test:\", df.index[test_index])\n",
    "    X_train, X_test = X.iloc[train_index], X.iloc[test_index]\n",
    "    y_train, y_test = y.iloc[train_index], y.iloc[test_index]\n",
    "    \n",
    "    # Increments multiplier for next split\n",
    "    multiplier += 1\n",
    "    \n",
    "    train_closes.append(X_train[['close']])\n",
    "    test_closes.append(X_test[['close']])\n",
    "    \n",
    "    "
   ]
  },
  {
   "cell_type": "code",
   "execution_count": 210,
   "id": "6ee69d68-db5d-419c-b3a5-f762ad68dca0",
   "metadata": {},
   "outputs": [],
   "source": []
  }
 ],
 "metadata": {
  "kernelspec": {
   "display_name": "quant",
   "language": "python",
   "name": "quant"
  },
  "language_info": {
   "codemirror_mode": {
    "name": "ipython",
    "version": 3
   },
   "file_extension": ".py",
   "mimetype": "text/x-python",
   "name": "python",
   "nbconvert_exporter": "python",
   "pygments_lexer": "ipython3",
   "version": "3.9.7"
  }
 },
 "nbformat": 4,
 "nbformat_minor": 5
}
