{
 "cells": [
  {
   "cell_type": "code",
   "execution_count": 16,
   "id": "917eaef0-24b2-458a-bdb4-fe5df32af33b",
   "metadata": {},
   "outputs": [],
   "source": [
    "# imports.py\n",
    "from imports import *\n",
    "# custom mods\n",
    "import tidy\n",
    "\n",
    "import nltk\n",
    "import pandas as pd\n",
    "import numpy as np\n",
    "from env import *\n",
    "\n",
    "import tweepy as tw \n",
    "import scipy.stats as stats\n",
    "\n",
    "from datetime import datetime\n",
    "\n",
    "import nltk.sentiment\n",
    "import wrangle\n",
    "\n",
    "from sklearn.model_selection import TimeSeriesSplit\n",
    "\n",
    "import warnings\n",
    "warnings.filterwarnings(\"ignore\")\n",
    "from sklearn.svm import SVC\n",
    "from sklearn.metrics import accuracy_score, classification_report, r2_score, mean_squared_error\n"
   ]
  },
  {
   "cell_type": "code",
   "execution_count": 5,
   "id": "7e522ba7-b71b-48a1-970a-121fea181188",
   "metadata": {},
   "outputs": [
    {
     "name": "stdout",
     "output_type": "stream",
     "text": [
      "cached csv\n"
     ]
    }
   ],
   "source": [
    "df=tidy.explore_df()"
   ]
  },
  {
   "cell_type": "markdown",
   "id": "587cd2f5-1fe3-4b38-b9cd-2d00ac98036d",
   "metadata": {
    "jp-MarkdownHeadingCollapsed": true,
    "tags": []
   },
   "source": [
    "# Target exploration"
   ]
  },
  {
   "cell_type": "code",
   "execution_count": 4,
   "id": "405d1cb7-654b-4494-844e-ca66e7fb2013",
   "metadata": {},
   "outputs": [
    {
     "data": {
      "text/plain": [
       "Timestamp('2014-09-17 00:00:00+0000', tz='UTC')"
      ]
     },
     "execution_count": 4,
     "metadata": {},
     "output_type": "execute_result"
    }
   ],
   "source": [
    "df.index.min()"
   ]
  },
  {
   "cell_type": "code",
   "execution_count": 5,
   "id": "98673e62-eaf5-40c6-a688-5e8a4b253020",
   "metadata": {},
   "outputs": [
    {
     "data": {
      "text/plain": [
       "Timestamp('2022-05-24 00:00:00+0000', tz='UTC')"
      ]
     },
     "execution_count": 5,
     "metadata": {},
     "output_type": "execute_result"
    }
   ],
   "source": [
    "df.index.max()"
   ]
  },
  {
   "cell_type": "code",
   "execution_count": 6,
   "id": "31093143-a1cc-4ab2-b7b9-653aff1d65fe",
   "metadata": {},
   "outputs": [
    {
     "data": {
      "text/plain": [
       "<AxesSubplot:>"
      ]
     },
     "execution_count": 6,
     "metadata": {},
     "output_type": "execute_result"
    },
    {
     "data": {
      "image/png": "[encoded data removed]",
      "text/plain": [
       "<Figure size 432x288 with 1 Axes>"
      ]
     },
     "metadata": {
      "needs_background": "light"
     },
     "output_type": "display_data"
    }
   ],
   "source": [
    "df.fwd_log_ret.hist()"
   ]
  },
  {
   "cell_type": "code",
   "execution_count": 7,
   "id": "0a577dd0-77ea-4418-9209-416c6ddf39c5",
   "metadata": {},
   "outputs": [
    {
     "data": {
      "text/plain": [
       "<AxesSubplot:>"
      ]
     },
     "execution_count": 7,
     "metadata": {},
     "output_type": "execute_result"
    },
    {
     "data": {
      "image/png": "[encoded data removed]",
      "text/plain": [
       "<Figure size 432x288 with 1 Axes>"
      ]
     },
     "metadata": {
      "needs_background": "light"
     },
     "output_type": "display_data"
    }
   ],
   "source": [
    "df.fwd_close_positive.value_counts(normalize=True).plot.bar()"
   ]
  },
  {
   "cell_type": "markdown",
   "id": "9b249dec-cd42-4667-b4dc-c597b19514dc",
   "metadata": {
    "jp-MarkdownHeadingCollapsed": true,
    "tags": []
   },
   "source": [
    "# Volatility exploration"
   ]
  },
  {
   "cell_type": "markdown",
   "id": "a47f1b14-878e-4a09-8d13-0e21781540de",
   "metadata": {},
   "source": [
    "### When volatility is high what kind of returns are expected? \n",
    "- Measure this using ATR:\n",
    "    - TR = Max[(H-L), Abs(H-Cp), Abs(L-Cp)]\n",
    "    - ATR = (1/n)* sum(TRi)"
   ]
  },
  {
   "cell_type": "code",
   "execution_count": 8,
   "id": "0695e82a-206d-4d70-914f-dd0543fd84f3",
   "metadata": {},
   "outputs": [],
   "source": [
    "from talib import ATR"
   ]
  },
  {
   "cell_type": "code",
   "execution_count": 9,
   "id": "020b4714-d867-4496-ba18-e3def3a98783",
   "metadata": {},
   "outputs": [],
   "source": [
    "def add_ATR_feature(df):\n",
    "    \"\"\"Adds columns with boolean of whether current and historical ATR \n",
    "    is greater than the ATR threshold (percentage)\"\"\"\n",
    "    \n",
    "    df_calc = df.copy()\n",
    "\n",
    "    # Calculate the 14 day ATR and add it as column to df\n",
    "    df_calc['ATR_14'] = ATR(df_calc.high, df_calc.low, df_calc.close, 14)\n",
    "    # Calculate the rolling 14 day average of ATR and add it as column to df\n",
    "    df_calc['avg_atr_14'] = df_calc.ATR_14.rolling(14).mean()\n",
    "    # Calculate the percentage current 14 day ATR is above/below the rolling mean\n",
    "    df_calc['atr_vs_historical'] = (df_calc.ATR_14 - df_calc.avg_atr_14)/df_calc.avg_atr_14\n",
    "    \n",
    "    thresholds_to_add = [0.01, 0.05, 0.1, 0.2, 0.3]\n",
    "    \n",
    "    for threshold in thresholds_to_add:\n",
    "        df[f'atr_above_threshold_{threshold}'] = df_calc.atr_vs_historical>threshold\n",
    "    \n",
    "    return df"
   ]
  },
  {
   "cell_type": "code",
   "execution_count": 10,
   "id": "fca96f25-eaec-43f7-bba3-70acd0ed5d32",
   "metadata": {},
   "outputs": [
    {
     "data": {
      "text/html": [
       "<div>\n",
       "<style scoped>\n",
       "    .dataframe tbody tr th:only-of-type {\n",
       "        vertical-align: middle;\n",
       "    }\n",
       "\n",
       "    .dataframe tbody tr th {\n",
       "        vertical-align: top;\n",
       "    }\n",
       "\n",
       "    .dataframe thead th {\n",
       "        text-align: right;\n",
       "    }\n",
       "</style>\n",
       "<table border=\"1\" class=\"dataframe\">\n",
       "  <thead>\n",
       "    <tr style=\"text-align: right;\">\n",
       "      <th></th>\n",
       "      <th>open</th>\n",
       "      <th>high</th>\n",
       "      <th>low</th>\n",
       "      <th>close</th>\n",
       "      <th>volume</th>\n",
       "      <th>fwd_log_ret</th>\n",
       "      <th>fwd_ret</th>\n",
       "      <th>fwd_pct_chg</th>\n",
       "      <th>fwd_close_positive</th>\n",
       "      <th>atr_above_threshold_0.01</th>\n",
       "      <th>atr_above_threshold_0.05</th>\n",
       "      <th>atr_above_threshold_0.1</th>\n",
       "      <th>atr_above_threshold_0.2</th>\n",
       "      <th>atr_above_threshold_0.3</th>\n",
       "    </tr>\n",
       "    <tr>\n",
       "      <th>date</th>\n",
       "      <th></th>\n",
       "      <th></th>\n",
       "      <th></th>\n",
       "      <th></th>\n",
       "      <th></th>\n",
       "      <th></th>\n",
       "      <th></th>\n",
       "      <th></th>\n",
       "      <th></th>\n",
       "      <th></th>\n",
       "      <th></th>\n",
       "      <th></th>\n",
       "      <th></th>\n",
       "      <th></th>\n",
       "    </tr>\n",
       "  </thead>\n",
       "  <tbody>\n",
       "    <tr>\n",
       "      <th>2014-09-17 00:00:00+00:00</th>\n",
       "      <td>465.864014</td>\n",
       "      <td>468.174011</td>\n",
       "      <td>452.421997</td>\n",
       "      <td>457.334015</td>\n",
       "      <td>21056800</td>\n",
       "      <td>-0.074643</td>\n",
       "      <td>-32.894013</td>\n",
       "      <td>-0.071926</td>\n",
       "      <td>False</td>\n",
       "      <td>False</td>\n",
       "      <td>False</td>\n",
       "      <td>False</td>\n",
       "      <td>False</td>\n",
       "      <td>False</td>\n",
       "    </tr>\n",
       "    <tr>\n",
       "      <th>2014-09-18 00:00:00+00:00</th>\n",
       "      <td>456.859985</td>\n",
       "      <td>456.859985</td>\n",
       "      <td>413.104004</td>\n",
       "      <td>424.440002</td>\n",
       "      <td>34483200</td>\n",
       "      <td>-0.072402</td>\n",
       "      <td>-29.644012</td>\n",
       "      <td>-0.069843</td>\n",
       "      <td>False</td>\n",
       "      <td>False</td>\n",
       "      <td>False</td>\n",
       "      <td>False</td>\n",
       "      <td>False</td>\n",
       "      <td>False</td>\n",
       "    </tr>\n",
       "    <tr>\n",
       "      <th>2014-09-19 00:00:00+00:00</th>\n",
       "      <td>424.102997</td>\n",
       "      <td>427.834991</td>\n",
       "      <td>384.532013</td>\n",
       "      <td>394.795990</td>\n",
       "      <td>37919700</td>\n",
       "      <td>0.035111</td>\n",
       "      <td>14.108002</td>\n",
       "      <td>0.035735</td>\n",
       "      <td>True</td>\n",
       "      <td>False</td>\n",
       "      <td>False</td>\n",
       "      <td>False</td>\n",
       "      <td>False</td>\n",
       "      <td>False</td>\n",
       "    </tr>\n",
       "    <tr>\n",
       "      <th>2014-09-20 00:00:00+00:00</th>\n",
       "      <td>394.673004</td>\n",
       "      <td>423.295990</td>\n",
       "      <td>389.882996</td>\n",
       "      <td>408.903992</td>\n",
       "      <td>36863600</td>\n",
       "      <td>-0.024968</td>\n",
       "      <td>-10.082978</td>\n",
       "      <td>-0.024659</td>\n",
       "      <td>False</td>\n",
       "      <td>False</td>\n",
       "      <td>False</td>\n",
       "      <td>False</td>\n",
       "      <td>False</td>\n",
       "      <td>False</td>\n",
       "    </tr>\n",
       "    <tr>\n",
       "      <th>2014-09-21 00:00:00+00:00</th>\n",
       "      <td>408.084991</td>\n",
       "      <td>412.425995</td>\n",
       "      <td>393.181000</td>\n",
       "      <td>398.821014</td>\n",
       "      <td>26580100</td>\n",
       "      <td>0.008317</td>\n",
       "      <td>3.330994</td>\n",
       "      <td>0.008352</td>\n",
       "      <td>True</td>\n",
       "      <td>False</td>\n",
       "      <td>False</td>\n",
       "      <td>False</td>\n",
       "      <td>False</td>\n",
       "      <td>False</td>\n",
       "    </tr>\n",
       "    <tr>\n",
       "      <th>...</th>\n",
       "      <td>...</td>\n",
       "      <td>...</td>\n",
       "      <td>...</td>\n",
       "      <td>...</td>\n",
       "      <td>...</td>\n",
       "      <td>...</td>\n",
       "      <td>...</td>\n",
       "      <td>...</td>\n",
       "      <td>...</td>\n",
       "      <td>...</td>\n",
       "      <td>...</td>\n",
       "      <td>...</td>\n",
       "      <td>...</td>\n",
       "      <td>...</td>\n",
       "    </tr>\n",
       "    <tr>\n",
       "      <th>2022-05-20 00:00:00+00:00</th>\n",
       "      <td>30311.119141</td>\n",
       "      <td>30664.976563</td>\n",
       "      <td>28793.605469</td>\n",
       "      <td>29200.740234</td>\n",
       "      <td>30749382605</td>\n",
       "      <td>0.007896</td>\n",
       "      <td>231.486329</td>\n",
       "      <td>0.007927</td>\n",
       "      <td>True</td>\n",
       "      <td>True</td>\n",
       "      <td>False</td>\n",
       "      <td>False</td>\n",
       "      <td>False</td>\n",
       "      <td>False</td>\n",
       "    </tr>\n",
       "    <tr>\n",
       "      <th>2022-05-21 00:00:00+00:00</th>\n",
       "      <td>29199.859375</td>\n",
       "      <td>29588.869141</td>\n",
       "      <td>29027.394531</td>\n",
       "      <td>29432.226563</td>\n",
       "      <td>17274840442</td>\n",
       "      <td>0.029840</td>\n",
       "      <td>891.496093</td>\n",
       "      <td>0.030290</td>\n",
       "      <td>True</td>\n",
       "      <td>False</td>\n",
       "      <td>False</td>\n",
       "      <td>False</td>\n",
       "      <td>False</td>\n",
       "      <td>False</td>\n",
       "    </tr>\n",
       "    <tr>\n",
       "      <th>2022-05-22 00:00:00+00:00</th>\n",
       "      <td>29432.472656</td>\n",
       "      <td>30425.861328</td>\n",
       "      <td>29275.183594</td>\n",
       "      <td>30323.722656</td>\n",
       "      <td>21631532270</td>\n",
       "      <td>-0.041230</td>\n",
       "      <td>-1224.812500</td>\n",
       "      <td>-0.040391</td>\n",
       "      <td>False</td>\n",
       "      <td>False</td>\n",
       "      <td>False</td>\n",
       "      <td>False</td>\n",
       "      <td>False</td>\n",
       "      <td>False</td>\n",
       "    </tr>\n",
       "    <tr>\n",
       "      <th>2022-05-23 00:00:00+00:00</th>\n",
       "      <td>30309.396484</td>\n",
       "      <td>30590.585938</td>\n",
       "      <td>28975.560547</td>\n",
       "      <td>29098.910156</td>\n",
       "      <td>31483454557</td>\n",
       "      <td>0.018950</td>\n",
       "      <td>556.675782</td>\n",
       "      <td>0.019130</td>\n",
       "      <td>True</td>\n",
       "      <td>False</td>\n",
       "      <td>False</td>\n",
       "      <td>False</td>\n",
       "      <td>False</td>\n",
       "      <td>False</td>\n",
       "    </tr>\n",
       "    <tr>\n",
       "      <th>2022-05-24 00:00:00+00:00</th>\n",
       "      <td>29101.125000</td>\n",
       "      <td>29774.355469</td>\n",
       "      <td>28786.589844</td>\n",
       "      <td>29655.585938</td>\n",
       "      <td>26616506245</td>\n",
       "      <td>0.001170</td>\n",
       "      <td>34.708984</td>\n",
       "      <td>0.001170</td>\n",
       "      <td>True</td>\n",
       "      <td>False</td>\n",
       "      <td>False</td>\n",
       "      <td>False</td>\n",
       "      <td>False</td>\n",
       "      <td>False</td>\n",
       "    </tr>\n",
       "  </tbody>\n",
       "</table>\n",
       "<p>2807 rows × 14 columns</p>\n",
       "</div>"
      ],
      "text/plain": [
       "                                   open          high           low  \\\n",
       "date                                                                  \n",
       "2014-09-17 00:00:00+00:00    465.864014    468.174011    452.421997   \n",
       "2014-09-18 00:00:00+00:00    456.859985    456.859985    413.104004   \n",
       "2014-09-19 00:00:00+00:00    424.102997    427.834991    384.532013   \n",
       "2014-09-20 00:00:00+00:00    394.673004    423.295990    389.882996   \n",
       "2014-09-21 00:00:00+00:00    408.084991    412.425995    393.181000   \n",
       "...                                 ...           ...           ...   \n",
       "2022-05-20 00:00:00+00:00  30311.119141  30664.976563  28793.605469   \n",
       "2022-05-21 00:00:00+00:00  29199.859375  29588.869141  29027.394531   \n",
       "2022-05-22 00:00:00+00:00  29432.472656  30425.861328  29275.183594   \n",
       "2022-05-23 00:00:00+00:00  30309.396484  30590.585938  28975.560547   \n",
       "2022-05-24 00:00:00+00:00  29101.125000  29774.355469  28786.589844   \n",
       "\n",
       "                                  close       volume  fwd_log_ret  \\\n",
       "date                                                                \n",
       "2014-09-17 00:00:00+00:00    457.334015     21056800    -0.074643   \n",
       "2014-09-18 00:00:00+00:00    424.440002     34483200    -0.072402   \n",
       "2014-09-19 00:00:00+00:00    394.795990     37919700     0.035111   \n",
       "2014-09-20 00:00:00+00:00    408.903992     36863600    -0.024968   \n",
       "2014-09-21 00:00:00+00:00    398.821014     26580100     0.008317   \n",
       "...                                 ...          ...          ...   \n",
       "2022-05-20 00:00:00+00:00  29200.740234  30749382605     0.007896   \n",
       "2022-05-21 00:00:00+00:00  29432.226563  17274840442     0.029840   \n",
       "2022-05-22 00:00:00+00:00  30323.722656  21631532270    -0.041230   \n",
       "2022-05-23 00:00:00+00:00  29098.910156  31483454557     0.018950   \n",
       "2022-05-24 00:00:00+00:00  29655.585938  26616506245     0.001170   \n",
       "\n",
       "                               fwd_ret  fwd_pct_chg  fwd_close_positive  \\\n",
       "date                                                                      \n",
       "2014-09-17 00:00:00+00:00   -32.894013    -0.071926               False   \n",
       "2014-09-18 00:00:00+00:00   -29.644012    -0.069843               False   \n",
       "2014-09-19 00:00:00+00:00    14.108002     0.035735                True   \n",
       "2014-09-20 00:00:00+00:00   -10.082978    -0.024659               False   \n",
       "2014-09-21 00:00:00+00:00     3.330994     0.008352                True   \n",
       "...                                ...          ...                 ...   \n",
       "2022-05-20 00:00:00+00:00   231.486329     0.007927                True   \n",
       "2022-05-21 00:00:00+00:00   891.496093     0.030290                True   \n",
       "2022-05-22 00:00:00+00:00 -1224.812500    -0.040391               False   \n",
       "2022-05-23 00:00:00+00:00   556.675782     0.019130                True   \n",
       "2022-05-24 00:00:00+00:00    34.708984     0.001170                True   \n",
       "\n",
       "                           atr_above_threshold_0.01  atr_above_threshold_0.05  \\\n",
       "date                                                                            \n",
       "2014-09-17 00:00:00+00:00                     False                     False   \n",
       "2014-09-18 00:00:00+00:00                     False                     False   \n",
       "2014-09-19 00:00:00+00:00                     False                     False   \n",
       "2014-09-20 00:00:00+00:00                     False                     False   \n",
       "2014-09-21 00:00:00+00:00                     False                     False   \n",
       "...                                             ...                       ...   \n",
       "2022-05-20 00:00:00+00:00                      True                     False   \n",
       "2022-05-21 00:00:00+00:00                     False                     False   \n",
       "2022-05-22 00:00:00+00:00                     False                     False   \n",
       "2022-05-23 00:00:00+00:00                     False                     False   \n",
       "2022-05-24 00:00:00+00:00                     False                     False   \n",
       "\n",
       "                           atr_above_threshold_0.1  atr_above_threshold_0.2  \\\n",
       "date                                                                          \n",
       "2014-09-17 00:00:00+00:00                    False                    False   \n",
       "2014-09-18 00:00:00+00:00                    False                    False   \n",
       "2014-09-19 00:00:00+00:00                    False                    False   \n",
       "2014-09-20 00:00:00+00:00                    False                    False   \n",
       "2014-09-21 00:00:00+00:00                    False                    False   \n",
       "...                                            ...                      ...   \n",
       "2022-05-20 00:00:00+00:00                    False                    False   \n",
       "2022-05-21 00:00:00+00:00                    False                    False   \n",
       "2022-05-22 00:00:00+00:00                    False                    False   \n",
       "2022-05-23 00:00:00+00:00                    False                    False   \n",
       "2022-05-24 00:00:00+00:00                    False                    False   \n",
       "\n",
       "                           atr_above_threshold_0.3  \n",
       "date                                                \n",
       "2014-09-17 00:00:00+00:00                    False  \n",
       "2014-09-18 00:00:00+00:00                    False  \n",
       "2014-09-19 00:00:00+00:00                    False  \n",
       "2014-09-20 00:00:00+00:00                    False  \n",
       "2014-09-21 00:00:00+00:00                    False  \n",
       "...                                            ...  \n",
       "2022-05-20 00:00:00+00:00                    False  \n",
       "2022-05-21 00:00:00+00:00                    False  \n",
       "2022-05-22 00:00:00+00:00                    False  \n",
       "2022-05-23 00:00:00+00:00                    False  \n",
       "2022-05-24 00:00:00+00:00                    False  \n",
       "\n",
       "[2807 rows x 14 columns]"
      ]
     },
     "execution_count": 10,
     "metadata": {},
     "output_type": "execute_result"
    }
   ],
   "source": [
    "add_ATR_feature(df)"
   ]
  },
  {
   "cell_type": "code",
   "execution_count": 11,
   "id": "d947cfb4-f4f6-4442-9503-366530374323",
   "metadata": {},
   "outputs": [],
   "source": [
    "def perform_ATR_analysis(df, atr_threshold  = 0.05, make_plots = True, alpha = 0.05):\n",
    "    \"\"\"Performs analysis of returns based on current vs historical ATR.\n",
    "    \n",
    "    If the difference in current and historical ATR is greater than the ATR threshold (percentage)\"\"\"\n",
    "\n",
    "    # Calculate the 14 day ATR and add it as column to df\n",
    "    df['ATR_14'] = ATR(df.high, df.low, df.close, 14)\n",
    "    # Calculate the rolling 14 day average of ATR and add it as column to df\n",
    "    df['avg_atr_14'] = df.ATR_14.rolling(14).mean()\n",
    "    # Calculate the percentage current 14 day ATR is above/below the rolling mean\n",
    "    df['atr_vs_historical'] = (df.ATR_14 - df.avg_atr_14)/df.avg_atr_14\n",
    "\n",
    "    if make_plots:\n",
    "    # Plot ATR 14 and close price\n",
    "        fig, ax = plt.subplots(2,1,sharex=True)\n",
    "        df.close.plot(ax = ax[0])\n",
    "        ax[0].set_title('Close price of BTC')\n",
    "        df.avg_atr_14.plot(ax = ax[1])\n",
    "        ax[1].set_title('Rolling 14 day average of 14 day ATR')\n",
    "\n",
    "    df['atr_above_threshold'] = df.atr_vs_historical>atr_threshold\n",
    "\n",
    "    print(f\"Percentage of observations above threshold: {df.atr_above_threshold.mean():.2%}\")\n",
    "    \n",
    "    avg_return_above_threshold = round(df[df.atr_above_threshold].fwd_log_ret.mean(),6)\n",
    "    \n",
    "    print(f\"Average next day return when ATR above threshold: {avg_return_above_threshold}\")\n",
    "    \n",
    "    print(f\"which is: {round(df[df.atr_above_threshold].fwd_log_ret.mean()/df.fwd_log_ret.mean(),3)} times overall average\")\n",
    "    \n",
    "    # Perform one sample t-test -> is the average return of the high volatility days significantly greater than overall mean?\n",
    "    \n",
    "    t,p = stats.ttest_1samp(df[df.atr_above_threshold].fwd_log_ret, df.fwd_log_ret.mean())\n",
    "    \n",
    "    if ((t>0)&(p/2<alpha)):\n",
    "        print(\"Results significant!: t is >0\",t>0,\"p/2 < alpha\",p<alpha)\n",
    "    else:\n",
    "        print(\"Fail to reject null hypothesis\")\n",
    "        \n",
    "    return avg_return_above_threshold\n",
    "    "
   ]
  },
  {
   "cell_type": "code",
   "execution_count": 12,
   "id": "0feb2251-a1e3-4ef1-8325-6d3f0e0fca74",
   "metadata": {},
   "outputs": [
    {
     "name": "stdout",
     "output_type": "stream",
     "text": [
      "Percentage of observations above threshold: 38.69%\n",
      "Average next day return when ATR above threshold: 0.002414\n",
      "which is: 1.624 times overall average\n",
      "Fail to reject null hypothesis\n",
      "Percentage of observations above threshold: 30.00%\n",
      "Average next day return when ATR above threshold: 0.004002\n",
      "which is: 2.692 times overall average\n",
      "Fail to reject null hypothesis\n",
      "Percentage of observations above threshold: 22.19%\n",
      "Average next day return when ATR above threshold: 0.00423\n",
      "which is: 2.845 times overall average\n",
      "Fail to reject null hypothesis\n",
      "Percentage of observations above threshold: 12.36%\n",
      "Average next day return when ATR above threshold: 0.00517\n",
      "which is: 3.477 times overall average\n",
      "Fail to reject null hypothesis\n",
      "Percentage of observations above threshold: 7.59%\n",
      "Average next day return when ATR above threshold: 0.00443\n",
      "which is: 2.98 times overall average\n",
      "Fail to reject null hypothesis\n",
      "Percentage of observations above threshold: 4.99%\n",
      "Average next day return when ATR above threshold: -0.002062\n",
      "which is: -1.387 times overall average\n",
      "Fail to reject null hypothesis\n",
      "Percentage of observations above threshold: 2.89%\n",
      "Average next day return when ATR above threshold: -0.003105\n",
      "which is: -2.088 times overall average\n",
      "Fail to reject null hypothesis\n",
      "Percentage of observations above threshold: 1.46%\n",
      "Average next day return when ATR above threshold: 5.1e-05\n",
      "which is: 0.035 times overall average\n",
      "Fail to reject null hypothesis\n"
     ]
    }
   ],
   "source": [
    "thresholds_to_try = [0.01, 0.05, 0.1, 0.2, 0.3, 0.4, 0.5, 0.6]\n",
    "returns = {}\n",
    "for threshold in thresholds_to_try:\n",
    "    avg_return = perform_ATR_analysis(df, atr_threshold=threshold, make_plots=False)\n",
    "    returns[threshold] = avg_return\n"
   ]
  },
  {
   "cell_type": "code",
   "execution_count": 13,
   "id": "a3958a51-e32d-42d2-9fb3-3f42024d6ae6",
   "metadata": {},
   "outputs": [
    {
     "data": {
      "text/plain": [
       "Text(5, 0.0017, 'Overall Mean')"
      ]
     },
     "execution_count": 13,
     "metadata": {},
     "output_type": "execute_result"
    },
    {
     "data": {
      "image/png": "[encoded data removed]",
      "text/plain": [
       "<Figure size 432x288 with 1 Axes>"
      ]
     },
     "metadata": {
      "needs_background": "light"
     },
     "output_type": "display_data"
    }
   ],
   "source": [
    "pd.DataFrame(returns, index = ['avg_return']).T.plot.bar(legend=False)\n",
    "plt.title('Average Next Day Return when ATR is \\nAbove 14 Day Average ATR by Threshold Amount')\n",
    "plt.xlabel('Threshold')\n",
    "plt.ylabel('Average Return')\n",
    "plt.axhline(df.fwd_log_ret.mean(), color = 'r')\n",
    "plt.annotate('Overall Mean', (5, 0.0017))\n"
   ]
  },
  {
   "cell_type": "code",
   "execution_count": 14,
   "id": "d04a7031-a909-4bf3-9ed9-4b5d7e26e9db",
   "metadata": {},
   "outputs": [
    {
     "data": {
      "text/plain": [
       "<AxesSubplot:xlabel='date'>"
      ]
     },
     "execution_count": 14,
     "metadata": {},
     "output_type": "execute_result"
    },
    {
     "data": {
      "image/png": "[encoded data removed]",
      "text/plain": [
       "<Figure size 432x288 with 1 Axes>"
      ]
     },
     "metadata": {
      "needs_background": "light"
     },
     "output_type": "display_data"
    }
   ],
   "source": [
    "df.atr_vs_historical.plot()"
   ]
  },
  {
   "cell_type": "markdown",
   "id": "7535fa29-dab4-4a24-8f7f-22be178f4f2d",
   "metadata": {},
   "source": [
    "When current ATR gets very extended from mean, what are next day returns?\n",
    "- very extended defined as difference in current ATR from 14 day historical ATR as greater than the 3rd quartile"
   ]
  },
  {
   "cell_type": "code",
   "execution_count": 15,
   "id": "738b2479-5bf4-414d-932f-9932716c7bc2",
   "metadata": {},
   "outputs": [
    {
     "data": {
      "text/plain": [
       "0.24759529747060918"
      ]
     },
     "execution_count": 15,
     "metadata": {},
     "output_type": "execute_result"
    }
   ],
   "source": [
    "atr_threshold = df.atr_vs_historical.quantile(0.75)\n",
    "\n",
    "df['atr_above_threshold'] = df.atr_vs_historical>atr_threshold\n",
    "\n",
    "df.atr_above_threshold.mean()"
   ]
  },
  {
   "cell_type": "markdown",
   "id": "25a4bd3f-31a1-4cf6-ae31-53f50ed586d3",
   "metadata": {},
   "source": [
    "As expected, the difference in current volatility from 14 day average is above threshold 25% of the time"
   ]
  },
  {
   "cell_type": "markdown",
   "id": "d2817ddd-e308-4a58-a759-9866789ea8c9",
   "metadata": {},
   "source": [
    "What is the average return when (Current ATR - Historical ATR) > threshold? How does this compare with overall average?"
   ]
  },
  {
   "cell_type": "code",
   "execution_count": 16,
   "id": "516c8b9a-fddf-49b8-ae0f-67d5e3198358",
   "metadata": {},
   "outputs": [
    {
     "data": {
      "text/plain": [
       "0.004058148250319954"
      ]
     },
     "execution_count": 16,
     "metadata": {},
     "output_type": "execute_result"
    }
   ],
   "source": [
    "df[df.atr_above_threshold].fwd_log_ret.mean()"
   ]
  },
  {
   "cell_type": "markdown",
   "id": "eb59a3da-065e-4cb5-966e-79d49e21585d",
   "metadata": {},
   "source": [
    "How does this compare to overall average?"
   ]
  },
  {
   "cell_type": "code",
   "execution_count": 17,
   "id": "55c32bd8-c115-4f39-b886-be5d82e3e0aa",
   "metadata": {},
   "outputs": [
    {
     "data": {
      "text/plain": [
       "2.7296384679490866"
      ]
     },
     "execution_count": 17,
     "metadata": {},
     "output_type": "execute_result"
    }
   ],
   "source": [
    "df[df.atr_above_threshold].fwd_log_ret.mean()/df.fwd_log_ret.mean()"
   ]
  },
  {
   "cell_type": "markdown",
   "id": "64a7658b-2b9b-497a-915b-d1444772c85a",
   "metadata": {},
   "source": [
    "Nearly 3 times as high as average. Check for statistical significance at the 95% confidence level:\n",
    "- H0: Days with volatility above the threshold do not exhibit above average returns\n",
    "- H1: Days with volatility above the threshold return in above average next day returns"
   ]
  },
  {
   "cell_type": "code",
   "execution_count": 18,
   "id": "0ceb571c-973f-4b5a-8366-7365a45b8366",
   "metadata": {},
   "outputs": [
    {
     "name": "stdout",
     "output_type": "stream",
     "text": [
      "t is >0 True p/2 < alpha False\n"
     ]
    }
   ],
   "source": [
    "alpha = 0.05\n",
    "t,p = stats.ttest_1samp(df[df.atr_above_threshold].fwd_log_ret, df.fwd_log_ret.mean())\n",
    "\n",
    "print(\"t is >0\",t>0,\"p/2 < alpha\",p<alpha)"
   ]
  },
  {
   "cell_type": "markdown",
   "id": "f5bbf294-b056-4cdd-bf1a-02d8f3d4c286",
   "metadata": {},
   "source": [
    "Cannot reject the null hypothesis - days with above average volatility do not result in above average next day returns. Will try additional thresholds"
   ]
  },
  {
   "cell_type": "markdown",
   "id": "f5f0332a-47b1-4e87-971c-71d26897d0af",
   "metadata": {
    "tags": []
   },
   "source": [
    "# Bollinger Band exploration"
   ]
  },
  {
   "cell_type": "markdown",
   "id": "3118f79d-75a3-40c9-a93a-69f6b06e8f72",
   "metadata": {
    "tags": []
   },
   "source": [
    "### Bollinger bands - when price is \"stretched\" a certain point from its average do we expect returns to be greater?"
   ]
  },
  {
   "cell_type": "code",
   "execution_count": 19,
   "id": "6e7dcd08-33ce-4dab-985e-2cfc52ec06be",
   "metadata": {},
   "outputs": [],
   "source": [
    "from talib import BBANDS"
   ]
  },
  {
   "cell_type": "code",
   "execution_count": 20,
   "id": "3194f13e-26dd-4885-8587-0aabf7dec0a1",
   "metadata": {},
   "outputs": [],
   "source": [
    "# Create 5 period sma as middle band, 2 std dev +- for upper and lower bands\n",
    "df['upperband2'], df['middleband'], df['lowerband2'] = BBANDS(df.close, timeperiod=5, nbdevup=2, nbdevdn=2, matype=0)\n",
    "\n",
    "df['upperband1'], df['middleband'], df['lowerband1'] = BBANDS(df.close, timeperiod=5, nbdevup=1, nbdevdn=1, matype=0)\n",
    "\n",
    "\n",
    "\n",
    "# create columns true when low below lower band, another column true when high above upper band\n",
    "df['low_below_lower1'] = df.low < df.lowerband1\n",
    "df['high_above_upper1'] = df.high > df.upperband1\n",
    "\n",
    "df['low_below_lower2'] = df.low < df.lowerband2\n",
    "df['high_above_upper2'] = df.high > df.upperband2"
   ]
  },
  {
   "cell_type": "code",
   "execution_count": 21,
   "id": "6e73acd3-dba7-48f7-b2a4-fc2267ba826a",
   "metadata": {},
   "outputs": [
    {
     "data": {
      "text/plain": [
       "0.46597791236195224"
      ]
     },
     "execution_count": 21,
     "metadata": {},
     "output_type": "execute_result"
    }
   ],
   "source": [
    "df.low_below_lower1.mean()"
   ]
  },
  {
   "cell_type": "code",
   "execution_count": 22,
   "id": "bbe1d44c-6856-4685-98ad-09bd806eb183",
   "metadata": {},
   "outputs": [
    {
     "data": {
      "text/plain": [
       "0.5553972212326327"
      ]
     },
     "execution_count": 22,
     "metadata": {},
     "output_type": "execute_result"
    }
   ],
   "source": [
    "df.high_above_upper1.mean()"
   ]
  },
  {
   "cell_type": "markdown",
   "id": "4c712052-749a-47b2-9e8a-78e5033dc8db",
   "metadata": {},
   "source": [
    "What is the average forward return when low below lower and what is it when high above upper?"
   ]
  },
  {
   "cell_type": "code",
   "execution_count": 23,
   "id": "fbc9c29d-48e6-48d4-ad9b-2123896ecb62",
   "metadata": {},
   "outputs": [
    {
     "data": {
      "text/plain": [
       "5.468772458423057e-05"
      ]
     },
     "execution_count": 23,
     "metadata": {},
     "output_type": "execute_result"
    }
   ],
   "source": [
    "df[df.low_below_lower2].fwd_log_ret.mean()"
   ]
  },
  {
   "cell_type": "code",
   "execution_count": 24,
   "id": "8d76c3eb-b53e-44b2-9a64-d2edf23e1ead",
   "metadata": {},
   "outputs": [
    {
     "data": {
      "text/plain": [
       "0.00025614540533167523"
      ]
     },
     "execution_count": 24,
     "metadata": {},
     "output_type": "execute_result"
    }
   ],
   "source": [
    "df[df.high_above_upper2].fwd_log_ret.mean()"
   ]
  },
  {
   "cell_type": "code",
   "execution_count": 25,
   "id": "5e71c7f0-c0b2-4850-b5bc-3a3c6c59f6c3",
   "metadata": {},
   "outputs": [
    {
     "data": {
      "text/plain": [
       "-0.0002509609606985909"
      ]
     },
     "execution_count": 25,
     "metadata": {},
     "output_type": "execute_result"
    }
   ],
   "source": [
    "df[df.low_below_lower1].fwd_log_ret.mean()"
   ]
  },
  {
   "cell_type": "code",
   "execution_count": 26,
   "id": "1d88c8ea-2acb-4a52-b6fc-a28cde9f30a0",
   "metadata": {},
   "outputs": [
    {
     "data": {
      "text/plain": [
       "0.002590890403563458"
      ]
     },
     "execution_count": 26,
     "metadata": {},
     "output_type": "execute_result"
    }
   ],
   "source": [
    "df[df.high_above_upper1].fwd_log_ret.mean()"
   ]
  },
  {
   "cell_type": "code",
   "execution_count": 27,
   "id": "5a0d30fb-9ab1-4f31-9829-16f184b765f6",
   "metadata": {},
   "outputs": [
    {
     "data": {
      "text/plain": [
       "0.0014866980730122267"
      ]
     },
     "execution_count": 27,
     "metadata": {},
     "output_type": "execute_result"
    }
   ],
   "source": [
    "df.fwd_log_ret.mean()"
   ]
  },
  {
   "cell_type": "markdown",
   "id": "9d34c3ec-2c77-418f-865d-7db7ec2a0f3c",
   "metadata": {},
   "source": [
    "Overall the returns are much less than average when price is stretched 2 std dev away from the mean"
   ]
  },
  {
   "cell_type": "code",
   "execution_count": 28,
   "id": "985b4694-5616-4530-97a8-05c180e3e509",
   "metadata": {},
   "outputs": [
    {
     "data": {
      "image/png": "[encoded data removed]",
      "text/plain": [
       "<Figure size 432x288 with 3 Axes>"
      ]
     },
     "metadata": {
      "needs_background": "light"
     },
     "output_type": "display_data"
    }
   ],
   "source": [
    "fig, ax = plt.subplots(1,3,sharey=True)\n",
    "sns.boxplot(y=df.fwd_log_ret, ax = ax[0])\n",
    "ax[0].set_title('Overall')\n",
    "sns.boxplot(y=df[df.low_below_lower1].fwd_log_ret, ax=ax[1])\n",
    "ax[1].set_title('When low \\nbelow lower band')\n",
    "sns.boxplot(y=df[df.high_above_upper1].fwd_log_ret, ax = ax[2])\n",
    "ax[2].set_title('When high \\nabove upper band')\n",
    "plt.suptitle('Log Returns Based on Price Relative to Bollinger Band')\n",
    "plt.tight_layout()"
   ]
  },
  {
   "cell_type": "code",
   "execution_count": 29,
   "id": "a4c55f0b-3b2f-4523-94cd-f5223d8937ff",
   "metadata": {},
   "outputs": [],
   "source": [
    "# plt.figure(figsize = (18,8))\n",
    "# sample = df.loc['08-2020']\n",
    "# sample.high.plot()\n",
    "# sample.upperband.plot()\n",
    "# sample.lowerband.plot()\n",
    "# plt.legend()"
   ]
  },
  {
   "cell_type": "markdown",
   "id": "d44976f4-c34e-4c1a-a56d-97f06ad5d66f",
   "metadata": {},
   "source": [
    "Perform t-test"
   ]
  },
  {
   "cell_type": "code",
   "execution_count": 30,
   "id": "bc4047c0-e267-4b3e-a931-8406f61c270f",
   "metadata": {},
   "outputs": [
    {
     "name": "stdout",
     "output_type": "stream",
     "text": [
      "low_below_lower2 -0.7212809213135888 False\n",
      "low_below_lower1 -1.5194888178095236 False\n",
      "high_above_upper1 1.201382924201341 False\n",
      "high_above_upper2 -0.6961508741026569 False\n"
     ]
    }
   ],
   "source": [
    "to_test = ['low_below_lower2', 'low_below_lower1', 'high_above_upper1', 'high_above_upper2']\n",
    "overall_mean = df.fwd_log_ret.mean()\n",
    "alpha = 0.05\n",
    "for test in to_test:\n",
    "    sample = df[df[test]].fwd_log_ret\n",
    "    t,p = stats.ttest_1samp(sample, overall_mean)\n",
    "    print(test, t, p/2<alpha)"
   ]
  },
  {
   "cell_type": "markdown",
   "id": "e523738f-02f3-411b-adf3-4e91099de343",
   "metadata": {},
   "source": [
    "Nothing significant"
   ]
  },
  {
   "cell_type": "markdown",
   "id": "2137476b-cc7e-44f3-92fd-92fde1911368",
   "metadata": {
    "tags": []
   },
   "source": [
    "# Explore other features"
   ]
  },
  {
   "cell_type": "markdown",
   "id": "48142a27-46f0-41c4-bdfe-dda1823d71d3",
   "metadata": {},
   "source": [
    "### Explore consolidation then breakout of price"
   ]
  },
  {
   "cell_type": "code",
   "execution_count": null,
   "id": "40524519-c9d8-42dd-8ace-d26da99ff6c5",
   "metadata": {},
   "outputs": [],
   "source": []
  },
  {
   "cell_type": "markdown",
   "id": "bfd8d594-3f0c-45b8-8199-381bb4b81c61",
   "metadata": {},
   "source": [
    "# Modeling"
   ]
  },
  {
   "cell_type": "code",
   "execution_count": 6,
   "id": "d6fceeef-f5f9-46d6-b698-27cbe08cb50c",
   "metadata": {},
   "outputs": [
    {
     "name": "stdout",
     "output_type": "stream",
     "text": [
      "cached csv\n"
     ]
    }
   ],
   "source": [
    "df = wrangle.wrangle_df()"
   ]
  },
  {
   "cell_type": "code",
   "execution_count": 7,
   "id": "fbcc1efb-cb6c-4317-a58f-6929deb0680c",
   "metadata": {},
   "outputs": [
    {
     "data": {
      "text/html": [
       "<div>\n",
       "<style scoped>\n",
       "    .dataframe tbody tr th:only-of-type {\n",
       "        vertical-align: middle;\n",
       "    }\n",
       "\n",
       "    .dataframe tbody tr th {\n",
       "        vertical-align: top;\n",
       "    }\n",
       "\n",
       "    .dataframe thead th {\n",
       "        text-align: right;\n",
       "    }\n",
       "</style>\n",
       "<table border=\"1\" class=\"dataframe\">\n",
       "  <thead>\n",
       "    <tr style=\"text-align: right;\">\n",
       "      <th></th>\n",
       "      <th>open</th>\n",
       "      <th>high</th>\n",
       "      <th>low</th>\n",
       "      <th>close</th>\n",
       "      <th>volume</th>\n",
       "      <th>fwd_log_ret</th>\n",
       "      <th>fwd_ret</th>\n",
       "      <th>fwd_pct_chg</th>\n",
       "      <th>fwd_close_positive</th>\n",
       "      <th>cross</th>\n",
       "      <th>...</th>\n",
       "      <th>atr_above_threshold_0.1</th>\n",
       "      <th>atr_above_threshold_0.2</th>\n",
       "      <th>atr_above_threshold_0.3</th>\n",
       "      <th>avg-fees-per-transaction</th>\n",
       "      <th>cost-per-transaction-percent</th>\n",
       "      <th>cost-per-transaction</th>\n",
       "      <th>difficulty</th>\n",
       "      <th>hash-rate</th>\n",
       "      <th>miners-revenue</th>\n",
       "      <th>transaction-fees-to-miners</th>\n",
       "    </tr>\n",
       "  </thead>\n",
       "  <tbody>\n",
       "    <tr>\n",
       "      <th>2014-10-20</th>\n",
       "      <td>389.230988</td>\n",
       "      <td>390.084015</td>\n",
       "      <td>378.252014</td>\n",
       "      <td>382.845001</td>\n",
       "      <td>16419000</td>\n",
       "      <td>0.009437</td>\n",
       "      <td>3.630005</td>\n",
       "      <td>0.009482</td>\n",
       "      <td>1</td>\n",
       "      <td>0.0</td>\n",
       "      <td>...</td>\n",
       "      <td>False</td>\n",
       "      <td>False</td>\n",
       "      <td>False</td>\n",
       "      <td>0.059651</td>\n",
       "      <td>2.830044</td>\n",
       "      <td>24.826121</td>\n",
       "      <td>3.500248e+10</td>\n",
       "      <td>233157.697776</td>\n",
       "      <td>1.747486e+06</td>\n",
       "      <td>4198.799233</td>\n",
       "    </tr>\n",
       "    <tr>\n",
       "      <th>2014-10-21</th>\n",
       "      <td>382.420990</td>\n",
       "      <td>392.645996</td>\n",
       "      <td>380.834015</td>\n",
       "      <td>386.475006</td>\n",
       "      <td>14188900</td>\n",
       "      <td>-0.008620</td>\n",
       "      <td>-3.317016</td>\n",
       "      <td>-0.008583</td>\n",
       "      <td>0</td>\n",
       "      <td>0.0</td>\n",
       "      <td>...</td>\n",
       "      <td>False</td>\n",
       "      <td>False</td>\n",
       "      <td>False</td>\n",
       "      <td>0.060749</td>\n",
       "      <td>2.830044</td>\n",
       "      <td>20.194035</td>\n",
       "      <td>3.500248e+10</td>\n",
       "      <td>233157.697776</td>\n",
       "      <td>1.903490e+06</td>\n",
       "      <td>5726.216590</td>\n",
       "    </tr>\n",
       "    <tr>\n",
       "      <th>2014-10-22</th>\n",
       "      <td>386.118011</td>\n",
       "      <td>388.575989</td>\n",
       "      <td>382.248993</td>\n",
       "      <td>383.157990</td>\n",
       "      <td>11641300</td>\n",
       "      <td>-0.066750</td>\n",
       "      <td>-24.740998</td>\n",
       "      <td>-0.064571</td>\n",
       "      <td>0</td>\n",
       "      <td>0.0</td>\n",
       "      <td>...</td>\n",
       "      <td>False</td>\n",
       "      <td>False</td>\n",
       "      <td>False</td>\n",
       "      <td>0.060749</td>\n",
       "      <td>2.830044</td>\n",
       "      <td>20.194035</td>\n",
       "      <td>3.500248e+10</td>\n",
       "      <td>297537.062088</td>\n",
       "      <td>1.903490e+06</td>\n",
       "      <td>5726.216590</td>\n",
       "    </tr>\n",
       "    <tr>\n",
       "      <th>2014-10-23</th>\n",
       "      <td>382.962006</td>\n",
       "      <td>385.048004</td>\n",
       "      <td>356.446991</td>\n",
       "      <td>358.416992</td>\n",
       "      <td>26456900</td>\n",
       "      <td>-0.000201</td>\n",
       "      <td>-0.071991</td>\n",
       "      <td>-0.000201</td>\n",
       "      <td>0</td>\n",
       "      <td>0.0</td>\n",
       "      <td>...</td>\n",
       "      <td>False</td>\n",
       "      <td>False</td>\n",
       "      <td>False</td>\n",
       "      <td>0.060749</td>\n",
       "      <td>2.566983</td>\n",
       "      <td>20.194035</td>\n",
       "      <td>3.500248e+10</td>\n",
       "      <td>297537.062088</td>\n",
       "      <td>1.903490e+06</td>\n",
       "      <td>5726.216590</td>\n",
       "    </tr>\n",
       "    <tr>\n",
       "      <th>2014-10-24</th>\n",
       "      <td>358.591003</td>\n",
       "      <td>364.345001</td>\n",
       "      <td>353.304993</td>\n",
       "      <td>358.345001</td>\n",
       "      <td>15585700</td>\n",
       "      <td>-0.031391</td>\n",
       "      <td>-11.074005</td>\n",
       "      <td>-0.030903</td>\n",
       "      <td>0</td>\n",
       "      <td>0.0</td>\n",
       "      <td>...</td>\n",
       "      <td>False</td>\n",
       "      <td>False</td>\n",
       "      <td>False</td>\n",
       "      <td>0.056403</td>\n",
       "      <td>2.566983</td>\n",
       "      <td>18.762679</td>\n",
       "      <td>3.500248e+10</td>\n",
       "      <td>297537.062088</td>\n",
       "      <td>1.603290e+06</td>\n",
       "      <td>4819.681933</td>\n",
       "    </tr>\n",
       "  </tbody>\n",
       "</table>\n",
       "<p>5 rows × 28 columns</p>\n",
       "</div>"
      ],
      "text/plain": [
       "                  open        high         low       close    volume  \\\n",
       "2014-10-20  389.230988  390.084015  378.252014  382.845001  16419000   \n",
       "2014-10-21  382.420990  392.645996  380.834015  386.475006  14188900   \n",
       "2014-10-22  386.118011  388.575989  382.248993  383.157990  11641300   \n",
       "2014-10-23  382.962006  385.048004  356.446991  358.416992  26456900   \n",
       "2014-10-24  358.591003  364.345001  353.304993  358.345001  15585700   \n",
       "\n",
       "            fwd_log_ret    fwd_ret  fwd_pct_chg  fwd_close_positive  cross  \\\n",
       "2014-10-20     0.009437   3.630005     0.009482                   1    0.0   \n",
       "2014-10-21    -0.008620  -3.317016    -0.008583                   0    0.0   \n",
       "2014-10-22    -0.066750 -24.740998    -0.064571                   0    0.0   \n",
       "2014-10-23    -0.000201  -0.071991    -0.000201                   0    0.0   \n",
       "2014-10-24    -0.031391 -11.074005    -0.030903                   0    0.0   \n",
       "\n",
       "            ...  atr_above_threshold_0.1  atr_above_threshold_0.2  \\\n",
       "2014-10-20  ...                    False                    False   \n",
       "2014-10-21  ...                    False                    False   \n",
       "2014-10-22  ...                    False                    False   \n",
       "2014-10-23  ...                    False                    False   \n",
       "2014-10-24  ...                    False                    False   \n",
       "\n",
       "            atr_above_threshold_0.3  avg-fees-per-transaction  \\\n",
       "2014-10-20                    False                  0.059651   \n",
       "2014-10-21                    False                  0.060749   \n",
       "2014-10-22                    False                  0.060749   \n",
       "2014-10-23                    False                  0.060749   \n",
       "2014-10-24                    False                  0.056403   \n",
       "\n",
       "            cost-per-transaction-percent  cost-per-transaction    difficulty  \\\n",
       "2014-10-20                      2.830044             24.826121  3.500248e+10   \n",
       "2014-10-21                      2.830044             20.194035  3.500248e+10   \n",
       "2014-10-22                      2.830044             20.194035  3.500248e+10   \n",
       "2014-10-23                      2.566983             20.194035  3.500248e+10   \n",
       "2014-10-24                      2.566983             18.762679  3.500248e+10   \n",
       "\n",
       "                hash-rate  miners-revenue  transaction-fees-to-miners  \n",
       "2014-10-20  233157.697776    1.747486e+06                 4198.799233  \n",
       "2014-10-21  233157.697776    1.903490e+06                 5726.216590  \n",
       "2014-10-22  297537.062088    1.903490e+06                 5726.216590  \n",
       "2014-10-23  297537.062088    1.903490e+06                 5726.216590  \n",
       "2014-10-24  297537.062088    1.603290e+06                 4819.681933  \n",
       "\n",
       "[5 rows x 28 columns]"
      ]
     },
     "execution_count": 7,
     "metadata": {},
     "output_type": "execute_result"
    }
   ],
   "source": [
    "df.head(5)"
   ]
  },
  {
   "cell_type": "code",
   "execution_count": 8,
   "id": "f1bcebf0-191c-436a-b37c-e82755f3168e",
   "metadata": {},
   "outputs": [],
   "source": [
    "features_to_use = ['close','atr_above_threshold_0.01',\n",
    "       'atr_above_threshold_0.05', 'atr_above_threshold_0.1',\n",
    "       'atr_above_threshold_0.2', 'atr_above_threshold_0.3']\n",
    "\n",
    "features_to_scale = ['close','atr_above_threshold_0.01']\n",
    "\n",
    "# Define length of each test set\n",
    "test_size = 30\n",
    "\n",
    "# Define models to test\n",
    "models_to_test = [DecisionTreeClassifier(max_depth=3, min_samples_leaf=2)]\n",
    "\n",
    "# Define the target\n",
    "target = 'fwd_close_positive'"
   ]
  },
  {
   "cell_type": "code",
   "execution_count": 9,
   "id": "e8b3edd2-00d5-4f09-ad49-64843d7d3587",
   "metadata": {},
   "outputs": [],
   "source": [
    "def rolling_split_train_and_test(df, features_to_use, features_to_scale, target, num_splits = 5, test_size = 30):\n",
    "    \"\"\" Splits dataset into train and test sets. Returns list of X_trains, X_tests, y_trains, y_tests\n",
    "    \n",
    "    Arguments:\n",
    "    df: the full dataset included features and target(s)\n",
    "    features_to_use: list of features to be used in the model\n",
    "    features_to_scale: list of features to scale\n",
    "    target: the desired target\n",
    "    num_splits: number of datasets to create\n",
    "    test_size: number of datapoints to use for test sets\n",
    "    \"\"\"\n",
    "    \n",
    "    \n",
    "    # Create the initial X and y matrices\n",
    "    # X consists of only selected features\n",
    "    # Withholding the final <<test_size>> to save for a final test on unseen data\n",
    "    X = df[features_to_scale].iloc[:-test_size]\n",
    "    y = df[[target]].iloc[:-test_size]\n",
    "    \n",
    "    # Instantiate Time Series Split\n",
    "    tscv = TimeSeriesSplit(n_splits = num_splits, test_size = test_size)\n",
    "\n",
    "    # Initialize the muliplier variable, which is used to shift the start date of train set forward\n",
    "    multiplier = 0\n",
    "\n",
    "    train_X_sets = []\n",
    "    test_X_sets = []\n",
    "    train_y_sets = []\n",
    "    test_y_sets = []\n",
    "\n",
    "    # Iterate through the splits created by tscv and create list of X and y train and test sets\n",
    "    for train_index, test_index in tscv.split(X):\n",
    "        # Sets up the rolling part of the split by moving the start index of forward by test_size for each split s\n",
    "        # First split starts at 0, second starts at index = test_size, s split starts at 0+(s-1)*(test_size)\n",
    "        train_index = train_index[multiplier * test_size:]\n",
    "\n",
    "        # print(\"Train:\", df.index[train_index], \"Test:\", df.index[test_index])\n",
    "        X_train, X_test = X.iloc[train_index], X.iloc[test_index]\n",
    "        y_train, y_test = y.iloc[train_index], y.iloc[test_index]\n",
    "        \n",
    "        # Perform scaling after the split so scaler can be fit to each train set individually\n",
    "        X_train_scaled, X_test_scaled = scale_X(X_train, X_test, features_to_use, features_to_scale, scaler_type = StandardScaler())\n",
    "\n",
    "        # Increments multiplier for next split\n",
    "        multiplier += 1\n",
    "\n",
    "        train_X_sets.append(X_train_scaled)\n",
    "        test_X_sets.append(X_test_scaled)\n",
    "        train_y_sets.append(y_train)\n",
    "        test_y_sets.append(y_test)\n",
    "\n",
    "    return train_X_sets, test_X_sets, train_y_sets, test_y_sets"
   ]
  },
  {
   "cell_type": "code",
   "execution_count": 10,
   "id": "001ea92c-c498-4453-b80c-fd3bc72e29a0",
   "metadata": {},
   "outputs": [],
   "source": [
    "def scale_X(X_train, X_test, features_to_use, features_to_scale, scaler_type):\n",
    "    \"\"\" Scales X_train, X_test using scaler_type. Only scales features_to_scale \"\"\"\n",
    "    scaler = scaler_type\n",
    "    \n",
    "    X_train_scaled = pd.concat([X_train.drop(columns = features_to_scale),\n",
    "                                pd.DataFrame(data = scaler.fit_transform(X_train[features_to_scale]), \n",
    "                                             columns = features_to_scale, index = X_train.index)], \n",
    "                               axis=1)\n",
    "    X_test_scaled = pd.concat([X_test.drop(columns = features_to_scale),\n",
    "                                pd.DataFrame(data = scaler.transform(X_test[features_to_scale]), \n",
    "                                             columns = features_to_scale, index = X_test.index)], \n",
    "                               axis=1)\n",
    "    \n",
    "    return X_train_scaled, X_test_scaled"
   ]
  },
  {
   "cell_type": "code",
   "execution_count": 31,
   "id": "4b47867f-26a2-475e-8af7-ccf352a9229b",
   "metadata": {},
   "outputs": [],
   "source": [
    "def train_classifier(X_train, y_train, target = 'fwd_close_positive', class_model = DecisionTreeClassifier(max_depth = 5, min_samples_leaf=2)):\n",
    "    \"\"\" Trains classifer for inputted model. \n",
    "    Arguments:\n",
    "    X_train: features\n",
    "    y_train: target\n",
    "    target: column name for target\n",
    "    class_model: the model to use\n",
    "    \n",
    "    Outputs dictionary of classification report, the classifier object, and numpy array of predictions \"\"\"\n",
    "    \n",
    "    # Extracts name of the algorithm\n",
    "    algorithm_name = class_model.__repr__().split('()')[0].split('(')[0]\n",
    "    \n",
    "    # Extracts the hyperparameters\n",
    "    model_hyperparameters = class_model.get_params()\n",
    "    \n",
    "    # Fits classifier to train set\n",
    "    clf = class_model.fit(X_train, y_train[target])\n",
    "    \n",
    "    # Predict on train\n",
    "    train_predictions = class_model.predict(X_train)\n",
    "    \n",
    "    # Generate classification report for train\n",
    "    train_classification_report = classification_report(y_train[target], train_predictions, output_dict=True)\n",
    "    \n",
    "    # Add additional data for function output\n",
    "    train_classification_report['algorithm'] = algorithm_name\n",
    "    \n",
    "    train_classification_report['hyperparameters'] = model_hyperparameters\n",
    "    \n",
    "    train_classification_report['features_used'] = X_train.columns\n",
    "    \n",
    "    return train_classification_report, clf, train_predictions\n",
    "\n",
    "def test_classifier(X_test, y_test, clf, target='fwd_close_positive'):\n",
    "    \"\"\" Tests the classifier on test set \"\"\"\n",
    "    \n",
    "    # Extracts name of the algorithm\n",
    "    algorithm_name = clf.__repr__().split('()')[0].split('(')[0]\n",
    "    \n",
    "    # Extracts the hyperparameters for model\n",
    "    model_hyperparameters = clf.get_params()\n",
    "    \n",
    "    # Predict on test\n",
    "    test_predictions = clf.predict(X_test)\n",
    "    \n",
    "    # Generate classification report for test\n",
    "    test_classification_report = classification_report(y_test[target], test_predictions, output_dict=True)\n",
    "    \n",
    "    # Add additional data for function output\n",
    "    test_classification_report['algorithm'] = algorithm_name\n",
    "    \n",
    "    test_classification_report['hyperparameters'] = model_hyperparameters\n",
    "    \n",
    "    test_classification_report['features_used'] = X_test.columns\n",
    "    \n",
    "    return test_classification_report, test_predictions\n",
    "def compute_class_baseline_accuracy(y, target):\n",
    "    \"\"\" Determine baseline from train and calculate accuracy on train \"\"\"\n",
    "    \n",
    "    # use the mode of y (most common category) as baseline\n",
    "    baseline_selection = y[target].mode()[0]\n",
    "    \n",
    "    # return accuracy\n",
    "    return baseline_selection, (y[target] == baseline_selection).mean()\n",
    "\n",
    "def compute_baseline_accuracy_on_test(y, baseline_selection, target):\n",
    "    \"\"\" Use baseline selection from train to calculate performance on test/validate \"\"\"\n",
    "    \n",
    "    return (y[target] == baseline_selection).mean()\n",
    "\n",
    "def test_baseline(y_train, y_test, set_number):\n",
    "    \"\"\" Calculates baseline performance for classification by using the mode of the value in train \"\"\"\n",
    "    # Calculate baseline performance\n",
    "    baseline_selection, baseline_train_accuracy = compute_class_baseline_accuracy(y_train, target)\n",
    "    test_accuracy = compute_baseline_accuracy_on_test(y_test, baseline_selection, target)\n",
    "    \n",
    "    print(\"Split: \", set_number)\n",
    "    print(f\"Train: {y_train.index.min().date()} - {y_train.index.max().date()}\")\n",
    "    print(f\"Test: {y_test.index.min().date()} - {y_test.index.max().date()}\")\n",
    "    print(\"Baseline selection from train: \", baseline_selection)\n",
    "    print(\"Baseline train accuracy: \", round(baseline_train_accuracy,2))\n",
    "    print(\"Baseline performance on validate: \", round(test_accuracy,2))\n",
    "    \n",
    "    return baseline_selection, baseline_train_accuracy, test_accuracy\n",
    "\n",
    "def train_and_test_dataset(model_under_test, X_train, X_test, y_train, y_test, target):\n",
    "    \"\"\"Test one model by fitting on train and testing on test set\"\"\"\n",
    "    \n",
    "    # Train classifier\n",
    "    train_classification_report, clf, train_predictions = train_classifier(X_train, y_train, target = target, class_model = model_under_test)\n",
    "    \n",
    "    print(\"Train accuracy: \", train_classification_report['accuracy'])\n",
    "    \n",
    "    # Test classifier on test set\n",
    "    test_classification_report, test_predictions = test_classifier(X_test, y_test, clf, target = target)\n",
    "    \n",
    "    print(\"Test accuracy: \", test_classification_report['accuracy'])"
   ]
  },
  {
   "cell_type": "code",
   "execution_count": 32,
   "id": "a7a230aa-b950-4b5b-9d3f-9f8509af120c",
   "metadata": {},
   "outputs": [
    {
     "name": "stdout",
     "output_type": "stream",
     "text": [
      "Split:  1\n",
      "Train: 2014-10-20 - 2021-11-25\n",
      "Test: 2021-11-26 - 2021-12-25\n",
      "Baseline selection from train:  1\n",
      "Baseline train accuracy:  0.54\n",
      "Baseline performance on validate:  0.53\n",
      "Train accuracy:  0.5543562066306862\n",
      "Test accuracy:  0.5333333333333333\n",
      "Split:  2\n",
      "Train: 2014-11-19 - 2021-12-25\n",
      "Test: 2021-12-26 - 2022-01-24\n",
      "Baseline selection from train:  1\n",
      "Baseline train accuracy:  0.54\n",
      "Baseline performance on validate:  0.4\n",
      "Train accuracy:  0.5543562066306862\n",
      "Test accuracy:  0.4\n",
      "Split:  3\n",
      "Train: 2014-12-19 - 2022-01-24\n",
      "Test: 2022-01-25 - 2022-02-23\n",
      "Baseline selection from train:  1\n",
      "Baseline train accuracy:  0.54\n",
      "Baseline performance on validate:  0.53\n",
      "Train accuracy:  0.5535851966075559\n",
      "Test accuracy:  0.5333333333333333\n",
      "Split:  4\n",
      "Train: 2015-01-18 - 2022-02-23\n",
      "Test: 2022-02-24 - 2022-03-25\n",
      "Baseline selection from train:  1\n",
      "Baseline train accuracy:  0.54\n",
      "Baseline performance on validate:  0.53\n",
      "Train accuracy:  0.5543562066306862\n",
      "Test accuracy:  0.5333333333333333\n",
      "Split:  5\n",
      "Train: 2015-02-17 - 2022-03-25\n",
      "Test: 2022-03-26 - 2022-04-24\n",
      "Baseline selection from train:  1\n",
      "Baseline train accuracy:  0.55\n",
      "Baseline performance on validate:  0.47\n",
      "Train accuracy:  0.5551272166538165\n",
      "Test accuracy:  0.4666666666666667\n"
     ]
    }
   ],
   "source": [
    "train_X_sets, test_X_sets, train_y_sets, test_y_sets = rolling_split_train_and_test(df, features_to_use, features_to_scale, target, num_splits = 5, test_size= 30)\n",
    "\n",
    "# iterate through each train/test split in the data\n",
    "for dataset_number in range(len(train_X_sets)):\n",
    "    # Test baseline\n",
    "    test_baseline(train_y_sets[dataset_number], \n",
    "                  test_y_sets[dataset_number], \n",
    "                  set_number = dataset_number+1)\n",
    "    \n",
    "    # Train and test using model\n",
    "    train_and_test_dataset(models_to_test[0],\n",
    "                           train_X_sets[dataset_number], \n",
    "                           test_X_sets[dataset_number], \n",
    "                           train_y_sets[dataset_number], \n",
    "                           test_y_sets[dataset_number], \n",
    "                           target)"
   ]
  },
  {
   "cell_type": "code",
   "execution_count": 30,
   "id": "7e44c766-3a76-4d99-9b50-a7f8c572345c",
   "metadata": {},
   "outputs": [
    {
     "data": {
      "text/plain": [
       "1    1415\n",
       "0    1179\n",
       "Name: fwd_close_positive, dtype: int64"
      ]
     },
     "execution_count": 30,
     "metadata": {},
     "output_type": "execute_result"
    }
   ],
   "source": [
    "# baseline - what is the most common class?\n",
    "y_train.fwd_close_positive.value_counts()"
   ]
  },
  {
   "cell_type": "markdown",
   "id": "616b598b-e4c1-4af6-b43f-badb6c972855",
   "metadata": {},
   "source": [
    "Most common class is a positive forward close, therefore this will be used as baseline. Essentially this means everyday we predict a positive close. How often would we be correct?"
   ]
  },
  {
   "cell_type": "code",
   "execution_count": 43,
   "id": "f1cc5e39-b4e1-4d85-b1bf-f58bbf02a1f4",
   "metadata": {},
   "outputs": [
    {
     "name": "stderr",
     "output_type": "stream",
     "text": [
      "/var/folders/tt/99v8dp0d60sfw82fs51dhr4m0000gn/T/ipykernel_13755/2877207783.py:5: SettingWithCopyWarning: \n",
      "A value is trying to be set on a copy of a slice from a DataFrame.\n",
      "Try using .loc[row_indexer,col_indexer] = value instead\n",
      "\n",
      "See the caveats in the documentation: https://pandas.pydata.org/pandas-docs/stable/user_guide/indexing.html#returning-a-view-versus-a-copy\n",
      "  y_train['baseline_performance'] = y_train.fwd_close_positive == baseline_selection\n"
     ]
    },
    {
     "data": {
      "text/plain": [
       "0.5454895913646878"
      ]
     },
     "execution_count": 43,
     "metadata": {},
     "output_type": "execute_result"
    }
   ],
   "source": [
    "# Get the mode from train\n",
    "baseline_selection = y_train.fwd_close_positive.mode()[0]\n",
    "\n",
    "# Create column with baseline predictions\n",
    "y_train['baseline_performance'] = y_train.fwd_close_positive == baseline_selection\n",
    "\n",
    "# Take the mean to get accuracy\n",
    "y_train.baseline_performance.mean()"
   ]
  },
  {
   "cell_type": "markdown",
   "id": "87e6f338-5a01-4ca4-9c2d-b730f00e9134",
   "metadata": {},
   "source": [
    "54.5% is our baseline accuracy from train"
   ]
  },
  {
   "cell_type": "code",
   "execution_count": 60,
   "id": "8c9cd08c-c4fa-4c7e-9050-d0c02f974eab",
   "metadata": {},
   "outputs": [
    {
     "name": "stderr",
     "output_type": "stream",
     "text": [
      "/var/folders/tt/99v8dp0d60sfw82fs51dhr4m0000gn/T/ipykernel_13755/2524274409.py:5: SettingWithCopyWarning: \n",
      "A value is trying to be set on a copy of a slice from a DataFrame.\n",
      "Try using .loc[row_indexer,col_indexer] = value instead\n",
      "\n",
      "See the caveats in the documentation: https://pandas.pydata.org/pandas-docs/stable/user_guide/indexing.html#returning-a-view-versus-a-copy\n",
      "  y_train['dtc']=class_model.predict(X_train)\n"
     ]
    },
    {
     "data": {
      "text/plain": [
       "{'0': {'precision': 0.7590361445783133,\n",
       "  'recall': 0.05343511450381679,\n",
       "  'f1-score': 0.09984152139461172,\n",
       "  'support': 1179},\n",
       " '1': {'precision': 0.5555555555555556,\n",
       "  'recall': 0.9858657243816255,\n",
       "  'f1-score': 0.7106469689251146,\n",
       "  'support': 1415},\n",
       " 'accuracy': 0.5620663068619892,\n",
       " 'macro avg': {'precision': 0.6572958500669344,\n",
       "  'recall': 0.5196504194427212,\n",
       "  'f1-score': 0.4052442451598631,\n",
       "  'support': 2594},\n",
       " 'weighted avg': {'precision': 0.6480396012216433,\n",
       "  'recall': 0.5620663068619892,\n",
       "  'f1-score': 0.4330295353713509,\n",
       "  'support': 2594}}"
      ]
     },
     "execution_count": 60,
     "metadata": {},
     "output_type": "execute_result"
    }
   ],
   "source": [
    "class_model = DecisionTreeClassifier(max_depth = 5, min_samples_leaf=2)\n",
    "\n",
    "class_model.fit(X_train, y_train)\n",
    "\n",
    "y_train['dtc']=class_model.predict(X_train)\n",
    "\n",
    "accuracy_score(y_train.fwd_close_positive, y_train.dtc)\n",
    "\n",
    "classification_report(y_train.fwd_close_positive, y_train.dtc, output_dict=True)"
   ]
  },
  {
   "cell_type": "markdown",
   "id": "4ed9e51d-ebc3-4c27-8bd9-58ae208c321c",
   "metadata": {},
   "source": [
    "How would baseline (predict positive close every day)"
   ]
  },
  {
   "cell_type": "code",
   "execution_count": 27,
   "id": "979cbacc-7fca-4e91-b81d-3015a87f0131",
   "metadata": {},
   "outputs": [
    {
     "name": "stderr",
     "output_type": "stream",
     "text": [
      "/var/folders/tt/99v8dp0d60sfw82fs51dhr4m0000gn/T/ipykernel_13755/4173150054.py:1: SettingWithCopyWarning: \n",
      "A value is trying to be set on a copy of a slice from a DataFrame.\n",
      "Try using .loc[row_indexer,col_indexer] = value instead\n",
      "\n",
      "See the caveats in the documentation: https://pandas.pydata.org/pandas-docs/stable/user_guide/indexing.html#returning-a-view-versus-a-copy\n",
      "  y_test['dtc'] = class_model.predict(X_test)\n"
     ]
    },
    {
     "data": {
      "text/plain": [
       "0.4666666666666667"
      ]
     },
     "execution_count": 27,
     "metadata": {},
     "output_type": "execute_result"
    }
   ],
   "source": [
    "y_test['dtc'] = class_model.predict(X_test)\n",
    "accuracy_score(y_test.fwd_close_positive, y_test.dtc)"
   ]
  },
  {
   "cell_type": "code",
   "execution_count": null,
   "id": "191c8582-73d6-4c3c-b7ae-b0d8b596d634",
   "metadata": {},
   "outputs": [],
   "source": []
  },
  {
   "cell_type": "markdown",
   "id": "696451eb-87f6-49a0-9a74-c42ac57b42e2",
   "metadata": {},
   "source": [
    "# NLP Exploration"
   ]
  },
  {
   "cell_type": "code",
   "execution_count": null,
   "id": "8278a653-65a1-41ed-a1ef-58ff84215938",
   "metadata": {},
   "outputs": [],
   "source": [
    "sia = nltk.sentiment.SentimentIntensityAnalyzer()"
   ]
  },
  {
   "cell_type": "code",
   "execution_count": null,
   "id": "b882feba-514d-4cd5-a720-fe42b4c35179",
   "metadata": {},
   "outputs": [],
   "source": [
    "def get_later_tweets(tweet_csv = 'csv/latest_tweets.csv'):\n",
    "    \n",
    "    start_read_time = datetime.now()\n",
    "    \n",
    "    print(\"starting reading csv at: \", start_read_time)\n",
    "    \n",
    "    # https://www.kaggle.com/datasets/kaushiksuresh147/bitcoin-tweets\n",
    "    latest_tweets = pd.read_csv(tweet_csv)\n",
    "    \n",
    "    print(\"done reading csv, took \", ((datetime.now() - start_read_time).seconds)/60, \" minutes\")\n",
    "    \n",
    "    # some values don't have proper date values\n",
    "    latest_tweets= latest_tweets[latest_tweets.date.str.len()==19]\n",
    "\n",
    "    # Set index to date\n",
    "    latest_tweets.index = pd.to_datetime(latest_tweets.date)\n",
    "\n",
    "    # create date column\n",
    "    latest_tweets['date_of_tweet'] = latest_tweets.index.date\n",
    "\n",
    "    # sort index and just use date and text going forward\n",
    "    latest_tweets = latest_tweets.sort_index()[['date','text']]\n",
    "    \n",
    "    prices_df = tidy.explore_df()\n",
    "    # Join with prices df to get Bitcoin price change for that date\n",
    "    latest_tweets = latest_tweets.merge(prices_df, how='left',left_on=latest_tweets.index.date, right_on = prices_df.index.date)\n",
    "\n",
    "    latest_tweets.index = pd.to_datetime(latest_tweets.key_0)\n",
    "\n",
    "    latest_tweets = latest_tweets[['fwd_log_ret','text']]\n",
    "\n",
    "    latest_tweets.index.name = \"\"\n",
    "    \n",
    "    return latest_tweets"
   ]
  },
  {
   "cell_type": "code",
   "execution_count": null,
   "id": "85f31d4f-e994-455e-b41b-dd3caffe6820",
   "metadata": {},
   "outputs": [],
   "source": [
    "latest_tweets = get_later_tweets()"
   ]
  },
  {
   "cell_type": "code",
   "execution_count": null,
   "id": "20a71438-8b6c-45a5-9260-bacbfccfab41",
   "metadata": {},
   "outputs": [],
   "source": [
    "latest_tweets.head()"
   ]
  },
  {
   "cell_type": "code",
   "execution_count": null,
   "id": "b730167b-c76e-4d5b-a478-5478253fb0a9",
   "metadata": {},
   "outputs": [],
   "source": [
    "latest_tweets['sentiment'] = latest_tweets.text.apply(lambda msg: sia.polarity_scores(msg)['compound'])"
   ]
  },
  {
   "cell_type": "code",
   "execution_count": null,
   "id": "0b6d1ab5-4757-4e28-90ce-f9b493ad5c74",
   "metadata": {},
   "outputs": [],
   "source": [
    "latest_tweets.resample('D').fwd_log_ret.agg('mean').plot()"
   ]
  },
  {
   "cell_type": "code",
   "execution_count": null,
   "id": "7a6b6c21-e927-43c4-b456-b06a33c35314",
   "metadata": {},
   "outputs": [],
   "source": [
    "def read_and_clean_early_tweets(nrows = 1_000_000, time_column = 'timestamp', csv_location = 'csv/early_tweets.csv'):\n",
    "    \"\"\" Reads in early tweets (until 2019), clean up the dates, and outputs dataframe with date and text of tweet \"\"\"\n",
    "    \n",
    "    # Define required columns from the csv - this should speed up load\n",
    "    req_cols = ['timestamp','likes','retweets','text']\n",
    "    \n",
    "    # Read CSV\n",
    "    tweets = pd.read_csv(csv_location,nrows = nrows ,on_bad_lines='skip',sep=';', usecols = req_cols)\n",
    "    \n",
    "    print(\"Completed reading in csv, shape: \", tweets.shape)\n",
    "    \n",
    "    # Clean dates (sometimes the time column has non time values. If it's a timestamp should have set number of characters\n",
    "    if time_column == 'time': # For reading in later tweets, that csv's time column is called 'time'\n",
    "        tweets = tweets[tweets[time_column].str.len()==25]\n",
    "    \n",
    "    # convert time to datetime\n",
    "    tweets[time_column]= pd.to_datetime(tweets[time_column])\n",
    "    \n",
    "    # Create date column\n",
    "    tweets['date'] = tweets[time_column].dt.date\n",
    "    \n",
    "    # Only use date and text columns\n",
    "    tweets = tweets[['date','text']]\n",
    "    \n",
    "    tweets.index = pd.to_datetime(tweets.date)\n",
    "    \n",
    "    return tweets"
   ]
  },
  {
   "cell_type": "code",
   "execution_count": null,
   "id": "f244c8cb-8e02-47f8-805b-21130b69e43a",
   "metadata": {},
   "outputs": [],
   "source": [
    "# req_cols = ['timestamp','likes','retweets','text']\n",
    "# tweets = pd.read_csv('csv/early_tweets.csv',nrows = 1000000,on_bad_lines='skip',sep=';', usecols = req_cols)\n",
    "early_tweets = read_and_clean_early_tweets()"
   ]
  },
  {
   "cell_type": "code",
   "execution_count": null,
   "id": "8eb4feaa-2461-4c0d-a063-55f461836786",
   "metadata": {},
   "outputs": [],
   "source": [
    "early_tweets.shape"
   ]
  },
  {
   "cell_type": "code",
   "execution_count": null,
   "id": "9c0429a5-e772-4f57-b8d8-147a39b67aef",
   "metadata": {},
   "outputs": [],
   "source": [
    "early_tweets.head()"
   ]
  },
  {
   "cell_type": "code",
   "execution_count": null,
   "id": "424ab03f-7740-40e0-857e-c2a1faa5bcd7",
   "metadata": {},
   "outputs": [],
   "source": [
    "early_tweets['sentiment'] = early_tweets.text.apply(lambda msg: sia.polarity_scores(msg)['compound'])"
   ]
  },
  {
   "cell_type": "code",
   "execution_count": null,
   "id": "59b8c8df-42fc-42b2-a74e-7e677e3036e7",
   "metadata": {},
   "outputs": [],
   "source": [
    "tweets.resample('D').sentiment.mean().plot()"
   ]
  },
  {
   "cell_type": "code",
   "execution_count": null,
   "id": "2d6d529f-eb3f-447a-8b45-09b3fc4ecff3",
   "metadata": {},
   "outputs": [],
   "source": []
  },
  {
   "cell_type": "code",
   "execution_count": null,
   "id": "bfe09272-4607-4830-b2d4-357d943d9448",
   "metadata": {},
   "outputs": [],
   "source": [
    "def initial_tweet_clean(tweets,time_column = 'time'):\n",
    "    # Clean dates\n",
    "    if time_column == 'time':\n",
    "        tweets = tweets[tweets[time_column].str.len()==25]\n",
    "\n",
    "    tweets[time_column]= pd.to_datetime(tweets[time_column])\n",
    "\n",
    "    tweets['date'] = tweets[time_column].dt.date\n",
    "\n",
    "    tweets = tweets[['date','text']]\n",
    "    \n",
    "    return tweets\n"
   ]
  },
  {
   "cell_type": "code",
   "execution_count": null,
   "id": "2f58cd86-7350-4fd8-82c1-434a9232ea19",
   "metadata": {},
   "outputs": [],
   "source": [
    "cleaned_early_tweets = read_and_clean_early_tweets()"
   ]
  },
  {
   "cell_type": "code",
   "execution_count": null,
   "id": "9f48b5b4-50bf-4a41-8bca-02cf74696ac6",
   "metadata": {},
   "outputs": [],
   "source": [
    "# cleaned_tweets = initial_tweet_clean(tweets, 'timestamp')"
   ]
  },
  {
   "cell_type": "code",
   "execution_count": null,
   "id": "7d860252-dc06-4323-8899-c16b534d9506",
   "metadata": {},
   "outputs": [],
   "source": [
    "cleaned_tweets['sentiment'] = cleaned_tweets.text.apply(lambda msg: sia.polarity_scores(msg)['compound'])"
   ]
  },
  {
   "cell_type": "code",
   "execution_count": null,
   "id": "33e4d7b2-52c0-4e6d-b05a-905d1016ae80",
   "metadata": {},
   "outputs": [],
   "source": [
    "prepared_tweets = tidy.prepare_df(tweets.sample(5000), 'text')\n",
    "\n",
    "prices = df\n",
    "\n",
    "prepared_tweets = prepared_tweets.merge(prices, how = 'left', left_on = 'date', right_on = prices.index.date)\n",
    "\n",
    "prepared_tweets.index = pd.to_datetime(prepared_tweets.date)"
   ]
  },
  {
   "cell_type": "code",
   "execution_count": null,
   "id": "982c95c4-181b-459f-83e4-6acb8cad8dc8",
   "metadata": {},
   "outputs": [],
   "source": [
    "lem_and_ret = prepared_tweets.resample('D').agg({'lemmatized':' '.join, 'fwd_log_ret':np.mean, 'fwd_close_positive':np.mean})"
   ]
  },
  {
   "cell_type": "code",
   "execution_count": null,
   "id": "e09c49a4-5301-480b-a22d-622335643ee9",
   "metadata": {},
   "outputs": [],
   "source": [
    "from sklearn.feature_extraction.text import TfidfVectorizer, CountVectorizer\n",
    "from sklearn.metrics import classification_report, accuracy_score\n",
    "from sklearn.linear_model import LogisticRegression"
   ]
  },
  {
   "cell_type": "code",
   "execution_count": null,
   "id": "fda457f7-7883-49c1-8f7c-792ec21bcfb7",
   "metadata": {},
   "outputs": [],
   "source": [
    "tweets['sentiment'] = tweets.text.apply(lambda msg: sia.polarity_scores(msg)['compound'])"
   ]
  },
  {
   "cell_type": "code",
   "execution_count": null,
   "id": "f5fb3194-d235-41ce-ace0-75872f5150b1",
   "metadata": {},
   "outputs": [],
   "source": [
    "tweets.date.max()"
   ]
  },
  {
   "cell_type": "markdown",
   "id": "b53fec95-dfd8-4f55-8563-86fddf9813f7",
   "metadata": {
    "tags": []
   },
   "source": [
    "## Short modeling test"
   ]
  },
  {
   "cell_type": "code",
   "execution_count": null,
   "id": "7fc1d87e-8673-49e8-b6f8-dd586dde0282",
   "metadata": {},
   "outputs": [],
   "source": [
    "train = lem_and_ret.iloc[:20]\n",
    "\n",
    "validate = lem_and_ret.iloc[20:]"
   ]
  },
  {
   "cell_type": "code",
   "execution_count": null,
   "id": "dcac5f35-3464-431f-8c4c-2ce9d7431387",
   "metadata": {},
   "outputs": [],
   "source": [
    "target = 'fwd_close_positive'"
   ]
  },
  {
   "cell_type": "code",
   "execution_count": null,
   "id": "ebe8a856-22d1-445c-b532-3b1f11da7037",
   "metadata": {},
   "outputs": [],
   "source": [
    "# Instantiate the feature extraction method\n",
    "feature_extraction_method = CountVectorizer(ngram_range=(1,1))\n",
    "\n",
    "# Perform feature extraction on lemmatized text from train\n",
    "X_train = feature_extraction_method.fit_transform(train.lemmatized)\n",
    "\n",
    "# Generate dataframe of results of feature extraction\n",
    "train_vectorizer_df = pd.DataFrame(X_train.todense(), columns=feature_extraction_method.get_feature_names_out())\n",
    "\n",
    "# Set index to train index\n",
    "train_vectorizer_df.index = train.index\n",
    "\n",
    "# Add in other features (lengths of readme)\n",
    "# X_train = pd.concat([train_vectorizer_df,train[['original_length','stem_length', 'lem_length', 'original_word_count',\n",
    "#        'stemmed_word_count', 'lemmatized_word_count']]], axis = 1)\n",
    "\n",
    "# Scale features in train (necessary for logistic regression)\n",
    "# X_train_scaled = scaler.fit_transform(X_train)\n",
    "\n",
    "# Perform feature extraction and add in additional features on validate\n",
    "X_validate = feature_extraction_method.transform(validate.lemmatized)\n",
    "validate_vectorizer_df = pd.DataFrame(X_validate.todense(), columns=feature_extraction_method.get_feature_names_out())\n",
    "validate_vectorizer_df.index = validate.index\n",
    "\n",
    "# X_validate = pd.concat([validate_vectorizer_df,validate[['original_length','stem_length', 'lem_length', 'original_word_count',\n",
    "#        'stemmed_word_count', 'lemmatized_word_count']]], axis = 1)\n",
    "\n",
    "# Scale validate\n",
    "# X_validate_scaled = scaler.transform(X_validate)\n",
    "\n",
    "# Define target \n",
    "y_train = train[target]\n",
    "y_validate = validate[target]"
   ]
  },
  {
   "cell_type": "code",
   "execution_count": null,
   "id": "9fe239d2-faed-48d3-97fd-8cabe0782319",
   "metadata": {},
   "outputs": [],
   "source": [
    "# Create dataframe of results from train and validate\n",
    "train_results=pd.DataFrame(dict(actual = y_train))\n",
    "validate_results = pd.DataFrame(dict(actual = y_validate))\n",
    "\n",
    "class_model = LogisticRegression()\n",
    "# Fit model to scaled train data \n",
    "model_to_use = class_model.fit(X_train, y_train)\n",
    "\n",
    "# Predict on train and validate\n",
    "train_results['predicted'] = model_to_use.predict(X_train)\n",
    "validate_results['predicted'] = model_to_use.predict(X_validate)\n"
   ]
  },
  {
   "cell_type": "code",
   "execution_count": null,
   "id": "1e9cde1b-860a-4a9b-9852-c4fd902559e8",
   "metadata": {},
   "outputs": [],
   "source": [
    "# Generate classification reports for train and validate\n",
    "train_class_report = classification_report(train_results.actual, train_results.predicted, output_dict = True)\n",
    "validate_class_report = classification_report(validate_results.actual, validate_results.predicted,output_dict=True)"
   ]
  },
  {
   "cell_type": "code",
   "execution_count": null,
   "id": "5e651f80-d572-4641-be6d-16eafb39c55d",
   "metadata": {},
   "outputs": [],
   "source": [
    "\n",
    "print('Accuracy: {:.2%}'.format(accuracy_score(train_results.actual, train_results.predicted)))\n",
    "print('---')\n",
    "# print('Train Confusion Matrix')\n",
    "# print(pd.crosstab(train_results_tfidf.predicted, train_results_tfidf.actual))\n",
    "print('---')\n",
    "print(pd.DataFrame(train_class_report))\n",
    "\n",
    "\n",
    "print('Accuracy: {:.2%}'.format(accuracy_score(validate_results.actual, validate_results.predicted)))\n",
    "print('---')\n",
    "# print('Validate Confusion Matrix')\n",
    "# print(pd.crosstab(validate_results_tfidf.predicted, validate_results_tfidf.actual))\n",
    "print('---')\n",
    "print(pd.DataFrame(validate_class_report))"
   ]
  }
 ],
 "metadata": {
  "kernelspec": {
   "display_name": "quant",
   "language": "python",
   "name": "quant"
  },
  "language_info": {
   "codemirror_mode": {
    "name": "ipython",
    "version": 3
   },
   "file_extension": ".py",
   "mimetype": "text/x-python",
   "name": "python",
   "nbconvert_exporter": "python",
   "pygments_lexer": "ipython3",
   "version": "3.9.7"
  }
 },
 "nbformat": 4,
 "nbformat_minor": 5
}
