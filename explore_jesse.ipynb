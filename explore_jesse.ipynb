{
 "cells": [
  {
   "cell_type": "code",
   "execution_count": 28,
   "id": "70bd36c5-4de1-417d-ad41-49f581881bac",
   "metadata": {},
   "outputs": [],
   "source": [
    "# imports.py\n",
    "from imports import *\n",
    "# custom mods\n",
    "import tidy"
   ]
  },
  {
   "cell_type": "code",
   "execution_count": 66,
   "id": "aba9ad5d-7f04-4980-bab2-83188c7fa306",
   "metadata": {},
   "outputs": [],
   "source": [
    "import nltk\n",
    "import pandas as pd\n",
    "import numpy as np\n",
    "from env import *\n",
    "\n",
    "import tweepy as tw \n",
    "import scipy.stats as stats"
   ]
  },
  {
   "cell_type": "code",
   "execution_count": 30,
   "id": "7e522ba7-b71b-48a1-970a-121fea181188",
   "metadata": {},
   "outputs": [
    {
     "name": "stdout",
     "output_type": "stream",
     "text": [
      "cached csv\n"
     ]
    }
   ],
   "source": [
    "df=tidy.explore_df()"
   ]
  },
  {
   "cell_type": "code",
   "execution_count": 31,
   "id": "405d1cb7-654b-4494-844e-ca66e7fb2013",
   "metadata": {},
   "outputs": [
    {
     "data": {
      "text/html": [
       "<div>\n",
       "<style scoped>\n",
       "    .dataframe tbody tr th:only-of-type {\n",
       "        vertical-align: middle;\n",
       "    }\n",
       "\n",
       "    .dataframe tbody tr th {\n",
       "        vertical-align: top;\n",
       "    }\n",
       "\n",
       "    .dataframe thead th {\n",
       "        text-align: right;\n",
       "    }\n",
       "</style>\n",
       "<table border=\"1\" class=\"dataframe\">\n",
       "  <thead>\n",
       "    <tr style=\"text-align: right;\">\n",
       "      <th></th>\n",
       "      <th>open</th>\n",
       "      <th>high</th>\n",
       "      <th>low</th>\n",
       "      <th>close</th>\n",
       "      <th>volume</th>\n",
       "      <th>fwd_log_ret</th>\n",
       "      <th>fwd_ret</th>\n",
       "      <th>fwd_pct_chg</th>\n",
       "      <th>fwd_close_positive</th>\n",
       "    </tr>\n",
       "    <tr>\n",
       "      <th>date</th>\n",
       "      <th></th>\n",
       "      <th></th>\n",
       "      <th></th>\n",
       "      <th></th>\n",
       "      <th></th>\n",
       "      <th></th>\n",
       "      <th></th>\n",
       "      <th></th>\n",
       "      <th></th>\n",
       "    </tr>\n",
       "  </thead>\n",
       "  <tbody>\n",
       "    <tr>\n",
       "      <th>2014-09-17 00:00:00+00:00</th>\n",
       "      <td>465.864014</td>\n",
       "      <td>468.174011</td>\n",
       "      <td>452.421997</td>\n",
       "      <td>457.334015</td>\n",
       "      <td>21056800</td>\n",
       "      <td>-0.074643</td>\n",
       "      <td>-32.894013</td>\n",
       "      <td>-0.071926</td>\n",
       "      <td>False</td>\n",
       "    </tr>\n",
       "    <tr>\n",
       "      <th>2014-09-18 00:00:00+00:00</th>\n",
       "      <td>456.859985</td>\n",
       "      <td>456.859985</td>\n",
       "      <td>413.104004</td>\n",
       "      <td>424.440002</td>\n",
       "      <td>34483200</td>\n",
       "      <td>-0.072402</td>\n",
       "      <td>-29.644012</td>\n",
       "      <td>-0.069843</td>\n",
       "      <td>False</td>\n",
       "    </tr>\n",
       "    <tr>\n",
       "      <th>2014-09-19 00:00:00+00:00</th>\n",
       "      <td>424.102997</td>\n",
       "      <td>427.834991</td>\n",
       "      <td>384.532013</td>\n",
       "      <td>394.795990</td>\n",
       "      <td>37919700</td>\n",
       "      <td>0.035111</td>\n",
       "      <td>14.108002</td>\n",
       "      <td>0.035735</td>\n",
       "      <td>True</td>\n",
       "    </tr>\n",
       "    <tr>\n",
       "      <th>2014-09-20 00:00:00+00:00</th>\n",
       "      <td>394.673004</td>\n",
       "      <td>423.295990</td>\n",
       "      <td>389.882996</td>\n",
       "      <td>408.903992</td>\n",
       "      <td>36863600</td>\n",
       "      <td>-0.024968</td>\n",
       "      <td>-10.082978</td>\n",
       "      <td>-0.024659</td>\n",
       "      <td>False</td>\n",
       "    </tr>\n",
       "    <tr>\n",
       "      <th>2014-09-21 00:00:00+00:00</th>\n",
       "      <td>408.084991</td>\n",
       "      <td>412.425995</td>\n",
       "      <td>393.181000</td>\n",
       "      <td>398.821014</td>\n",
       "      <td>26580100</td>\n",
       "      <td>0.008317</td>\n",
       "      <td>3.330994</td>\n",
       "      <td>0.008352</td>\n",
       "      <td>True</td>\n",
       "    </tr>\n",
       "  </tbody>\n",
       "</table>\n",
       "</div>"
      ],
      "text/plain": [
       "                                 open        high         low       close  \\\n",
       "date                                                                        \n",
       "2014-09-17 00:00:00+00:00  465.864014  468.174011  452.421997  457.334015   \n",
       "2014-09-18 00:00:00+00:00  456.859985  456.859985  413.104004  424.440002   \n",
       "2014-09-19 00:00:00+00:00  424.102997  427.834991  384.532013  394.795990   \n",
       "2014-09-20 00:00:00+00:00  394.673004  423.295990  389.882996  408.903992   \n",
       "2014-09-21 00:00:00+00:00  408.084991  412.425995  393.181000  398.821014   \n",
       "\n",
       "                             volume  fwd_log_ret    fwd_ret  fwd_pct_chg  \\\n",
       "date                                                                       \n",
       "2014-09-17 00:00:00+00:00  21056800    -0.074643 -32.894013    -0.071926   \n",
       "2014-09-18 00:00:00+00:00  34483200    -0.072402 -29.644012    -0.069843   \n",
       "2014-09-19 00:00:00+00:00  37919700     0.035111  14.108002     0.035735   \n",
       "2014-09-20 00:00:00+00:00  36863600    -0.024968 -10.082978    -0.024659   \n",
       "2014-09-21 00:00:00+00:00  26580100     0.008317   3.330994     0.008352   \n",
       "\n",
       "                           fwd_close_positive  \n",
       "date                                           \n",
       "2014-09-17 00:00:00+00:00               False  \n",
       "2014-09-18 00:00:00+00:00               False  \n",
       "2014-09-19 00:00:00+00:00                True  \n",
       "2014-09-20 00:00:00+00:00               False  \n",
       "2014-09-21 00:00:00+00:00                True  "
      ]
     },
     "execution_count": 31,
     "metadata": {},
     "output_type": "execute_result"
    }
   ],
   "source": [
    "df.head()"
   ]
  },
  {
   "cell_type": "code",
   "execution_count": 32,
   "id": "31093143-a1cc-4ab2-b7b9-653aff1d65fe",
   "metadata": {},
   "outputs": [
    {
     "data": {
      "text/plain": [
       "<AxesSubplot:>"
      ]
     },
     "execution_count": 32,
     "metadata": {},
     "output_type": "execute_result"
    },
    {
     "data": {
      "image/png": "[encoded data removed]",
      "text/plain": [
       "<Figure size 432x288 with 1 Axes>"
      ]
     },
     "metadata": {
      "needs_background": "light"
     },
     "output_type": "display_data"
    }
   ],
   "source": [
    "df.fwd_log_ret.hist()"
   ]
  },
  {
   "cell_type": "code",
   "execution_count": 33,
   "id": "0a577dd0-77ea-4418-9209-416c6ddf39c5",
   "metadata": {},
   "outputs": [
    {
     "data": {
      "text/plain": [
       "<AxesSubplot:>"
      ]
     },
     "execution_count": 33,
     "metadata": {},
     "output_type": "execute_result"
    },
    {
     "data": {
      "image/png": "[encoded data removed]",
      "text/plain": [
       "<Figure size 432x288 with 1 Axes>"
      ]
     },
     "metadata": {
      "needs_background": "light"
     },
     "output_type": "display_data"
    }
   ],
   "source": [
    "df.fwd_close_positive.value_counts(normalize=True).plot.bar()"
   ]
  },
  {
   "cell_type": "markdown",
   "id": "a47f1b14-878e-4a09-8d13-0e21781540de",
   "metadata": {},
   "source": [
    "### When volatility is high what kind of returns are expected? \n",
    "- Measure this using ATR:\n",
    "    - TR = Max[(H-L), Abs(H-Cp), Abs(L-Cp)]\n",
    "    - ATR = (1/n)* sum(TRi)"
   ]
  },
  {
   "cell_type": "code",
   "execution_count": 34,
   "id": "0695e82a-206d-4d70-914f-dd0543fd84f3",
   "metadata": {},
   "outputs": [],
   "source": [
    "from talib import ATR"
   ]
  },
  {
   "cell_type": "code",
   "execution_count": 51,
   "id": "7b93e7fb-9d58-4f4c-b35a-9c733c30168f",
   "metadata": {},
   "outputs": [],
   "source": [
    "# Calculate the 14 day ATR and add it as column to df\n",
    "df['ATR_14'] = ATR(df.high, df.low, df.close, 14)\n",
    "# Calculate the rolling 14 day average of ATR and add it as column to df\n",
    "df['avg_atr_14'] = df.ATR_14.rolling(14).mean()\n",
    "# Calculate the percentage current 14 day ATR is above/below the rolling mean\n",
    "df['atr_vs_historical'] = (df.ATR_14 - df.avg_atr_14)/df.avg_atr_14\n"
   ]
  },
  {
   "cell_type": "code",
   "execution_count": 52,
   "id": "a696db5d-2569-4f62-bb8b-b9e773bd1446",
   "metadata": {},
   "outputs": [
    {
     "data": {
      "text/plain": [
       "Text(0.5, 1.0, 'Rolling 14 day average of 14 day ATR')"
      ]
     },
     "execution_count": 52,
     "metadata": {},
     "output_type": "execute_result"
    },
    {
     "data": {
      "image/png": "[encoded data removed]",
      "text/plain": [
       "<Figure size 432x288 with 2 Axes>"
      ]
     },
     "metadata": {
      "needs_background": "light"
     },
     "output_type": "display_data"
    }
   ],
   "source": [
    "# Plot ATR 14 and close price\n",
    "fig, ax = plt.subplots(2,1,sharex=True)\n",
    "df.close.plot(ax = ax[0])\n",
    "ax[0].set_title('Close price of BTC')\n",
    "df.avg_atr_14.plot(ax = ax[1])\n",
    "ax[1].set_title('Rolling 14 day average of 14 day ATR')"
   ]
  },
  {
   "cell_type": "code",
   "execution_count": 53,
   "id": "d04a7031-a909-4bf3-9ed9-4b5d7e26e9db",
   "metadata": {},
   "outputs": [
    {
     "data": {
      "text/plain": [
       "<AxesSubplot:xlabel='date'>"
      ]
     },
     "execution_count": 53,
     "metadata": {},
     "output_type": "execute_result"
    },
    {
     "data": {
      "image/png": "[encoded data removed]",
      "text/plain": [
       "<Figure size 432x288 with 1 Axes>"
      ]
     },
     "metadata": {
      "needs_background": "light"
     },
     "output_type": "display_data"
    }
   ],
   "source": [
    "df.atr_vs_historical.plot()"
   ]
  },
  {
   "cell_type": "markdown",
   "id": "7535fa29-dab4-4a24-8f7f-22be178f4f2d",
   "metadata": {},
   "source": [
    "When current ATR gets very extended from mean, what are next day returns?\n",
    "- very extended defined as difference in current ATR from 14 day historical ATR as greater than the 3rd quartile"
   ]
  },
  {
   "cell_type": "code",
   "execution_count": 57,
   "id": "9c0cf16d-8d16-474a-8231-1e7ea4ae3e1f",
   "metadata": {},
   "outputs": [],
   "source": [
    "atr_threshold = df.atr_vs_historical.quantile(0.75)"
   ]
  },
  {
   "cell_type": "code",
   "execution_count": 58,
   "id": "be7f7dba-fa30-4b84-b4b6-912d1a6ef9f1",
   "metadata": {},
   "outputs": [],
   "source": [
    "df['atr_above_threshold'] = df.atr_vs_historical>atr_threshold"
   ]
  },
  {
   "cell_type": "code",
   "execution_count": 60,
   "id": "831432bd-c9fb-477d-b550-0083cf5c1c16",
   "metadata": {},
   "outputs": [
    {
     "data": {
      "text/plain": [
       "0.24759529747060918"
      ]
     },
     "execution_count": 60,
     "metadata": {},
     "output_type": "execute_result"
    }
   ],
   "source": [
    "df.atr_above_threshold.mean()"
   ]
  },
  {
   "cell_type": "markdown",
   "id": "25a4bd3f-31a1-4cf6-ae31-53f50ed586d3",
   "metadata": {},
   "source": [
    "As expected, the difference in current volatility from 14 day average is above threshold 25% of the time"
   ]
  },
  {
   "cell_type": "markdown",
   "id": "d2817ddd-e308-4a58-a759-9866789ea8c9",
   "metadata": {},
   "source": [
    "What is the average return when (Current ATR - Historical ATR) > threshold? How does this compare with overall average?"
   ]
  },
  {
   "cell_type": "code",
   "execution_count": 62,
   "id": "516c8b9a-fddf-49b8-ae0f-67d5e3198358",
   "metadata": {},
   "outputs": [
    {
     "data": {
      "text/plain": [
       "0.004058148250319954"
      ]
     },
     "execution_count": 62,
     "metadata": {},
     "output_type": "execute_result"
    }
   ],
   "source": [
    "df[df.atr_above_threshold].fwd_log_ret.mean()"
   ]
  },
  {
   "cell_type": "markdown",
   "id": "eb59a3da-065e-4cb5-966e-79d49e21585d",
   "metadata": {},
   "source": [
    "How does this compare to overall average?"
   ]
  },
  {
   "cell_type": "code",
   "execution_count": 65,
   "id": "55c32bd8-c115-4f39-b886-be5d82e3e0aa",
   "metadata": {},
   "outputs": [
    {
     "data": {
      "text/plain": [
       "2.7296384679490866"
      ]
     },
     "execution_count": 65,
     "metadata": {},
     "output_type": "execute_result"
    }
   ],
   "source": [
    "df[df.atr_above_threshold].fwd_log_ret.mean()/df.fwd_log_ret.mean()"
   ]
  },
  {
   "cell_type": "markdown",
   "id": "64a7658b-2b9b-497a-915b-d1444772c85a",
   "metadata": {},
   "source": [
    "Nearly 3 times as high as average. Check for statistical significance at the 95% confidence level:\n",
    "- H0: Days with volatility above the threshold do not exhibit above average returns\n",
    "- H1: Days with volatility above the threshold return in above average next day returns"
   ]
  },
  {
   "cell_type": "code",
   "execution_count": 67,
   "id": "d633c6f1-6a23-41dc-8688-760d8793468f",
   "metadata": {},
   "outputs": [],
   "source": [
    "alpha = 0.05\n",
    "t,p = stats.ttest_1samp(df[df.atr_above_threshold].fwd_log_ret, df.fwd_log_ret.mean())"
   ]
  },
  {
   "cell_type": "code",
   "execution_count": 69,
   "id": "c82fd791-d874-42ee-88e6-3ea63a57dcd1",
   "metadata": {},
   "outputs": [
    {
     "name": "stdout",
     "output_type": "stream",
     "text": [
      "t is >0 True p/2 < alpha False\n"
     ]
    }
   ],
   "source": [
    "print(\"t is >0\",t>0,\"p/2 < alpha\",p<alpha)"
   ]
  },
  {
   "cell_type": "markdown",
   "id": "f5bbf294-b056-4cdd-bf1a-02d8f3d4c286",
   "metadata": {},
   "source": [
    "Cannot reject the null hypothesis - days with above average volatility do not result in above average next day returns"
   ]
  },
  {
   "cell_type": "code",
   "execution_count": 70,
   "id": "a8fea40b-0fc1-4c44-a8f5-1350d304504c",
   "metadata": {},
   "outputs": [
    {
     "ename": "ValueError",
     "evalue": "The samples x and y must have the same length.",
     "output_type": "error",
     "traceback": [
      "\u001b[0;31m---------------------------------------------------------------------------\u001b[0m",
      "\u001b[0;31mValueError\u001b[0m                                Traceback (most recent call last)",
      "Input \u001b[0;32mIn [70]\u001b[0m, in \u001b[0;36m<cell line: 1>\u001b[0;34m()\u001b[0m\n\u001b[0;32m----> 1\u001b[0m \u001b[43mstats\u001b[49m\u001b[38;5;241;43m.\u001b[39;49m\u001b[43mwilcoxon\u001b[49m\u001b[43m(\u001b[49m\u001b[43mdf\u001b[49m\u001b[43m[\u001b[49m\u001b[43mdf\u001b[49m\u001b[38;5;241;43m.\u001b[39;49m\u001b[43matr_above_threshold\u001b[49m\u001b[43m]\u001b[49m\u001b[38;5;241;43m.\u001b[39;49m\u001b[43mfwd_log_ret\u001b[49m\u001b[43m,\u001b[49m\u001b[43m \u001b[49m\u001b[43mdf\u001b[49m\u001b[38;5;241;43m.\u001b[39;49m\u001b[43mfwd_log_ret\u001b[49m\u001b[43m)\u001b[49m\n",
      "File \u001b[0;32m/opt/homebrew/anaconda3/envs/quant/lib/python3.9/site-packages/scipy/stats/morestats.py:3129\u001b[0m, in \u001b[0;36mwilcoxon\u001b[0;34m(x, y, zero_method, correction, alternative, mode)\u001b[0m\n\u001b[1;32m   3127\u001b[0m         \u001b[38;5;28;01mraise\u001b[39;00m \u001b[38;5;167;01mValueError\u001b[39;00m(\u001b[38;5;124m'\u001b[39m\u001b[38;5;124mSamples x and y must be one-dimensional.\u001b[39m\u001b[38;5;124m'\u001b[39m)\n\u001b[1;32m   3128\u001b[0m     \u001b[38;5;28;01mif\u001b[39;00m \u001b[38;5;28mlen\u001b[39m(x) \u001b[38;5;241m!=\u001b[39m \u001b[38;5;28mlen\u001b[39m(y):\n\u001b[0;32m-> 3129\u001b[0m         \u001b[38;5;28;01mraise\u001b[39;00m \u001b[38;5;167;01mValueError\u001b[39;00m(\u001b[38;5;124m'\u001b[39m\u001b[38;5;124mThe samples x and y must have the same length.\u001b[39m\u001b[38;5;124m'\u001b[39m)\n\u001b[1;32m   3130\u001b[0m     d \u001b[38;5;241m=\u001b[39m x \u001b[38;5;241m-\u001b[39m y\n\u001b[1;32m   3132\u001b[0m \u001b[38;5;28;01mif\u001b[39;00m mode \u001b[38;5;241m==\u001b[39m \u001b[38;5;124m\"\u001b[39m\u001b[38;5;124mauto\u001b[39m\u001b[38;5;124m\"\u001b[39m:\n",
      "\u001b[0;31mValueError\u001b[0m: The samples x and y must have the same length."
     ]
    }
   ],
   "source": [
    "stats.wilcoxon(df[df.atr_above_threshold].fwd_log_ret, df.fwd_log_ret)"
   ]
  },
  {
   "cell_type": "code",
   "execution_count": null,
   "id": "6e7dcd08-33ce-4dab-985e-2cfc52ec06be",
   "metadata": {},
   "outputs": [],
   "source": []
  }
 ],
 "metadata": {
  "kernelspec": {
   "display_name": "quant",
   "language": "python",
   "name": "quant"
  },
  "language_info": {
   "codemirror_mode": {
    "name": "ipython",
    "version": 3
   },
   "file_extension": ".py",
   "mimetype": "text/x-python",
   "name": "python",
   "nbconvert_exporter": "python",
   "pygments_lexer": "ipython3",
   "version": "3.9.7"
  }
 },
 "nbformat": 4,
 "nbformat_minor": 5
}
