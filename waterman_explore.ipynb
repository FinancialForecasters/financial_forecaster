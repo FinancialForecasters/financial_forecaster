{
 "cells": [
  {
   "cell_type": "code",
   "execution_count": null,
   "id": "f55b58bb",
   "metadata": {},
   "outputs": [],
   "source": [
    "# imports.py\n",
    "from imports import *\n",
    "\n",
    "# plotting magic\n",
    "%matplotlib inline\n",
    "\n",
    "\n",
    "# !!! Warning !!! \n",
    "# *** no more warnings ***\n",
    "# import warnings\n",
    "# warnings.filterwarnings(\"ignore\")\n",
    "\n",
    "# custom mods\n",
    "import tidy"
   ]
  },
  {
   "cell_type": "code",
   "execution_count": null,
   "id": "8eca553c",
   "metadata": {},
   "outputs": [],
   "source": [
    "df=tidy.csv_btcusd()"
   ]
  },
  {
   "cell_type": "code",
   "execution_count": null,
   "id": "357b4c14",
   "metadata": {},
   "outputs": [],
   "source": [
    "df.head()"
   ]
  },
  {
   "cell_type": "code",
   "execution_count": null,
   "id": "304b790b",
   "metadata": {},
   "outputs": [],
   "source": [
    "df=tidy.pre_cleaning(df)"
   ]
  },
  {
   "cell_type": "code",
   "execution_count": null,
   "id": "7cc1575c",
   "metadata": {},
   "outputs": [],
   "source": [
    "df=tidy.add_targets(df)"
   ]
  },
  {
   "cell_type": "code",
   "execution_count": null,
   "id": "073d3061",
   "metadata": {},
   "outputs": [],
   "source": [
    "df.isnull().sum()"
   ]
  },
  {
   "cell_type": "code",
   "execution_count": null,
   "id": "4aa94f30",
   "metadata": {},
   "outputs": [],
   "source": [
    "df.info()"
   ]
  },
  {
   "cell_type": "code",
   "execution_count": null,
   "id": "b0538434",
   "metadata": {},
   "outputs": [],
   "source": [
    "df.head()"
   ]
  },
  {
   "cell_type": "code",
   "execution_count": null,
   "id": "8a0a0239",
   "metadata": {},
   "outputs": [],
   "source": [
    "print('Date Range:', df.index.min(), 'to', df.index.max())"
   ]
  },
  {
   "cell_type": "code",
   "execution_count": null,
   "id": "9f5bcfa1",
   "metadata": {},
   "outputs": [],
   "source": [
    "print('Shape:', df.shape)"
   ]
  },
  {
   "cell_type": "code",
   "execution_count": null,
   "id": "1cd9ce05",
   "metadata": {},
   "outputs": [],
   "source": [
    "from sklearn.model_selection import TimeSeriesSplit"
   ]
  },
  {
   "cell_type": "code",
   "execution_count": null,
   "id": "a8f2733c",
   "metadata": {},
   "outputs": [],
   "source": [
    "df.plot()"
   ]
  },
  {
   "cell_type": "code",
   "execution_count": null,
   "id": "24eaba21",
   "metadata": {},
   "outputs": [],
   "source": [
    "y = df.fwd_log_ret"
   ]
  },
  {
   "cell_type": "code",
   "execution_count": null,
   "id": "1426e6b0",
   "metadata": {},
   "outputs": [],
   "source": [
    "# y variable breakdown\n",
    "y.plot.hist()"
   ]
  },
  {
   "cell_type": "code",
   "execution_count": null,
   "id": "ed415967",
   "metadata": {},
   "outputs": [],
   "source": [
    "# y variable by different time lengths\n",
    "y.groupby(y.index.month).mean().plot.bar()"
   ]
  },
  {
   "cell_type": "code",
   "execution_count": null,
   "id": "ba1a77fe",
   "metadata": {},
   "outputs": [],
   "source": [
    "# H0: Mean of {day_name} fwd_log_ret <= mean of all fwd_log_ret\n",
    "# HA: Mean of {day_name} fwd_log_ret > mean of all fwd_log_ret\n",
    "def t_test_month(df):\n",
    "    '''\n",
    "    T-test for significance based on day_name for fwd_log_ret\n",
    "    '''\n",
    "    alpha = .05\n",
    "    overall_mean = df.fwd_log_ret.mean()\n",
    "    for m in df.index.month.unique():\n",
    "        day_sample = df[df.index.month == m].fwd_log_ret\n",
    "        print(f'Month is {m}')\n",
    "        t, p = stats.ttest_1samp(day_sample, overall_mean)\n",
    "        if p/2 > alpha:\n",
    "            print('We fail to reject null hypothesis.')\n",
    "        elif t < 0:\n",
    "            print('We fail to reject null hypothesis.')\n",
    "        else:\n",
    "            print('We reject null hypothesis.')\n",
    "        print('------')"
   ]
  },
  {
   "cell_type": "code",
   "execution_count": null,
   "id": "76077edb",
   "metadata": {},
   "outputs": [],
   "source": [
    "t_test_month(df)"
   ]
  },
  {
   "cell_type": "code",
   "execution_count": null,
   "id": "683c6d89",
   "metadata": {},
   "outputs": [],
   "source": [
    "# H0: Mean of {day_name} fwd_log_ret >= mean of all fwd_log_ret\n",
    "# HA: Mean of {day_name} fwd_log_ret < mean of all fwd_log_ret\n",
    "def t_test_month_neg(df):\n",
    "    '''\n",
    "    T-test for significance based on day_name for fwd_log_ret\n",
    "    '''\n",
    "    alpha = .05\n",
    "    overall_mean = df.fwd_log_ret.mean()\n",
    "    for m in df.index.month.unique():\n",
    "        day_sample = df[df.index.month == m].fwd_log_ret\n",
    "        print(f'Month is {m}')\n",
    "        t, p = stats.ttest_1samp(day_sample, overall_mean)\n",
    "        if p/2 > alpha:\n",
    "            print('We fail to reject null hypothesis.')\n",
    "        elif t > 0:\n",
    "            print('We fail to reject null hypothesis.')\n",
    "        else:\n",
    "            print('We reject null hypothesis.')\n",
    "        print('------')"
   ]
  },
  {
   "cell_type": "code",
   "execution_count": null,
   "id": "b8e81d24",
   "metadata": {},
   "outputs": [],
   "source": [
    "t_test_month_neg(df)"
   ]
  },
  {
   "cell_type": "code",
   "execution_count": null,
   "id": "efb5a11d",
   "metadata": {},
   "outputs": [],
   "source": [
    "y.groupby(y.index.year).mean().plot.bar()"
   ]
  },
  {
   "cell_type": "code",
   "execution_count": null,
   "id": "c553f9b9",
   "metadata": {},
   "outputs": [],
   "source": [
    "y.groupby(y.index.day).mean().plot.bar()"
   ]
  },
  {
   "cell_type": "code",
   "execution_count": null,
   "id": "06027ca9",
   "metadata": {},
   "outputs": [],
   "source": [
    "# H0: Mean of {day} fwd_log_ret <= mean of all fwd_log_ret\n",
    "# HA: Mean of {day} fwd_log_ret > mean of all fwd_log_ret\n",
    "def t_test_day(df):\n",
    "    '''\n",
    "    T-test for significance based on day_name for fwd_log_ret\n",
    "    '''\n",
    "    alpha = .05\n",
    "    overall_mean = df.fwd_log_ret.mean()\n",
    "    for d in df.index.day.unique():\n",
    "        day_sample = df[df.index.day == d].fwd_log_ret\n",
    "        print(f'Day is {d}')\n",
    "        t, p = stats.ttest_1samp(day_sample, overall_mean)\n",
    "        if p/2 > alpha:\n",
    "            print('We fail to reject null hypothesis.')\n",
    "        elif t < 0:\n",
    "            print('We fail to reject null hypothesis.')\n",
    "        else:\n",
    "            print('We reject null hypothesis.')\n",
    "        print('------')"
   ]
  },
  {
   "cell_type": "code",
   "execution_count": null,
   "id": "be99c5a0",
   "metadata": {},
   "outputs": [],
   "source": [
    "t_test_day(df)"
   ]
  },
  {
   "cell_type": "code",
   "execution_count": null,
   "id": "761bd29c",
   "metadata": {},
   "outputs": [],
   "source": [
    "# H0: Mean of {day} fwd_log_ret >= mean of all fwd_log_ret\n",
    "# HA: Mean of {day} fwd_log_ret < mean of all fwd_log_ret\n",
    "def t_test_day_neg(df):\n",
    "    '''\n",
    "    T-test for significance based on day_name for fwd_log_ret\n",
    "    '''\n",
    "    alpha = .05\n",
    "    overall_mean = df.fwd_log_ret.mean()\n",
    "    for d in df.index.day.unique():\n",
    "        day_sample = df[df.index.day == d].fwd_log_ret\n",
    "        print(f'Day is {d}')\n",
    "        t, p = stats.ttest_1samp(day_sample, overall_mean)\n",
    "        if p/2 > alpha:\n",
    "            print('We fail to reject null hypothesis.')\n",
    "        elif t > 0:\n",
    "            print('We fail to reject null hypothesis.')\n",
    "        else:\n",
    "            print('We reject null hypothesis.')\n",
    "        print('------')"
   ]
  },
  {
   "cell_type": "code",
   "execution_count": null,
   "id": "8cdaa3dc",
   "metadata": {},
   "outputs": [],
   "source": [
    "t_test_day_neg(df)"
   ]
  },
  {
   "cell_type": "code",
   "execution_count": null,
   "id": "fb65c9c5",
   "metadata": {},
   "outputs": [],
   "source": [
    "overall_mean = df.fwd_log_ret.mean()\n",
    "overall_mean"
   ]
  },
  {
   "cell_type": "code",
   "execution_count": null,
   "id": "2ace97fa",
   "metadata": {},
   "outputs": [],
   "source": [
    "y.groupby(y.index.day_name()).mean().plot.bar()"
   ]
  },
  {
   "cell_type": "code",
   "execution_count": null,
   "id": "1861ed08",
   "metadata": {},
   "outputs": [],
   "source": [
    "import scipy.stats as stats"
   ]
  },
  {
   "cell_type": "code",
   "execution_count": null,
   "id": "7465a6dd",
   "metadata": {},
   "outputs": [],
   "source": [
    "# H0: Mean of {day_name} fwd_log_ret <= mean of all fwd_log_ret\n",
    "# HA: Mean of {day_name} fwd_log_ret > mean of all fwd_log_ret\n",
    "def t_test_day_name(df):\n",
    "    '''\n",
    "    T-test for significance based on day_name for fwd_log_ret\n",
    "    '''\n",
    "    alpha = .05\n",
    "    overall_mean = df.fwd_log_ret.mean()\n",
    "    for d in df.index.day_name().unique():\n",
    "        day_sample = df[df.index.day_name() == d].fwd_log_ret\n",
    "        print(f'Day is {d}')\n",
    "        t, p = stats.ttest_1samp(day_sample, overall_mean)\n",
    "        if p/2 > alpha:\n",
    "            print('We fail to reject null hypothesis.')\n",
    "        elif t < 0:\n",
    "            print('We fail to reject null hypothesis.')\n",
    "        else:\n",
    "            print('We reject null hypothesis.')\n",
    "        print('------')"
   ]
  },
  {
   "cell_type": "code",
   "execution_count": null,
   "id": "af0b7de5",
   "metadata": {},
   "outputs": [],
   "source": [
    "t_test_day_name(df)"
   ]
  },
  {
   "cell_type": "code",
   "execution_count": null,
   "id": "bfd53f83",
   "metadata": {},
   "outputs": [],
   "source": [
    "# H0: Mean of {day_name} fwd_log_ret >= mean of all fwd_log_ret\n",
    "# HA: Mean of {day_name} fwd_log_ret < mean of all fwd_log_ret\n",
    "def t_test_day_name_neg(df):\n",
    "    '''\n",
    "    T-test for significance based on day_name for fwd_log_ret\n",
    "    '''\n",
    "    alpha = .05\n",
    "    overall_mean = df.fwd_log_ret.mean()\n",
    "    for d in df.index.day_name().unique():\n",
    "        day_sample = df[df.index.day_name() == d].fwd_log_ret\n",
    "        print(f'Day is {d}')\n",
    "        t, p = stats.ttest_1samp(day_sample, overall_mean)\n",
    "        if p/2 > alpha:\n",
    "            print('We fail to reject null hypothesis.')\n",
    "        elif t > 0:\n",
    "            print('We fail to reject null hypothesis.')\n",
    "        else:\n",
    "            print('We reject null hypothesis.')\n",
    "        print('------')"
   ]
  },
  {
   "cell_type": "code",
   "execution_count": null,
   "id": "caefa894",
   "metadata": {},
   "outputs": [],
   "source": [
    "t_test_day_name_neg(df)"
   ]
  },
  {
   "cell_type": "code",
   "execution_count": null,
   "id": "ad64a9ff",
   "metadata": {},
   "outputs": [],
   "source": [
    "df['week_days'] = df.index.weekday\n",
    "df['Dates'] = df.index"
   ]
  },
  {
   "cell_type": "code",
   "execution_count": null,
   "id": "879c7d87",
   "metadata": {},
   "outputs": [],
   "source": [
    "x = df.pivot(index='Dates', columns='week_days', values='fwd_log_ret')\n",
    "x.boxplot()"
   ]
  },
  {
   "cell_type": "code",
   "execution_count": null,
   "id": "86d6b365",
   "metadata": {},
   "outputs": [],
   "source": [
    "# visualize it over different periods\n",
    "y.resample('2W').mean().plot()"
   ]
  },
  {
   "cell_type": "code",
   "execution_count": null,
   "id": "39b661e6",
   "metadata": {},
   "outputs": [],
   "source": [
    "y.resample('3M').mean().plot()"
   ]
  },
  {
   "cell_type": "code",
   "execution_count": null,
   "id": "599cc160",
   "metadata": {},
   "outputs": [],
   "source": [
    "y.plot(alpha=.2, label='Hourly')\n",
    "y.resample('D').mean().plot(alpha=.5, label='Daily')\n",
    "y.resample('W').mean().plot(alpha=.8, label='Weekly')\n",
    "y.resample('M').mean().plot(label='Montly')\n",
    "y.resample('Y').mean().plot(label='Yearly')\n",
    "plt.legend()"
   ]
  },
  {
   "cell_type": "code",
   "execution_count": null,
   "id": "01f80b93",
   "metadata": {},
   "outputs": [],
   "source": [
    "# Some moving averages with rolling\n",
    "y.plot(alpha=.2, label='Hourly')\n",
    "y.resample('D').mean().rolling(3).mean().plot(alpha=.5, label='3 day')\n",
    "y.resample('D').mean().rolling(7).mean().plot(alpha=.7, label='1 week')\n",
    "y.resample('D').mean().rolling(14).mean().plot(alpha=.9, label='2 weeks')\n",
    "plt.legend()"
   ]
  },
  {
   "cell_type": "code",
   "execution_count": null,
   "id": "9f94aed1",
   "metadata": {},
   "outputs": [],
   "source": [
    "# Visualize the change from time period to next w/ diff\n",
    "y.resample('W').mean().diff().plot(title='Average week-to-week change')"
   ]
  },
  {
   "cell_type": "code",
   "execution_count": null,
   "id": "24931445",
   "metadata": {},
   "outputs": [],
   "source": [
    "y.resample('M').mean().diff().plot(title='Average month-to-month change')"
   ]
  },
  {
   "cell_type": "code",
   "execution_count": null,
   "id": "384a430a",
   "metadata": {},
   "outputs": [],
   "source": [
    "# Seasonal plot\n",
    "y.groupby([y.index.year, y.index.month]).mean().unstack(0).plot(title='Seasonal Plot')"
   ]
  },
  {
   "cell_type": "code",
   "execution_count": null,
   "id": "55aa2f97",
   "metadata": {},
   "outputs": [],
   "source": [
    "# Seasonal sub-series plot\n",
    "table = y.groupby([y.index.year, y.index.month]).mean().unstack()\n",
    "\n",
    "fig, axs = plt.subplots(1, 12, sharey=True, sharex=True)\n",
    "for ax, (month, subset) in zip(axs, table.iteritems()):\n",
    "    subset.plot(ax=ax, title=month)\n",
    "    ax.hlines(subset.mean(), *ax.get_xlim())\n",
    "    ax.set(xlabel='')\n",
    "\n",
    "fig.suptitle('Seasonal Subseries Plot') # super-title for the overall figure\n",
    "fig.subplots_adjust(wspace=0)"
   ]
  },
  {
   "cell_type": "code",
   "execution_count": null,
   "id": "3840b60c",
   "metadata": {},
   "outputs": [],
   "source": [
    "# Lag plot\n",
    "plt.scatter(y, y.shift(-1))\n",
    "plt.xlabel('$y$')\n",
    "plt.ylabel('$y_{t + 1}$')\n",
    "plt.title('Lag plot with lag=1')"
   ]
  },
  {
   "cell_type": "code",
   "execution_count": null,
   "id": "63783002",
   "metadata": {},
   "outputs": [],
   "source": [
    "# Experiment with some lag times\n",
    "pd.plotting.lag_plot(y.resample('W').mean(), lag=4)"
   ]
  },
  {
   "cell_type": "code",
   "execution_count": null,
   "id": "9b4b61af",
   "metadata": {},
   "outputs": [],
   "source": [
    "pd.plotting.lag_plot(y.resample('W').mean(), lag=12)"
   ]
  },
  {
   "cell_type": "code",
   "execution_count": null,
   "id": "e93e281d",
   "metadata": {},
   "outputs": [],
   "source": [
    "pd.plotting.lag_plot(y.resample('M').mean(), lag=6)"
   ]
  },
  {
   "cell_type": "code",
   "execution_count": null,
   "id": "bdff1ff3",
   "metadata": {},
   "outputs": [],
   "source": [
    "pd.plotting.lag_plot(y.resample('M').mean(), lag=12)"
   ]
  },
  {
   "cell_type": "code",
   "execution_count": null,
   "id": "3af89e38",
   "metadata": {},
   "outputs": [],
   "source": [
    "# Autocorrelation plot\n",
    "pd.plotting.autocorrelation_plot(y.resample('W').mean())"
   ]
  },
  {
   "cell_type": "code",
   "execution_count": null,
   "id": "2af23382",
   "metadata": {},
   "outputs": [],
   "source": [
    "pd.plotting.autocorrelation_plot(y.resample('M').mean())"
   ]
  },
  {
   "cell_type": "code",
   "execution_count": null,
   "id": "26897f05",
   "metadata": {},
   "outputs": [],
   "source": [
    "pd.plotting.autocorrelation_plot(y.resample('Y').mean())"
   ]
  },
  {
   "cell_type": "code",
   "execution_count": null,
   "id": "7b5d8f11",
   "metadata": {},
   "outputs": [],
   "source": [
    "# Seasonal decomposition plots\n",
    "y2 = y.resample('W').mean()\n",
    "result = sm.tsa.seasonal_decompose(y2)\n",
    "decomposition = pd.DataFrame({\n",
    "    'y2': result.observed,\n",
    "    'trend': result.trend,\n",
    "    'seasonal': result.seasonal,\n",
    "    'resid': result.resid,\n",
    "})\n",
    "decomposition.iloc[:, 1:].plot()"
   ]
  },
  {
   "cell_type": "code",
   "execution_count": null,
   "id": "5e5721c5",
   "metadata": {
    "scrolled": true
   },
   "outputs": [],
   "source": [
    "result.plot()"
   ]
  },
  {
   "cell_type": "code",
   "execution_count": null,
   "id": "ee852f87",
   "metadata": {
    "scrolled": false
   },
   "outputs": [],
   "source": [
    "df.head()"
   ]
  },
  {
   "cell_type": "code",
   "execution_count": null,
   "id": "e3616226",
   "metadata": {},
   "outputs": [],
   "source": []
  }
 ],
 "metadata": {
  "kernelspec": {
   "display_name": "Python 3 (ipykernel)",
   "language": "python",
   "name": "python3"
  },
  "language_info": {
   "codemirror_mode": {
    "name": "ipython",
    "version": 3
   },
   "file_extension": ".py",
   "mimetype": "text/x-python",
   "name": "python",
   "nbconvert_exporter": "python",
   "pygments_lexer": "ipython3",
   "version": "3.9.12"
  }
 },
 "nbformat": 4,
 "nbformat_minor": 5
}
