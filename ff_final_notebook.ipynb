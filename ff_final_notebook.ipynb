{
 "cells": [
  {
   "cell_type": "markdown",
   "metadata": {},
   "source": [
    "# **A Better Trade: Predicting Short Term Bitcoin Returns**\n",
    "\n",
    "Forest Hensley, Jesse Marder, AJ Martinez, Brandyn Waterman\n",
    "\n",
    "Codeup Capstone Project, Innis cohort\n",
    "\n",
    "June 16, 2022\n"
   ]
  },
  {
   "cell_type": "markdown",
   "metadata": {},
   "source": [
    "# Introduction\n",
    "\n",
    "Cryptocurrencies have become much more widely adopted since 2017, with the most recent announcement by Fidelity that Bitcoin will be offered for 401ks demonstrating its potential use for mainstream investment. Still, the speculative and volatile nature of the currencies as well as extensive industry promotion efforts have resulted in many small-scale retail traders entering the market, potentially with little to no experience in the field. \n",
    "\n",
    "# Goal\n",
    "\n",
    "This project examines factors affecting short term (1 day) returns in an effort to provide traders viable strategies for profiting from Bitcoin, with possible future application for other assets. \n",
    "\n",
    "# Data to Consider\n",
    "\n",
    "- General value information:  values of daily open, high, low, and close prices\n",
    "- Supply information: miner revenue features, Hash rate, difficulty, S2F (stock-to-flow)\n",
    "- Demand information: volume, price momentum and volatility (MACD), time analysis (day of week/month)\n",
    "- Sentiment information: twitter sentiment analysis "
   ]
  },
  {
   "cell_type": "markdown",
   "metadata": {},
   "source": [
    "# The plan\n",
    "\n",
    "## *Imports*\n",
    "\n",
    "Pulls imports from `/utils/imports.py`"
   ]
  },
  {
   "cell_type": "code",
   "execution_count": 1,
   "metadata": {},
   "outputs": [
    {
     "ename": "SyntaxError",
     "evalue": "invalid syntax (explore.py, line 16)",
     "output_type": "error",
     "traceback": [
      "Traceback \u001b[0;36m(most recent call last)\u001b[0m:\n",
      "  File \u001b[1;32m/opt/homebrew/anaconda3/envs/quant/lib/python3.9/site-packages/IPython/core/interactiveshell.py:3361\u001b[0m in \u001b[1;35mrun_code\u001b[0m\n    exec(code_obj, self.user_global_ns, self.user_ns)\n",
      "\u001b[0;36m  Input \u001b[0;32mIn [1]\u001b[0;36m in \u001b[0;35m<cell line: 12>\u001b[0;36m\u001b[0m\n\u001b[0;31m    from explore import *\u001b[0m\n",
      "\u001b[0;36m  File \u001b[0;32m~/codeup-data-science/financial_forecaster/explore.py:16\u001b[0;36m\u001b[0m\n\u001b[0;31m    def perform_ATR_analysis(df, atr_threshold  = 0.05, make_plots = True, alpha = 0.05), print_results = False:\u001b[0m\n\u001b[0m                                                                                        ^\u001b[0m\n\u001b[0;31mSyntaxError\u001b[0m\u001b[0;31m:\u001b[0m invalid syntax\n"
     ]
    }
   ],
   "source": [
    "# import all from imports.py\n",
    "from imports import *\n",
    "\n",
    "# # *** no more warnings ***\n",
    "import warnings\n",
    "warnings.filterwarnings(\"ignore\")\n",
    "\n",
    "# Wrangling, Exploration, and Modeling Modules\n",
    "from tidy import *\n",
    "from wrangle import *\n",
    "from model import *\n",
    "from explore import *"
   ]
  },
  {
   "cell_type": "markdown",
   "metadata": {},
   "source": [
    "## *1. Data Acquisition*\n",
    "\n",
    "Data for this project was acquired from the following sources:\n",
    "- Price data was acquired using Yahoo Finance and consists of data from 2014 - 2022. The csv was downloaded from the website.\n",
    "- Tweets with #bitcoin and/or #btc (the ticker symbol for Bitcoin) were acquired from three different sources. \n",
    "- Early tweets from before 2019 were from a csv downloaded from Kaggle\n",
    "- Tweets from 2019 - May 2022 were scraped using the snscrape library\n",
    "- Data about miner features and total-bitcoins were acquired from Blockchain.com\n",
    "\n",
    "\n",
    "\n",
    "## *2. Data Preparation*\n",
    "\n",
    "  We conducted an initial exploration of the data by examining relationships between each of the features and treated 1 day forward log returns as the target. Next, I explored further using premier tools such as Pandas, Python, Statsmodels, etc..., to answer the initial questions posed above. Data exploration continues by delving into the descriptive statistics of the dataset. Further investigation includes up / down -sampling, frequency analysis, lag response, and autocorrelation. I found the frequency analysis revealed potential price indicators.\n",
    "\n",
    "Data preparation consisted of the following:\n",
    "- Price data was investigated \n",
    "- Tweet data was cleaned by removing nulls, converting column formats, and removed non-letter and non-digit characters.\n",
    "\n",
    "\n",
    "## *3. Exploration*\n",
    "\n",
    "\n",
    "QUESTIONS:\n",
    "\n",
    "1. Does high volatility result in above average returns?\n",
    "\n"
   ]
  },
  {
   "cell_type": "code",
   "execution_count": null,
   "metadata": {},
   "outputs": [],
   "source": [
    "# Get DataFrame of price data with targets and features\n",
    "df = wrangle_df()"
   ]
  },
  {
   "cell_type": "markdown",
   "metadata": {},
   "source": [
    "## Target analysis:"
   ]
  },
  {
   "cell_type": "markdown",
   "metadata": {},
   "source": [
    "### We analyzed two different targets:\n",
    "- forward logarithmic returns (log of tomorrow's close - log of today's close)\n",
    "- whether tomorrow's close is higher than today's (fwd_close_positive)\n",
    "\n",
    "Examining logarithmic returns is a common practice when analyzing financial time series data and is useful for the following reasons:\n",
    "- Normalizes the data which helps with comparing two assets with very different values, such as Bitcoin (~\\\\$30000) and Ethereum ($1800)\n",
    "- Easier to assume normality of results so better application of classical statistical methods\n",
    "\n",
    "We also looked at whether tomorrow's close is higher or lower than today, which allows for a simple binary classification exercise and may be good enough for implement for a trading strategy."
   ]
  },
  {
   "cell_type": "code",
   "execution_count": null,
   "metadata": {},
   "outputs": [],
   "source": [
    "perform_target_return_analysis(df)"
   ]
  },
  {
   "cell_type": "markdown",
   "metadata": {},
   "source": [
    "Average log returns are just above 0."
   ]
  },
  {
   "cell_type": "code",
   "execution_count": null,
   "metadata": {},
   "outputs": [],
   "source": [
    "perform_target_return_analysis(df, target = 'fwd_close_positive')"
   ]
  },
  {
   "cell_type": "markdown",
   "metadata": {},
   "source": [
    "A small bias for next day's close being positive. This makes sense based on the overall upward trend in close price in the dataset."
   ]
  },
  {
   "cell_type": "markdown",
   "metadata": {},
   "source": [
    "### Does higher volatility result in above average returns?\n",
    "\n",
    "With a reputation for extreme volatility Bitcoin has the potential to be a valuable market for exploiting strong price movements in a short time. Large movements in price draw media coverage and consequently additional public awareness and trader participation. Rewards may be high, but so is risk. To this end we asked how does above average volatility affect short term returns?\n",
    "\n",
    "To quantify volatility we the examined current day’s Average True Range (ATR) vs historical (14 day) ATR. ATR represents the range of prices observed between high and low, high and close, and low and close. Wider ranges imply greater volatility. Shown below is the average next day return for when the current day’s ATR is above historical ATR by the given threshold.\n",
    "\n",
    "- Measure this using ATR:\n",
    "    - TR = Max[(H-L), Abs(H-Cp), Abs(L-Cp)]\n",
    "    - ATR = (1/n)* sum(TRi)"
   ]
  },
  {
   "cell_type": "code",
   "execution_count": null,
   "metadata": {},
   "outputs": [],
   "source": [
    "plot_consolidated_atr_analysis(df)"
   ]
  },
  {
   "cell_type": "code",
   "execution_count": 10,
   "metadata": {},
   "outputs": [],
   "source": [
    "# thresholds_to_try = [0.01, 0.05, 0.1, 0.2, 0.3, 0.4, 0.5, 0.6]\n",
    "# returns = {}\n",
    "# for threshold in thresholds_to_try:\n",
    "#     avg_return = tidy.perform_ATR_analysis(df, atr_threshold=threshold, make_plots=False)\n",
    "#     returns[threshold] = avg_return"
   ]
  },
  {
   "cell_type": "code",
   "execution_count": 11,
   "metadata": {},
   "outputs": [],
   "source": [
    "# pd.DataFrame(returns, index = ['avg_return']).T.plot.bar(legend=False)\n",
    "# plt.title('Average Next Day Return when ATR is \\nAbove 14 Day Average ATR by Threshold Amount')\n",
    "# plt.xlabel('Threshold')\n",
    "# plt.ylabel('Average Return')\n",
    "# plt.axhline(df.fwd_log_ret.mean(), color = 'r')\n",
    "# plt.annotate('Overall Mean', (5, 0.0017))"
   ]
  },
  {
   "cell_type": "markdown",
   "metadata": {},
   "source": [
    "Average next day returns are positive when current volatility measured by ATR is higher than historical volatility and in fact reach a peak when ATR is 20% greater than average. Above 20% average returns decline and actually turn negative when volatility is very high. This analysis indicates that it could be a good time to buy for the short term when market volatility picks up but make sure you’re out of the market (or initiate a short position) if it gets very choppy. "
   ]
  },
  {
   "cell_type": "markdown",
   "metadata": {
    "jp-MarkdownHeadingCollapsed": true,
    "tags": []
   },
   "source": [
    "### Time Exploration\n",
    "\n",
    "QUESTIONS: \n",
    "\n",
    "- Is there an importance to what month of the year?\n",
    "- Is there an importance to what day of the week?\n",
    "- Is there an importance for what day of the month?"
   ]
  },
  {
   "cell_type": "code",
   "execution_count": 9,
   "metadata": {},
   "outputs": [],
   "source": [
    "# Set our target variable as y\n",
    "y = df.fwd_log_ret"
   ]
  },
  {
   "cell_type": "code",
   "execution_count": 10,
   "metadata": {},
   "outputs": [
    {
     "data": {
      "image/png": "[encoded data removed]",
      "text/plain": [
       "<Figure size 432x288 with 1 Axes>"
      ]
     },
     "metadata": {
      "needs_background": "light"
     },
     "output_type": "display_data"
    }
   ],
   "source": [
    "# Check for importance by month of year\n",
    "by_month = y.groupby(y.index.month).mean().plot.bar()\n",
    "plt.title('By Month')\n",
    "plt.xlabel('Month')\n",
    "plt.ylabel('Average fwd_log_ret')\n",
    "plt.show()"
   ]
  },
  {
   "cell_type": "code",
   "execution_count": 11,
   "metadata": {},
   "outputs": [
    {
     "data": {
      "image/png": "[encoded data removed]",
      "text/plain": [
       "<Figure size 432x288 with 1 Axes>"
      ]
     },
     "metadata": {
      "needs_background": "light"
     },
     "output_type": "display_data"
    }
   ],
   "source": [
    "# Check for importance by day of the week\n",
    "by_day_of_week = y.groupby(y.index.day_name()).mean().plot.bar()\n",
    "plt.title('By Day of Week')\n",
    "plt.xlabel('Day of Week')\n",
    "plt.ylabel('Average fwd_log_ret')\n",
    "plt.show()"
   ]
  },
  {
   "cell_type": "code",
   "execution_count": 12,
   "metadata": {},
   "outputs": [
    {
     "data": {
      "image/png": "[encoded data removed]",
      "text/plain": [
       "<Figure size 432x288 with 1 Axes>"
      ]
     },
     "metadata": {
      "needs_background": "light"
     },
     "output_type": "display_data"
    }
   ],
   "source": [
    "# Check for importance of day of the month\n",
    "by_day_of_month = y.groupby(y.index.day).mean().plot.bar()\n",
    "plt.title('By Day of Month')\n",
    "plt.xlabel('Day of Month')\n",
    "plt.ylabel('Average fwd_log_ret')\n",
    "plt.show()"
   ]
  },
  {
   "cell_type": "markdown",
   "metadata": {},
   "source": [
    "We can see that there does seem to be a possibility of singificance based on these categorizations. The next step is to test if this can be useful to us, for use as engineered features, based on statistical significance. In the notebooks you can see the individual testing, and in the tidy.py module the time_features() function will perform a 1 sample t-test on both tails and add these encoded columns to the dataframe. For this data this produces two months and three days that are deemed significant. (Month 9 and 10, Days 1, 9, and 20)"
   ]
  },
  {
   "cell_type": "code",
   "execution_count": 15,
   "metadata": {},
   "outputs": [],
   "source": [
    "# Additional exploration (MACD/Miner info)"
   ]
  },
  {
   "cell_type": "markdown",
   "metadata": {},
   "source": [
    "## *4. Modeling So Far*"
   ]
  },
  {
   "cell_type": "code",
   "execution_count": 16,
   "metadata": {},
   "outputs": [
    {
     "name": "stdout",
     "output_type": "stream",
     "text": [
      "cached csv\n"
     ]
    }
   ],
   "source": [
    "# For ease of use acquiring our df from our wrangle.py module\n",
    "df = wrangle_df()"
   ]
  },
  {
   "cell_type": "markdown",
   "metadata": {},
   "source": [
    "### *For the Regression modeling the target variable will be the fwd_log_ret column and for the Classification modeling the target variable will be the fwd_close_positive column.*"
   ]
  },
  {
   "cell_type": "markdown",
   "metadata": {},
   "source": [
    "### Splitting:\n",
    "\n",
    "Prior to modeling there a few splitting techniques that are being utilized. \n",
    "\n",
    "- Manual time split\n",
    "    - Two split method where a train, validate set is used for initial modeling (with a month for test never touched)\n",
    "    - Second split method where the previous validate is absorbed into train and test is brought forward "
   ]
  },
  {
   "cell_type": "code",
   "execution_count": 17,
   "metadata": {},
   "outputs": [
    {
     "data": {
      "text/plain": [
       "(Timestamp('2014-10-20 00:00:00'), Timestamp('2022-05-24 00:00:00'))"
      ]
     },
     "execution_count": 17,
     "metadata": {},
     "output_type": "execute_result"
    }
   ],
   "source": [
    "# Manual splitting\n",
    "def split_i(df):\n",
    "    train = df.loc[:'2022-3-22']\n",
    "    validate =df.loc['2022-03-23':'2022-04-23'] \n",
    "    return train, validate\n",
    "\n",
    "def split_ii(df):\n",
    "    train = df.loc[:'2022-04-24']\n",
    "    test = df.loc['2022-04-25':]\n",
    "    return train, test\n",
    "\n",
    "# We can see the min and max dates for our df\n",
    "df.index.min(), df.index.max()"
   ]
  },
  {
   "cell_type": "code",
   "execution_count": 18,
   "metadata": {},
   "outputs": [],
   "source": [
    "# We can drop fwd_ret and fwd_pct_chg entirely\n",
    "df = df.drop(columns=['fwd_ret', 'fwd_pct_chg'])\n",
    "\n",
    "# Splitting our data for use with modeling \n",
    "train_i, validate_i = split_i(df)\n",
    "train_ii, test_ii = split_ii(df)"
   ]
  },
  {
   "cell_type": "code",
   "execution_count": 19,
   "metadata": {},
   "outputs": [
    {
     "data": {
      "text/html": [
       "<div>\n",
       "<style scoped>\n",
       "    .dataframe tbody tr th:only-of-type {\n",
       "        vertical-align: middle;\n",
       "    }\n",
       "\n",
       "    .dataframe tbody tr th {\n",
       "        vertical-align: top;\n",
       "    }\n",
       "\n",
       "    .dataframe thead th {\n",
       "        text-align: right;\n",
       "    }\n",
       "</style>\n",
       "<table border=\"1\" class=\"dataframe\">\n",
       "  <thead>\n",
       "    <tr style=\"text-align: right;\">\n",
       "      <th></th>\n",
       "      <th>open</th>\n",
       "      <th>high</th>\n",
       "      <th>low</th>\n",
       "      <th>close</th>\n",
       "      <th>volume</th>\n",
       "      <th>fwd_log_ret</th>\n",
       "      <th>fwd_close_positive</th>\n",
       "      <th>cross</th>\n",
       "      <th>histy</th>\n",
       "      <th>month_9</th>\n",
       "      <th>...</th>\n",
       "      <th>atr_above_threshold_0.1</th>\n",
       "      <th>atr_above_threshold_0.2</th>\n",
       "      <th>atr_above_threshold_0.3</th>\n",
       "      <th>avg-fees-per-transaction</th>\n",
       "      <th>cost-per-transaction-percent</th>\n",
       "      <th>cost-per-transaction</th>\n",
       "      <th>difficulty</th>\n",
       "      <th>hash-rate</th>\n",
       "      <th>miners-revenue</th>\n",
       "      <th>transaction-fees-to-miners</th>\n",
       "    </tr>\n",
       "  </thead>\n",
       "  <tbody>\n",
       "    <tr>\n",
       "      <th>2014-10-20</th>\n",
       "      <td>389.230988</td>\n",
       "      <td>390.084015</td>\n",
       "      <td>378.252014</td>\n",
       "      <td>382.845001</td>\n",
       "      <td>16419000</td>\n",
       "      <td>0.009437</td>\n",
       "      <td>1</td>\n",
       "      <td>0.0</td>\n",
       "      <td>1.0</td>\n",
       "      <td>0</td>\n",
       "      <td>...</td>\n",
       "      <td>False</td>\n",
       "      <td>False</td>\n",
       "      <td>False</td>\n",
       "      <td>0.059651</td>\n",
       "      <td>2.830044</td>\n",
       "      <td>24.826121</td>\n",
       "      <td>3.500248e+10</td>\n",
       "      <td>233157.697776</td>\n",
       "      <td>1.747486e+06</td>\n",
       "      <td>4198.799233</td>\n",
       "    </tr>\n",
       "    <tr>\n",
       "      <th>2014-10-21</th>\n",
       "      <td>382.420990</td>\n",
       "      <td>392.645996</td>\n",
       "      <td>380.834015</td>\n",
       "      <td>386.475006</td>\n",
       "      <td>14188900</td>\n",
       "      <td>-0.008620</td>\n",
       "      <td>0</td>\n",
       "      <td>0.0</td>\n",
       "      <td>1.0</td>\n",
       "      <td>0</td>\n",
       "      <td>...</td>\n",
       "      <td>False</td>\n",
       "      <td>False</td>\n",
       "      <td>False</td>\n",
       "      <td>0.060749</td>\n",
       "      <td>2.830044</td>\n",
       "      <td>20.194035</td>\n",
       "      <td>3.500248e+10</td>\n",
       "      <td>233157.697776</td>\n",
       "      <td>1.903490e+06</td>\n",
       "      <td>5726.216590</td>\n",
       "    </tr>\n",
       "    <tr>\n",
       "      <th>2014-10-22</th>\n",
       "      <td>386.118011</td>\n",
       "      <td>388.575989</td>\n",
       "      <td>382.248993</td>\n",
       "      <td>383.157990</td>\n",
       "      <td>11641300</td>\n",
       "      <td>-0.066750</td>\n",
       "      <td>0</td>\n",
       "      <td>0.0</td>\n",
       "      <td>1.0</td>\n",
       "      <td>0</td>\n",
       "      <td>...</td>\n",
       "      <td>False</td>\n",
       "      <td>False</td>\n",
       "      <td>False</td>\n",
       "      <td>0.060749</td>\n",
       "      <td>2.830044</td>\n",
       "      <td>20.194035</td>\n",
       "      <td>3.500248e+10</td>\n",
       "      <td>297537.062088</td>\n",
       "      <td>1.903490e+06</td>\n",
       "      <td>5726.216590</td>\n",
       "    </tr>\n",
       "    <tr>\n",
       "      <th>2014-10-23</th>\n",
       "      <td>382.962006</td>\n",
       "      <td>385.048004</td>\n",
       "      <td>356.446991</td>\n",
       "      <td>358.416992</td>\n",
       "      <td>26456900</td>\n",
       "      <td>-0.000201</td>\n",
       "      <td>0</td>\n",
       "      <td>0.0</td>\n",
       "      <td>1.0</td>\n",
       "      <td>0</td>\n",
       "      <td>...</td>\n",
       "      <td>False</td>\n",
       "      <td>False</td>\n",
       "      <td>False</td>\n",
       "      <td>0.060749</td>\n",
       "      <td>2.566983</td>\n",
       "      <td>20.194035</td>\n",
       "      <td>3.500248e+10</td>\n",
       "      <td>297537.062088</td>\n",
       "      <td>1.903490e+06</td>\n",
       "      <td>5726.216590</td>\n",
       "    </tr>\n",
       "    <tr>\n",
       "      <th>2014-10-24</th>\n",
       "      <td>358.591003</td>\n",
       "      <td>364.345001</td>\n",
       "      <td>353.304993</td>\n",
       "      <td>358.345001</td>\n",
       "      <td>15585700</td>\n",
       "      <td>-0.031391</td>\n",
       "      <td>0</td>\n",
       "      <td>0.0</td>\n",
       "      <td>1.0</td>\n",
       "      <td>0</td>\n",
       "      <td>...</td>\n",
       "      <td>False</td>\n",
       "      <td>False</td>\n",
       "      <td>False</td>\n",
       "      <td>0.056403</td>\n",
       "      <td>2.566983</td>\n",
       "      <td>18.762679</td>\n",
       "      <td>3.500248e+10</td>\n",
       "      <td>297537.062088</td>\n",
       "      <td>1.603290e+06</td>\n",
       "      <td>4819.681933</td>\n",
       "    </tr>\n",
       "  </tbody>\n",
       "</table>\n",
       "<p>5 rows × 26 columns</p>\n",
       "</div>"
      ],
      "text/plain": [
       "                  open        high         low       close    volume  \\\n",
       "2014-10-20  389.230988  390.084015  378.252014  382.845001  16419000   \n",
       "2014-10-21  382.420990  392.645996  380.834015  386.475006  14188900   \n",
       "2014-10-22  386.118011  388.575989  382.248993  383.157990  11641300   \n",
       "2014-10-23  382.962006  385.048004  356.446991  358.416992  26456900   \n",
       "2014-10-24  358.591003  364.345001  353.304993  358.345001  15585700   \n",
       "\n",
       "            fwd_log_ret  fwd_close_positive  cross  histy  month_9  ...  \\\n",
       "2014-10-20     0.009437                   1    0.0    1.0        0  ...   \n",
       "2014-10-21    -0.008620                   0    0.0    1.0        0  ...   \n",
       "2014-10-22    -0.066750                   0    0.0    1.0        0  ...   \n",
       "2014-10-23    -0.000201                   0    0.0    1.0        0  ...   \n",
       "2014-10-24    -0.031391                   0    0.0    1.0        0  ...   \n",
       "\n",
       "            atr_above_threshold_0.1  atr_above_threshold_0.2  \\\n",
       "2014-10-20                    False                    False   \n",
       "2014-10-21                    False                    False   \n",
       "2014-10-22                    False                    False   \n",
       "2014-10-23                    False                    False   \n",
       "2014-10-24                    False                    False   \n",
       "\n",
       "            atr_above_threshold_0.3  avg-fees-per-transaction  \\\n",
       "2014-10-20                    False                  0.059651   \n",
       "2014-10-21                    False                  0.060749   \n",
       "2014-10-22                    False                  0.060749   \n",
       "2014-10-23                    False                  0.060749   \n",
       "2014-10-24                    False                  0.056403   \n",
       "\n",
       "            cost-per-transaction-percent  cost-per-transaction    difficulty  \\\n",
       "2014-10-20                      2.830044             24.826121  3.500248e+10   \n",
       "2014-10-21                      2.830044             20.194035  3.500248e+10   \n",
       "2014-10-22                      2.830044             20.194035  3.500248e+10   \n",
       "2014-10-23                      2.566983             20.194035  3.500248e+10   \n",
       "2014-10-24                      2.566983             18.762679  3.500248e+10   \n",
       "\n",
       "                hash-rate  miners-revenue  transaction-fees-to-miners  \n",
       "2014-10-20  233157.697776    1.747486e+06                 4198.799233  \n",
       "2014-10-21  233157.697776    1.903490e+06                 5726.216590  \n",
       "2014-10-22  297537.062088    1.903490e+06                 5726.216590  \n",
       "2014-10-23  297537.062088    1.903490e+06                 5726.216590  \n",
       "2014-10-24  297537.062088    1.603290e+06                 4819.681933  \n",
       "\n",
       "[5 rows x 26 columns]"
      ]
     },
     "execution_count": 19,
     "metadata": {},
     "output_type": "execute_result"
    }
   ],
   "source": [
    "df.head()"
   ]
  },
  {
   "cell_type": "code",
   "execution_count": 20,
   "metadata": {},
   "outputs": [],
   "source": [
    "# Scaling the continuous variables\n",
    "quants = [\n",
    "        'open', 'high', 'low', 'close', 'volume', 'avg-fees-per-transaction', 'cost-per-transaction-percent', \n",
    "        'cost-per-transaction', 'difficulty', 'hash-rate', 'miners-revenue', 'transaction-fees-to-miners'\n",
    "         ]\n",
    "scaler = MinMaxScaler()\n",
    "scaler.fit(train_i[quants])\n",
    "\n",
    "train_i[quants] = scaler.transform(train_i[quants])\n",
    "validate_i[quants] = scaler.transform(validate_i[quants])\n",
    "\n",
    "scaler2 = MinMaxScaler()\n",
    "scaler2.fit(train_ii[quants])\n",
    "\n",
    "train_ii[quants] = scaler2.transform(train_ii[quants])\n",
    "test_ii[quants] = scaler2.transform(test_ii[quants])"
   ]
  },
  {
   "cell_type": "code",
   "execution_count": 21,
   "metadata": {},
   "outputs": [],
   "source": [
    "# X and Y Splits for regression models:\n",
    "\n",
    "# Dropping our target and all fwd columns (to avoid 'looking' into the future)\n",
    "x_train_i = train_i.drop(columns=['fwd_log_ret', 'fwd_close_positive'])\n",
    "x_train_ii = train_ii.drop(columns=['fwd_log_ret', 'fwd_close_positive'])\n",
    "\n",
    "y_train_i = train_i['fwd_log_ret']\n",
    "y_train_ii = train_ii['fwd_log_ret']\n",
    "\n",
    "x_validate_i = validate_i.drop(columns=['fwd_log_ret', 'fwd_close_positive'])\n",
    "x_test_ii = test_ii.drop(columns=['fwd_log_ret', 'fwd_close_positive'])\n",
    "\n",
    "y_validate_i = validate_i['fwd_log_ret']\n",
    "y_test_ii = test_ii['fwd_log_ret']"
   ]
  },
  {
   "cell_type": "code",
   "execution_count": 22,
   "metadata": {},
   "outputs": [],
   "source": [
    "# Making our target series into a dataframe for ease of use\n",
    "y_train_i = pd.DataFrame(y_train_i)\n",
    "y_train_ii = pd.DataFrame(y_train_ii)\n",
    "\n",
    "y_validate_i = pd.DataFrame(y_validate_i)\n",
    "y_test_ii = pd.DataFrame(y_test_ii)"
   ]
  },
  {
   "cell_type": "markdown",
   "metadata": {},
   "source": [
    "### *Regression Modeling*\n",
    "\n",
    "For regression our metric for evaluation is RMSE. The notebooks contain a number of different methods and here we will just post some of the leading results so far."
   ]
  },
  {
   "cell_type": "code",
   "execution_count": 23,
   "metadata": {},
   "outputs": [
    {
     "name": "stdout",
     "output_type": "stream",
     "text": [
      "Mean provides a better baseline. Returning mean RMSE of 0.039188695988946885.\n"
     ]
    }
   ],
   "source": [
    "# Establishing a baseline RMSE for our initial modeling train split\n",
    "baseline_RMSE_i = baseline_selection(y_train_i, 'fwd_log_ret')"
   ]
  },
  {
   "cell_type": "code",
   "execution_count": 24,
   "metadata": {},
   "outputs": [
    {
     "name": "stdout",
     "output_type": "stream",
     "text": [
      "Mean provides a better baseline. Returning mean RMSE of 0.039041302984912506.\n"
     ]
    }
   ],
   "source": [
    "# Establishing a baseline RMSE for our final test modeling to be compared to\n",
    "baseline_RMSE_ii = baseline_selection(y_train_ii, 'fwd_log_ret')"
   ]
  },
  {
   "cell_type": "markdown",
   "metadata": {},
   "source": [
    "The best performing Regression model was an OLS model. Using the ols_model() function we can return our RMSE values for train and validate (or train and test). "
   ]
  },
  {
   "cell_type": "code",
   "execution_count": 25,
   "metadata": {},
   "outputs": [
    {
     "name": "stdout",
     "output_type": "stream",
     "text": [
      "RMSE for OLS using LinearRegression\n",
      "Training:  0.038786 \n",
      "Validation:  0.023159\n"
     ]
    }
   ],
   "source": [
    "# Obtaining train and validate RMSE values \n",
    "rmse_train, rmse_validate = ols_model(x_train_i, y_train_i, x_validate_i, y_validate_i, 'fwd_log_ret')\n",
    "print(\"RMSE for OLS using LinearRegression\\nTraining: \", rmse_train,\n",
    "            \"\\nValidation: \", rmse_validate)"
   ]
  },
  {
   "cell_type": "code",
   "execution_count": 26,
   "metadata": {},
   "outputs": [
    {
     "name": "stdout",
     "output_type": "stream",
     "text": [
      "RMSE for OLS using LinearRegression\n",
      "Training:  0.038639 \n",
      "Test:  0.042275\n"
     ]
    }
   ],
   "source": [
    "# Obtaining train and test RMSE values representing the second split\n",
    "rmse_train2, rmse_test = ols_model(x_train_ii, y_train_ii, x_test_ii, y_test_ii, 'fwd_log_ret')\n",
    "print(\"RMSE for OLS using LinearRegression\\nTraining: \", rmse_train2,\n",
    "            \"\\nTest: \", rmse_test)"
   ]
  },
  {
   "cell_type": "markdown",
   "metadata": {},
   "source": [
    "As seen the both training and the validate dataframes do beat the baseline, but the test dataframe does not. "
   ]
  },
  {
   "cell_type": "markdown",
   "metadata": {},
   "source": [
    "### *Classification Modeling*\n",
    "\n",
    "For classification our metric for evaluation is accuracy. The notebooks contain a number of different methods and here we will just post some of the leading results so far."
   ]
  },
  {
   "cell_type": "markdown",
   "metadata": {},
   "source": [
    "# Conclusion\n",
    "\n",
    "As of right now none of the models perform well enough to recommend their use for real world trading. While some of the train and validate sets perform slightly better than the baselines, when applied to the test set the performance is equal (to baseline) at best. When one considers the real world use of trading fees it becomes clear that the models in their current state could not be used with beneficial results.  "
   ]
  },
  {
   "cell_type": "markdown",
   "metadata": {},
   "source": [
    "# Next Steps\n",
    "\n",
    "We are still modifying and tailoring the engineered features to hopefully produce a result that can be competitive for the purposes of a profit for day to day trading. There are a number of features that were not included in the dataframe for this first iteration that will be included moving forward and some of the features that were included in this dataset can be more refined and accurate in our next iteration. \n",
    "\n",
    "There is a consideration right now of modifying the timeframe we are working with, currently it is the entire available history, to only the most recent three years. This may prove to be more reliable given the type of question we are seeking to answer and the volatility and relational tendency Bitcoin seems to have. The outcome of the price, or direction of it, seems to have more to do with the datapoints around it than with incredibly old historical data and that is the direction we will now be moving in. "
   ]
  },
  {
   "cell_type": "markdown",
   "metadata": {},
   "source": [
    "---\n",
    "# Appendix\n",
    "\n",
    "## *Data Dictionary*\n",
    "\n",
    "Variables | Definition\n",
    "--- | ---\n",
    " time | time candlestick opened\n",
    "Open | price at open of the day\n",
    "High | highest price during the day\n",
    "Low | lowest price during the day\n",
    "Close | price at close of the day\n",
    "Volume | number of $ USD traded during interval\n",
    "volume | Amount in $ USD traded for the day\n",
    "fwd_log_ret | the log of tomorrow's close - the log of today's lose\n",
    "fwd_close_positive | whether tomorrow's close is higher than today's\n",
    "cross |\n",
    "histy | \n",
    "month_9 | Encoded column for transaction during month 9 (September)\n",
    "month_10 | Encoded column for transaction during month 10 (October)\n",
    "day_20 | Encoded column for transaction on month day 20\n",
    "day_1 | Encoded column for transaction on first day of month\n",
    "day_9 | Encoded column for transaction on month day 9\n",
    "atr_above_threshold_0.01 | True when today's ATR is above the historical (14 day) average ATR by 1%\n",
    "atr_above_threshold_0.05 | True when today's ATR is above the historical (14 day) average ATR by 5%\n",
    "atr_above_threshold_0.1 | True when today's ATR is above the historical (14 day) average ATR by 10%\n",
    "atr_above_threshold_0.2 | True when today's ATR is above the historical (14 day) average ATR by 20%\n",
    "atr_above_threshold_0.3 | True when today's ATR is above the historical (14 day) average ATR by 30%\n",
    "avg-fees-per-transaction | Amount in $USD of average fees per transaction (by day)\n",
    "cost-per-transaction-percent | \n",
    "cost-per-transaction | \n",
    "difficulty |\n",
    "hash-rate |\n",
    "miners-revenue |\n",
    "transaction-fees-to-miners |\n",
    "\n"
   ]
  },
  {
   "cell_type": "code",
   "execution_count": null,
   "metadata": {},
   "outputs": [],
   "source": []
  }
 ],
 "metadata": {
  "interpreter": {
   "hash": "3067ead486e059ec00ffe7555bdb889e6e264a24dc711bf108106cc7baee8d5d"
  },
  "kernelspec": {
   "display_name": "quant",
   "language": "python",
   "name": "quant"
  },
  "language_info": {
   "codemirror_mode": {
    "name": "ipython",
    "version": 3
   },
   "file_extension": ".py",
   "mimetype": "text/x-python",
   "name": "python",
   "nbconvert_exporter": "python",
   "pygments_lexer": "ipython3",
   "version": "3.9.7"
  }
 },
 "nbformat": 4,
 "nbformat_minor": 4
}
